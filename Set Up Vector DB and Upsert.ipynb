{
 "cells": [
  {
   "cell_type": "code",
   "execution_count": 1,
   "id": "4fb278b9-4b28-483b-b49b-f10cbace9134",
   "metadata": {},
   "outputs": [],
   "source": [
    "# Updated Vector DB Set Up and Upsert\n",
    "\n",
    "import psycopg2\n",
    "import pandas as pd\n",
    "from sentence_transformers import SentenceTransformer\n",
    "from pinecone.grpc import PineconeGRPC as Pinecone\n",
    "\n",
    "# Database connection details\n",
    "DATABASE_HOST = \"database-test-postgress-instance.cpk2uyae6iza.ap-south-1.rds.amazonaws.com\"\n",
    "DATABASE_USERNAME = \"python_aiml\"\n",
    "DATABASE_PASSWORD = \"python\"\n",
    "DATABASE_DB = \"python_test_poc\"\n",
    "PORT = 5432\n",
    "\n",
    "# Pinecone details\n",
    "pinecone_api_key = \"7844b232-6ba4-4aef-884b-7f826ec88d74\"\n",
    "index_name = \"jagoai\"\n",
    "BATCH_SIZE = 200  # Adjust the batch size to avoid exceeding the size limit\n",
    "\n",
    "# Function to connect to PostgreSQL database\n",
    "def connect_to_db():\n",
    "    try:\n",
    "        conn = psycopg2.connect(\n",
    "            dbname=DATABASE_DB,\n",
    "            user=DATABASE_USERNAME,\n",
    "            password=DATABASE_PASSWORD,\n",
    "            host=DATABASE_HOST,\n",
    "            port=PORT\n",
    "        )\n",
    "        return conn\n",
    "    except psycopg2.Error as e:\n",
    "        print(f\"Error connecting to the database: {e}\")\n",
    "        raise\n",
    "\n",
    "# Fetch schema with column names and data types, only including string types\n",
    "def fetch_schema_with_data_types(conn):\n",
    "    try:\n",
    "        query = \"\"\"\n",
    "        SELECT table_name, column_name, data_type, character_maximum_length\n",
    "        FROM information_schema.columns\n",
    "        WHERE table_schema = 'public'\n",
    "          AND (data_type = 'character varying' OR data_type IN ('text', 'varchar'))\n",
    "          AND table_name IN ('issues', 'timesheet')\n",
    "        ORDER BY table_name;\n",
    "\n",
    "        \"\"\"\n",
    "        schema_df = pd.read_sql(query, conn)\n",
    "        print(schema_df)\n",
    "        return schema_df\n",
    "    except Exception as e:\n",
    "        print(f\"Error fetching schema with data types: {e}\")\n",
    "        raise\n",
    "\n",
    "# Fetch unique values from each column along with table details\n",
    "def fetch_unique_values(conn, table_name, column_name):\n",
    "    try:\n",
    "        query = f\"SELECT DISTINCT {column_name} FROM {table_name}\"\n",
    "        df = pd.read_sql(query, conn)\n",
    "        return df[column_name].dropna().astype(str).tolist()\n",
    "    except Exception as e:\n",
    "        print(f\"Error fetching unique values for {column_name} in {table_name}: {e}\")\n",
    "        return []\n",
    "\n",
    "# Fetch all unique values for each column and map them to table details\n",
    "def fetch_all_unique_values_with_table(conn, schema_df):\n",
    "    unique_values_dict = {}\n",
    "    for table_name in schema_df['table_name'].unique():\n",
    "        unique_values_dict[table_name] = {}\n",
    "        table_columns = schema_df[schema_df['table_name'] == table_name]\n",
    "        for column_name in table_columns['column_name']:\n",
    "            unique_values = fetch_unique_values(conn, table_name, column_name)\n",
    "            unique_values_dict[table_name][column_name] = unique_values\n",
    "    return unique_values_dict\n",
    "\n",
    "# Initialize SentenceTransformer model for Hugging Face embeddings\n",
    "def load_huggingface_model():\n",
    "    model_name = 'sentence-transformers/all-mpnet-base-v2'\n",
    "    embedding_model = SentenceTransformer(model_name)\n",
    "    return embedding_model\n",
    "\n",
    "# Generate embeddings for each unique value and store them\n",
    "# Generate embeddings for each unique value and store them\n",
    "def generate_and_store_embeddings(embedding_model, unique_values_dict):\n",
    "    embeddings_dict = {}\n",
    "    for table_name, columns in unique_values_dict.items():\n",
    "        embeddings_dict[table_name] = {}\n",
    "        for column_name, unique_values in columns.items():\n",
    "            if unique_values:  # Check if there are any unique values\n",
    "                try:\n",
    "                    embeddings = embedding_model.encode(unique_values)\n",
    "                    embeddings_dict[table_name][column_name] = {\n",
    "                        \"unique_values\": unique_values,\n",
    "                        \"embeddings\": embeddings\n",
    "                    }\n",
    "                except Exception as e:\n",
    "                    print(f\"Error generating embeddings for {column_name} in {table_name}: {e}\")\n",
    "                    embeddings_dict[table_name][column_name] = {\n",
    "                        \"unique_values\": unique_values,\n",
    "                        \"embeddings\": []  # Store an empty list if encoding fails\n",
    "                    }\n",
    "            else:\n",
    "                print(f\"No unique values found for {column_name} in {table_name}. Skipping embeddings.\")\n",
    "                embeddings_dict[table_name][column_name] = {\n",
    "                    \"unique_values\": [],\n",
    "                    \"embeddings\": []\n",
    "                }\n",
    "    return embeddings_dict\n",
    "\n",
    "\n",
    "# Initialize Pinecone\n",
    "def initialize_pinecone():\n",
    "    pc = Pinecone(api_key=pinecone_api_key)\n",
    "    index = pc.Index(index_name)\n",
    "    return index\n",
    "\n",
    "# Batch the embeddings for upserts\n",
    "def batch_embeddings(upsert_data, batch_size):\n",
    "    for i in range(0, len(upsert_data), batch_size):\n",
    "        yield upsert_data[i:i + batch_size]\n",
    "\n",
    "# Upsert embeddings into Pinecone with metadata for each table (namespace)\n",
    "def upsert_embeddings_into_pinecone(index, embeddings_dict):\n",
    "    for table_name, columns in embeddings_dict.items():\n",
    "        for column_name, data in columns.items():\n",
    "            upsert_data = []\n",
    "            for i, embedding in enumerate(data['embeddings']):\n",
    "                unique_value = data['unique_values'][i]\n",
    "                vector_id = f\"{table_name}_{column_name}_{i}\"\n",
    "                metadata = {\"column_name\": column_name, \"unique_value\": unique_value}\n",
    "\n",
    "                upsert_data.append({\n",
    "                    \"id\": vector_id,\n",
    "                    \"values\": embedding.tolist(),\n",
    "                    \"metadata\": metadata\n",
    "                })\n",
    "\n",
    "            # Batch the upsert to avoid exceeding size limits\n",
    "            for batch in batch_embeddings(upsert_data, BATCH_SIZE):\n",
    "                index.upsert(vectors=batch, namespace=table_name)\n",
    "                print(f\"Upserted batch for {column_name} in {table_name}\")\n",
    "\n",
    "# Main function to execute the process\n",
    "def main():\n",
    "    # Step 1: Connect to the database\n",
    "    conn = connect_to_db()\n",
    "\n",
    "    # Step 2: Fetch the schema with metadata and data types, only for string columns\n",
    "    schema_df = fetch_schema_with_data_types(conn)\n",
    "    print(\"Schema with string data types fetched successfully.\")\n",
    "\n",
    "    # Step 3: Fetch all unique values along with table details\n",
    "    unique_values_dict = fetch_all_unique_values_with_table(conn, schema_df)\n",
    "    print(\"Unique values for string columns fetched successfully.\")\n",
    "\n",
    "    # Step 4: Load the Hugging Face model for embeddings\n",
    "    embedding_model = load_huggingface_model()\n",
    "    print(\"Hugging Face model loaded successfully.\")\n",
    "\n",
    "    # Step 5: Generate embeddings for all unique values\n",
    "    embeddings_dict = generate_and_store_embeddings(embedding_model, unique_values_dict)\n",
    "    print(\"Embeddings for string columns generated successfully.\")\n",
    "\n",
    "    # Step 6: Initialize Pinecone and upsert embeddings under each table's namespace\n",
    "    pinecone_index = initialize_pinecone()\n",
    "    upsert_embeddings_into_pinecone(pinecone_index, embeddings_dict)\n",
    "    print(\"Embeddings upserted into Pinecone successfully.\")\n",
    "\n",
    "if __name__ == \"__main__\":\n",
    "    main()"
   ]
  },
  {
   "cell_type": "code",
   "execution_count": 8,
   "id": "77753279-85b4-4de3-a518-e3fbccd731b6",
   "metadata": {},
   "outputs": [
    {
     "name": "stderr",
     "output_type": "stream",
     "text": [
      "INFO:sentence_transformers.SentenceTransformer:Use pytorch device_name: cpu\n",
      "INFO:sentence_transformers.SentenceTransformer:Load pretrained SentenceTransformer: sentence-transformers/all-mpnet-base-v2\n"
     ]
    },
    {
     "name": "stdout",
     "output_type": "stream",
     "text": [
      "Successfully connected to the database.\n",
      "Loading model: sentence-transformers/all-mpnet-base-v2\n"
     ]
    },
    {
     "name": "stderr",
     "output_type": "stream",
     "text": [
      "INFO:pinecone_plugin_interface.logging:Discovering subpackages in _NamespacePath(['C:\\\\Users\\\\Basavaraj\\\\AppData\\\\Local\\\\anaconda3\\\\Lib\\\\site-packages\\\\pinecone_plugins'])\n",
      "INFO:pinecone_plugin_interface.logging:Looking for plugins in pinecone_plugins.inference\n",
      "INFO:pinecone_plugin_interface.logging:Installing plugin inference into PineconeGRPC\n",
      "C:\\Users\\Basavaraj\\AppData\\Local\\Temp\\ipykernel_15564\\3907896313.py:40: UserWarning: pandas only supports SQLAlchemy connectable (engine/connection) or database string URI or sqlite3 DBAPI2 connection. Other DBAPI2 objects are not tested. Please consider using SQLAlchemy.\n",
      "  schema_df = pd.read_sql(query, self.connection)\n",
      "C:\\Users\\Basavaraj\\AppData\\Local\\Temp\\ipykernel_15564\\3907896313.py:40: UserWarning: pandas only supports SQLAlchemy connectable (engine/connection) or database string URI or sqlite3 DBAPI2 connection. Other DBAPI2 objects are not tested. Please consider using SQLAlchemy.\n",
      "  schema_df = pd.read_sql(query, self.connection)\n",
      "C:\\Users\\Basavaraj\\AppData\\Local\\Temp\\ipykernel_15564\\3907896313.py:40: UserWarning: pandas only supports SQLAlchemy connectable (engine/connection) or database string URI or sqlite3 DBAPI2 connection. Other DBAPI2 objects are not tested. Please consider using SQLAlchemy.\n",
      "  schema_df = pd.read_sql(query, self.connection)\n",
      "C:\\Users\\Basavaraj\\AppData\\Local\\Temp\\ipykernel_15564\\3907896313.py:68: UserWarning: pandas only supports SQLAlchemy connectable (engine/connection) or database string URI or sqlite3 DBAPI2 connection. Other DBAPI2 objects are not tested. Please consider using SQLAlchemy.\n",
      "  df = pd.read_sql(query, self.connection, params=(current_datetime,))\n",
      "C:\\Users\\Basavaraj\\AppData\\Local\\Temp\\ipykernel_15564\\3907896313.py:40: UserWarning: pandas only supports SQLAlchemy connectable (engine/connection) or database string URI or sqlite3 DBAPI2 connection. Other DBAPI2 objects are not tested. Please consider using SQLAlchemy.\n",
      "  schema_df = pd.read_sql(query, self.connection)\n"
     ]
    },
    {
     "name": "stdout",
     "output_type": "stream",
     "text": [
      "Pinecone index 'jagoai' initialized.\n",
      "Fetched schema with data types successfully.\n",
      "Using modified columns: ['last_modified_time', 'last_updated_time', 'last_modified_date']\n",
      "Fetching unique values for status_id in issues for date: 10-21-2024 12:00\n",
      "Fetched schema with data types successfully.\n",
      "Fetched schema with data types successfully.\n",
      "Fetched schema with data types successfully.\n",
      "Fetched unique values for status_id: []\n",
      "Fetching unique values for flag in issues for date: 10-21-2024 12:00\n",
      "Fetched schema with data types successfully.\n",
      "Fetched schema with data types successfully.\n",
      "Fetched schema with data types successfully.\n",
      "Fetched unique values for flag: []\n",
      "Fetching unique values for time_left in issues for date: 10-21-2024 12:00\n",
      "Fetched schema with data types successfully.\n",
      "Fetched schema with data types successfully.\n",
      "Fetched schema with data types successfully.\n"
     ]
    },
    {
     "name": "stderr",
     "output_type": "stream",
     "text": [
      "C:\\Users\\Basavaraj\\AppData\\Local\\Temp\\ipykernel_15564\\3907896313.py:40: UserWarning: pandas only supports SQLAlchemy connectable (engine/connection) or database string URI or sqlite3 DBAPI2 connection. Other DBAPI2 objects are not tested. Please consider using SQLAlchemy.\n",
      "  schema_df = pd.read_sql(query, self.connection)\n",
      "C:\\Users\\Basavaraj\\AppData\\Local\\Temp\\ipykernel_15564\\3907896313.py:40: UserWarning: pandas only supports SQLAlchemy connectable (engine/connection) or database string URI or sqlite3 DBAPI2 connection. Other DBAPI2 objects are not tested. Please consider using SQLAlchemy.\n",
      "  schema_df = pd.read_sql(query, self.connection)\n",
      "C:\\Users\\Basavaraj\\AppData\\Local\\Temp\\ipykernel_15564\\3907896313.py:68: UserWarning: pandas only supports SQLAlchemy connectable (engine/connection) or database string URI or sqlite3 DBAPI2 connection. Other DBAPI2 objects are not tested. Please consider using SQLAlchemy.\n",
      "  df = pd.read_sql(query, self.connection, params=(current_datetime,))\n",
      "C:\\Users\\Basavaraj\\AppData\\Local\\Temp\\ipykernel_15564\\3907896313.py:40: UserWarning: pandas only supports SQLAlchemy connectable (engine/connection) or database string URI or sqlite3 DBAPI2 connection. Other DBAPI2 objects are not tested. Please consider using SQLAlchemy.\n",
      "  schema_df = pd.read_sql(query, self.connection)\n",
      "C:\\Users\\Basavaraj\\AppData\\Local\\Temp\\ipykernel_15564\\3907896313.py:40: UserWarning: pandas only supports SQLAlchemy connectable (engine/connection) or database string URI or sqlite3 DBAPI2 connection. Other DBAPI2 objects are not tested. Please consider using SQLAlchemy.\n",
      "  schema_df = pd.read_sql(query, self.connection)\n",
      "C:\\Users\\Basavaraj\\AppData\\Local\\Temp\\ipykernel_15564\\3907896313.py:40: UserWarning: pandas only supports SQLAlchemy connectable (engine/connection) or database string URI or sqlite3 DBAPI2 connection. Other DBAPI2 objects are not tested. Please consider using SQLAlchemy.\n",
      "  schema_df = pd.read_sql(query, self.connection)\n",
      "C:\\Users\\Basavaraj\\AppData\\Local\\Temp\\ipykernel_15564\\3907896313.py:68: UserWarning: pandas only supports SQLAlchemy connectable (engine/connection) or database string URI or sqlite3 DBAPI2 connection. Other DBAPI2 objects are not tested. Please consider using SQLAlchemy.\n",
      "  df = pd.read_sql(query, self.connection, params=(current_datetime,))\n"
     ]
    },
    {
     "name": "stdout",
     "output_type": "stream",
     "text": [
      "Fetched unique values for time_left: []\n",
      "Fetching unique values for bug_status in issues for date: 10-21-2024 12:00\n",
      "Fetched schema with data types successfully.\n",
      "Fetched schema with data types successfully.\n",
      "Fetched schema with data types successfully.\n",
      "Fetched unique values for bug_status: []\n",
      "Fetching unique values for time_taken in issues for date: 10-21-2024 12:00\n",
      "Fetched schema with data types successfully.\n",
      "Fetched schema with data types successfully.\n"
     ]
    },
    {
     "name": "stderr",
     "output_type": "stream",
     "text": [
      "C:\\Users\\Basavaraj\\AppData\\Local\\Temp\\ipykernel_15564\\3907896313.py:40: UserWarning: pandas only supports SQLAlchemy connectable (engine/connection) or database string URI or sqlite3 DBAPI2 connection. Other DBAPI2 objects are not tested. Please consider using SQLAlchemy.\n",
      "  schema_df = pd.read_sql(query, self.connection)\n",
      "C:\\Users\\Basavaraj\\AppData\\Local\\Temp\\ipykernel_15564\\3907896313.py:40: UserWarning: pandas only supports SQLAlchemy connectable (engine/connection) or database string URI or sqlite3 DBAPI2 connection. Other DBAPI2 objects are not tested. Please consider using SQLAlchemy.\n",
      "  schema_df = pd.read_sql(query, self.connection)\n",
      "C:\\Users\\Basavaraj\\AppData\\Local\\Temp\\ipykernel_15564\\3907896313.py:40: UserWarning: pandas only supports SQLAlchemy connectable (engine/connection) or database string URI or sqlite3 DBAPI2 connection. Other DBAPI2 objects are not tested. Please consider using SQLAlchemy.\n",
      "  schema_df = pd.read_sql(query, self.connection)\n",
      "C:\\Users\\Basavaraj\\AppData\\Local\\Temp\\ipykernel_15564\\3907896313.py:68: UserWarning: pandas only supports SQLAlchemy connectable (engine/connection) or database string URI or sqlite3 DBAPI2 connection. Other DBAPI2 objects are not tested. Please consider using SQLAlchemy.\n",
      "  df = pd.read_sql(query, self.connection, params=(current_datetime,))\n",
      "C:\\Users\\Basavaraj\\AppData\\Local\\Temp\\ipykernel_15564\\3907896313.py:40: UserWarning: pandas only supports SQLAlchemy connectable (engine/connection) or database string URI or sqlite3 DBAPI2 connection. Other DBAPI2 objects are not tested. Please consider using SQLAlchemy.\n",
      "  schema_df = pd.read_sql(query, self.connection)\n",
      "C:\\Users\\Basavaraj\\AppData\\Local\\Temp\\ipykernel_15564\\3907896313.py:40: UserWarning: pandas only supports SQLAlchemy connectable (engine/connection) or database string URI or sqlite3 DBAPI2 connection. Other DBAPI2 objects are not tested. Please consider using SQLAlchemy.\n",
      "  schema_df = pd.read_sql(query, self.connection)\n",
      "C:\\Users\\Basavaraj\\AppData\\Local\\Temp\\ipykernel_15564\\3907896313.py:40: UserWarning: pandas only supports SQLAlchemy connectable (engine/connection) or database string URI or sqlite3 DBAPI2 connection. Other DBAPI2 objects are not tested. Please consider using SQLAlchemy.\n",
      "  schema_df = pd.read_sql(query, self.connection)\n"
     ]
    },
    {
     "name": "stdout",
     "output_type": "stream",
     "text": [
      "Fetched schema with data types successfully.\n",
      "Fetched unique values for time_taken: []\n",
      "Fetching unique values for project_id in issues for date: 10-21-2024 12:00\n",
      "Fetched schema with data types successfully.\n",
      "Fetched schema with data types successfully.\n",
      "Fetched schema with data types successfully.\n",
      "Fetched unique values for project_id: []\n",
      "Fetching unique values for created_date in issues for date: 10-21-2024 12:00\n",
      "Fetched schema with data types successfully.\n"
     ]
    },
    {
     "name": "stderr",
     "output_type": "stream",
     "text": [
      "C:\\Users\\Basavaraj\\AppData\\Local\\Temp\\ipykernel_15564\\3907896313.py:68: UserWarning: pandas only supports SQLAlchemy connectable (engine/connection) or database string URI or sqlite3 DBAPI2 connection. Other DBAPI2 objects are not tested. Please consider using SQLAlchemy.\n",
      "  df = pd.read_sql(query, self.connection, params=(current_datetime,))\n",
      "C:\\Users\\Basavaraj\\AppData\\Local\\Temp\\ipykernel_15564\\3907896313.py:40: UserWarning: pandas only supports SQLAlchemy connectable (engine/connection) or database string URI or sqlite3 DBAPI2 connection. Other DBAPI2 objects are not tested. Please consider using SQLAlchemy.\n",
      "  schema_df = pd.read_sql(query, self.connection)\n",
      "C:\\Users\\Basavaraj\\AppData\\Local\\Temp\\ipykernel_15564\\3907896313.py:40: UserWarning: pandas only supports SQLAlchemy connectable (engine/connection) or database string URI or sqlite3 DBAPI2 connection. Other DBAPI2 objects are not tested. Please consider using SQLAlchemy.\n",
      "  schema_df = pd.read_sql(query, self.connection)\n",
      "C:\\Users\\Basavaraj\\AppData\\Local\\Temp\\ipykernel_15564\\3907896313.py:40: UserWarning: pandas only supports SQLAlchemy connectable (engine/connection) or database string URI or sqlite3 DBAPI2 connection. Other DBAPI2 objects are not tested. Please consider using SQLAlchemy.\n",
      "  schema_df = pd.read_sql(query, self.connection)\n",
      "C:\\Users\\Basavaraj\\AppData\\Local\\Temp\\ipykernel_15564\\3907896313.py:68: UserWarning: pandas only supports SQLAlchemy connectable (engine/connection) or database string URI or sqlite3 DBAPI2 connection. Other DBAPI2 objects are not tested. Please consider using SQLAlchemy.\n",
      "  df = pd.read_sql(query, self.connection, params=(current_datetime,))\n",
      "C:\\Users\\Basavaraj\\AppData\\Local\\Temp\\ipykernel_15564\\3907896313.py:40: UserWarning: pandas only supports SQLAlchemy connectable (engine/connection) or database string URI or sqlite3 DBAPI2 connection. Other DBAPI2 objects are not tested. Please consider using SQLAlchemy.\n",
      "  schema_df = pd.read_sql(query, self.connection)\n",
      "C:\\Users\\Basavaraj\\AppData\\Local\\Temp\\ipykernel_15564\\3907896313.py:40: UserWarning: pandas only supports SQLAlchemy connectable (engine/connection) or database string URI or sqlite3 DBAPI2 connection. Other DBAPI2 objects are not tested. Please consider using SQLAlchemy.\n",
      "  schema_df = pd.read_sql(query, self.connection)\n"
     ]
    },
    {
     "name": "stdout",
     "output_type": "stream",
     "text": [
      "Fetched schema with data types successfully.\n",
      "Fetched schema with data types successfully.\n",
      "Fetched unique values for created_date: []\n",
      "Fetching unique values for severity_id in issues for date: 10-21-2024 12:00\n",
      "Fetched schema with data types successfully.\n",
      "Fetched schema with data types successfully.\n",
      "Fetched schema with data types successfully.\n"
     ]
    },
    {
     "name": "stderr",
     "output_type": "stream",
     "text": [
      "C:\\Users\\Basavaraj\\AppData\\Local\\Temp\\ipykernel_15564\\3907896313.py:40: UserWarning: pandas only supports SQLAlchemy connectable (engine/connection) or database string URI or sqlite3 DBAPI2 connection. Other DBAPI2 objects are not tested. Please consider using SQLAlchemy.\n",
      "  schema_df = pd.read_sql(query, self.connection)\n",
      "C:\\Users\\Basavaraj\\AppData\\Local\\Temp\\ipykernel_15564\\3907896313.py:68: UserWarning: pandas only supports SQLAlchemy connectable (engine/connection) or database string URI or sqlite3 DBAPI2 connection. Other DBAPI2 objects are not tested. Please consider using SQLAlchemy.\n",
      "  df = pd.read_sql(query, self.connection, params=(current_datetime,))\n",
      "C:\\Users\\Basavaraj\\AppData\\Local\\Temp\\ipykernel_15564\\3907896313.py:40: UserWarning: pandas only supports SQLAlchemy connectable (engine/connection) or database string URI or sqlite3 DBAPI2 connection. Other DBAPI2 objects are not tested. Please consider using SQLAlchemy.\n",
      "  schema_df = pd.read_sql(query, self.connection)\n",
      "C:\\Users\\Basavaraj\\AppData\\Local\\Temp\\ipykernel_15564\\3907896313.py:40: UserWarning: pandas only supports SQLAlchemy connectable (engine/connection) or database string URI or sqlite3 DBAPI2 connection. Other DBAPI2 objects are not tested. Please consider using SQLAlchemy.\n",
      "  schema_df = pd.read_sql(query, self.connection)\n",
      "C:\\Users\\Basavaraj\\AppData\\Local\\Temp\\ipykernel_15564\\3907896313.py:40: UserWarning: pandas only supports SQLAlchemy connectable (engine/connection) or database string URI or sqlite3 DBAPI2 connection. Other DBAPI2 objects are not tested. Please consider using SQLAlchemy.\n",
      "  schema_df = pd.read_sql(query, self.connection)\n",
      "C:\\Users\\Basavaraj\\AppData\\Local\\Temp\\ipykernel_15564\\3907896313.py:68: UserWarning: pandas only supports SQLAlchemy connectable (engine/connection) or database string URI or sqlite3 DBAPI2 connection. Other DBAPI2 objects are not tested. Please consider using SQLAlchemy.\n",
      "  df = pd.read_sql(query, self.connection, params=(current_datetime,))\n"
     ]
    },
    {
     "name": "stdout",
     "output_type": "stream",
     "text": [
      "Fetched unique values for severity_id: []\n",
      "Fetching unique values for assignee in issues for date: 10-21-2024 12:00\n",
      "Fetched schema with data types successfully.\n",
      "Fetched schema with data types successfully.\n",
      "Fetched schema with data types successfully.\n",
      "Fetched unique values for assignee: []\n",
      "Fetching unique values for project_name in issues for date: 10-21-2024 12:00\n",
      "Fetched schema with data types successfully.\n"
     ]
    },
    {
     "name": "stderr",
     "output_type": "stream",
     "text": [
      "C:\\Users\\Basavaraj\\AppData\\Local\\Temp\\ipykernel_15564\\3907896313.py:40: UserWarning: pandas only supports SQLAlchemy connectable (engine/connection) or database string URI or sqlite3 DBAPI2 connection. Other DBAPI2 objects are not tested. Please consider using SQLAlchemy.\n",
      "  schema_df = pd.read_sql(query, self.connection)\n",
      "C:\\Users\\Basavaraj\\AppData\\Local\\Temp\\ipykernel_15564\\3907896313.py:40: UserWarning: pandas only supports SQLAlchemy connectable (engine/connection) or database string URI or sqlite3 DBAPI2 connection. Other DBAPI2 objects are not tested. Please consider using SQLAlchemy.\n",
      "  schema_df = pd.read_sql(query, self.connection)\n",
      "C:\\Users\\Basavaraj\\AppData\\Local\\Temp\\ipykernel_15564\\3907896313.py:40: UserWarning: pandas only supports SQLAlchemy connectable (engine/connection) or database string URI or sqlite3 DBAPI2 connection. Other DBAPI2 objects are not tested. Please consider using SQLAlchemy.\n",
      "  schema_df = pd.read_sql(query, self.connection)\n",
      "C:\\Users\\Basavaraj\\AppData\\Local\\Temp\\ipykernel_15564\\3907896313.py:68: UserWarning: pandas only supports SQLAlchemy connectable (engine/connection) or database string URI or sqlite3 DBAPI2 connection. Other DBAPI2 objects are not tested. Please consider using SQLAlchemy.\n",
      "  df = pd.read_sql(query, self.connection, params=(current_datetime,))\n",
      "C:\\Users\\Basavaraj\\AppData\\Local\\Temp\\ipykernel_15564\\3907896313.py:40: UserWarning: pandas only supports SQLAlchemy connectable (engine/connection) or database string URI or sqlite3 DBAPI2 connection. Other DBAPI2 objects are not tested. Please consider using SQLAlchemy.\n",
      "  schema_df = pd.read_sql(query, self.connection)\n",
      "C:\\Users\\Basavaraj\\AppData\\Local\\Temp\\ipykernel_15564\\3907896313.py:40: UserWarning: pandas only supports SQLAlchemy connectable (engine/connection) or database string URI or sqlite3 DBAPI2 connection. Other DBAPI2 objects are not tested. Please consider using SQLAlchemy.\n",
      "  schema_df = pd.read_sql(query, self.connection)\n"
     ]
    },
    {
     "name": "stdout",
     "output_type": "stream",
     "text": [
      "Fetched schema with data types successfully.\n",
      "Fetched schema with data types successfully.\n",
      "Fetched unique values for project_name: []\n",
      "Fetching unique values for due_date in issues for date: 10-21-2024 12:00\n",
      "Fetched schema with data types successfully.\n",
      "Fetched schema with data types successfully.\n",
      "Fetched schema with data types successfully.\n",
      "Fetched unique values for due_date: []\n",
      "Fetching unique values for time_since_last_change in issues for date: 10-21-2024 12:00\n"
     ]
    },
    {
     "name": "stderr",
     "output_type": "stream",
     "text": [
      "C:\\Users\\Basavaraj\\AppData\\Local\\Temp\\ipykernel_15564\\3907896313.py:40: UserWarning: pandas only supports SQLAlchemy connectable (engine/connection) or database string URI or sqlite3 DBAPI2 connection. Other DBAPI2 objects are not tested. Please consider using SQLAlchemy.\n",
      "  schema_df = pd.read_sql(query, self.connection)\n",
      "C:\\Users\\Basavaraj\\AppData\\Local\\Temp\\ipykernel_15564\\3907896313.py:68: UserWarning: pandas only supports SQLAlchemy connectable (engine/connection) or database string URI or sqlite3 DBAPI2 connection. Other DBAPI2 objects are not tested. Please consider using SQLAlchemy.\n",
      "  df = pd.read_sql(query, self.connection, params=(current_datetime,))\n",
      "C:\\Users\\Basavaraj\\AppData\\Local\\Temp\\ipykernel_15564\\3907896313.py:40: UserWarning: pandas only supports SQLAlchemy connectable (engine/connection) or database string URI or sqlite3 DBAPI2 connection. Other DBAPI2 objects are not tested. Please consider using SQLAlchemy.\n",
      "  schema_df = pd.read_sql(query, self.connection)\n",
      "C:\\Users\\Basavaraj\\AppData\\Local\\Temp\\ipykernel_15564\\3907896313.py:40: UserWarning: pandas only supports SQLAlchemy connectable (engine/connection) or database string URI or sqlite3 DBAPI2 connection. Other DBAPI2 objects are not tested. Please consider using SQLAlchemy.\n",
      "  schema_df = pd.read_sql(query, self.connection)\n",
      "C:\\Users\\Basavaraj\\AppData\\Local\\Temp\\ipykernel_15564\\3907896313.py:40: UserWarning: pandas only supports SQLAlchemy connectable (engine/connection) or database string URI or sqlite3 DBAPI2 connection. Other DBAPI2 objects are not tested. Please consider using SQLAlchemy.\n",
      "  schema_df = pd.read_sql(query, self.connection)\n",
      "C:\\Users\\Basavaraj\\AppData\\Local\\Temp\\ipykernel_15564\\3907896313.py:68: UserWarning: pandas only supports SQLAlchemy connectable (engine/connection) or database string URI or sqlite3 DBAPI2 connection. Other DBAPI2 objects are not tested. Please consider using SQLAlchemy.\n",
      "  df = pd.read_sql(query, self.connection, params=(current_datetime,))\n",
      "C:\\Users\\Basavaraj\\AppData\\Local\\Temp\\ipykernel_15564\\3907896313.py:40: UserWarning: pandas only supports SQLAlchemy connectable (engine/connection) or database string URI or sqlite3 DBAPI2 connection. Other DBAPI2 objects are not tested. Please consider using SQLAlchemy.\n",
      "  schema_df = pd.read_sql(query, self.connection)\n"
     ]
    },
    {
     "name": "stdout",
     "output_type": "stream",
     "text": [
      "Fetched schema with data types successfully.\n",
      "Fetched schema with data types successfully.\n",
      "Fetched schema with data types successfully.\n",
      "Fetched unique values for time_since_last_change: []\n",
      "Fetching unique values for last_modified_date in issues for date: 10-21-2024 12:00\n",
      "Fetched schema with data types successfully.\n",
      "Fetched schema with data types successfully.\n",
      "Fetched schema with data types successfully.\n",
      "Fetched unique values for last_modified_date: []\n",
      "Fetching unique values for description in issues for date: 10-21-2024 12:00\n"
     ]
    },
    {
     "name": "stderr",
     "output_type": "stream",
     "text": [
      "C:\\Users\\Basavaraj\\AppData\\Local\\Temp\\ipykernel_15564\\3907896313.py:40: UserWarning: pandas only supports SQLAlchemy connectable (engine/connection) or database string URI or sqlite3 DBAPI2 connection. Other DBAPI2 objects are not tested. Please consider using SQLAlchemy.\n",
      "  schema_df = pd.read_sql(query, self.connection)\n",
      "C:\\Users\\Basavaraj\\AppData\\Local\\Temp\\ipykernel_15564\\3907896313.py:40: UserWarning: pandas only supports SQLAlchemy connectable (engine/connection) or database string URI or sqlite3 DBAPI2 connection. Other DBAPI2 objects are not tested. Please consider using SQLAlchemy.\n",
      "  schema_df = pd.read_sql(query, self.connection)\n",
      "C:\\Users\\Basavaraj\\AppData\\Local\\Temp\\ipykernel_15564\\3907896313.py:68: UserWarning: pandas only supports SQLAlchemy connectable (engine/connection) or database string URI or sqlite3 DBAPI2 connection. Other DBAPI2 objects are not tested. Please consider using SQLAlchemy.\n",
      "  df = pd.read_sql(query, self.connection, params=(current_datetime,))\n",
      "C:\\Users\\Basavaraj\\AppData\\Local\\Temp\\ipykernel_15564\\3907896313.py:40: UserWarning: pandas only supports SQLAlchemy connectable (engine/connection) or database string URI or sqlite3 DBAPI2 connection. Other DBAPI2 objects are not tested. Please consider using SQLAlchemy.\n",
      "  schema_df = pd.read_sql(query, self.connection)\n",
      "C:\\Users\\Basavaraj\\AppData\\Local\\Temp\\ipykernel_15564\\3907896313.py:40: UserWarning: pandas only supports SQLAlchemy connectable (engine/connection) or database string URI or sqlite3 DBAPI2 connection. Other DBAPI2 objects are not tested. Please consider using SQLAlchemy.\n",
      "  schema_df = pd.read_sql(query, self.connection)\n",
      "C:\\Users\\Basavaraj\\AppData\\Local\\Temp\\ipykernel_15564\\3907896313.py:40: UserWarning: pandas only supports SQLAlchemy connectable (engine/connection) or database string URI or sqlite3 DBAPI2 connection. Other DBAPI2 objects are not tested. Please consider using SQLAlchemy.\n",
      "  schema_df = pd.read_sql(query, self.connection)\n",
      "C:\\Users\\Basavaraj\\AppData\\Local\\Temp\\ipykernel_15564\\3907896313.py:68: UserWarning: pandas only supports SQLAlchemy connectable (engine/connection) or database string URI or sqlite3 DBAPI2 connection. Other DBAPI2 objects are not tested. Please consider using SQLAlchemy.\n",
      "  df = pd.read_sql(query, self.connection, params=(current_datetime,))\n",
      "C:\\Users\\Basavaraj\\AppData\\Local\\Temp\\ipykernel_15564\\3907896313.py:40: UserWarning: pandas only supports SQLAlchemy connectable (engine/connection) or database string URI or sqlite3 DBAPI2 connection. Other DBAPI2 objects are not tested. Please consider using SQLAlchemy.\n",
      "  schema_df = pd.read_sql(query, self.connection)\n"
     ]
    },
    {
     "name": "stdout",
     "output_type": "stream",
     "text": [
      "Fetched schema with data types successfully.\n",
      "Fetched schema with data types successfully.\n",
      "Fetched schema with data types successfully.\n",
      "Fetched unique values for description: []\n",
      "Fetching unique values for delay_in_days in issues for date: 10-21-2024 12:00\n",
      "Fetched schema with data types successfully.\n",
      "Fetched schema with data types successfully.\n",
      "Fetched schema with data types successfully.\n"
     ]
    },
    {
     "name": "stderr",
     "output_type": "stream",
     "text": [
      "C:\\Users\\Basavaraj\\AppData\\Local\\Temp\\ipykernel_15564\\3907896313.py:40: UserWarning: pandas only supports SQLAlchemy connectable (engine/connection) or database string URI or sqlite3 DBAPI2 connection. Other DBAPI2 objects are not tested. Please consider using SQLAlchemy.\n",
      "  schema_df = pd.read_sql(query, self.connection)\n",
      "C:\\Users\\Basavaraj\\AppData\\Local\\Temp\\ipykernel_15564\\3907896313.py:40: UserWarning: pandas only supports SQLAlchemy connectable (engine/connection) or database string URI or sqlite3 DBAPI2 connection. Other DBAPI2 objects are not tested. Please consider using SQLAlchemy.\n",
      "  schema_df = pd.read_sql(query, self.connection)\n",
      "C:\\Users\\Basavaraj\\AppData\\Local\\Temp\\ipykernel_15564\\3907896313.py:68: UserWarning: pandas only supports SQLAlchemy connectable (engine/connection) or database string URI or sqlite3 DBAPI2 connection. Other DBAPI2 objects are not tested. Please consider using SQLAlchemy.\n",
      "  df = pd.read_sql(query, self.connection, params=(current_datetime,))\n",
      "C:\\Users\\Basavaraj\\AppData\\Local\\Temp\\ipykernel_15564\\3907896313.py:40: UserWarning: pandas only supports SQLAlchemy connectable (engine/connection) or database string URI or sqlite3 DBAPI2 connection. Other DBAPI2 objects are not tested. Please consider using SQLAlchemy.\n",
      "  schema_df = pd.read_sql(query, self.connection)\n",
      "C:\\Users\\Basavaraj\\AppData\\Local\\Temp\\ipykernel_15564\\3907896313.py:40: UserWarning: pandas only supports SQLAlchemy connectable (engine/connection) or database string URI or sqlite3 DBAPI2 connection. Other DBAPI2 objects are not tested. Please consider using SQLAlchemy.\n",
      "  schema_df = pd.read_sql(query, self.connection)\n",
      "C:\\Users\\Basavaraj\\AppData\\Local\\Temp\\ipykernel_15564\\3907896313.py:40: UserWarning: pandas only supports SQLAlchemy connectable (engine/connection) or database string URI or sqlite3 DBAPI2 connection. Other DBAPI2 objects are not tested. Please consider using SQLAlchemy.\n",
      "  schema_df = pd.read_sql(query, self.connection)\n",
      "C:\\Users\\Basavaraj\\AppData\\Local\\Temp\\ipykernel_15564\\3907896313.py:68: UserWarning: pandas only supports SQLAlchemy connectable (engine/connection) or database string URI or sqlite3 DBAPI2 connection. Other DBAPI2 objects are not tested. Please consider using SQLAlchemy.\n",
      "  df = pd.read_sql(query, self.connection, params=(current_datetime,))\n"
     ]
    },
    {
     "name": "stdout",
     "output_type": "stream",
     "text": [
      "Fetched unique values for delay_in_days: []\n",
      "Fetching unique values for assignee_id in issues for date: 10-21-2024 12:00\n",
      "Fetched schema with data types successfully.\n",
      "Fetched schema with data types successfully.\n",
      "Fetched schema with data types successfully.\n",
      "Fetched unique values for assignee_id: []\n",
      "Fetching unique values for tags in issues for date: 10-21-2024 12:00\n",
      "Fetched schema with data types successfully.\n",
      "Fetched schema with data types successfully.\n"
     ]
    },
    {
     "name": "stderr",
     "output_type": "stream",
     "text": [
      "C:\\Users\\Basavaraj\\AppData\\Local\\Temp\\ipykernel_15564\\3907896313.py:40: UserWarning: pandas only supports SQLAlchemy connectable (engine/connection) or database string URI or sqlite3 DBAPI2 connection. Other DBAPI2 objects are not tested. Please consider using SQLAlchemy.\n",
      "  schema_df = pd.read_sql(query, self.connection)\n",
      "C:\\Users\\Basavaraj\\AppData\\Local\\Temp\\ipykernel_15564\\3907896313.py:40: UserWarning: pandas only supports SQLAlchemy connectable (engine/connection) or database string URI or sqlite3 DBAPI2 connection. Other DBAPI2 objects are not tested. Please consider using SQLAlchemy.\n",
      "  schema_df = pd.read_sql(query, self.connection)\n",
      "C:\\Users\\Basavaraj\\AppData\\Local\\Temp\\ipykernel_15564\\3907896313.py:40: UserWarning: pandas only supports SQLAlchemy connectable (engine/connection) or database string URI or sqlite3 DBAPI2 connection. Other DBAPI2 objects are not tested. Please consider using SQLAlchemy.\n",
      "  schema_df = pd.read_sql(query, self.connection)\n",
      "C:\\Users\\Basavaraj\\AppData\\Local\\Temp\\ipykernel_15564\\3907896313.py:68: UserWarning: pandas only supports SQLAlchemy connectable (engine/connection) or database string URI or sqlite3 DBAPI2 connection. Other DBAPI2 objects are not tested. Please consider using SQLAlchemy.\n",
      "  df = pd.read_sql(query, self.connection, params=(current_datetime,))\n",
      "C:\\Users\\Basavaraj\\AppData\\Local\\Temp\\ipykernel_15564\\3907896313.py:40: UserWarning: pandas only supports SQLAlchemy connectable (engine/connection) or database string URI or sqlite3 DBAPI2 connection. Other DBAPI2 objects are not tested. Please consider using SQLAlchemy.\n",
      "  schema_df = pd.read_sql(query, self.connection)\n",
      "C:\\Users\\Basavaraj\\AppData\\Local\\Temp\\ipykernel_15564\\3907896313.py:40: UserWarning: pandas only supports SQLAlchemy connectable (engine/connection) or database string URI or sqlite3 DBAPI2 connection. Other DBAPI2 objects are not tested. Please consider using SQLAlchemy.\n",
      "  schema_df = pd.read_sql(query, self.connection)\n",
      "C:\\Users\\Basavaraj\\AppData\\Local\\Temp\\ipykernel_15564\\3907896313.py:40: UserWarning: pandas only supports SQLAlchemy connectable (engine/connection) or database string URI or sqlite3 DBAPI2 connection. Other DBAPI2 objects are not tested. Please consider using SQLAlchemy.\n",
      "  schema_df = pd.read_sql(query, self.connection)\n"
     ]
    },
    {
     "name": "stdout",
     "output_type": "stream",
     "text": [
      "Fetched schema with data types successfully.\n",
      "Fetched unique values for tags: []\n",
      "Fetching unique values for top_level_status in issues for date: 10-21-2024 12:00\n",
      "Fetched schema with data types successfully.\n",
      "Fetched schema with data types successfully.\n",
      "Fetched schema with data types successfully.\n",
      "Fetched unique values for top_level_status: []\n",
      "Fetching unique values for severity in issues for date: 10-21-2024 12:00\n",
      "Fetched schema with data types successfully.\n"
     ]
    },
    {
     "name": "stderr",
     "output_type": "stream",
     "text": [
      "C:\\Users\\Basavaraj\\AppData\\Local\\Temp\\ipykernel_15564\\3907896313.py:68: UserWarning: pandas only supports SQLAlchemy connectable (engine/connection) or database string URI or sqlite3 DBAPI2 connection. Other DBAPI2 objects are not tested. Please consider using SQLAlchemy.\n",
      "  df = pd.read_sql(query, self.connection, params=(current_datetime,))\n",
      "C:\\Users\\Basavaraj\\AppData\\Local\\Temp\\ipykernel_15564\\3907896313.py:40: UserWarning: pandas only supports SQLAlchemy connectable (engine/connection) or database string URI or sqlite3 DBAPI2 connection. Other DBAPI2 objects are not tested. Please consider using SQLAlchemy.\n",
      "  schema_df = pd.read_sql(query, self.connection)\n",
      "C:\\Users\\Basavaraj\\AppData\\Local\\Temp\\ipykernel_15564\\3907896313.py:40: UserWarning: pandas only supports SQLAlchemy connectable (engine/connection) or database string URI or sqlite3 DBAPI2 connection. Other DBAPI2 objects are not tested. Please consider using SQLAlchemy.\n",
      "  schema_df = pd.read_sql(query, self.connection)\n",
      "C:\\Users\\Basavaraj\\AppData\\Local\\Temp\\ipykernel_15564\\3907896313.py:40: UserWarning: pandas only supports SQLAlchemy connectable (engine/connection) or database string URI or sqlite3 DBAPI2 connection. Other DBAPI2 objects are not tested. Please consider using SQLAlchemy.\n",
      "  schema_df = pd.read_sql(query, self.connection)\n",
      "C:\\Users\\Basavaraj\\AppData\\Local\\Temp\\ipykernel_15564\\3907896313.py:68: UserWarning: pandas only supports SQLAlchemy connectable (engine/connection) or database string URI or sqlite3 DBAPI2 connection. Other DBAPI2 objects are not tested. Please consider using SQLAlchemy.\n",
      "  df = pd.read_sql(query, self.connection, params=(current_datetime,))\n",
      "C:\\Users\\Basavaraj\\AppData\\Local\\Temp\\ipykernel_15564\\3907896313.py:40: UserWarning: pandas only supports SQLAlchemy connectable (engine/connection) or database string URI or sqlite3 DBAPI2 connection. Other DBAPI2 objects are not tested. Please consider using SQLAlchemy.\n",
      "  schema_df = pd.read_sql(query, self.connection)\n",
      "C:\\Users\\Basavaraj\\AppData\\Local\\Temp\\ipykernel_15564\\3907896313.py:40: UserWarning: pandas only supports SQLAlchemy connectable (engine/connection) or database string URI or sqlite3 DBAPI2 connection. Other DBAPI2 objects are not tested. Please consider using SQLAlchemy.\n",
      "  schema_df = pd.read_sql(query, self.connection)\n"
     ]
    },
    {
     "name": "stdout",
     "output_type": "stream",
     "text": [
      "Fetched schema with data types successfully.\n",
      "Fetched schema with data types successfully.\n",
      "Fetched unique values for severity: []\n",
      "Fetching unique values for bug_key in issues for date: 10-21-2024 12:00\n",
      "Fetched schema with data types successfully.\n",
      "Fetched schema with data types successfully.\n",
      "Fetched schema with data types successfully.\n",
      "Fetched unique values for bug_key: []\n",
      "Fetching unique values for milestone_name in issues for date: 10-21-2024 12:00\n"
     ]
    },
    {
     "name": "stderr",
     "output_type": "stream",
     "text": [
      "C:\\Users\\Basavaraj\\AppData\\Local\\Temp\\ipykernel_15564\\3907896313.py:40: UserWarning: pandas only supports SQLAlchemy connectable (engine/connection) or database string URI or sqlite3 DBAPI2 connection. Other DBAPI2 objects are not tested. Please consider using SQLAlchemy.\n",
      "  schema_df = pd.read_sql(query, self.connection)\n",
      "C:\\Users\\Basavaraj\\AppData\\Local\\Temp\\ipykernel_15564\\3907896313.py:68: UserWarning: pandas only supports SQLAlchemy connectable (engine/connection) or database string URI or sqlite3 DBAPI2 connection. Other DBAPI2 objects are not tested. Please consider using SQLAlchemy.\n",
      "  df = pd.read_sql(query, self.connection, params=(current_datetime,))\n",
      "C:\\Users\\Basavaraj\\AppData\\Local\\Temp\\ipykernel_15564\\3907896313.py:40: UserWarning: pandas only supports SQLAlchemy connectable (engine/connection) or database string URI or sqlite3 DBAPI2 connection. Other DBAPI2 objects are not tested. Please consider using SQLAlchemy.\n",
      "  schema_df = pd.read_sql(query, self.connection)\n",
      "C:\\Users\\Basavaraj\\AppData\\Local\\Temp\\ipykernel_15564\\3907896313.py:40: UserWarning: pandas only supports SQLAlchemy connectable (engine/connection) or database string URI or sqlite3 DBAPI2 connection. Other DBAPI2 objects are not tested. Please consider using SQLAlchemy.\n",
      "  schema_df = pd.read_sql(query, self.connection)\n",
      "C:\\Users\\Basavaraj\\AppData\\Local\\Temp\\ipykernel_15564\\3907896313.py:40: UserWarning: pandas only supports SQLAlchemy connectable (engine/connection) or database string URI or sqlite3 DBAPI2 connection. Other DBAPI2 objects are not tested. Please consider using SQLAlchemy.\n",
      "  schema_df = pd.read_sql(query, self.connection)\n",
      "C:\\Users\\Basavaraj\\AppData\\Local\\Temp\\ipykernel_15564\\3907896313.py:68: UserWarning: pandas only supports SQLAlchemy connectable (engine/connection) or database string URI or sqlite3 DBAPI2 connection. Other DBAPI2 objects are not tested. Please consider using SQLAlchemy.\n",
      "  df = pd.read_sql(query, self.connection, params=(current_datetime,))\n",
      "C:\\Users\\Basavaraj\\AppData\\Local\\Temp\\ipykernel_15564\\3907896313.py:40: UserWarning: pandas only supports SQLAlchemy connectable (engine/connection) or database string URI or sqlite3 DBAPI2 connection. Other DBAPI2 objects are not tested. Please consider using SQLAlchemy.\n",
      "  schema_df = pd.read_sql(query, self.connection)\n"
     ]
    },
    {
     "name": "stdout",
     "output_type": "stream",
     "text": [
      "Fetched schema with data types successfully.\n",
      "Fetched schema with data types successfully.\n",
      "Fetched schema with data types successfully.\n",
      "Fetched unique values for milestone_name: []\n",
      "Fetching unique values for classification in issues for date: 10-21-2024 12:00\n",
      "Fetched schema with data types successfully.\n",
      "Fetched schema with data types successfully.\n",
      "Fetched schema with data types successfully.\n"
     ]
    },
    {
     "name": "stderr",
     "output_type": "stream",
     "text": [
      "C:\\Users\\Basavaraj\\AppData\\Local\\Temp\\ipykernel_15564\\3907896313.py:40: UserWarning: pandas only supports SQLAlchemy connectable (engine/connection) or database string URI or sqlite3 DBAPI2 connection. Other DBAPI2 objects are not tested. Please consider using SQLAlchemy.\n",
      "  schema_df = pd.read_sql(query, self.connection)\n",
      "C:\\Users\\Basavaraj\\AppData\\Local\\Temp\\ipykernel_15564\\3907896313.py:40: UserWarning: pandas only supports SQLAlchemy connectable (engine/connection) or database string URI or sqlite3 DBAPI2 connection. Other DBAPI2 objects are not tested. Please consider using SQLAlchemy.\n",
      "  schema_df = pd.read_sql(query, self.connection)\n",
      "C:\\Users\\Basavaraj\\AppData\\Local\\Temp\\ipykernel_15564\\3907896313.py:68: UserWarning: pandas only supports SQLAlchemy connectable (engine/connection) or database string URI or sqlite3 DBAPI2 connection. Other DBAPI2 objects are not tested. Please consider using SQLAlchemy.\n",
      "  df = pd.read_sql(query, self.connection, params=(current_datetime,))\n",
      "C:\\Users\\Basavaraj\\AppData\\Local\\Temp\\ipykernel_15564\\3907896313.py:40: UserWarning: pandas only supports SQLAlchemy connectable (engine/connection) or database string URI or sqlite3 DBAPI2 connection. Other DBAPI2 objects are not tested. Please consider using SQLAlchemy.\n",
      "  schema_df = pd.read_sql(query, self.connection)\n",
      "C:\\Users\\Basavaraj\\AppData\\Local\\Temp\\ipykernel_15564\\3907896313.py:40: UserWarning: pandas only supports SQLAlchemy connectable (engine/connection) or database string URI or sqlite3 DBAPI2 connection. Other DBAPI2 objects are not tested. Please consider using SQLAlchemy.\n",
      "  schema_df = pd.read_sql(query, self.connection)\n",
      "C:\\Users\\Basavaraj\\AppData\\Local\\Temp\\ipykernel_15564\\3907896313.py:40: UserWarning: pandas only supports SQLAlchemy connectable (engine/connection) or database string URI or sqlite3 DBAPI2 connection. Other DBAPI2 objects are not tested. Please consider using SQLAlchemy.\n",
      "  schema_df = pd.read_sql(query, self.connection)\n",
      "C:\\Users\\Basavaraj\\AppData\\Local\\Temp\\ipykernel_15564\\3907896313.py:68: UserWarning: pandas only supports SQLAlchemy connectable (engine/connection) or database string URI or sqlite3 DBAPI2 connection. Other DBAPI2 objects are not tested. Please consider using SQLAlchemy.\n",
      "  df = pd.read_sql(query, self.connection, params=(current_datetime,))\n"
     ]
    },
    {
     "name": "stdout",
     "output_type": "stream",
     "text": [
      "Fetched unique values for classification: []\n",
      "Fetching unique values for reporter in issues for date: 10-21-2024 12:00\n",
      "Fetched schema with data types successfully.\n",
      "Fetched schema with data types successfully.\n",
      "Fetched schema with data types successfully.\n",
      "Fetched unique values for reporter: []\n",
      "Fetching unique values for affected_milestone in issues for date: 10-21-2024 12:00\n",
      "Fetched schema with data types successfully.\n",
      "Fetched schema with data types successfully.\n"
     ]
    },
    {
     "name": "stderr",
     "output_type": "stream",
     "text": [
      "C:\\Users\\Basavaraj\\AppData\\Local\\Temp\\ipykernel_15564\\3907896313.py:40: UserWarning: pandas only supports SQLAlchemy connectable (engine/connection) or database string URI or sqlite3 DBAPI2 connection. Other DBAPI2 objects are not tested. Please consider using SQLAlchemy.\n",
      "  schema_df = pd.read_sql(query, self.connection)\n",
      "C:\\Users\\Basavaraj\\AppData\\Local\\Temp\\ipykernel_15564\\3907896313.py:40: UserWarning: pandas only supports SQLAlchemy connectable (engine/connection) or database string URI or sqlite3 DBAPI2 connection. Other DBAPI2 objects are not tested. Please consider using SQLAlchemy.\n",
      "  schema_df = pd.read_sql(query, self.connection)\n",
      "C:\\Users\\Basavaraj\\AppData\\Local\\Temp\\ipykernel_15564\\3907896313.py:40: UserWarning: pandas only supports SQLAlchemy connectable (engine/connection) or database string URI or sqlite3 DBAPI2 connection. Other DBAPI2 objects are not tested. Please consider using SQLAlchemy.\n",
      "  schema_df = pd.read_sql(query, self.connection)\n",
      "C:\\Users\\Basavaraj\\AppData\\Local\\Temp\\ipykernel_15564\\3907896313.py:68: UserWarning: pandas only supports SQLAlchemy connectable (engine/connection) or database string URI or sqlite3 DBAPI2 connection. Other DBAPI2 objects are not tested. Please consider using SQLAlchemy.\n",
      "  df = pd.read_sql(query, self.connection, params=(current_datetime,))\n",
      "C:\\Users\\Basavaraj\\AppData\\Local\\Temp\\ipykernel_15564\\3907896313.py:40: UserWarning: pandas only supports SQLAlchemy connectable (engine/connection) or database string URI or sqlite3 DBAPI2 connection. Other DBAPI2 objects are not tested. Please consider using SQLAlchemy.\n",
      "  schema_df = pd.read_sql(query, self.connection)\n",
      "C:\\Users\\Basavaraj\\AppData\\Local\\Temp\\ipykernel_15564\\3907896313.py:40: UserWarning: pandas only supports SQLAlchemy connectable (engine/connection) or database string URI or sqlite3 DBAPI2 connection. Other DBAPI2 objects are not tested. Please consider using SQLAlchemy.\n",
      "  schema_df = pd.read_sql(query, self.connection)\n",
      "C:\\Users\\Basavaraj\\AppData\\Local\\Temp\\ipykernel_15564\\3907896313.py:40: UserWarning: pandas only supports SQLAlchemy connectable (engine/connection) or database string URI or sqlite3 DBAPI2 connection. Other DBAPI2 objects are not tested. Please consider using SQLAlchemy.\n",
      "  schema_df = pd.read_sql(query, self.connection)\n"
     ]
    },
    {
     "name": "stdout",
     "output_type": "stream",
     "text": [
      "Fetched schema with data types successfully.\n",
      "Fetched unique values for affected_milestone: []\n",
      "Fetching unique values for status in issues for date: 10-21-2024 12:00\n",
      "Fetched schema with data types successfully.\n",
      "Fetched schema with data types successfully.\n",
      "Fetched schema with data types successfully.\n",
      "Fetched unique values for status: []\n",
      "Fetching unique values for module in issues for date: 10-21-2024 12:00\n",
      "Fetched schema with data types successfully.\n",
      "Fetched schema with data types successfully.\n"
     ]
    },
    {
     "name": "stderr",
     "output_type": "stream",
     "text": [
      "C:\\Users\\Basavaraj\\AppData\\Local\\Temp\\ipykernel_15564\\3907896313.py:68: UserWarning: pandas only supports SQLAlchemy connectable (engine/connection) or database string URI or sqlite3 DBAPI2 connection. Other DBAPI2 objects are not tested. Please consider using SQLAlchemy.\n",
      "  df = pd.read_sql(query, self.connection, params=(current_datetime,))\n",
      "C:\\Users\\Basavaraj\\AppData\\Local\\Temp\\ipykernel_15564\\3907896313.py:40: UserWarning: pandas only supports SQLAlchemy connectable (engine/connection) or database string URI or sqlite3 DBAPI2 connection. Other DBAPI2 objects are not tested. Please consider using SQLAlchemy.\n",
      "  schema_df = pd.read_sql(query, self.connection)\n",
      "C:\\Users\\Basavaraj\\AppData\\Local\\Temp\\ipykernel_15564\\3907896313.py:40: UserWarning: pandas only supports SQLAlchemy connectable (engine/connection) or database string URI or sqlite3 DBAPI2 connection. Other DBAPI2 objects are not tested. Please consider using SQLAlchemy.\n",
      "  schema_df = pd.read_sql(query, self.connection)\n",
      "C:\\Users\\Basavaraj\\AppData\\Local\\Temp\\ipykernel_15564\\3907896313.py:40: UserWarning: pandas only supports SQLAlchemy connectable (engine/connection) or database string URI or sqlite3 DBAPI2 connection. Other DBAPI2 objects are not tested. Please consider using SQLAlchemy.\n",
      "  schema_df = pd.read_sql(query, self.connection)\n",
      "C:\\Users\\Basavaraj\\AppData\\Local\\Temp\\ipykernel_15564\\3907896313.py:68: UserWarning: pandas only supports SQLAlchemy connectable (engine/connection) or database string URI or sqlite3 DBAPI2 connection. Other DBAPI2 objects are not tested. Please consider using SQLAlchemy.\n",
      "  df = pd.read_sql(query, self.connection, params=(current_datetime,))\n",
      "C:\\Users\\Basavaraj\\AppData\\Local\\Temp\\ipykernel_15564\\3907896313.py:40: UserWarning: pandas only supports SQLAlchemy connectable (engine/connection) or database string URI or sqlite3 DBAPI2 connection. Other DBAPI2 objects are not tested. Please consider using SQLAlchemy.\n",
      "  schema_df = pd.read_sql(query, self.connection)\n",
      "C:\\Users\\Basavaraj\\AppData\\Local\\Temp\\ipykernel_15564\\3907896313.py:40: UserWarning: pandas only supports SQLAlchemy connectable (engine/connection) or database string URI or sqlite3 DBAPI2 connection. Other DBAPI2 objects are not tested. Please consider using SQLAlchemy.\n",
      "  schema_df = pd.read_sql(query, self.connection)\n",
      "C:\\Users\\Basavaraj\\AppData\\Local\\Temp\\ipykernel_15564\\3907896313.py:40: UserWarning: pandas only supports SQLAlchemy connectable (engine/connection) or database string URI or sqlite3 DBAPI2 connection. Other DBAPI2 objects are not tested. Please consider using SQLAlchemy.\n",
      "  schema_df = pd.read_sql(query, self.connection)\n",
      "C:\\Users\\Basavaraj\\AppData\\Local\\Temp\\ipykernel_15564\\3907896313.py:68: UserWarning: pandas only supports SQLAlchemy connectable (engine/connection) or database string URI or sqlite3 DBAPI2 connection. Other DBAPI2 objects are not tested. Please consider using SQLAlchemy.\n",
      "  df = pd.read_sql(query, self.connection, params=(current_datetime,))\n",
      "C:\\Users\\Basavaraj\\AppData\\Local\\Temp\\ipykernel_15564\\3907896313.py:40: UserWarning: pandas only supports SQLAlchemy connectable (engine/connection) or database string URI or sqlite3 DBAPI2 connection. Other DBAPI2 objects are not tested. Please consider using SQLAlchemy.\n",
      "  schema_df = pd.read_sql(query, self.connection)\n",
      "C:\\Users\\Basavaraj\\AppData\\Local\\Temp\\ipykernel_15564\\3907896313.py:40: UserWarning: pandas only supports SQLAlchemy connectable (engine/connection) or database string URI or sqlite3 DBAPI2 connection. Other DBAPI2 objects are not tested. Please consider using SQLAlchemy.\n",
      "  schema_df = pd.read_sql(query, self.connection)\n",
      "C:\\Users\\Basavaraj\\AppData\\Local\\Temp\\ipykernel_15564\\3907896313.py:40: UserWarning: pandas only supports SQLAlchemy connectable (engine/connection) or database string URI or sqlite3 DBAPI2 connection. Other DBAPI2 objects are not tested. Please consider using SQLAlchemy.\n",
      "  schema_df = pd.read_sql(query, self.connection)\n",
      "C:\\Users\\Basavaraj\\AppData\\Local\\Temp\\ipykernel_15564\\3907896313.py:68: UserWarning: pandas only supports SQLAlchemy connectable (engine/connection) or database string URI or sqlite3 DBAPI2 connection. Other DBAPI2 objects are not tested. Please consider using SQLAlchemy.\n",
      "  df = pd.read_sql(query, self.connection, params=(current_datetime,))\n",
      "C:\\Users\\Basavaraj\\AppData\\Local\\Temp\\ipykernel_15564\\3907896313.py:40: UserWarning: pandas only supports SQLAlchemy connectable (engine/connection) or database string URI or sqlite3 DBAPI2 connection. Other DBAPI2 objects are not tested. Please consider using SQLAlchemy.\n",
      "  schema_df = pd.read_sql(query, self.connection)\n"
     ]
    },
    {
     "name": "stdout",
     "output_type": "stream",
     "text": [
      "Fetched schema with data types successfully.\n",
      "Fetched unique values for module: []\n",
      "Fetching unique values for bug_completion_mode in issues for date: 10-21-2024 12:00\n",
      "Fetched schema with data types successfully.\n",
      "Fetched schema with data types successfully.\n",
      "Fetched schema with data types successfully.\n",
      "Fetched unique values for bug_completion_mode: []\n",
      "Fetching unique values for module_id in issues for date: 10-21-2024 12:00\n",
      "Fetched schema with data types successfully.\n"
     ]
    },
    {
     "name": "stderr",
     "output_type": "stream",
     "text": [
      "C:\\Users\\Basavaraj\\AppData\\Local\\Temp\\ipykernel_15564\\3907896313.py:40: UserWarning: pandas only supports SQLAlchemy connectable (engine/connection) or database string URI or sqlite3 DBAPI2 connection. Other DBAPI2 objects are not tested. Please consider using SQLAlchemy.\n",
      "  schema_df = pd.read_sql(query, self.connection)\n",
      "C:\\Users\\Basavaraj\\AppData\\Local\\Temp\\ipykernel_15564\\3907896313.py:40: UserWarning: pandas only supports SQLAlchemy connectable (engine/connection) or database string URI or sqlite3 DBAPI2 connection. Other DBAPI2 objects are not tested. Please consider using SQLAlchemy.\n",
      "  schema_df = pd.read_sql(query, self.connection)\n",
      "C:\\Users\\Basavaraj\\AppData\\Local\\Temp\\ipykernel_15564\\3907896313.py:68: UserWarning: pandas only supports SQLAlchemy connectable (engine/connection) or database string URI or sqlite3 DBAPI2 connection. Other DBAPI2 objects are not tested. Please consider using SQLAlchemy.\n",
      "  df = pd.read_sql(query, self.connection, params=(current_datetime,))\n",
      "C:\\Users\\Basavaraj\\AppData\\Local\\Temp\\ipykernel_15564\\3907896313.py:40: UserWarning: pandas only supports SQLAlchemy connectable (engine/connection) or database string URI or sqlite3 DBAPI2 connection. Other DBAPI2 objects are not tested. Please consider using SQLAlchemy.\n",
      "  schema_df = pd.read_sql(query, self.connection)\n",
      "C:\\Users\\Basavaraj\\AppData\\Local\\Temp\\ipykernel_15564\\3907896313.py:40: UserWarning: pandas only supports SQLAlchemy connectable (engine/connection) or database string URI or sqlite3 DBAPI2 connection. Other DBAPI2 objects are not tested. Please consider using SQLAlchemy.\n",
      "  schema_df = pd.read_sql(query, self.connection)\n",
      "C:\\Users\\Basavaraj\\AppData\\Local\\Temp\\ipykernel_15564\\3907896313.py:40: UserWarning: pandas only supports SQLAlchemy connectable (engine/connection) or database string URI or sqlite3 DBAPI2 connection. Other DBAPI2 objects are not tested. Please consider using SQLAlchemy.\n",
      "  schema_df = pd.read_sql(query, self.connection)\n",
      "C:\\Users\\Basavaraj\\AppData\\Local\\Temp\\ipykernel_15564\\3907896313.py:68: UserWarning: pandas only supports SQLAlchemy connectable (engine/connection) or database string URI or sqlite3 DBAPI2 connection. Other DBAPI2 objects are not tested. Please consider using SQLAlchemy.\n",
      "  df = pd.read_sql(query, self.connection, params=(current_datetime,))\n"
     ]
    },
    {
     "name": "stdout",
     "output_type": "stream",
     "text": [
      "Fetched schema with data types successfully.\n",
      "Fetched schema with data types successfully.\n",
      "Fetched unique values for module_id: []\n",
      "Fetching unique values for is_closed in issues for date: 10-21-2024 12:00\n",
      "Fetched schema with data types successfully.\n",
      "Fetched schema with data types successfully.\n",
      "Fetched schema with data types successfully.\n",
      "Fetched unique values for is_closed: []\n",
      "Fetching unique values for bug_id in issues for date: 10-21-2024 12:00\n"
     ]
    },
    {
     "name": "stderr",
     "output_type": "stream",
     "text": [
      "C:\\Users\\Basavaraj\\AppData\\Local\\Temp\\ipykernel_15564\\3907896313.py:40: UserWarning: pandas only supports SQLAlchemy connectable (engine/connection) or database string URI or sqlite3 DBAPI2 connection. Other DBAPI2 objects are not tested. Please consider using SQLAlchemy.\n",
      "  schema_df = pd.read_sql(query, self.connection)\n",
      "C:\\Users\\Basavaraj\\AppData\\Local\\Temp\\ipykernel_15564\\3907896313.py:40: UserWarning: pandas only supports SQLAlchemy connectable (engine/connection) or database string URI or sqlite3 DBAPI2 connection. Other DBAPI2 objects are not tested. Please consider using SQLAlchemy.\n",
      "  schema_df = pd.read_sql(query, self.connection)\n",
      "C:\\Users\\Basavaraj\\AppData\\Local\\Temp\\ipykernel_15564\\3907896313.py:40: UserWarning: pandas only supports SQLAlchemy connectable (engine/connection) or database string URI or sqlite3 DBAPI2 connection. Other DBAPI2 objects are not tested. Please consider using SQLAlchemy.\n",
      "  schema_df = pd.read_sql(query, self.connection)\n",
      "C:\\Users\\Basavaraj\\AppData\\Local\\Temp\\ipykernel_15564\\3907896313.py:68: UserWarning: pandas only supports SQLAlchemy connectable (engine/connection) or database string URI or sqlite3 DBAPI2 connection. Other DBAPI2 objects are not tested. Please consider using SQLAlchemy.\n",
      "  df = pd.read_sql(query, self.connection, params=(current_datetime,))\n",
      "C:\\Users\\Basavaraj\\AppData\\Local\\Temp\\ipykernel_15564\\3907896313.py:40: UserWarning: pandas only supports SQLAlchemy connectable (engine/connection) or database string URI or sqlite3 DBAPI2 connection. Other DBAPI2 objects are not tested. Please consider using SQLAlchemy.\n",
      "  schema_df = pd.read_sql(query, self.connection)\n",
      "C:\\Users\\Basavaraj\\AppData\\Local\\Temp\\ipykernel_15564\\3907896313.py:40: UserWarning: pandas only supports SQLAlchemy connectable (engine/connection) or database string URI or sqlite3 DBAPI2 connection. Other DBAPI2 objects are not tested. Please consider using SQLAlchemy.\n",
      "  schema_df = pd.read_sql(query, self.connection)\n",
      "C:\\Users\\Basavaraj\\AppData\\Local\\Temp\\ipykernel_15564\\3907896313.py:40: UserWarning: pandas only supports SQLAlchemy connectable (engine/connection) or database string URI or sqlite3 DBAPI2 connection. Other DBAPI2 objects are not tested. Please consider using SQLAlchemy.\n",
      "  schema_df = pd.read_sql(query, self.connection)\n"
     ]
    },
    {
     "name": "stdout",
     "output_type": "stream",
     "text": [
      "Fetched schema with data types successfully.\n",
      "Fetched schema with data types successfully.\n",
      "Fetched schema with data types successfully.\n",
      "Fetched unique values for bug_id: []\n",
      "Fetching unique values for classification_id in issues for date: 10-21-2024 12:00\n",
      "Fetched schema with data types successfully.\n",
      "Fetched schema with data types successfully.\n",
      "Fetched schema with data types successfully.\n"
     ]
    },
    {
     "name": "stderr",
     "output_type": "stream",
     "text": [
      "C:\\Users\\Basavaraj\\AppData\\Local\\Temp\\ipykernel_15564\\3907896313.py:68: UserWarning: pandas only supports SQLAlchemy connectable (engine/connection) or database string URI or sqlite3 DBAPI2 connection. Other DBAPI2 objects are not tested. Please consider using SQLAlchemy.\n",
      "  df = pd.read_sql(query, self.connection, params=(current_datetime,))\n",
      "C:\\Users\\Basavaraj\\AppData\\Local\\Temp\\ipykernel_15564\\3907896313.py:40: UserWarning: pandas only supports SQLAlchemy connectable (engine/connection) or database string URI or sqlite3 DBAPI2 connection. Other DBAPI2 objects are not tested. Please consider using SQLAlchemy.\n",
      "  schema_df = pd.read_sql(query, self.connection)\n",
      "C:\\Users\\Basavaraj\\AppData\\Local\\Temp\\ipykernel_15564\\3907896313.py:40: UserWarning: pandas only supports SQLAlchemy connectable (engine/connection) or database string URI or sqlite3 DBAPI2 connection. Other DBAPI2 objects are not tested. Please consider using SQLAlchemy.\n",
      "  schema_df = pd.read_sql(query, self.connection)\n",
      "C:\\Users\\Basavaraj\\AppData\\Local\\Temp\\ipykernel_15564\\3907896313.py:40: UserWarning: pandas only supports SQLAlchemy connectable (engine/connection) or database string URI or sqlite3 DBAPI2 connection. Other DBAPI2 objects are not tested. Please consider using SQLAlchemy.\n",
      "  schema_df = pd.read_sql(query, self.connection)\n",
      "C:\\Users\\Basavaraj\\AppData\\Local\\Temp\\ipykernel_15564\\3907896313.py:68: UserWarning: pandas only supports SQLAlchemy connectable (engine/connection) or database string URI or sqlite3 DBAPI2 connection. Other DBAPI2 objects are not tested. Please consider using SQLAlchemy.\n",
      "  df = pd.read_sql(query, self.connection, params=(current_datetime,))\n",
      "C:\\Users\\Basavaraj\\AppData\\Local\\Temp\\ipykernel_15564\\3907896313.py:40: UserWarning: pandas only supports SQLAlchemy connectable (engine/connection) or database string URI or sqlite3 DBAPI2 connection. Other DBAPI2 objects are not tested. Please consider using SQLAlchemy.\n",
      "  schema_df = pd.read_sql(query, self.connection)\n",
      "C:\\Users\\Basavaraj\\AppData\\Local\\Temp\\ipykernel_15564\\3907896313.py:40: UserWarning: pandas only supports SQLAlchemy connectable (engine/connection) or database string URI or sqlite3 DBAPI2 connection. Other DBAPI2 objects are not tested. Please consider using SQLAlchemy.\n",
      "  schema_df = pd.read_sql(query, self.connection)\n"
     ]
    },
    {
     "name": "stdout",
     "output_type": "stream",
     "text": [
      "Fetched unique values for classification_id: []\n",
      "Fetching unique values for reproducible in issues for date: 10-21-2024 12:00\n",
      "Fetched schema with data types successfully.\n",
      "Fetched schema with data types successfully.\n",
      "Fetched schema with data types successfully.\n",
      "Fetched unique values for reproducible: []\n",
      "Fetching unique values for reporter_id in issues for date: 10-21-2024 12:00\n",
      "Fetched schema with data types successfully.\n",
      "Fetched schema with data types successfully.\n",
      "Fetched schema with data types successfully.\n",
      "Fetched unique values for reporter_id: []\n",
      "Fetching unique values for planned_days in issues for date: 10-21-2024 12:00\n",
      "Fetched schema with data types successfully.\n",
      "Fetched schema with data types successfully.\n",
      "Fetched schema with data types successfully.\n",
      "Fetched unique values for planned_days: []\n",
      "Fetching unique values for milestone_id in issues for date: 10-21-2024 12:00\n",
      "Fetched schema with data types successfully.\n"
     ]
    },
    {
     "name": "stderr",
     "output_type": "stream",
     "text": [
      "C:\\Users\\Basavaraj\\AppData\\Local\\Temp\\ipykernel_15564\\3907896313.py:40: UserWarning: pandas only supports SQLAlchemy connectable (engine/connection) or database string URI or sqlite3 DBAPI2 connection. Other DBAPI2 objects are not tested. Please consider using SQLAlchemy.\n",
      "  schema_df = pd.read_sql(query, self.connection)\n",
      "C:\\Users\\Basavaraj\\AppData\\Local\\Temp\\ipykernel_15564\\3907896313.py:68: UserWarning: pandas only supports SQLAlchemy connectable (engine/connection) or database string URI or sqlite3 DBAPI2 connection. Other DBAPI2 objects are not tested. Please consider using SQLAlchemy.\n",
      "  df = pd.read_sql(query, self.connection, params=(current_datetime,))\n",
      "C:\\Users\\Basavaraj\\AppData\\Local\\Temp\\ipykernel_15564\\3907896313.py:40: UserWarning: pandas only supports SQLAlchemy connectable (engine/connection) or database string URI or sqlite3 DBAPI2 connection. Other DBAPI2 objects are not tested. Please consider using SQLAlchemy.\n",
      "  schema_df = pd.read_sql(query, self.connection)\n",
      "C:\\Users\\Basavaraj\\AppData\\Local\\Temp\\ipykernel_15564\\3907896313.py:40: UserWarning: pandas only supports SQLAlchemy connectable (engine/connection) or database string URI or sqlite3 DBAPI2 connection. Other DBAPI2 objects are not tested. Please consider using SQLAlchemy.\n",
      "  schema_df = pd.read_sql(query, self.connection)\n",
      "C:\\Users\\Basavaraj\\AppData\\Local\\Temp\\ipykernel_15564\\3907896313.py:40: UserWarning: pandas only supports SQLAlchemy connectable (engine/connection) or database string URI or sqlite3 DBAPI2 connection. Other DBAPI2 objects are not tested. Please consider using SQLAlchemy.\n",
      "  schema_df = pd.read_sql(query, self.connection)\n",
      "C:\\Users\\Basavaraj\\AppData\\Local\\Temp\\ipykernel_15564\\3907896313.py:68: UserWarning: pandas only supports SQLAlchemy connectable (engine/connection) or database string URI or sqlite3 DBAPI2 connection. Other DBAPI2 objects are not tested. Please consider using SQLAlchemy.\n",
      "  df = pd.read_sql(query, self.connection, params=(current_datetime,))\n",
      "C:\\Users\\Basavaraj\\AppData\\Local\\Temp\\ipykernel_15564\\3907896313.py:40: UserWarning: pandas only supports SQLAlchemy connectable (engine/connection) or database string URI or sqlite3 DBAPI2 connection. Other DBAPI2 objects are not tested. Please consider using SQLAlchemy.\n",
      "  schema_df = pd.read_sql(query, self.connection)\n",
      "C:\\Users\\Basavaraj\\AppData\\Local\\Temp\\ipykernel_15564\\3907896313.py:40: UserWarning: pandas only supports SQLAlchemy connectable (engine/connection) or database string URI or sqlite3 DBAPI2 connection. Other DBAPI2 objects are not tested. Please consider using SQLAlchemy.\n",
      "  schema_df = pd.read_sql(query, self.connection)\n",
      "C:\\Users\\Basavaraj\\AppData\\Local\\Temp\\ipykernel_15564\\3907896313.py:40: UserWarning: pandas only supports SQLAlchemy connectable (engine/connection) or database string URI or sqlite3 DBAPI2 connection. Other DBAPI2 objects are not tested. Please consider using SQLAlchemy.\n",
      "  schema_df = pd.read_sql(query, self.connection)\n",
      "C:\\Users\\Basavaraj\\AppData\\Local\\Temp\\ipykernel_15564\\3907896313.py:68: UserWarning: pandas only supports SQLAlchemy connectable (engine/connection) or database string URI or sqlite3 DBAPI2 connection. Other DBAPI2 objects are not tested. Please consider using SQLAlchemy.\n",
      "  df = pd.read_sql(query, self.connection, params=(current_datetime,))\n",
      "C:\\Users\\Basavaraj\\AppData\\Local\\Temp\\ipykernel_15564\\3907896313.py:40: UserWarning: pandas only supports SQLAlchemy connectable (engine/connection) or database string URI or sqlite3 DBAPI2 connection. Other DBAPI2 objects are not tested. Please consider using SQLAlchemy.\n",
      "  schema_df = pd.read_sql(query, self.connection)\n",
      "C:\\Users\\Basavaraj\\AppData\\Local\\Temp\\ipykernel_15564\\3907896313.py:40: UserWarning: pandas only supports SQLAlchemy connectable (engine/connection) or database string URI or sqlite3 DBAPI2 connection. Other DBAPI2 objects are not tested. Please consider using SQLAlchemy.\n",
      "  schema_df = pd.read_sql(query, self.connection)\n",
      "C:\\Users\\Basavaraj\\AppData\\Local\\Temp\\ipykernel_15564\\3907896313.py:40: UserWarning: pandas only supports SQLAlchemy connectable (engine/connection) or database string URI or sqlite3 DBAPI2 connection. Other DBAPI2 objects are not tested. Please consider using SQLAlchemy.\n",
      "  schema_df = pd.read_sql(query, self.connection)\n",
      "C:\\Users\\Basavaraj\\AppData\\Local\\Temp\\ipykernel_15564\\3907896313.py:68: UserWarning: pandas only supports SQLAlchemy connectable (engine/connection) or database string URI or sqlite3 DBAPI2 connection. Other DBAPI2 objects are not tested. Please consider using SQLAlchemy.\n",
      "  df = pd.read_sql(query, self.connection, params=(current_datetime,))\n",
      "C:\\Users\\Basavaraj\\AppData\\Local\\Temp\\ipykernel_15564\\3907896313.py:40: UserWarning: pandas only supports SQLAlchemy connectable (engine/connection) or database string URI or sqlite3 DBAPI2 connection. Other DBAPI2 objects are not tested. Please consider using SQLAlchemy.\n",
      "  schema_df = pd.read_sql(query, self.connection)\n"
     ]
    },
    {
     "name": "stdout",
     "output_type": "stream",
     "text": [
      "Fetched schema with data types successfully.\n",
      "Fetched schema with data types successfully.\n",
      "Fetched unique values for milestone_id: []\n",
      "Fetching unique values for bug_title in issues for date: 10-21-2024 12:00\n",
      "Fetched schema with data types successfully.\n",
      "Fetched schema with data types successfully.\n",
      "Fetched schema with data types successfully.\n",
      "Fetched unique values for bug_title: []\n",
      "Fetching unique values for reproducible_id in issues for date: 10-21-2024 12:00\n",
      "Fetched schema with data types successfully.\n",
      "Fetched schema with data types successfully.\n",
      "Fetched schema with data types successfully.\n",
      "Fetched unique values for reproducible_id: []\n",
      "Fetching unique values for skill in milestones for date: 10-21-2024 12:00\n",
      "Fetched schema with data types successfully.\n",
      "Fetched schema with data types successfully.\n"
     ]
    },
    {
     "name": "stderr",
     "output_type": "stream",
     "text": [
      "C:\\Users\\Basavaraj\\AppData\\Local\\Temp\\ipykernel_15564\\3907896313.py:40: UserWarning: pandas only supports SQLAlchemy connectable (engine/connection) or database string URI or sqlite3 DBAPI2 connection. Other DBAPI2 objects are not tested. Please consider using SQLAlchemy.\n",
      "  schema_df = pd.read_sql(query, self.connection)\n",
      "C:\\Users\\Basavaraj\\AppData\\Local\\Temp\\ipykernel_15564\\3907896313.py:40: UserWarning: pandas only supports SQLAlchemy connectable (engine/connection) or database string URI or sqlite3 DBAPI2 connection. Other DBAPI2 objects are not tested. Please consider using SQLAlchemy.\n",
      "  schema_df = pd.read_sql(query, self.connection)\n",
      "C:\\Users\\Basavaraj\\AppData\\Local\\Temp\\ipykernel_15564\\3907896313.py:68: UserWarning: pandas only supports SQLAlchemy connectable (engine/connection) or database string URI or sqlite3 DBAPI2 connection. Other DBAPI2 objects are not tested. Please consider using SQLAlchemy.\n",
      "  df = pd.read_sql(query, self.connection, params=(current_datetime,))\n",
      "C:\\Users\\Basavaraj\\AppData\\Local\\Temp\\ipykernel_15564\\3907896313.py:40: UserWarning: pandas only supports SQLAlchemy connectable (engine/connection) or database string URI or sqlite3 DBAPI2 connection. Other DBAPI2 objects are not tested. Please consider using SQLAlchemy.\n",
      "  schema_df = pd.read_sql(query, self.connection)\n",
      "C:\\Users\\Basavaraj\\AppData\\Local\\Temp\\ipykernel_15564\\3907896313.py:40: UserWarning: pandas only supports SQLAlchemy connectable (engine/connection) or database string URI or sqlite3 DBAPI2 connection. Other DBAPI2 objects are not tested. Please consider using SQLAlchemy.\n",
      "  schema_df = pd.read_sql(query, self.connection)\n",
      "C:\\Users\\Basavaraj\\AppData\\Local\\Temp\\ipykernel_15564\\3907896313.py:40: UserWarning: pandas only supports SQLAlchemy connectable (engine/connection) or database string URI or sqlite3 DBAPI2 connection. Other DBAPI2 objects are not tested. Please consider using SQLAlchemy.\n",
      "  schema_df = pd.read_sql(query, self.connection)\n"
     ]
    },
    {
     "name": "stdout",
     "output_type": "stream",
     "text": [
      "Fetched schema with data types successfully.\n",
      "Fetched unique values for skill: []\n",
      "Fetching unique values for delay_percentage in milestones for date: 10-21-2024 12:00\n",
      "Fetched schema with data types successfully.\n",
      "Fetched schema with data types successfully.\n",
      "Fetched schema with data types successfully.\n",
      "Fetched unique values for delay_percentage: []\n",
      "Fetching unique values for status in milestones for date: 10-21-2024 12:00\n"
     ]
    },
    {
     "name": "stderr",
     "output_type": "stream",
     "text": [
      "C:\\Users\\Basavaraj\\AppData\\Local\\Temp\\ipykernel_15564\\3907896313.py:68: UserWarning: pandas only supports SQLAlchemy connectable (engine/connection) or database string URI or sqlite3 DBAPI2 connection. Other DBAPI2 objects are not tested. Please consider using SQLAlchemy.\n",
      "  df = pd.read_sql(query, self.connection, params=(current_datetime,))\n",
      "C:\\Users\\Basavaraj\\AppData\\Local\\Temp\\ipykernel_15564\\3907896313.py:40: UserWarning: pandas only supports SQLAlchemy connectable (engine/connection) or database string URI or sqlite3 DBAPI2 connection. Other DBAPI2 objects are not tested. Please consider using SQLAlchemy.\n",
      "  schema_df = pd.read_sql(query, self.connection)\n",
      "C:\\Users\\Basavaraj\\AppData\\Local\\Temp\\ipykernel_15564\\3907896313.py:40: UserWarning: pandas only supports SQLAlchemy connectable (engine/connection) or database string URI or sqlite3 DBAPI2 connection. Other DBAPI2 objects are not tested. Please consider using SQLAlchemy.\n",
      "  schema_df = pd.read_sql(query, self.connection)\n",
      "C:\\Users\\Basavaraj\\AppData\\Local\\Temp\\ipykernel_15564\\3907896313.py:40: UserWarning: pandas only supports SQLAlchemy connectable (engine/connection) or database string URI or sqlite3 DBAPI2 connection. Other DBAPI2 objects are not tested. Please consider using SQLAlchemy.\n",
      "  schema_df = pd.read_sql(query, self.connection)\n",
      "C:\\Users\\Basavaraj\\AppData\\Local\\Temp\\ipykernel_15564\\3907896313.py:68: UserWarning: pandas only supports SQLAlchemy connectable (engine/connection) or database string URI or sqlite3 DBAPI2 connection. Other DBAPI2 objects are not tested. Please consider using SQLAlchemy.\n",
      "  df = pd.read_sql(query, self.connection, params=(current_datetime,))\n",
      "C:\\Users\\Basavaraj\\AppData\\Local\\Temp\\ipykernel_15564\\3907896313.py:40: UserWarning: pandas only supports SQLAlchemy connectable (engine/connection) or database string URI or sqlite3 DBAPI2 connection. Other DBAPI2 objects are not tested. Please consider using SQLAlchemy.\n",
      "  schema_df = pd.read_sql(query, self.connection)\n"
     ]
    },
    {
     "name": "stdout",
     "output_type": "stream",
     "text": [
      "Fetched schema with data types successfully.\n",
      "Fetched schema with data types successfully.\n",
      "Fetched schema with data types successfully.\n",
      "Fetched unique values for status: []\n",
      "Fetching unique values for milestone_value in milestones for date: 10-21-2024 12:00\n",
      "Fetched schema with data types successfully.\n",
      "Fetched schema with data types successfully.\n"
     ]
    },
    {
     "name": "stderr",
     "output_type": "stream",
     "text": [
      "C:\\Users\\Basavaraj\\AppData\\Local\\Temp\\ipykernel_15564\\3907896313.py:40: UserWarning: pandas only supports SQLAlchemy connectable (engine/connection) or database string URI or sqlite3 DBAPI2 connection. Other DBAPI2 objects are not tested. Please consider using SQLAlchemy.\n",
      "  schema_df = pd.read_sql(query, self.connection)\n",
      "C:\\Users\\Basavaraj\\AppData\\Local\\Temp\\ipykernel_15564\\3907896313.py:40: UserWarning: pandas only supports SQLAlchemy connectable (engine/connection) or database string URI or sqlite3 DBAPI2 connection. Other DBAPI2 objects are not tested. Please consider using SQLAlchemy.\n",
      "  schema_df = pd.read_sql(query, self.connection)\n",
      "C:\\Users\\Basavaraj\\AppData\\Local\\Temp\\ipykernel_15564\\3907896313.py:68: UserWarning: pandas only supports SQLAlchemy connectable (engine/connection) or database string URI or sqlite3 DBAPI2 connection. Other DBAPI2 objects are not tested. Please consider using SQLAlchemy.\n",
      "  df = pd.read_sql(query, self.connection, params=(current_datetime,))\n",
      "C:\\Users\\Basavaraj\\AppData\\Local\\Temp\\ipykernel_15564\\3907896313.py:40: UserWarning: pandas only supports SQLAlchemy connectable (engine/connection) or database string URI or sqlite3 DBAPI2 connection. Other DBAPI2 objects are not tested. Please consider using SQLAlchemy.\n",
      "  schema_df = pd.read_sql(query, self.connection)\n",
      "C:\\Users\\Basavaraj\\AppData\\Local\\Temp\\ipykernel_15564\\3907896313.py:40: UserWarning: pandas only supports SQLAlchemy connectable (engine/connection) or database string URI or sqlite3 DBAPI2 connection. Other DBAPI2 objects are not tested. Please consider using SQLAlchemy.\n",
      "  schema_df = pd.read_sql(query, self.connection)\n",
      "C:\\Users\\Basavaraj\\AppData\\Local\\Temp\\ipykernel_15564\\3907896313.py:40: UserWarning: pandas only supports SQLAlchemy connectable (engine/connection) or database string URI or sqlite3 DBAPI2 connection. Other DBAPI2 objects are not tested. Please consider using SQLAlchemy.\n",
      "  schema_df = pd.read_sql(query, self.connection)\n"
     ]
    },
    {
     "name": "stdout",
     "output_type": "stream",
     "text": [
      "Fetched schema with data types successfully.\n",
      "Fetched unique values for milestone_value: []\n",
      "Fetching unique values for project_id in milestones for date: 10-21-2024 12:00\n",
      "Fetched schema with data types successfully.\n",
      "Fetched schema with data types successfully.\n",
      "Fetched schema with data types successfully.\n",
      "Fetched unique values for project_id: []\n",
      "Fetching unique values for commitment_type in milestones for date: 10-21-2024 12:00\n",
      "Fetched schema with data types successfully.\n"
     ]
    },
    {
     "name": "stderr",
     "output_type": "stream",
     "text": [
      "C:\\Users\\Basavaraj\\AppData\\Local\\Temp\\ipykernel_15564\\3907896313.py:68: UserWarning: pandas only supports SQLAlchemy connectable (engine/connection) or database string URI or sqlite3 DBAPI2 connection. Other DBAPI2 objects are not tested. Please consider using SQLAlchemy.\n",
      "  df = pd.read_sql(query, self.connection, params=(current_datetime,))\n",
      "C:\\Users\\Basavaraj\\AppData\\Local\\Temp\\ipykernel_15564\\3907896313.py:40: UserWarning: pandas only supports SQLAlchemy connectable (engine/connection) or database string URI or sqlite3 DBAPI2 connection. Other DBAPI2 objects are not tested. Please consider using SQLAlchemy.\n",
      "  schema_df = pd.read_sql(query, self.connection)\n",
      "C:\\Users\\Basavaraj\\AppData\\Local\\Temp\\ipykernel_15564\\3907896313.py:40: UserWarning: pandas only supports SQLAlchemy connectable (engine/connection) or database string URI or sqlite3 DBAPI2 connection. Other DBAPI2 objects are not tested. Please consider using SQLAlchemy.\n",
      "  schema_df = pd.read_sql(query, self.connection)\n",
      "C:\\Users\\Basavaraj\\AppData\\Local\\Temp\\ipykernel_15564\\3907896313.py:40: UserWarning: pandas only supports SQLAlchemy connectable (engine/connection) or database string URI or sqlite3 DBAPI2 connection. Other DBAPI2 objects are not tested. Please consider using SQLAlchemy.\n",
      "  schema_df = pd.read_sql(query, self.connection)\n",
      "C:\\Users\\Basavaraj\\AppData\\Local\\Temp\\ipykernel_15564\\3907896313.py:68: UserWarning: pandas only supports SQLAlchemy connectable (engine/connection) or database string URI or sqlite3 DBAPI2 connection. Other DBAPI2 objects are not tested. Please consider using SQLAlchemy.\n",
      "  df = pd.read_sql(query, self.connection, params=(current_datetime,))\n",
      "C:\\Users\\Basavaraj\\AppData\\Local\\Temp\\ipykernel_15564\\3907896313.py:40: UserWarning: pandas only supports SQLAlchemy connectable (engine/connection) or database string URI or sqlite3 DBAPI2 connection. Other DBAPI2 objects are not tested. Please consider using SQLAlchemy.\n",
      "  schema_df = pd.read_sql(query, self.connection)\n",
      "C:\\Users\\Basavaraj\\AppData\\Local\\Temp\\ipykernel_15564\\3907896313.py:40: UserWarning: pandas only supports SQLAlchemy connectable (engine/connection) or database string URI or sqlite3 DBAPI2 connection. Other DBAPI2 objects are not tested. Please consider using SQLAlchemy.\n",
      "  schema_df = pd.read_sql(query, self.connection)\n"
     ]
    },
    {
     "name": "stdout",
     "output_type": "stream",
     "text": [
      "Fetched schema with data types successfully.\n",
      "Fetched schema with data types successfully.\n",
      "Fetched unique values for commitment_type: []\n",
      "Fetching unique values for owner_id in milestones for date: 10-21-2024 12:00\n",
      "Fetched schema with data types successfully.\n",
      "Fetched schema with data types successfully.\n",
      "Fetched schema with data types successfully.\n",
      "Fetched unique values for owner_id: []\n",
      "Fetching unique values for milestone_id in milestones for date: 10-21-2024 12:00\n"
     ]
    },
    {
     "name": "stderr",
     "output_type": "stream",
     "text": [
      "C:\\Users\\Basavaraj\\AppData\\Local\\Temp\\ipykernel_15564\\3907896313.py:40: UserWarning: pandas only supports SQLAlchemy connectable (engine/connection) or database string URI or sqlite3 DBAPI2 connection. Other DBAPI2 objects are not tested. Please consider using SQLAlchemy.\n",
      "  schema_df = pd.read_sql(query, self.connection)\n",
      "C:\\Users\\Basavaraj\\AppData\\Local\\Temp\\ipykernel_15564\\3907896313.py:68: UserWarning: pandas only supports SQLAlchemy connectable (engine/connection) or database string URI or sqlite3 DBAPI2 connection. Other DBAPI2 objects are not tested. Please consider using SQLAlchemy.\n",
      "  df = pd.read_sql(query, self.connection, params=(current_datetime,))\n",
      "C:\\Users\\Basavaraj\\AppData\\Local\\Temp\\ipykernel_15564\\3907896313.py:40: UserWarning: pandas only supports SQLAlchemy connectable (engine/connection) or database string URI or sqlite3 DBAPI2 connection. Other DBAPI2 objects are not tested. Please consider using SQLAlchemy.\n",
      "  schema_df = pd.read_sql(query, self.connection)\n",
      "C:\\Users\\Basavaraj\\AppData\\Local\\Temp\\ipykernel_15564\\3907896313.py:40: UserWarning: pandas only supports SQLAlchemy connectable (engine/connection) or database string URI or sqlite3 DBAPI2 connection. Other DBAPI2 objects are not tested. Please consider using SQLAlchemy.\n",
      "  schema_df = pd.read_sql(query, self.connection)\n",
      "C:\\Users\\Basavaraj\\AppData\\Local\\Temp\\ipykernel_15564\\3907896313.py:40: UserWarning: pandas only supports SQLAlchemy connectable (engine/connection) or database string URI or sqlite3 DBAPI2 connection. Other DBAPI2 objects are not tested. Please consider using SQLAlchemy.\n",
      "  schema_df = pd.read_sql(query, self.connection)\n",
      "C:\\Users\\Basavaraj\\AppData\\Local\\Temp\\ipykernel_15564\\3907896313.py:68: UserWarning: pandas only supports SQLAlchemy connectable (engine/connection) or database string URI or sqlite3 DBAPI2 connection. Other DBAPI2 objects are not tested. Please consider using SQLAlchemy.\n",
      "  df = pd.read_sql(query, self.connection, params=(current_datetime,))\n",
      "C:\\Users\\Basavaraj\\AppData\\Local\\Temp\\ipykernel_15564\\3907896313.py:40: UserWarning: pandas only supports SQLAlchemy connectable (engine/connection) or database string URI or sqlite3 DBAPI2 connection. Other DBAPI2 objects are not tested. Please consider using SQLAlchemy.\n",
      "  schema_df = pd.read_sql(query, self.connection)\n"
     ]
    },
    {
     "name": "stdout",
     "output_type": "stream",
     "text": [
      "Fetched schema with data types successfully.\n",
      "Fetched schema with data types successfully.\n",
      "Fetched schema with data types successfully.\n",
      "Fetched unique values for milestone_id: []\n",
      "Fetching unique values for project_name in milestones for date: 10-21-2024 12:00\n",
      "Fetched schema with data types successfully.\n",
      "Fetched schema with data types successfully.\n",
      "Fetched schema with data types successfully.\n"
     ]
    },
    {
     "name": "stderr",
     "output_type": "stream",
     "text": [
      "C:\\Users\\Basavaraj\\AppData\\Local\\Temp\\ipykernel_15564\\3907896313.py:40: UserWarning: pandas only supports SQLAlchemy connectable (engine/connection) or database string URI or sqlite3 DBAPI2 connection. Other DBAPI2 objects are not tested. Please consider using SQLAlchemy.\n",
      "  schema_df = pd.read_sql(query, self.connection)\n",
      "C:\\Users\\Basavaraj\\AppData\\Local\\Temp\\ipykernel_15564\\3907896313.py:40: UserWarning: pandas only supports SQLAlchemy connectable (engine/connection) or database string URI or sqlite3 DBAPI2 connection. Other DBAPI2 objects are not tested. Please consider using SQLAlchemy.\n",
      "  schema_df = pd.read_sql(query, self.connection)\n",
      "C:\\Users\\Basavaraj\\AppData\\Local\\Temp\\ipykernel_15564\\3907896313.py:68: UserWarning: pandas only supports SQLAlchemy connectable (engine/connection) or database string URI or sqlite3 DBAPI2 connection. Other DBAPI2 objects are not tested. Please consider using SQLAlchemy.\n",
      "  df = pd.read_sql(query, self.connection, params=(current_datetime,))\n",
      "C:\\Users\\Basavaraj\\AppData\\Local\\Temp\\ipykernel_15564\\3907896313.py:40: UserWarning: pandas only supports SQLAlchemy connectable (engine/connection) or database string URI or sqlite3 DBAPI2 connection. Other DBAPI2 objects are not tested. Please consider using SQLAlchemy.\n",
      "  schema_df = pd.read_sql(query, self.connection)\n",
      "C:\\Users\\Basavaraj\\AppData\\Local\\Temp\\ipykernel_15564\\3907896313.py:40: UserWarning: pandas only supports SQLAlchemy connectable (engine/connection) or database string URI or sqlite3 DBAPI2 connection. Other DBAPI2 objects are not tested. Please consider using SQLAlchemy.\n",
      "  schema_df = pd.read_sql(query, self.connection)\n",
      "C:\\Users\\Basavaraj\\AppData\\Local\\Temp\\ipykernel_15564\\3907896313.py:40: UserWarning: pandas only supports SQLAlchemy connectable (engine/connection) or database string URI or sqlite3 DBAPI2 connection. Other DBAPI2 objects are not tested. Please consider using SQLAlchemy.\n",
      "  schema_df = pd.read_sql(query, self.connection)\n",
      "C:\\Users\\Basavaraj\\AppData\\Local\\Temp\\ipykernel_15564\\3907896313.py:68: UserWarning: pandas only supports SQLAlchemy connectable (engine/connection) or database string URI or sqlite3 DBAPI2 connection. Other DBAPI2 objects are not tested. Please consider using SQLAlchemy.\n",
      "  df = pd.read_sql(query, self.connection, params=(current_datetime,))\n",
      "C:\\Users\\Basavaraj\\AppData\\Local\\Temp\\ipykernel_15564\\3907896313.py:40: UserWarning: pandas only supports SQLAlchemy connectable (engine/connection) or database string URI or sqlite3 DBAPI2 connection. Other DBAPI2 objects are not tested. Please consider using SQLAlchemy.\n",
      "  schema_df = pd.read_sql(query, self.connection)\n",
      "C:\\Users\\Basavaraj\\AppData\\Local\\Temp\\ipykernel_15564\\3907896313.py:40: UserWarning: pandas only supports SQLAlchemy connectable (engine/connection) or database string URI or sqlite3 DBAPI2 connection. Other DBAPI2 objects are not tested. Please consider using SQLAlchemy.\n",
      "  schema_df = pd.read_sql(query, self.connection)\n",
      "C:\\Users\\Basavaraj\\AppData\\Local\\Temp\\ipykernel_15564\\3907896313.py:40: UserWarning: pandas only supports SQLAlchemy connectable (engine/connection) or database string URI or sqlite3 DBAPI2 connection. Other DBAPI2 objects are not tested. Please consider using SQLAlchemy.\n",
      "  schema_df = pd.read_sql(query, self.connection)\n",
      "C:\\Users\\Basavaraj\\AppData\\Local\\Temp\\ipykernel_15564\\3907896313.py:68: UserWarning: pandas only supports SQLAlchemy connectable (engine/connection) or database string URI or sqlite3 DBAPI2 connection. Other DBAPI2 objects are not tested. Please consider using SQLAlchemy.\n",
      "  df = pd.read_sql(query, self.connection, params=(current_datetime,))\n",
      "C:\\Users\\Basavaraj\\AppData\\Local\\Temp\\ipykernel_15564\\3907896313.py:40: UserWarning: pandas only supports SQLAlchemy connectable (engine/connection) or database string URI or sqlite3 DBAPI2 connection. Other DBAPI2 objects are not tested. Please consider using SQLAlchemy.\n",
      "  schema_df = pd.read_sql(query, self.connection)\n",
      "C:\\Users\\Basavaraj\\AppData\\Local\\Temp\\ipykernel_15564\\3907896313.py:40: UserWarning: pandas only supports SQLAlchemy connectable (engine/connection) or database string URI or sqlite3 DBAPI2 connection. Other DBAPI2 objects are not tested. Please consider using SQLAlchemy.\n",
      "  schema_df = pd.read_sql(query, self.connection)\n"
     ]
    },
    {
     "name": "stdout",
     "output_type": "stream",
     "text": [
      "Fetched unique values for project_name: []\n",
      "Fetching unique values for if_others in milestones for date: 10-21-2024 12:00\n",
      "Fetched schema with data types successfully.\n",
      "Fetched schema with data types successfully.\n",
      "Fetched schema with data types successfully.\n",
      "Fetched unique values for if_others: []\n",
      "Fetching unique values for milestone_id_string in milestones for date: 10-21-2024 12:00\n",
      "Fetched schema with data types successfully.\n",
      "Fetched schema with data types successfully.\n",
      "Fetched schema with data types successfully.\n",
      "Fetched unique values for milestone_id_string: []\n",
      "Fetching unique values for application in milestones for date: 10-21-2024 12:00\n",
      "Fetched schema with data types successfully.\n",
      "Fetched schema with data types successfully.\n",
      "Fetched schema with data types successfully.\n",
      "Fetched unique values for application: []\n",
      "Fetching unique values for duration in milestones for date: 10-21-2024 12:00\n"
     ]
    },
    {
     "name": "stderr",
     "output_type": "stream",
     "text": [
      "C:\\Users\\Basavaraj\\AppData\\Local\\Temp\\ipykernel_15564\\3907896313.py:40: UserWarning: pandas only supports SQLAlchemy connectable (engine/connection) or database string URI or sqlite3 DBAPI2 connection. Other DBAPI2 objects are not tested. Please consider using SQLAlchemy.\n",
      "  schema_df = pd.read_sql(query, self.connection)\n",
      "C:\\Users\\Basavaraj\\AppData\\Local\\Temp\\ipykernel_15564\\3907896313.py:68: UserWarning: pandas only supports SQLAlchemy connectable (engine/connection) or database string URI or sqlite3 DBAPI2 connection. Other DBAPI2 objects are not tested. Please consider using SQLAlchemy.\n",
      "  df = pd.read_sql(query, self.connection, params=(current_datetime,))\n",
      "C:\\Users\\Basavaraj\\AppData\\Local\\Temp\\ipykernel_15564\\3907896313.py:40: UserWarning: pandas only supports SQLAlchemy connectable (engine/connection) or database string URI or sqlite3 DBAPI2 connection. Other DBAPI2 objects are not tested. Please consider using SQLAlchemy.\n",
      "  schema_df = pd.read_sql(query, self.connection)\n",
      "C:\\Users\\Basavaraj\\AppData\\Local\\Temp\\ipykernel_15564\\3907896313.py:40: UserWarning: pandas only supports SQLAlchemy connectable (engine/connection) or database string URI or sqlite3 DBAPI2 connection. Other DBAPI2 objects are not tested. Please consider using SQLAlchemy.\n",
      "  schema_df = pd.read_sql(query, self.connection)\n",
      "C:\\Users\\Basavaraj\\AppData\\Local\\Temp\\ipykernel_15564\\3907896313.py:40: UserWarning: pandas only supports SQLAlchemy connectable (engine/connection) or database string URI or sqlite3 DBAPI2 connection. Other DBAPI2 objects are not tested. Please consider using SQLAlchemy.\n",
      "  schema_df = pd.read_sql(query, self.connection)\n",
      "C:\\Users\\Basavaraj\\AppData\\Local\\Temp\\ipykernel_15564\\3907896313.py:68: UserWarning: pandas only supports SQLAlchemy connectable (engine/connection) or database string URI or sqlite3 DBAPI2 connection. Other DBAPI2 objects are not tested. Please consider using SQLAlchemy.\n",
      "  df = pd.read_sql(query, self.connection, params=(current_datetime,))\n",
      "C:\\Users\\Basavaraj\\AppData\\Local\\Temp\\ipykernel_15564\\3907896313.py:40: UserWarning: pandas only supports SQLAlchemy connectable (engine/connection) or database string URI or sqlite3 DBAPI2 connection. Other DBAPI2 objects are not tested. Please consider using SQLAlchemy.\n",
      "  schema_df = pd.read_sql(query, self.connection)\n"
     ]
    },
    {
     "name": "stdout",
     "output_type": "stream",
     "text": [
      "Fetched schema with data types successfully.\n",
      "Fetched schema with data types successfully.\n",
      "Fetched schema with data types successfully.\n",
      "Fetched unique values for duration: []\n",
      "Fetching unique values for milestone_name in milestones for date: 10-21-2024 12:00\n"
     ]
    },
    {
     "name": "stderr",
     "output_type": "stream",
     "text": [
      "C:\\Users\\Basavaraj\\AppData\\Local\\Temp\\ipykernel_15564\\3907896313.py:40: UserWarning: pandas only supports SQLAlchemy connectable (engine/connection) or database string URI or sqlite3 DBAPI2 connection. Other DBAPI2 objects are not tested. Please consider using SQLAlchemy.\n",
      "  schema_df = pd.read_sql(query, self.connection)\n",
      "C:\\Users\\Basavaraj\\AppData\\Local\\Temp\\ipykernel_15564\\3907896313.py:40: UserWarning: pandas only supports SQLAlchemy connectable (engine/connection) or database string URI or sqlite3 DBAPI2 connection. Other DBAPI2 objects are not tested. Please consider using SQLAlchemy.\n",
      "  schema_df = pd.read_sql(query, self.connection)\n",
      "C:\\Users\\Basavaraj\\AppData\\Local\\Temp\\ipykernel_15564\\3907896313.py:68: UserWarning: pandas only supports SQLAlchemy connectable (engine/connection) or database string URI or sqlite3 DBAPI2 connection. Other DBAPI2 objects are not tested. Please consider using SQLAlchemy.\n",
      "  df = pd.read_sql(query, self.connection, params=(current_datetime,))\n",
      "C:\\Users\\Basavaraj\\AppData\\Local\\Temp\\ipykernel_15564\\3907896313.py:40: UserWarning: pandas only supports SQLAlchemy connectable (engine/connection) or database string URI or sqlite3 DBAPI2 connection. Other DBAPI2 objects are not tested. Please consider using SQLAlchemy.\n",
      "  schema_df = pd.read_sql(query, self.connection)\n"
     ]
    },
    {
     "name": "stdout",
     "output_type": "stream",
     "text": [
      "Fetched schema with data types successfully.\n",
      "Fetched schema with data types successfully.\n",
      "Fetched schema with data types successfully.\n",
      "Fetched unique values for milestone_name: []\n",
      "Fetching unique values for developers_allocate in milestones for date: 10-21-2024 12:00\n",
      "Fetched schema with data types successfully.\n"
     ]
    },
    {
     "name": "stderr",
     "output_type": "stream",
     "text": [
      "C:\\Users\\Basavaraj\\AppData\\Local\\Temp\\ipykernel_15564\\3907896313.py:40: UserWarning: pandas only supports SQLAlchemy connectable (engine/connection) or database string URI or sqlite3 DBAPI2 connection. Other DBAPI2 objects are not tested. Please consider using SQLAlchemy.\n",
      "  schema_df = pd.read_sql(query, self.connection)\n",
      "C:\\Users\\Basavaraj\\AppData\\Local\\Temp\\ipykernel_15564\\3907896313.py:40: UserWarning: pandas only supports SQLAlchemy connectable (engine/connection) or database string URI or sqlite3 DBAPI2 connection. Other DBAPI2 objects are not tested. Please consider using SQLAlchemy.\n",
      "  schema_df = pd.read_sql(query, self.connection)\n",
      "C:\\Users\\Basavaraj\\AppData\\Local\\Temp\\ipykernel_15564\\3907896313.py:68: UserWarning: pandas only supports SQLAlchemy connectable (engine/connection) or database string URI or sqlite3 DBAPI2 connection. Other DBAPI2 objects are not tested. Please consider using SQLAlchemy.\n",
      "  df = pd.read_sql(query, self.connection, params=(current_datetime,))\n",
      "C:\\Users\\Basavaraj\\AppData\\Local\\Temp\\ipykernel_15564\\3907896313.py:40: UserWarning: pandas only supports SQLAlchemy connectable (engine/connection) or database string URI or sqlite3 DBAPI2 connection. Other DBAPI2 objects are not tested. Please consider using SQLAlchemy.\n",
      "  schema_df = pd.read_sql(query, self.connection)\n",
      "C:\\Users\\Basavaraj\\AppData\\Local\\Temp\\ipykernel_15564\\3907896313.py:40: UserWarning: pandas only supports SQLAlchemy connectable (engine/connection) or database string URI or sqlite3 DBAPI2 connection. Other DBAPI2 objects are not tested. Please consider using SQLAlchemy.\n",
      "  schema_df = pd.read_sql(query, self.connection)\n"
     ]
    },
    {
     "name": "stdout",
     "output_type": "stream",
     "text": [
      "Fetched schema with data types successfully.\n",
      "Fetched schema with data types successfully.\n",
      "Fetched unique values for developers_allocate: []\n",
      "Fetching unique values for milestone_completion_mode in milestones for date: 10-21-2024 12:00\n",
      "Fetched schema with data types successfully.\n",
      "Fetched schema with data types successfully.\n",
      "Fetched schema with data types successfully.\n"
     ]
    },
    {
     "name": "stderr",
     "output_type": "stream",
     "text": [
      "C:\\Users\\Basavaraj\\AppData\\Local\\Temp\\ipykernel_15564\\3907896313.py:40: UserWarning: pandas only supports SQLAlchemy connectable (engine/connection) or database string URI or sqlite3 DBAPI2 connection. Other DBAPI2 objects are not tested. Please consider using SQLAlchemy.\n",
      "  schema_df = pd.read_sql(query, self.connection)\n",
      "C:\\Users\\Basavaraj\\AppData\\Local\\Temp\\ipykernel_15564\\3907896313.py:68: UserWarning: pandas only supports SQLAlchemy connectable (engine/connection) or database string URI or sqlite3 DBAPI2 connection. Other DBAPI2 objects are not tested. Please consider using SQLAlchemy.\n",
      "  df = pd.read_sql(query, self.connection, params=(current_datetime,))\n",
      "C:\\Users\\Basavaraj\\AppData\\Local\\Temp\\ipykernel_15564\\3907896313.py:40: UserWarning: pandas only supports SQLAlchemy connectable (engine/connection) or database string URI or sqlite3 DBAPI2 connection. Other DBAPI2 objects are not tested. Please consider using SQLAlchemy.\n",
      "  schema_df = pd.read_sql(query, self.connection)\n",
      "C:\\Users\\Basavaraj\\AppData\\Local\\Temp\\ipykernel_15564\\3907896313.py:40: UserWarning: pandas only supports SQLAlchemy connectable (engine/connection) or database string URI or sqlite3 DBAPI2 connection. Other DBAPI2 objects are not tested. Please consider using SQLAlchemy.\n",
      "  schema_df = pd.read_sql(query, self.connection)\n",
      "C:\\Users\\Basavaraj\\AppData\\Local\\Temp\\ipykernel_15564\\3907896313.py:40: UserWarning: pandas only supports SQLAlchemy connectable (engine/connection) or database string URI or sqlite3 DBAPI2 connection. Other DBAPI2 objects are not tested. Please consider using SQLAlchemy.\n",
      "  schema_df = pd.read_sql(query, self.connection)\n",
      "C:\\Users\\Basavaraj\\AppData\\Local\\Temp\\ipykernel_15564\\3907896313.py:68: UserWarning: pandas only supports SQLAlchemy connectable (engine/connection) or database string URI or sqlite3 DBAPI2 connection. Other DBAPI2 objects are not tested. Please consider using SQLAlchemy.\n",
      "  df = pd.read_sql(query, self.connection, params=(current_datetime,))\n"
     ]
    },
    {
     "name": "stdout",
     "output_type": "stream",
     "text": [
      "Fetched unique values for milestone_completion_mode: []\n",
      "Fetching unique values for milestone_delay_time in milestones for date: 10-21-2024 12:00\n",
      "Fetched schema with data types successfully.\n",
      "Fetched schema with data types successfully.\n",
      "Fetched schema with data types successfully.\n",
      "Fetched unique values for milestone_delay_time: []\n",
      "Fetching unique values for last_modified_time in milestones for date: 10-21-2024 12:00\n",
      "Fetched schema with data types successfully.\n",
      "Fetched schema with data types successfully.\n"
     ]
    },
    {
     "name": "stderr",
     "output_type": "stream",
     "text": [
      "C:\\Users\\Basavaraj\\AppData\\Local\\Temp\\ipykernel_15564\\3907896313.py:40: UserWarning: pandas only supports SQLAlchemy connectable (engine/connection) or database string URI or sqlite3 DBAPI2 connection. Other DBAPI2 objects are not tested. Please consider using SQLAlchemy.\n",
      "  schema_df = pd.read_sql(query, self.connection)\n",
      "C:\\Users\\Basavaraj\\AppData\\Local\\Temp\\ipykernel_15564\\3907896313.py:40: UserWarning: pandas only supports SQLAlchemy connectable (engine/connection) or database string URI or sqlite3 DBAPI2 connection. Other DBAPI2 objects are not tested. Please consider using SQLAlchemy.\n",
      "  schema_df = pd.read_sql(query, self.connection)\n",
      "C:\\Users\\Basavaraj\\AppData\\Local\\Temp\\ipykernel_15564\\3907896313.py:40: UserWarning: pandas only supports SQLAlchemy connectable (engine/connection) or database string URI or sqlite3 DBAPI2 connection. Other DBAPI2 objects are not tested. Please consider using SQLAlchemy.\n",
      "  schema_df = pd.read_sql(query, self.connection)\n",
      "C:\\Users\\Basavaraj\\AppData\\Local\\Temp\\ipykernel_15564\\3907896313.py:68: UserWarning: pandas only supports SQLAlchemy connectable (engine/connection) or database string URI or sqlite3 DBAPI2 connection. Other DBAPI2 objects are not tested. Please consider using SQLAlchemy.\n",
      "  df = pd.read_sql(query, self.connection, params=(current_datetime,))\n",
      "C:\\Users\\Basavaraj\\AppData\\Local\\Temp\\ipykernel_15564\\3907896313.py:40: UserWarning: pandas only supports SQLAlchemy connectable (engine/connection) or database string URI or sqlite3 DBAPI2 connection. Other DBAPI2 objects are not tested. Please consider using SQLAlchemy.\n",
      "  schema_df = pd.read_sql(query, self.connection)\n",
      "C:\\Users\\Basavaraj\\AppData\\Local\\Temp\\ipykernel_15564\\3907896313.py:40: UserWarning: pandas only supports SQLAlchemy connectable (engine/connection) or database string URI or sqlite3 DBAPI2 connection. Other DBAPI2 objects are not tested. Please consider using SQLAlchemy.\n",
      "  schema_df = pd.read_sql(query, self.connection)\n",
      "C:\\Users\\Basavaraj\\AppData\\Local\\Temp\\ipykernel_15564\\3907896313.py:40: UserWarning: pandas only supports SQLAlchemy connectable (engine/connection) or database string URI or sqlite3 DBAPI2 connection. Other DBAPI2 objects are not tested. Please consider using SQLAlchemy.\n",
      "  schema_df = pd.read_sql(query, self.connection)\n"
     ]
    },
    {
     "name": "stdout",
     "output_type": "stream",
     "text": [
      "Fetched schema with data types successfully.\n",
      "Fetched unique values for last_modified_time: []\n",
      "Fetching unique values for project_id_string in milestones for date: 10-21-2024 12:00\n",
      "Fetched schema with data types successfully.\n",
      "Fetched schema with data types successfully.\n",
      "Fetched schema with data types successfully.\n",
      "Fetched unique values for project_id_string: []\n",
      "Fetching unique values for created_time in milestones for date: 10-21-2024 12:00\n",
      "Fetched schema with data types successfully.\n"
     ]
    },
    {
     "name": "stderr",
     "output_type": "stream",
     "text": [
      "C:\\Users\\Basavaraj\\AppData\\Local\\Temp\\ipykernel_15564\\3907896313.py:68: UserWarning: pandas only supports SQLAlchemy connectable (engine/connection) or database string URI or sqlite3 DBAPI2 connection. Other DBAPI2 objects are not tested. Please consider using SQLAlchemy.\n",
      "  df = pd.read_sql(query, self.connection, params=(current_datetime,))\n",
      "C:\\Users\\Basavaraj\\AppData\\Local\\Temp\\ipykernel_15564\\3907896313.py:40: UserWarning: pandas only supports SQLAlchemy connectable (engine/connection) or database string URI or sqlite3 DBAPI2 connection. Other DBAPI2 objects are not tested. Please consider using SQLAlchemy.\n",
      "  schema_df = pd.read_sql(query, self.connection)\n",
      "C:\\Users\\Basavaraj\\AppData\\Local\\Temp\\ipykernel_15564\\3907896313.py:40: UserWarning: pandas only supports SQLAlchemy connectable (engine/connection) or database string URI or sqlite3 DBAPI2 connection. Other DBAPI2 objects are not tested. Please consider using SQLAlchemy.\n",
      "  schema_df = pd.read_sql(query, self.connection)\n",
      "C:\\Users\\Basavaraj\\AppData\\Local\\Temp\\ipykernel_15564\\3907896313.py:40: UserWarning: pandas only supports SQLAlchemy connectable (engine/connection) or database string URI or sqlite3 DBAPI2 connection. Other DBAPI2 objects are not tested. Please consider using SQLAlchemy.\n",
      "  schema_df = pd.read_sql(query, self.connection)\n",
      "C:\\Users\\Basavaraj\\AppData\\Local\\Temp\\ipykernel_15564\\3907896313.py:68: UserWarning: pandas only supports SQLAlchemy connectable (engine/connection) or database string URI or sqlite3 DBAPI2 connection. Other DBAPI2 objects are not tested. Please consider using SQLAlchemy.\n",
      "  df = pd.read_sql(query, self.connection, params=(current_datetime,))\n",
      "C:\\Users\\Basavaraj\\AppData\\Local\\Temp\\ipykernel_15564\\3907896313.py:40: UserWarning: pandas only supports SQLAlchemy connectable (engine/connection) or database string URI or sqlite3 DBAPI2 connection. Other DBAPI2 objects are not tested. Please consider using SQLAlchemy.\n",
      "  schema_df = pd.read_sql(query, self.connection)\n",
      "C:\\Users\\Basavaraj\\AppData\\Local\\Temp\\ipykernel_15564\\3907896313.py:40: UserWarning: pandas only supports SQLAlchemy connectable (engine/connection) or database string URI or sqlite3 DBAPI2 connection. Other DBAPI2 objects are not tested. Please consider using SQLAlchemy.\n",
      "  schema_df = pd.read_sql(query, self.connection)\n"
     ]
    },
    {
     "name": "stdout",
     "output_type": "stream",
     "text": [
      "Fetched schema with data types successfully.\n",
      "Fetched schema with data types successfully.\n",
      "Fetched unique values for created_time: []\n",
      "Fetching unique values for owner_name in milestones for date: 10-21-2024 12:00\n",
      "Fetched schema with data types successfully.\n",
      "Fetched schema with data types successfully.\n",
      "Fetched schema with data types successfully.\n",
      "Fetched unique values for owner_name: []\n",
      "Fetching unique values for milestone_status in milestones for date: 10-21-2024 12:00\n"
     ]
    },
    {
     "name": "stderr",
     "output_type": "stream",
     "text": [
      "C:\\Users\\Basavaraj\\AppData\\Local\\Temp\\ipykernel_15564\\3907896313.py:40: UserWarning: pandas only supports SQLAlchemy connectable (engine/connection) or database string URI or sqlite3 DBAPI2 connection. Other DBAPI2 objects are not tested. Please consider using SQLAlchemy.\n",
      "  schema_df = pd.read_sql(query, self.connection)\n",
      "C:\\Users\\Basavaraj\\AppData\\Local\\Temp\\ipykernel_15564\\3907896313.py:68: UserWarning: pandas only supports SQLAlchemy connectable (engine/connection) or database string URI or sqlite3 DBAPI2 connection. Other DBAPI2 objects are not tested. Please consider using SQLAlchemy.\n",
      "  df = pd.read_sql(query, self.connection, params=(current_datetime,))\n",
      "C:\\Users\\Basavaraj\\AppData\\Local\\Temp\\ipykernel_15564\\3907896313.py:40: UserWarning: pandas only supports SQLAlchemy connectable (engine/connection) or database string URI or sqlite3 DBAPI2 connection. Other DBAPI2 objects are not tested. Please consider using SQLAlchemy.\n",
      "  schema_df = pd.read_sql(query, self.connection)\n",
      "C:\\Users\\Basavaraj\\AppData\\Local\\Temp\\ipykernel_15564\\3907896313.py:40: UserWarning: pandas only supports SQLAlchemy connectable (engine/connection) or database string URI or sqlite3 DBAPI2 connection. Other DBAPI2 objects are not tested. Please consider using SQLAlchemy.\n",
      "  schema_df = pd.read_sql(query, self.connection)\n",
      "C:\\Users\\Basavaraj\\AppData\\Local\\Temp\\ipykernel_15564\\3907896313.py:40: UserWarning: pandas only supports SQLAlchemy connectable (engine/connection) or database string URI or sqlite3 DBAPI2 connection. Other DBAPI2 objects are not tested. Please consider using SQLAlchemy.\n",
      "  schema_df = pd.read_sql(query, self.connection)\n",
      "C:\\Users\\Basavaraj\\AppData\\Local\\Temp\\ipykernel_15564\\3907896313.py:68: UserWarning: pandas only supports SQLAlchemy connectable (engine/connection) or database string URI or sqlite3 DBAPI2 connection. Other DBAPI2 objects are not tested. Please consider using SQLAlchemy.\n",
      "  df = pd.read_sql(query, self.connection, params=(current_datetime,))\n",
      "C:\\Users\\Basavaraj\\AppData\\Local\\Temp\\ipykernel_15564\\3907896313.py:40: UserWarning: pandas only supports SQLAlchemy connectable (engine/connection) or database string URI or sqlite3 DBAPI2 connection. Other DBAPI2 objects are not tested. Please consider using SQLAlchemy.\n",
      "  schema_df = pd.read_sql(query, self.connection)\n"
     ]
    },
    {
     "name": "stdout",
     "output_type": "stream",
     "text": [
      "Fetched schema with data types successfully.\n",
      "Fetched schema with data types successfully.\n",
      "Fetched schema with data types successfully.\n",
      "Fetched unique values for milestone_status: []\n",
      "Fetching unique values for actual_time_taken in milestones for date: 10-21-2024 12:00\n",
      "Fetched schema with data types successfully.\n",
      "Fetched schema with data types successfully.\n",
      "Fetched schema with data types successfully.\n"
     ]
    },
    {
     "name": "stderr",
     "output_type": "stream",
     "text": [
      "C:\\Users\\Basavaraj\\AppData\\Local\\Temp\\ipykernel_15564\\3907896313.py:40: UserWarning: pandas only supports SQLAlchemy connectable (engine/connection) or database string URI or sqlite3 DBAPI2 connection. Other DBAPI2 objects are not tested. Please consider using SQLAlchemy.\n",
      "  schema_df = pd.read_sql(query, self.connection)\n",
      "C:\\Users\\Basavaraj\\AppData\\Local\\Temp\\ipykernel_15564\\3907896313.py:40: UserWarning: pandas only supports SQLAlchemy connectable (engine/connection) or database string URI or sqlite3 DBAPI2 connection. Other DBAPI2 objects are not tested. Please consider using SQLAlchemy.\n",
      "  schema_df = pd.read_sql(query, self.connection)\n",
      "C:\\Users\\Basavaraj\\AppData\\Local\\Temp\\ipykernel_15564\\3907896313.py:68: UserWarning: pandas only supports SQLAlchemy connectable (engine/connection) or database string URI or sqlite3 DBAPI2 connection. Other DBAPI2 objects are not tested. Please consider using SQLAlchemy.\n",
      "  df = pd.read_sql(query, self.connection, params=(current_datetime,))\n",
      "C:\\Users\\Basavaraj\\AppData\\Local\\Temp\\ipykernel_15564\\3907896313.py:40: UserWarning: pandas only supports SQLAlchemy connectable (engine/connection) or database string URI or sqlite3 DBAPI2 connection. Other DBAPI2 objects are not tested. Please consider using SQLAlchemy.\n",
      "  schema_df = pd.read_sql(query, self.connection)\n",
      "C:\\Users\\Basavaraj\\AppData\\Local\\Temp\\ipykernel_15564\\3907896313.py:40: UserWarning: pandas only supports SQLAlchemy connectable (engine/connection) or database string URI or sqlite3 DBAPI2 connection. Other DBAPI2 objects are not tested. Please consider using SQLAlchemy.\n",
      "  schema_df = pd.read_sql(query, self.connection)\n",
      "C:\\Users\\Basavaraj\\AppData\\Local\\Temp\\ipykernel_15564\\3907896313.py:40: UserWarning: pandas only supports SQLAlchemy connectable (engine/connection) or database string URI or sqlite3 DBAPI2 connection. Other DBAPI2 objects are not tested. Please consider using SQLAlchemy.\n",
      "  schema_df = pd.read_sql(query, self.connection)\n",
      "C:\\Users\\Basavaraj\\AppData\\Local\\Temp\\ipykernel_15564\\3907896313.py:68: UserWarning: pandas only supports SQLAlchemy connectable (engine/connection) or database string URI or sqlite3 DBAPI2 connection. Other DBAPI2 objects are not tested. Please consider using SQLAlchemy.\n",
      "  df = pd.read_sql(query, self.connection, params=(current_datetime,))\n"
     ]
    },
    {
     "name": "stdout",
     "output_type": "stream",
     "text": [
      "Fetched unique values for actual_time_taken: []\n",
      "Fetching unique values for developers_allocated in milestones for date: 10-21-2024 12:00\n",
      "Fetched schema with data types successfully.\n",
      "Fetched schema with data types successfully.\n",
      "Fetched schema with data types successfully.\n",
      "Fetched unique values for developers_allocated: []\n",
      "Fetching unique values for start_date in milestones for date: 10-21-2024 12:00\n",
      "Fetched schema with data types successfully.\n",
      "Fetched schema with data types successfully.\n"
     ]
    },
    {
     "name": "stderr",
     "output_type": "stream",
     "text": [
      "C:\\Users\\Basavaraj\\AppData\\Local\\Temp\\ipykernel_15564\\3907896313.py:40: UserWarning: pandas only supports SQLAlchemy connectable (engine/connection) or database string URI or sqlite3 DBAPI2 connection. Other DBAPI2 objects are not tested. Please consider using SQLAlchemy.\n",
      "  schema_df = pd.read_sql(query, self.connection)\n",
      "C:\\Users\\Basavaraj\\AppData\\Local\\Temp\\ipykernel_15564\\3907896313.py:40: UserWarning: pandas only supports SQLAlchemy connectable (engine/connection) or database string URI or sqlite3 DBAPI2 connection. Other DBAPI2 objects are not tested. Please consider using SQLAlchemy.\n",
      "  schema_df = pd.read_sql(query, self.connection)\n",
      "C:\\Users\\Basavaraj\\AppData\\Local\\Temp\\ipykernel_15564\\3907896313.py:40: UserWarning: pandas only supports SQLAlchemy connectable (engine/connection) or database string URI or sqlite3 DBAPI2 connection. Other DBAPI2 objects are not tested. Please consider using SQLAlchemy.\n",
      "  schema_df = pd.read_sql(query, self.connection)\n",
      "C:\\Users\\Basavaraj\\AppData\\Local\\Temp\\ipykernel_15564\\3907896313.py:68: UserWarning: pandas only supports SQLAlchemy connectable (engine/connection) or database string URI or sqlite3 DBAPI2 connection. Other DBAPI2 objects are not tested. Please consider using SQLAlchemy.\n",
      "  df = pd.read_sql(query, self.connection, params=(current_datetime,))\n",
      "C:\\Users\\Basavaraj\\AppData\\Local\\Temp\\ipykernel_15564\\3907896313.py:40: UserWarning: pandas only supports SQLAlchemy connectable (engine/connection) or database string URI or sqlite3 DBAPI2 connection. Other DBAPI2 objects are not tested. Please consider using SQLAlchemy.\n",
      "  schema_df = pd.read_sql(query, self.connection)\n",
      "C:\\Users\\Basavaraj\\AppData\\Local\\Temp\\ipykernel_15564\\3907896313.py:40: UserWarning: pandas only supports SQLAlchemy connectable (engine/connection) or database string URI or sqlite3 DBAPI2 connection. Other DBAPI2 objects are not tested. Please consider using SQLAlchemy.\n",
      "  schema_df = pd.read_sql(query, self.connection)\n",
      "C:\\Users\\Basavaraj\\AppData\\Local\\Temp\\ipykernel_15564\\3907896313.py:40: UserWarning: pandas only supports SQLAlchemy connectable (engine/connection) or database string URI or sqlite3 DBAPI2 connection. Other DBAPI2 objects are not tested. Please consider using SQLAlchemy.\n",
      "  schema_df = pd.read_sql(query, self.connection)\n"
     ]
    },
    {
     "name": "stdout",
     "output_type": "stream",
     "text": [
      "Fetched schema with data types successfully.\n",
      "Fetched unique values for start_date: []\n",
      "Fetching unique values for end_date in milestones for date: 10-21-2024 12:00\n",
      "Fetched schema with data types successfully.\n",
      "Fetched schema with data types successfully.\n",
      "Fetched schema with data types successfully.\n",
      "Fetched unique values for end_date: []\n",
      "Fetching unique values for milestone_end_lag in milestones for date: 10-21-2024 12:00\n",
      "Fetched schema with data types successfully.\n"
     ]
    },
    {
     "name": "stderr",
     "output_type": "stream",
     "text": [
      "C:\\Users\\Basavaraj\\AppData\\Local\\Temp\\ipykernel_15564\\3907896313.py:68: UserWarning: pandas only supports SQLAlchemy connectable (engine/connection) or database string URI or sqlite3 DBAPI2 connection. Other DBAPI2 objects are not tested. Please consider using SQLAlchemy.\n",
      "  df = pd.read_sql(query, self.connection, params=(current_datetime,))\n",
      "C:\\Users\\Basavaraj\\AppData\\Local\\Temp\\ipykernel_15564\\3907896313.py:40: UserWarning: pandas only supports SQLAlchemy connectable (engine/connection) or database string URI or sqlite3 DBAPI2 connection. Other DBAPI2 objects are not tested. Please consider using SQLAlchemy.\n",
      "  schema_df = pd.read_sql(query, self.connection)\n",
      "C:\\Users\\Basavaraj\\AppData\\Local\\Temp\\ipykernel_15564\\3907896313.py:40: UserWarning: pandas only supports SQLAlchemy connectable (engine/connection) or database string URI or sqlite3 DBAPI2 connection. Other DBAPI2 objects are not tested. Please consider using SQLAlchemy.\n",
      "  schema_df = pd.read_sql(query, self.connection)\n",
      "C:\\Users\\Basavaraj\\AppData\\Local\\Temp\\ipykernel_15564\\3907896313.py:40: UserWarning: pandas only supports SQLAlchemy connectable (engine/connection) or database string URI or sqlite3 DBAPI2 connection. Other DBAPI2 objects are not tested. Please consider using SQLAlchemy.\n",
      "  schema_df = pd.read_sql(query, self.connection)\n",
      "C:\\Users\\Basavaraj\\AppData\\Local\\Temp\\ipykernel_15564\\3907896313.py:68: UserWarning: pandas only supports SQLAlchemy connectable (engine/connection) or database string URI or sqlite3 DBAPI2 connection. Other DBAPI2 objects are not tested. Please consider using SQLAlchemy.\n",
      "  df = pd.read_sql(query, self.connection, params=(current_datetime,))\n",
      "C:\\Users\\Basavaraj\\AppData\\Local\\Temp\\ipykernel_15564\\3907896313.py:40: UserWarning: pandas only supports SQLAlchemy connectable (engine/connection) or database string URI or sqlite3 DBAPI2 connection. Other DBAPI2 objects are not tested. Please consider using SQLAlchemy.\n",
      "  schema_df = pd.read_sql(query, self.connection)\n",
      "C:\\Users\\Basavaraj\\AppData\\Local\\Temp\\ipykernel_15564\\3907896313.py:40: UserWarning: pandas only supports SQLAlchemy connectable (engine/connection) or database string URI or sqlite3 DBAPI2 connection. Other DBAPI2 objects are not tested. Please consider using SQLAlchemy.\n",
      "  schema_df = pd.read_sql(query, self.connection)\n"
     ]
    },
    {
     "name": "stdout",
     "output_type": "stream",
     "text": [
      "Fetched schema with data types successfully.\n",
      "Fetched schema with data types successfully.\n",
      "Fetched unique values for milestone_end_lag: []\n",
      "Fetching unique values for tags in milestones for date: 10-21-2024 12:00\n",
      "Fetched schema with data types successfully.\n",
      "Fetched schema with data types successfully.\n",
      "Fetched schema with data types successfully.\n",
      "Fetched unique values for tags: []\n",
      "Fetching unique values for flag in milestones for date: 10-21-2024 12:00\n"
     ]
    },
    {
     "name": "stderr",
     "output_type": "stream",
     "text": [
      "C:\\Users\\Basavaraj\\AppData\\Local\\Temp\\ipykernel_15564\\3907896313.py:40: UserWarning: pandas only supports SQLAlchemy connectable (engine/connection) or database string URI or sqlite3 DBAPI2 connection. Other DBAPI2 objects are not tested. Please consider using SQLAlchemy.\n",
      "  schema_df = pd.read_sql(query, self.connection)\n",
      "C:\\Users\\Basavaraj\\AppData\\Local\\Temp\\ipykernel_15564\\3907896313.py:68: UserWarning: pandas only supports SQLAlchemy connectable (engine/connection) or database string URI or sqlite3 DBAPI2 connection. Other DBAPI2 objects are not tested. Please consider using SQLAlchemy.\n",
      "  df = pd.read_sql(query, self.connection, params=(current_datetime,))\n",
      "C:\\Users\\Basavaraj\\AppData\\Local\\Temp\\ipykernel_15564\\3907896313.py:40: UserWarning: pandas only supports SQLAlchemy connectable (engine/connection) or database string URI or sqlite3 DBAPI2 connection. Other DBAPI2 objects are not tested. Please consider using SQLAlchemy.\n",
      "  schema_df = pd.read_sql(query, self.connection)\n",
      "C:\\Users\\Basavaraj\\AppData\\Local\\Temp\\ipykernel_15564\\3907896313.py:40: UserWarning: pandas only supports SQLAlchemy connectable (engine/connection) or database string URI or sqlite3 DBAPI2 connection. Other DBAPI2 objects are not tested. Please consider using SQLAlchemy.\n",
      "  schema_df = pd.read_sql(query, self.connection)\n",
      "C:\\Users\\Basavaraj\\AppData\\Local\\Temp\\ipykernel_15564\\3907896313.py:40: UserWarning: pandas only supports SQLAlchemy connectable (engine/connection) or database string URI or sqlite3 DBAPI2 connection. Other DBAPI2 objects are not tested. Please consider using SQLAlchemy.\n",
      "  schema_df = pd.read_sql(query, self.connection)\n",
      "C:\\Users\\Basavaraj\\AppData\\Local\\Temp\\ipykernel_15564\\3907896313.py:68: UserWarning: pandas only supports SQLAlchemy connectable (engine/connection) or database string URI or sqlite3 DBAPI2 connection. Other DBAPI2 objects are not tested. Please consider using SQLAlchemy.\n",
      "  df = pd.read_sql(query, self.connection, params=(current_datetime,))\n",
      "C:\\Users\\Basavaraj\\AppData\\Local\\Temp\\ipykernel_15564\\3907896313.py:40: UserWarning: pandas only supports SQLAlchemy connectable (engine/connection) or database string URI or sqlite3 DBAPI2 connection. Other DBAPI2 objects are not tested. Please consider using SQLAlchemy.\n",
      "  schema_df = pd.read_sql(query, self.connection)\n"
     ]
    },
    {
     "name": "stdout",
     "output_type": "stream",
     "text": [
      "Fetched schema with data types successfully.\n",
      "Fetched schema with data types successfully.\n",
      "Fetched schema with data types successfully.\n",
      "Fetched unique values for flag: []\n",
      "Fetching unique values for efforts in milestones for date: 10-21-2024 12:00\n",
      "Fetched schema with data types successfully.\n",
      "Fetched schema with data types successfully.\n"
     ]
    },
    {
     "name": "stderr",
     "output_type": "stream",
     "text": [
      "C:\\Users\\Basavaraj\\AppData\\Local\\Temp\\ipykernel_15564\\3907896313.py:40: UserWarning: pandas only supports SQLAlchemy connectable (engine/connection) or database string URI or sqlite3 DBAPI2 connection. Other DBAPI2 objects are not tested. Please consider using SQLAlchemy.\n",
      "  schema_df = pd.read_sql(query, self.connection)\n",
      "C:\\Users\\Basavaraj\\AppData\\Local\\Temp\\ipykernel_15564\\3907896313.py:40: UserWarning: pandas only supports SQLAlchemy connectable (engine/connection) or database string URI or sqlite3 DBAPI2 connection. Other DBAPI2 objects are not tested. Please consider using SQLAlchemy.\n",
      "  schema_df = pd.read_sql(query, self.connection)\n",
      "C:\\Users\\Basavaraj\\AppData\\Local\\Temp\\ipykernel_15564\\3907896313.py:68: UserWarning: pandas only supports SQLAlchemy connectable (engine/connection) or database string URI or sqlite3 DBAPI2 connection. Other DBAPI2 objects are not tested. Please consider using SQLAlchemy.\n",
      "  df = pd.read_sql(query, self.connection, params=(current_datetime,))\n",
      "C:\\Users\\Basavaraj\\AppData\\Local\\Temp\\ipykernel_15564\\3907896313.py:40: UserWarning: pandas only supports SQLAlchemy connectable (engine/connection) or database string URI or sqlite3 DBAPI2 connection. Other DBAPI2 objects are not tested. Please consider using SQLAlchemy.\n",
      "  schema_df = pd.read_sql(query, self.connection)\n",
      "C:\\Users\\Basavaraj\\AppData\\Local\\Temp\\ipykernel_15564\\3907896313.py:40: UserWarning: pandas only supports SQLAlchemy connectable (engine/connection) or database string URI or sqlite3 DBAPI2 connection. Other DBAPI2 objects are not tested. Please consider using SQLAlchemy.\n",
      "  schema_df = pd.read_sql(query, self.connection)\n",
      "C:\\Users\\Basavaraj\\AppData\\Local\\Temp\\ipykernel_15564\\3907896313.py:40: UserWarning: pandas only supports SQLAlchemy connectable (engine/connection) or database string URI or sqlite3 DBAPI2 connection. Other DBAPI2 objects are not tested. Please consider using SQLAlchemy.\n",
      "  schema_df = pd.read_sql(query, self.connection)\n"
     ]
    },
    {
     "name": "stdout",
     "output_type": "stream",
     "text": [
      "Fetched schema with data types successfully.\n",
      "Fetched unique values for efforts: []\n",
      "Fetching unique values for group_id in project_groups for date: 10-21-2024 12:00\n",
      "Fetched schema with data types successfully.\n",
      "Fetched schema with data types successfully.\n",
      "Fetched schema with data types successfully.\n",
      "No valid modified columns found for table: project_groups\n",
      "Fetching unique values for is_private in project_groups for date: 10-21-2024 12:00\n",
      "Fetched schema with data types successfully.\n",
      "Fetched schema with data types successfully.\n",
      "Fetched schema with data types successfully.\n",
      "No valid modified columns found for table: project_groups\n",
      "Fetching unique values for associated_teams in project_groups for date: 10-21-2024 12:00\n"
     ]
    },
    {
     "name": "stderr",
     "output_type": "stream",
     "text": [
      "C:\\Users\\Basavaraj\\AppData\\Local\\Temp\\ipykernel_15564\\3907896313.py:68: UserWarning: pandas only supports SQLAlchemy connectable (engine/connection) or database string URI or sqlite3 DBAPI2 connection. Other DBAPI2 objects are not tested. Please consider using SQLAlchemy.\n",
      "  df = pd.read_sql(query, self.connection, params=(current_datetime,))\n",
      "C:\\Users\\Basavaraj\\AppData\\Local\\Temp\\ipykernel_15564\\3907896313.py:40: UserWarning: pandas only supports SQLAlchemy connectable (engine/connection) or database string URI or sqlite3 DBAPI2 connection. Other DBAPI2 objects are not tested. Please consider using SQLAlchemy.\n",
      "  schema_df = pd.read_sql(query, self.connection)\n",
      "C:\\Users\\Basavaraj\\AppData\\Local\\Temp\\ipykernel_15564\\3907896313.py:40: UserWarning: pandas only supports SQLAlchemy connectable (engine/connection) or database string URI or sqlite3 DBAPI2 connection. Other DBAPI2 objects are not tested. Please consider using SQLAlchemy.\n",
      "  schema_df = pd.read_sql(query, self.connection)\n",
      "C:\\Users\\Basavaraj\\AppData\\Local\\Temp\\ipykernel_15564\\3907896313.py:40: UserWarning: pandas only supports SQLAlchemy connectable (engine/connection) or database string URI or sqlite3 DBAPI2 connection. Other DBAPI2 objects are not tested. Please consider using SQLAlchemy.\n",
      "  schema_df = pd.read_sql(query, self.connection)\n",
      "C:\\Users\\Basavaraj\\AppData\\Local\\Temp\\ipykernel_15564\\3907896313.py:40: UserWarning: pandas only supports SQLAlchemy connectable (engine/connection) or database string URI or sqlite3 DBAPI2 connection. Other DBAPI2 objects are not tested. Please consider using SQLAlchemy.\n",
      "  schema_df = pd.read_sql(query, self.connection)\n",
      "C:\\Users\\Basavaraj\\AppData\\Local\\Temp\\ipykernel_15564\\3907896313.py:40: UserWarning: pandas only supports SQLAlchemy connectable (engine/connection) or database string URI or sqlite3 DBAPI2 connection. Other DBAPI2 objects are not tested. Please consider using SQLAlchemy.\n",
      "  schema_df = pd.read_sql(query, self.connection)\n",
      "C:\\Users\\Basavaraj\\AppData\\Local\\Temp\\ipykernel_15564\\3907896313.py:40: UserWarning: pandas only supports SQLAlchemy connectable (engine/connection) or database string URI or sqlite3 DBAPI2 connection. Other DBAPI2 objects are not tested. Please consider using SQLAlchemy.\n",
      "  schema_df = pd.read_sql(query, self.connection)\n",
      "C:\\Users\\Basavaraj\\AppData\\Local\\Temp\\ipykernel_15564\\3907896313.py:40: UserWarning: pandas only supports SQLAlchemy connectable (engine/connection) or database string URI or sqlite3 DBAPI2 connection. Other DBAPI2 objects are not tested. Please consider using SQLAlchemy.\n",
      "  schema_df = pd.read_sql(query, self.connection)\n"
     ]
    },
    {
     "name": "stdout",
     "output_type": "stream",
     "text": [
      "Fetched schema with data types successfully.\n",
      "Fetched schema with data types successfully.\n",
      "Fetched schema with data types successfully.\n",
      "No valid modified columns found for table: project_groups\n",
      "Fetching unique values for group_name in project_groups for date: 10-21-2024 12:00\n",
      "Fetched schema with data types successfully.\n",
      "Fetched schema with data types successfully.\n",
      "Fetched schema with data types successfully.\n",
      "No valid modified columns found for table: project_groups\n",
      "Fetching unique values for requirement_freeze_date in projects for date: 10-21-2024 12:00\n",
      "Fetched schema with data types successfully.\n"
     ]
    },
    {
     "name": "stderr",
     "output_type": "stream",
     "text": [
      "C:\\Users\\Basavaraj\\AppData\\Local\\Temp\\ipykernel_15564\\3907896313.py:40: UserWarning: pandas only supports SQLAlchemy connectable (engine/connection) or database string URI or sqlite3 DBAPI2 connection. Other DBAPI2 objects are not tested. Please consider using SQLAlchemy.\n",
      "  schema_df = pd.read_sql(query, self.connection)\n",
      "C:\\Users\\Basavaraj\\AppData\\Local\\Temp\\ipykernel_15564\\3907896313.py:40: UserWarning: pandas only supports SQLAlchemy connectable (engine/connection) or database string URI or sqlite3 DBAPI2 connection. Other DBAPI2 objects are not tested. Please consider using SQLAlchemy.\n",
      "  schema_df = pd.read_sql(query, self.connection)\n",
      "C:\\Users\\Basavaraj\\AppData\\Local\\Temp\\ipykernel_15564\\3907896313.py:40: UserWarning: pandas only supports SQLAlchemy connectable (engine/connection) or database string URI or sqlite3 DBAPI2 connection. Other DBAPI2 objects are not tested. Please consider using SQLAlchemy.\n",
      "  schema_df = pd.read_sql(query, self.connection)\n",
      "C:\\Users\\Basavaraj\\AppData\\Local\\Temp\\ipykernel_15564\\3907896313.py:40: UserWarning: pandas only supports SQLAlchemy connectable (engine/connection) or database string URI or sqlite3 DBAPI2 connection. Other DBAPI2 objects are not tested. Please consider using SQLAlchemy.\n",
      "  schema_df = pd.read_sql(query, self.connection)\n",
      "C:\\Users\\Basavaraj\\AppData\\Local\\Temp\\ipykernel_15564\\3907896313.py:40: UserWarning: pandas only supports SQLAlchemy connectable (engine/connection) or database string URI or sqlite3 DBAPI2 connection. Other DBAPI2 objects are not tested. Please consider using SQLAlchemy.\n",
      "  schema_df = pd.read_sql(query, self.connection)\n",
      "C:\\Users\\Basavaraj\\AppData\\Local\\Temp\\ipykernel_15564\\3907896313.py:40: UserWarning: pandas only supports SQLAlchemy connectable (engine/connection) or database string URI or sqlite3 DBAPI2 connection. Other DBAPI2 objects are not tested. Please consider using SQLAlchemy.\n",
      "  schema_df = pd.read_sql(query, self.connection)\n",
      "C:\\Users\\Basavaraj\\AppData\\Local\\Temp\\ipykernel_15564\\3907896313.py:40: UserWarning: pandas only supports SQLAlchemy connectable (engine/connection) or database string URI or sqlite3 DBAPI2 connection. Other DBAPI2 objects are not tested. Please consider using SQLAlchemy.\n",
      "  schema_df = pd.read_sql(query, self.connection)\n"
     ]
    },
    {
     "name": "stdout",
     "output_type": "stream",
     "text": [
      "Fetched schema with data types successfully.\n",
      "Fetched schema with data types successfully.\n",
      "Fetched unique values for requirement_freeze_date: []\n",
      "Fetching unique values for status in projects for date: 10-21-2024 12:00\n",
      "Fetched schema with data types successfully.\n",
      "Fetched schema with data types successfully.\n",
      "Fetched schema with data types successfully.\n",
      "Fetched unique values for status: []\n",
      "Fetching unique values for key in projects for date: 10-21-2024 12:00\n"
     ]
    },
    {
     "name": "stderr",
     "output_type": "stream",
     "text": [
      "C:\\Users\\Basavaraj\\AppData\\Local\\Temp\\ipykernel_15564\\3907896313.py:40: UserWarning: pandas only supports SQLAlchemy connectable (engine/connection) or database string URI or sqlite3 DBAPI2 connection. Other DBAPI2 objects are not tested. Please consider using SQLAlchemy.\n",
      "  schema_df = pd.read_sql(query, self.connection)\n",
      "C:\\Users\\Basavaraj\\AppData\\Local\\Temp\\ipykernel_15564\\3907896313.py:68: UserWarning: pandas only supports SQLAlchemy connectable (engine/connection) or database string URI or sqlite3 DBAPI2 connection. Other DBAPI2 objects are not tested. Please consider using SQLAlchemy.\n",
      "  df = pd.read_sql(query, self.connection, params=(current_datetime,))\n",
      "C:\\Users\\Basavaraj\\AppData\\Local\\Temp\\ipykernel_15564\\3907896313.py:40: UserWarning: pandas only supports SQLAlchemy connectable (engine/connection) or database string URI or sqlite3 DBAPI2 connection. Other DBAPI2 objects are not tested. Please consider using SQLAlchemy.\n",
      "  schema_df = pd.read_sql(query, self.connection)\n",
      "C:\\Users\\Basavaraj\\AppData\\Local\\Temp\\ipykernel_15564\\3907896313.py:40: UserWarning: pandas only supports SQLAlchemy connectable (engine/connection) or database string URI or sqlite3 DBAPI2 connection. Other DBAPI2 objects are not tested. Please consider using SQLAlchemy.\n",
      "  schema_df = pd.read_sql(query, self.connection)\n",
      "C:\\Users\\Basavaraj\\AppData\\Local\\Temp\\ipykernel_15564\\3907896313.py:40: UserWarning: pandas only supports SQLAlchemy connectable (engine/connection) or database string URI or sqlite3 DBAPI2 connection. Other DBAPI2 objects are not tested. Please consider using SQLAlchemy.\n",
      "  schema_df = pd.read_sql(query, self.connection)\n",
      "C:\\Users\\Basavaraj\\AppData\\Local\\Temp\\ipykernel_15564\\3907896313.py:68: UserWarning: pandas only supports SQLAlchemy connectable (engine/connection) or database string URI or sqlite3 DBAPI2 connection. Other DBAPI2 objects are not tested. Please consider using SQLAlchemy.\n",
      "  df = pd.read_sql(query, self.connection, params=(current_datetime,))\n",
      "C:\\Users\\Basavaraj\\AppData\\Local\\Temp\\ipykernel_15564\\3907896313.py:40: UserWarning: pandas only supports SQLAlchemy connectable (engine/connection) or database string URI or sqlite3 DBAPI2 connection. Other DBAPI2 objects are not tested. Please consider using SQLAlchemy.\n",
      "  schema_df = pd.read_sql(query, self.connection)\n"
     ]
    },
    {
     "name": "stdout",
     "output_type": "stream",
     "text": [
      "Fetched schema with data types successfully.\n",
      "Fetched schema with data types successfully.\n",
      "Fetched schema with data types successfully.\n"
     ]
    },
    {
     "name": "stderr",
     "output_type": "stream",
     "text": [
      "C:\\Users\\Basavaraj\\AppData\\Local\\Temp\\ipykernel_15564\\3907896313.py:40: UserWarning: pandas only supports SQLAlchemy connectable (engine/connection) or database string URI or sqlite3 DBAPI2 connection. Other DBAPI2 objects are not tested. Please consider using SQLAlchemy.\n",
      "  schema_df = pd.read_sql(query, self.connection)\n",
      "C:\\Users\\Basavaraj\\AppData\\Local\\Temp\\ipykernel_15564\\3907896313.py:40: UserWarning: pandas only supports SQLAlchemy connectable (engine/connection) or database string URI or sqlite3 DBAPI2 connection. Other DBAPI2 objects are not tested. Please consider using SQLAlchemy.\n",
      "  schema_df = pd.read_sql(query, self.connection)\n",
      "C:\\Users\\Basavaraj\\AppData\\Local\\Temp\\ipykernel_15564\\3907896313.py:68: UserWarning: pandas only supports SQLAlchemy connectable (engine/connection) or database string URI or sqlite3 DBAPI2 connection. Other DBAPI2 objects are not tested. Please consider using SQLAlchemy.\n",
      "  df = pd.read_sql(query, self.connection, params=(current_datetime,))\n"
     ]
    },
    {
     "name": "stdout",
     "output_type": "stream",
     "text": [
      "Fetched unique values for key: []\n",
      "Fetching unique values for client_project_id in projects for date: 10-21-2024 12:00\n",
      "Fetched schema with data types successfully.\n",
      "Fetched schema with data types successfully.\n",
      "Fetched schema with data types successfully.\n",
      "Fetched unique values for client_project_id: []\n",
      "Fetching unique values for timeline_status in projects for date: 10-21-2024 12:00\n",
      "Fetched schema with data types successfully.\n",
      "Fetched schema with data types successfully.\n"
     ]
    },
    {
     "name": "stderr",
     "output_type": "stream",
     "text": [
      "C:\\Users\\Basavaraj\\AppData\\Local\\Temp\\ipykernel_15564\\3907896313.py:40: UserWarning: pandas only supports SQLAlchemy connectable (engine/connection) or database string URI or sqlite3 DBAPI2 connection. Other DBAPI2 objects are not tested. Please consider using SQLAlchemy.\n",
      "  schema_df = pd.read_sql(query, self.connection)\n",
      "C:\\Users\\Basavaraj\\AppData\\Local\\Temp\\ipykernel_15564\\3907896313.py:40: UserWarning: pandas only supports SQLAlchemy connectable (engine/connection) or database string URI or sqlite3 DBAPI2 connection. Other DBAPI2 objects are not tested. Please consider using SQLAlchemy.\n",
      "  schema_df = pd.read_sql(query, self.connection)\n",
      "C:\\Users\\Basavaraj\\AppData\\Local\\Temp\\ipykernel_15564\\3907896313.py:40: UserWarning: pandas only supports SQLAlchemy connectable (engine/connection) or database string URI or sqlite3 DBAPI2 connection. Other DBAPI2 objects are not tested. Please consider using SQLAlchemy.\n",
      "  schema_df = pd.read_sql(query, self.connection)\n",
      "C:\\Users\\Basavaraj\\AppData\\Local\\Temp\\ipykernel_15564\\3907896313.py:68: UserWarning: pandas only supports SQLAlchemy connectable (engine/connection) or database string URI or sqlite3 DBAPI2 connection. Other DBAPI2 objects are not tested. Please consider using SQLAlchemy.\n",
      "  df = pd.read_sql(query, self.connection, params=(current_datetime,))\n",
      "C:\\Users\\Basavaraj\\AppData\\Local\\Temp\\ipykernel_15564\\3907896313.py:40: UserWarning: pandas only supports SQLAlchemy connectable (engine/connection) or database string URI or sqlite3 DBAPI2 connection. Other DBAPI2 objects are not tested. Please consider using SQLAlchemy.\n",
      "  schema_df = pd.read_sql(query, self.connection)\n",
      "C:\\Users\\Basavaraj\\AppData\\Local\\Temp\\ipykernel_15564\\3907896313.py:40: UserWarning: pandas only supports SQLAlchemy connectable (engine/connection) or database string URI or sqlite3 DBAPI2 connection. Other DBAPI2 objects are not tested. Please consider using SQLAlchemy.\n",
      "  schema_df = pd.read_sql(query, self.connection)\n",
      "C:\\Users\\Basavaraj\\AppData\\Local\\Temp\\ipykernel_15564\\3907896313.py:40: UserWarning: pandas only supports SQLAlchemy connectable (engine/connection) or database string URI or sqlite3 DBAPI2 connection. Other DBAPI2 objects are not tested. Please consider using SQLAlchemy.\n",
      "  schema_df = pd.read_sql(query, self.connection)\n"
     ]
    },
    {
     "name": "stdout",
     "output_type": "stream",
     "text": [
      "Fetched schema with data types successfully.\n",
      "Fetched unique values for timeline_status: []\n",
      "Fetching unique values for modified_by in projects for date: 10-21-2024 12:00\n",
      "Fetched schema with data types successfully.\n",
      "Fetched schema with data types successfully.\n",
      "Fetched schema with data types successfully.\n",
      "Fetched unique values for modified_by: []\n",
      "Fetching unique values for budget_hours in projects for date: 10-21-2024 12:00\n",
      "Fetched schema with data types successfully.\n"
     ]
    },
    {
     "name": "stderr",
     "output_type": "stream",
     "text": [
      "C:\\Users\\Basavaraj\\AppData\\Local\\Temp\\ipykernel_15564\\3907896313.py:68: UserWarning: pandas only supports SQLAlchemy connectable (engine/connection) or database string URI or sqlite3 DBAPI2 connection. Other DBAPI2 objects are not tested. Please consider using SQLAlchemy.\n",
      "  df = pd.read_sql(query, self.connection, params=(current_datetime,))\n",
      "C:\\Users\\Basavaraj\\AppData\\Local\\Temp\\ipykernel_15564\\3907896313.py:40: UserWarning: pandas only supports SQLAlchemy connectable (engine/connection) or database string URI or sqlite3 DBAPI2 connection. Other DBAPI2 objects are not tested. Please consider using SQLAlchemy.\n",
      "  schema_df = pd.read_sql(query, self.connection)\n",
      "C:\\Users\\Basavaraj\\AppData\\Local\\Temp\\ipykernel_15564\\3907896313.py:40: UserWarning: pandas only supports SQLAlchemy connectable (engine/connection) or database string URI or sqlite3 DBAPI2 connection. Other DBAPI2 objects are not tested. Please consider using SQLAlchemy.\n",
      "  schema_df = pd.read_sql(query, self.connection)\n",
      "C:\\Users\\Basavaraj\\AppData\\Local\\Temp\\ipykernel_15564\\3907896313.py:40: UserWarning: pandas only supports SQLAlchemy connectable (engine/connection) or database string URI or sqlite3 DBAPI2 connection. Other DBAPI2 objects are not tested. Please consider using SQLAlchemy.\n",
      "  schema_df = pd.read_sql(query, self.connection)\n",
      "C:\\Users\\Basavaraj\\AppData\\Local\\Temp\\ipykernel_15564\\3907896313.py:68: UserWarning: pandas only supports SQLAlchemy connectable (engine/connection) or database string URI or sqlite3 DBAPI2 connection. Other DBAPI2 objects are not tested. Please consider using SQLAlchemy.\n",
      "  df = pd.read_sql(query, self.connection, params=(current_datetime,))\n",
      "C:\\Users\\Basavaraj\\AppData\\Local\\Temp\\ipykernel_15564\\3907896313.py:40: UserWarning: pandas only supports SQLAlchemy connectable (engine/connection) or database string URI or sqlite3 DBAPI2 connection. Other DBAPI2 objects are not tested. Please consider using SQLAlchemy.\n",
      "  schema_df = pd.read_sql(query, self.connection)\n",
      "C:\\Users\\Basavaraj\\AppData\\Local\\Temp\\ipykernel_15564\\3907896313.py:40: UserWarning: pandas only supports SQLAlchemy connectable (engine/connection) or database string URI or sqlite3 DBAPI2 connection. Other DBAPI2 objects are not tested. Please consider using SQLAlchemy.\n",
      "  schema_df = pd.read_sql(query, self.connection)\n"
     ]
    },
    {
     "name": "stdout",
     "output_type": "stream",
     "text": [
      "Fetched schema with data types successfully.\n",
      "Fetched schema with data types successfully.\n",
      "Fetched unique values for budget_hours: []\n",
      "Fetching unique values for previous_delivery_owner in projects for date: 10-21-2024 12:00\n",
      "Fetched schema with data types successfully.\n",
      "Fetched schema with data types successfully.\n",
      "Fetched schema with data types successfully.\n",
      "Fetched unique values for previous_delivery_owner: []\n",
      "Fetching unique values for delivery_master in projects for date: 10-21-2024 12:00\n",
      "Fetched schema with data types successfully.\n"
     ]
    },
    {
     "name": "stderr",
     "output_type": "stream",
     "text": [
      "C:\\Users\\Basavaraj\\AppData\\Local\\Temp\\ipykernel_15564\\3907896313.py:40: UserWarning: pandas only supports SQLAlchemy connectable (engine/connection) or database string URI or sqlite3 DBAPI2 connection. Other DBAPI2 objects are not tested. Please consider using SQLAlchemy.\n",
      "  schema_df = pd.read_sql(query, self.connection)\n",
      "C:\\Users\\Basavaraj\\AppData\\Local\\Temp\\ipykernel_15564\\3907896313.py:68: UserWarning: pandas only supports SQLAlchemy connectable (engine/connection) or database string URI or sqlite3 DBAPI2 connection. Other DBAPI2 objects are not tested. Please consider using SQLAlchemy.\n",
      "  df = pd.read_sql(query, self.connection, params=(current_datetime,))\n",
      "C:\\Users\\Basavaraj\\AppData\\Local\\Temp\\ipykernel_15564\\3907896313.py:40: UserWarning: pandas only supports SQLAlchemy connectable (engine/connection) or database string URI or sqlite3 DBAPI2 connection. Other DBAPI2 objects are not tested. Please consider using SQLAlchemy.\n",
      "  schema_df = pd.read_sql(query, self.connection)\n",
      "C:\\Users\\Basavaraj\\AppData\\Local\\Temp\\ipykernel_15564\\3907896313.py:40: UserWarning: pandas only supports SQLAlchemy connectable (engine/connection) or database string URI or sqlite3 DBAPI2 connection. Other DBAPI2 objects are not tested. Please consider using SQLAlchemy.\n",
      "  schema_df = pd.read_sql(query, self.connection)\n",
      "C:\\Users\\Basavaraj\\AppData\\Local\\Temp\\ipykernel_15564\\3907896313.py:40: UserWarning: pandas only supports SQLAlchemy connectable (engine/connection) or database string URI or sqlite3 DBAPI2 connection. Other DBAPI2 objects are not tested. Please consider using SQLAlchemy.\n",
      "  schema_df = pd.read_sql(query, self.connection)\n",
      "C:\\Users\\Basavaraj\\AppData\\Local\\Temp\\ipykernel_15564\\3907896313.py:68: UserWarning: pandas only supports SQLAlchemy connectable (engine/connection) or database string URI or sqlite3 DBAPI2 connection. Other DBAPI2 objects are not tested. Please consider using SQLAlchemy.\n",
      "  df = pd.read_sql(query, self.connection, params=(current_datetime,))\n",
      "C:\\Users\\Basavaraj\\AppData\\Local\\Temp\\ipykernel_15564\\3907896313.py:40: UserWarning: pandas only supports SQLAlchemy connectable (engine/connection) or database string URI or sqlite3 DBAPI2 connection. Other DBAPI2 objects are not tested. Please consider using SQLAlchemy.\n",
      "  schema_df = pd.read_sql(query, self.connection)\n",
      "C:\\Users\\Basavaraj\\AppData\\Local\\Temp\\ipykernel_15564\\3907896313.py:40: UserWarning: pandas only supports SQLAlchemy connectable (engine/connection) or database string URI or sqlite3 DBAPI2 connection. Other DBAPI2 objects are not tested. Please consider using SQLAlchemy.\n",
      "  schema_df = pd.read_sql(query, self.connection)\n",
      "C:\\Users\\Basavaraj\\AppData\\Local\\Temp\\ipykernel_15564\\3907896313.py:40: UserWarning: pandas only supports SQLAlchemy connectable (engine/connection) or database string URI or sqlite3 DBAPI2 connection. Other DBAPI2 objects are not tested. Please consider using SQLAlchemy.\n",
      "  schema_df = pd.read_sql(query, self.connection)\n",
      "C:\\Users\\Basavaraj\\AppData\\Local\\Temp\\ipykernel_15564\\3907896313.py:68: UserWarning: pandas only supports SQLAlchemy connectable (engine/connection) or database string URI or sqlite3 DBAPI2 connection. Other DBAPI2 objects are not tested. Please consider using SQLAlchemy.\n",
      "  df = pd.read_sql(query, self.connection, params=(current_datetime,))\n",
      "C:\\Users\\Basavaraj\\AppData\\Local\\Temp\\ipykernel_15564\\3907896313.py:40: UserWarning: pandas only supports SQLAlchemy connectable (engine/connection) or database string URI or sqlite3 DBAPI2 connection. Other DBAPI2 objects are not tested. Please consider using SQLAlchemy.\n",
      "  schema_df = pd.read_sql(query, self.connection)\n",
      "C:\\Users\\Basavaraj\\AppData\\Local\\Temp\\ipykernel_15564\\3907896313.py:40: UserWarning: pandas only supports SQLAlchemy connectable (engine/connection) or database string URI or sqlite3 DBAPI2 connection. Other DBAPI2 objects are not tested. Please consider using SQLAlchemy.\n",
      "  schema_df = pd.read_sql(query, self.connection)\n",
      "C:\\Users\\Basavaraj\\AppData\\Local\\Temp\\ipykernel_15564\\3907896313.py:40: UserWarning: pandas only supports SQLAlchemy connectable (engine/connection) or database string URI or sqlite3 DBAPI2 connection. Other DBAPI2 objects are not tested. Please consider using SQLAlchemy.\n",
      "  schema_df = pd.read_sql(query, self.connection)\n",
      "C:\\Users\\Basavaraj\\AppData\\Local\\Temp\\ipykernel_15564\\3907896313.py:68: UserWarning: pandas only supports SQLAlchemy connectable (engine/connection) or database string URI or sqlite3 DBAPI2 connection. Other DBAPI2 objects are not tested. Please consider using SQLAlchemy.\n",
      "  df = pd.read_sql(query, self.connection, params=(current_datetime,))\n",
      "C:\\Users\\Basavaraj\\AppData\\Local\\Temp\\ipykernel_15564\\3907896313.py:40: UserWarning: pandas only supports SQLAlchemy connectable (engine/connection) or database string URI or sqlite3 DBAPI2 connection. Other DBAPI2 objects are not tested. Please consider using SQLAlchemy.\n",
      "  schema_df = pd.read_sql(query, self.connection)\n"
     ]
    },
    {
     "name": "stdout",
     "output_type": "stream",
     "text": [
      "Fetched schema with data types successfully.\n",
      "Fetched schema with data types successfully.\n",
      "Fetched unique values for delivery_master: []\n",
      "Fetching unique values for project_type in projects for date: 10-21-2024 12:00\n",
      "Fetched schema with data types successfully.\n",
      "Fetched schema with data types successfully.\n",
      "Fetched schema with data types successfully.\n",
      "Fetched unique values for project_type: []\n",
      "Fetching unique values for planned_duration_days in projects for date: 10-21-2024 12:00\n",
      "Fetched schema with data types successfully.\n"
     ]
    },
    {
     "name": "stderr",
     "output_type": "stream",
     "text": [
      "C:\\Users\\Basavaraj\\AppData\\Local\\Temp\\ipykernel_15564\\3907896313.py:40: UserWarning: pandas only supports SQLAlchemy connectable (engine/connection) or database string URI or sqlite3 DBAPI2 connection. Other DBAPI2 objects are not tested. Please consider using SQLAlchemy.\n",
      "  schema_df = pd.read_sql(query, self.connection)\n",
      "C:\\Users\\Basavaraj\\AppData\\Local\\Temp\\ipykernel_15564\\3907896313.py:40: UserWarning: pandas only supports SQLAlchemy connectable (engine/connection) or database string URI or sqlite3 DBAPI2 connection. Other DBAPI2 objects are not tested. Please consider using SQLAlchemy.\n",
      "  schema_df = pd.read_sql(query, self.connection)\n",
      "C:\\Users\\Basavaraj\\AppData\\Local\\Temp\\ipykernel_15564\\3907896313.py:68: UserWarning: pandas only supports SQLAlchemy connectable (engine/connection) or database string URI or sqlite3 DBAPI2 connection. Other DBAPI2 objects are not tested. Please consider using SQLAlchemy.\n",
      "  df = pd.read_sql(query, self.connection, params=(current_datetime,))\n",
      "C:\\Users\\Basavaraj\\AppData\\Local\\Temp\\ipykernel_15564\\3907896313.py:40: UserWarning: pandas only supports SQLAlchemy connectable (engine/connection) or database string URI or sqlite3 DBAPI2 connection. Other DBAPI2 objects are not tested. Please consider using SQLAlchemy.\n",
      "  schema_df = pd.read_sql(query, self.connection)\n",
      "C:\\Users\\Basavaraj\\AppData\\Local\\Temp\\ipykernel_15564\\3907896313.py:40: UserWarning: pandas only supports SQLAlchemy connectable (engine/connection) or database string URI or sqlite3 DBAPI2 connection. Other DBAPI2 objects are not tested. Please consider using SQLAlchemy.\n",
      "  schema_df = pd.read_sql(query, self.connection)\n",
      "C:\\Users\\Basavaraj\\AppData\\Local\\Temp\\ipykernel_15564\\3907896313.py:40: UserWarning: pandas only supports SQLAlchemy connectable (engine/connection) or database string URI or sqlite3 DBAPI2 connection. Other DBAPI2 objects are not tested. Please consider using SQLAlchemy.\n",
      "  schema_df = pd.read_sql(query, self.connection)\n",
      "C:\\Users\\Basavaraj\\AppData\\Local\\Temp\\ipykernel_15564\\3907896313.py:68: UserWarning: pandas only supports SQLAlchemy connectable (engine/connection) or database string URI or sqlite3 DBAPI2 connection. Other DBAPI2 objects are not tested. Please consider using SQLAlchemy.\n",
      "  df = pd.read_sql(query, self.connection, params=(current_datetime,))\n"
     ]
    },
    {
     "name": "stdout",
     "output_type": "stream",
     "text": [
      "Fetched schema with data types successfully.\n",
      "Fetched schema with data types successfully.\n",
      "Fetched unique values for planned_duration_days: []\n",
      "Fetching unique values for variance_in_days in projects for date: 10-21-2024 12:00\n",
      "Fetched schema with data types successfully.\n",
      "Fetched schema with data types successfully.\n",
      "Fetched schema with data types successfully.\n",
      "Fetched unique values for variance_in_days: []\n",
      "Fetching unique values for owner_id in projects for date: 10-21-2024 12:00\n"
     ]
    },
    {
     "name": "stderr",
     "output_type": "stream",
     "text": [
      "C:\\Users\\Basavaraj\\AppData\\Local\\Temp\\ipykernel_15564\\3907896313.py:40: UserWarning: pandas only supports SQLAlchemy connectable (engine/connection) or database string URI or sqlite3 DBAPI2 connection. Other DBAPI2 objects are not tested. Please consider using SQLAlchemy.\n",
      "  schema_df = pd.read_sql(query, self.connection)\n",
      "C:\\Users\\Basavaraj\\AppData\\Local\\Temp\\ipykernel_15564\\3907896313.py:40: UserWarning: pandas only supports SQLAlchemy connectable (engine/connection) or database string URI or sqlite3 DBAPI2 connection. Other DBAPI2 objects are not tested. Please consider using SQLAlchemy.\n",
      "  schema_df = pd.read_sql(query, self.connection)\n",
      "C:\\Users\\Basavaraj\\AppData\\Local\\Temp\\ipykernel_15564\\3907896313.py:40: UserWarning: pandas only supports SQLAlchemy connectable (engine/connection) or database string URI or sqlite3 DBAPI2 connection. Other DBAPI2 objects are not tested. Please consider using SQLAlchemy.\n",
      "  schema_df = pd.read_sql(query, self.connection)\n",
      "C:\\Users\\Basavaraj\\AppData\\Local\\Temp\\ipykernel_15564\\3907896313.py:68: UserWarning: pandas only supports SQLAlchemy connectable (engine/connection) or database string URI or sqlite3 DBAPI2 connection. Other DBAPI2 objects are not tested. Please consider using SQLAlchemy.\n",
      "  df = pd.read_sql(query, self.connection, params=(current_datetime,))\n",
      "C:\\Users\\Basavaraj\\AppData\\Local\\Temp\\ipykernel_15564\\3907896313.py:40: UserWarning: pandas only supports SQLAlchemy connectable (engine/connection) or database string URI or sqlite3 DBAPI2 connection. Other DBAPI2 objects are not tested. Please consider using SQLAlchemy.\n",
      "  schema_df = pd.read_sql(query, self.connection)\n",
      "C:\\Users\\Basavaraj\\AppData\\Local\\Temp\\ipykernel_15564\\3907896313.py:40: UserWarning: pandas only supports SQLAlchemy connectable (engine/connection) or database string URI or sqlite3 DBAPI2 connection. Other DBAPI2 objects are not tested. Please consider using SQLAlchemy.\n",
      "  schema_df = pd.read_sql(query, self.connection)\n",
      "C:\\Users\\Basavaraj\\AppData\\Local\\Temp\\ipykernel_15564\\3907896313.py:40: UserWarning: pandas only supports SQLAlchemy connectable (engine/connection) or database string URI or sqlite3 DBAPI2 connection. Other DBAPI2 objects are not tested. Please consider using SQLAlchemy.\n",
      "  schema_df = pd.read_sql(query, self.connection)\n"
     ]
    },
    {
     "name": "stdout",
     "output_type": "stream",
     "text": [
      "Fetched schema with data types successfully.\n",
      "Fetched schema with data types successfully.\n",
      "Fetched schema with data types successfully.\n",
      "Fetched unique values for owner_id: []\n",
      "Fetching unique values for country in projects for date: 10-21-2024 12:00\n",
      "Fetched schema with data types successfully.\n",
      "Fetched schema with data types successfully.\n",
      "Fetched schema with data types successfully.\n",
      "Fetched unique values for country: []\n",
      "Fetching unique values for project_end_lag in projects for date: 10-21-2024 12:00\n",
      "Fetched schema with data types successfully.\n",
      "Fetched schema with data types successfully.\n",
      "Fetched schema with data types successfully.\n",
      "Fetched unique values for project_end_lag: []\n",
      "Fetching unique values for group_id in projects for date: 10-21-2024 12:00\n",
      "Fetched schema with data types successfully.\n"
     ]
    },
    {
     "name": "stderr",
     "output_type": "stream",
     "text": [
      "C:\\Users\\Basavaraj\\AppData\\Local\\Temp\\ipykernel_15564\\3907896313.py:68: UserWarning: pandas only supports SQLAlchemy connectable (engine/connection) or database string URI or sqlite3 DBAPI2 connection. Other DBAPI2 objects are not tested. Please consider using SQLAlchemy.\n",
      "  df = pd.read_sql(query, self.connection, params=(current_datetime,))\n",
      "C:\\Users\\Basavaraj\\AppData\\Local\\Temp\\ipykernel_15564\\3907896313.py:40: UserWarning: pandas only supports SQLAlchemy connectable (engine/connection) or database string URI or sqlite3 DBAPI2 connection. Other DBAPI2 objects are not tested. Please consider using SQLAlchemy.\n",
      "  schema_df = pd.read_sql(query, self.connection)\n",
      "C:\\Users\\Basavaraj\\AppData\\Local\\Temp\\ipykernel_15564\\3907896313.py:40: UserWarning: pandas only supports SQLAlchemy connectable (engine/connection) or database string URI or sqlite3 DBAPI2 connection. Other DBAPI2 objects are not tested. Please consider using SQLAlchemy.\n",
      "  schema_df = pd.read_sql(query, self.connection)\n",
      "C:\\Users\\Basavaraj\\AppData\\Local\\Temp\\ipykernel_15564\\3907896313.py:40: UserWarning: pandas only supports SQLAlchemy connectable (engine/connection) or database string URI or sqlite3 DBAPI2 connection. Other DBAPI2 objects are not tested. Please consider using SQLAlchemy.\n",
      "  schema_df = pd.read_sql(query, self.connection)\n",
      "C:\\Users\\Basavaraj\\AppData\\Local\\Temp\\ipykernel_15564\\3907896313.py:68: UserWarning: pandas only supports SQLAlchemy connectable (engine/connection) or database string URI or sqlite3 DBAPI2 connection. Other DBAPI2 objects are not tested. Please consider using SQLAlchemy.\n",
      "  df = pd.read_sql(query, self.connection, params=(current_datetime,))\n",
      "C:\\Users\\Basavaraj\\AppData\\Local\\Temp\\ipykernel_15564\\3907896313.py:40: UserWarning: pandas only supports SQLAlchemy connectable (engine/connection) or database string URI or sqlite3 DBAPI2 connection. Other DBAPI2 objects are not tested. Please consider using SQLAlchemy.\n",
      "  schema_df = pd.read_sql(query, self.connection)\n",
      "C:\\Users\\Basavaraj\\AppData\\Local\\Temp\\ipykernel_15564\\3907896313.py:40: UserWarning: pandas only supports SQLAlchemy connectable (engine/connection) or database string URI or sqlite3 DBAPI2 connection. Other DBAPI2 objects are not tested. Please consider using SQLAlchemy.\n",
      "  schema_df = pd.read_sql(query, self.connection)\n"
     ]
    },
    {
     "name": "stdout",
     "output_type": "stream",
     "text": [
      "Fetched schema with data types successfully.\n",
      "Fetched schema with data types successfully.\n",
      "Fetched unique values for group_id: []\n",
      "Fetching unique values for owner in projects for date: 10-21-2024 12:00\n",
      "Fetched schema with data types successfully.\n",
      "Fetched schema with data types successfully.\n",
      "Fetched schema with data types successfully.\n",
      "Fetched unique values for owner: []\n",
      "Fetching unique values for last_modified_time in projects for date: 10-21-2024 12:00\n"
     ]
    },
    {
     "name": "stderr",
     "output_type": "stream",
     "text": [
      "C:\\Users\\Basavaraj\\AppData\\Local\\Temp\\ipykernel_15564\\3907896313.py:40: UserWarning: pandas only supports SQLAlchemy connectable (engine/connection) or database string URI or sqlite3 DBAPI2 connection. Other DBAPI2 objects are not tested. Please consider using SQLAlchemy.\n",
      "  schema_df = pd.read_sql(query, self.connection)\n",
      "C:\\Users\\Basavaraj\\AppData\\Local\\Temp\\ipykernel_15564\\3907896313.py:68: UserWarning: pandas only supports SQLAlchemy connectable (engine/connection) or database string URI or sqlite3 DBAPI2 connection. Other DBAPI2 objects are not tested. Please consider using SQLAlchemy.\n",
      "  df = pd.read_sql(query, self.connection, params=(current_datetime,))\n",
      "C:\\Users\\Basavaraj\\AppData\\Local\\Temp\\ipykernel_15564\\3907896313.py:40: UserWarning: pandas only supports SQLAlchemy connectable (engine/connection) or database string URI or sqlite3 DBAPI2 connection. Other DBAPI2 objects are not tested. Please consider using SQLAlchemy.\n",
      "  schema_df = pd.read_sql(query, self.connection)\n",
      "C:\\Users\\Basavaraj\\AppData\\Local\\Temp\\ipykernel_15564\\3907896313.py:40: UserWarning: pandas only supports SQLAlchemy connectable (engine/connection) or database string URI or sqlite3 DBAPI2 connection. Other DBAPI2 objects are not tested. Please consider using SQLAlchemy.\n",
      "  schema_df = pd.read_sql(query, self.connection)\n",
      "C:\\Users\\Basavaraj\\AppData\\Local\\Temp\\ipykernel_15564\\3907896313.py:40: UserWarning: pandas only supports SQLAlchemy connectable (engine/connection) or database string URI or sqlite3 DBAPI2 connection. Other DBAPI2 objects are not tested. Please consider using SQLAlchemy.\n",
      "  schema_df = pd.read_sql(query, self.connection)\n",
      "C:\\Users\\Basavaraj\\AppData\\Local\\Temp\\ipykernel_15564\\3907896313.py:68: UserWarning: pandas only supports SQLAlchemy connectable (engine/connection) or database string URI or sqlite3 DBAPI2 connection. Other DBAPI2 objects are not tested. Please consider using SQLAlchemy.\n",
      "  df = pd.read_sql(query, self.connection, params=(current_datetime,))\n",
      "C:\\Users\\Basavaraj\\AppData\\Local\\Temp\\ipykernel_15564\\3907896313.py:40: UserWarning: pandas only supports SQLAlchemy connectable (engine/connection) or database string URI or sqlite3 DBAPI2 connection. Other DBAPI2 objects are not tested. Please consider using SQLAlchemy.\n",
      "  schema_df = pd.read_sql(query, self.connection)\n"
     ]
    },
    {
     "name": "stdout",
     "output_type": "stream",
     "text": [
      "Fetched schema with data types successfully.\n",
      "Fetched schema with data types successfully.\n",
      "Fetched schema with data types successfully.\n",
      "Fetched unique values for last_modified_time: []\n",
      "Fetching unique values for crm_deal_id in projects for date: 10-21-2024 12:00\n",
      "Fetched schema with data types successfully.\n",
      "Fetched schema with data types successfully.\n",
      "Fetched schema with data types successfully.\n"
     ]
    },
    {
     "name": "stderr",
     "output_type": "stream",
     "text": [
      "C:\\Users\\Basavaraj\\AppData\\Local\\Temp\\ipykernel_15564\\3907896313.py:40: UserWarning: pandas only supports SQLAlchemy connectable (engine/connection) or database string URI or sqlite3 DBAPI2 connection. Other DBAPI2 objects are not tested. Please consider using SQLAlchemy.\n",
      "  schema_df = pd.read_sql(query, self.connection)\n",
      "C:\\Users\\Basavaraj\\AppData\\Local\\Temp\\ipykernel_15564\\3907896313.py:40: UserWarning: pandas only supports SQLAlchemy connectable (engine/connection) or database string URI or sqlite3 DBAPI2 connection. Other DBAPI2 objects are not tested. Please consider using SQLAlchemy.\n",
      "  schema_df = pd.read_sql(query, self.connection)\n",
      "C:\\Users\\Basavaraj\\AppData\\Local\\Temp\\ipykernel_15564\\3907896313.py:68: UserWarning: pandas only supports SQLAlchemy connectable (engine/connection) or database string URI or sqlite3 DBAPI2 connection. Other DBAPI2 objects are not tested. Please consider using SQLAlchemy.\n",
      "  df = pd.read_sql(query, self.connection, params=(current_datetime,))\n",
      "C:\\Users\\Basavaraj\\AppData\\Local\\Temp\\ipykernel_15564\\3907896313.py:40: UserWarning: pandas only supports SQLAlchemy connectable (engine/connection) or database string URI or sqlite3 DBAPI2 connection. Other DBAPI2 objects are not tested. Please consider using SQLAlchemy.\n",
      "  schema_df = pd.read_sql(query, self.connection)\n",
      "C:\\Users\\Basavaraj\\AppData\\Local\\Temp\\ipykernel_15564\\3907896313.py:40: UserWarning: pandas only supports SQLAlchemy connectable (engine/connection) or database string URI or sqlite3 DBAPI2 connection. Other DBAPI2 objects are not tested. Please consider using SQLAlchemy.\n",
      "  schema_df = pd.read_sql(query, self.connection)\n",
      "C:\\Users\\Basavaraj\\AppData\\Local\\Temp\\ipykernel_15564\\3907896313.py:40: UserWarning: pandas only supports SQLAlchemy connectable (engine/connection) or database string URI or sqlite3 DBAPI2 connection. Other DBAPI2 objects are not tested. Please consider using SQLAlchemy.\n",
      "  schema_df = pd.read_sql(query, self.connection)\n",
      "C:\\Users\\Basavaraj\\AppData\\Local\\Temp\\ipykernel_15564\\3907896313.py:68: UserWarning: pandas only supports SQLAlchemy connectable (engine/connection) or database string URI or sqlite3 DBAPI2 connection. Other DBAPI2 objects are not tested. Please consider using SQLAlchemy.\n",
      "  df = pd.read_sql(query, self.connection, params=(current_datetime,))\n"
     ]
    },
    {
     "name": "stdout",
     "output_type": "stream",
     "text": [
      "Fetched unique values for crm_deal_id: []\n",
      "Fetching unique values for acceptable_delay_days in projects for date: 10-21-2024 12:00\n",
      "Fetched schema with data types successfully.\n",
      "Fetched schema with data types successfully.\n",
      "Fetched schema with data types successfully.\n",
      "Fetched unique values for acceptable_delay_days: []\n",
      "Fetching unique values for project_id in projects for date: 10-21-2024 12:00\n",
      "Fetched schema with data types successfully.\n"
     ]
    },
    {
     "name": "stderr",
     "output_type": "stream",
     "text": [
      "C:\\Users\\Basavaraj\\AppData\\Local\\Temp\\ipykernel_15564\\3907896313.py:40: UserWarning: pandas only supports SQLAlchemy connectable (engine/connection) or database string URI or sqlite3 DBAPI2 connection. Other DBAPI2 objects are not tested. Please consider using SQLAlchemy.\n",
      "  schema_df = pd.read_sql(query, self.connection)\n",
      "C:\\Users\\Basavaraj\\AppData\\Local\\Temp\\ipykernel_15564\\3907896313.py:40: UserWarning: pandas only supports SQLAlchemy connectable (engine/connection) or database string URI or sqlite3 DBAPI2 connection. Other DBAPI2 objects are not tested. Please consider using SQLAlchemy.\n",
      "  schema_df = pd.read_sql(query, self.connection)\n",
      "C:\\Users\\Basavaraj\\AppData\\Local\\Temp\\ipykernel_15564\\3907896313.py:40: UserWarning: pandas only supports SQLAlchemy connectable (engine/connection) or database string URI or sqlite3 DBAPI2 connection. Other DBAPI2 objects are not tested. Please consider using SQLAlchemy.\n",
      "  schema_df = pd.read_sql(query, self.connection)\n",
      "C:\\Users\\Basavaraj\\AppData\\Local\\Temp\\ipykernel_15564\\3907896313.py:68: UserWarning: pandas only supports SQLAlchemy connectable (engine/connection) or database string URI or sqlite3 DBAPI2 connection. Other DBAPI2 objects are not tested. Please consider using SQLAlchemy.\n",
      "  df = pd.read_sql(query, self.connection, params=(current_datetime,))\n",
      "C:\\Users\\Basavaraj\\AppData\\Local\\Temp\\ipykernel_15564\\3907896313.py:40: UserWarning: pandas only supports SQLAlchemy connectable (engine/connection) or database string URI or sqlite3 DBAPI2 connection. Other DBAPI2 objects are not tested. Please consider using SQLAlchemy.\n",
      "  schema_df = pd.read_sql(query, self.connection)\n",
      "C:\\Users\\Basavaraj\\AppData\\Local\\Temp\\ipykernel_15564\\3907896313.py:40: UserWarning: pandas only supports SQLAlchemy connectable (engine/connection) or database string URI or sqlite3 DBAPI2 connection. Other DBAPI2 objects are not tested. Please consider using SQLAlchemy.\n",
      "  schema_df = pd.read_sql(query, self.connection)\n"
     ]
    },
    {
     "name": "stdout",
     "output_type": "stream",
     "text": [
      "Fetched schema with data types successfully.\n",
      "Fetched schema with data types successfully.\n",
      "Fetched unique values for project_id: []\n",
      "Fetching unique values for difference in projects for date: 10-21-2024 12:00\n",
      "Fetched schema with data types successfully.\n",
      "Fetched schema with data types successfully.\n",
      "Fetched schema with data types successfully.\n",
      "Fetched unique values for difference: []\n",
      "Fetching unique values for planned_implementation_cost in projects for date: 10-21-2024 12:00\n"
     ]
    },
    {
     "name": "stderr",
     "output_type": "stream",
     "text": [
      "C:\\Users\\Basavaraj\\AppData\\Local\\Temp\\ipykernel_15564\\3907896313.py:40: UserWarning: pandas only supports SQLAlchemy connectable (engine/connection) or database string URI or sqlite3 DBAPI2 connection. Other DBAPI2 objects are not tested. Please consider using SQLAlchemy.\n",
      "  schema_df = pd.read_sql(query, self.connection)\n",
      "C:\\Users\\Basavaraj\\AppData\\Local\\Temp\\ipykernel_15564\\3907896313.py:68: UserWarning: pandas only supports SQLAlchemy connectable (engine/connection) or database string URI or sqlite3 DBAPI2 connection. Other DBAPI2 objects are not tested. Please consider using SQLAlchemy.\n",
      "  df = pd.read_sql(query, self.connection, params=(current_datetime,))\n",
      "C:\\Users\\Basavaraj\\AppData\\Local\\Temp\\ipykernel_15564\\3907896313.py:40: UserWarning: pandas only supports SQLAlchemy connectable (engine/connection) or database string URI or sqlite3 DBAPI2 connection. Other DBAPI2 objects are not tested. Please consider using SQLAlchemy.\n",
      "  schema_df = pd.read_sql(query, self.connection)\n",
      "C:\\Users\\Basavaraj\\AppData\\Local\\Temp\\ipykernel_15564\\3907896313.py:40: UserWarning: pandas only supports SQLAlchemy connectable (engine/connection) or database string URI or sqlite3 DBAPI2 connection. Other DBAPI2 objects are not tested. Please consider using SQLAlchemy.\n",
      "  schema_df = pd.read_sql(query, self.connection)\n",
      "C:\\Users\\Basavaraj\\AppData\\Local\\Temp\\ipykernel_15564\\3907896313.py:40: UserWarning: pandas only supports SQLAlchemy connectable (engine/connection) or database string URI or sqlite3 DBAPI2 connection. Other DBAPI2 objects are not tested. Please consider using SQLAlchemy.\n",
      "  schema_df = pd.read_sql(query, self.connection)\n",
      "C:\\Users\\Basavaraj\\AppData\\Local\\Temp\\ipykernel_15564\\3907896313.py:68: UserWarning: pandas only supports SQLAlchemy connectable (engine/connection) or database string URI or sqlite3 DBAPI2 connection. Other DBAPI2 objects are not tested. Please consider using SQLAlchemy.\n",
      "  df = pd.read_sql(query, self.connection, params=(current_datetime,))\n",
      "C:\\Users\\Basavaraj\\AppData\\Local\\Temp\\ipykernel_15564\\3907896313.py:40: UserWarning: pandas only supports SQLAlchemy connectable (engine/connection) or database string URI or sqlite3 DBAPI2 connection. Other DBAPI2 objects are not tested. Please consider using SQLAlchemy.\n",
      "  schema_df = pd.read_sql(query, self.connection)\n"
     ]
    },
    {
     "name": "stdout",
     "output_type": "stream",
     "text": [
      "Fetched schema with data types successfully.\n",
      "Fetched schema with data types successfully.\n",
      "Fetched schema with data types successfully.\n",
      "Fetched unique values for planned_implementation_cost: []\n",
      "Fetching unique values for created_time in projects for date: 10-21-2024 12:00\n",
      "Fetched schema with data types successfully.\n",
      "Fetched schema with data types successfully.\n",
      "Fetched schema with data types successfully.\n"
     ]
    },
    {
     "name": "stderr",
     "output_type": "stream",
     "text": [
      "C:\\Users\\Basavaraj\\AppData\\Local\\Temp\\ipykernel_15564\\3907896313.py:40: UserWarning: pandas only supports SQLAlchemy connectable (engine/connection) or database string URI or sqlite3 DBAPI2 connection. Other DBAPI2 objects are not tested. Please consider using SQLAlchemy.\n",
      "  schema_df = pd.read_sql(query, self.connection)\n",
      "C:\\Users\\Basavaraj\\AppData\\Local\\Temp\\ipykernel_15564\\3907896313.py:40: UserWarning: pandas only supports SQLAlchemy connectable (engine/connection) or database string URI or sqlite3 DBAPI2 connection. Other DBAPI2 objects are not tested. Please consider using SQLAlchemy.\n",
      "  schema_df = pd.read_sql(query, self.connection)\n",
      "C:\\Users\\Basavaraj\\AppData\\Local\\Temp\\ipykernel_15564\\3907896313.py:68: UserWarning: pandas only supports SQLAlchemy connectable (engine/connection) or database string URI or sqlite3 DBAPI2 connection. Other DBAPI2 objects are not tested. Please consider using SQLAlchemy.\n",
      "  df = pd.read_sql(query, self.connection, params=(current_datetime,))\n",
      "C:\\Users\\Basavaraj\\AppData\\Local\\Temp\\ipykernel_15564\\3907896313.py:40: UserWarning: pandas only supports SQLAlchemy connectable (engine/connection) or database string URI or sqlite3 DBAPI2 connection. Other DBAPI2 objects are not tested. Please consider using SQLAlchemy.\n",
      "  schema_df = pd.read_sql(query, self.connection)\n",
      "C:\\Users\\Basavaraj\\AppData\\Local\\Temp\\ipykernel_15564\\3907896313.py:40: UserWarning: pandas only supports SQLAlchemy connectable (engine/connection) or database string URI or sqlite3 DBAPI2 connection. Other DBAPI2 objects are not tested. Please consider using SQLAlchemy.\n",
      "  schema_df = pd.read_sql(query, self.connection)\n",
      "C:\\Users\\Basavaraj\\AppData\\Local\\Temp\\ipykernel_15564\\3907896313.py:40: UserWarning: pandas only supports SQLAlchemy connectable (engine/connection) or database string URI or sqlite3 DBAPI2 connection. Other DBAPI2 objects are not tested. Please consider using SQLAlchemy.\n",
      "  schema_df = pd.read_sql(query, self.connection)\n",
      "C:\\Users\\Basavaraj\\AppData\\Local\\Temp\\ipykernel_15564\\3907896313.py:68: UserWarning: pandas only supports SQLAlchemy connectable (engine/connection) or database string URI or sqlite3 DBAPI2 connection. Other DBAPI2 objects are not tested. Please consider using SQLAlchemy.\n",
      "  df = pd.read_sql(query, self.connection, params=(current_datetime,))\n"
     ]
    },
    {
     "name": "stdout",
     "output_type": "stream",
     "text": [
      "Fetched unique values for created_time: []\n",
      "Fetching unique values for actual_delay_after_completion in projects for date: 10-21-2024 12:00\n",
      "Fetched schema with data types successfully.\n",
      "Fetched schema with data types successfully.\n",
      "Fetched schema with data types successfully.\n",
      "Fetched unique values for actual_delay_after_completion: []\n",
      "Fetching unique values for developers in projects for date: 10-21-2024 12:00\n",
      "Fetched schema with data types successfully.\n",
      "Fetched schema with data types successfully.\n"
     ]
    },
    {
     "name": "stderr",
     "output_type": "stream",
     "text": [
      "C:\\Users\\Basavaraj\\AppData\\Local\\Temp\\ipykernel_15564\\3907896313.py:40: UserWarning: pandas only supports SQLAlchemy connectable (engine/connection) or database string URI or sqlite3 DBAPI2 connection. Other DBAPI2 objects are not tested. Please consider using SQLAlchemy.\n",
      "  schema_df = pd.read_sql(query, self.connection)\n",
      "C:\\Users\\Basavaraj\\AppData\\Local\\Temp\\ipykernel_15564\\3907896313.py:40: UserWarning: pandas only supports SQLAlchemy connectable (engine/connection) or database string URI or sqlite3 DBAPI2 connection. Other DBAPI2 objects are not tested. Please consider using SQLAlchemy.\n",
      "  schema_df = pd.read_sql(query, self.connection)\n",
      "C:\\Users\\Basavaraj\\AppData\\Local\\Temp\\ipykernel_15564\\3907896313.py:40: UserWarning: pandas only supports SQLAlchemy connectable (engine/connection) or database string URI or sqlite3 DBAPI2 connection. Other DBAPI2 objects are not tested. Please consider using SQLAlchemy.\n",
      "  schema_df = pd.read_sql(query, self.connection)\n",
      "C:\\Users\\Basavaraj\\AppData\\Local\\Temp\\ipykernel_15564\\3907896313.py:68: UserWarning: pandas only supports SQLAlchemy connectable (engine/connection) or database string URI or sqlite3 DBAPI2 connection. Other DBAPI2 objects are not tested. Please consider using SQLAlchemy.\n",
      "  df = pd.read_sql(query, self.connection, params=(current_datetime,))\n",
      "C:\\Users\\Basavaraj\\AppData\\Local\\Temp\\ipykernel_15564\\3907896313.py:40: UserWarning: pandas only supports SQLAlchemy connectable (engine/connection) or database string URI or sqlite3 DBAPI2 connection. Other DBAPI2 objects are not tested. Please consider using SQLAlchemy.\n",
      "  schema_df = pd.read_sql(query, self.connection)\n",
      "C:\\Users\\Basavaraj\\AppData\\Local\\Temp\\ipykernel_15564\\3907896313.py:40: UserWarning: pandas only supports SQLAlchemy connectable (engine/connection) or database string URI or sqlite3 DBAPI2 connection. Other DBAPI2 objects are not tested. Please consider using SQLAlchemy.\n",
      "  schema_df = pd.read_sql(query, self.connection)\n",
      "C:\\Users\\Basavaraj\\AppData\\Local\\Temp\\ipykernel_15564\\3907896313.py:40: UserWarning: pandas only supports SQLAlchemy connectable (engine/connection) or database string URI or sqlite3 DBAPI2 connection. Other DBAPI2 objects are not tested. Please consider using SQLAlchemy.\n",
      "  schema_df = pd.read_sql(query, self.connection)\n"
     ]
    },
    {
     "name": "stdout",
     "output_type": "stream",
     "text": [
      "Fetched schema with data types successfully.\n",
      "Fetched unique values for developers: []\n",
      "Fetching unique values for created_by in projects for date: 10-21-2024 12:00\n",
      "Fetched schema with data types successfully.\n",
      "Fetched schema with data types successfully.\n",
      "Fetched schema with data types successfully.\n",
      "Fetched unique values for created_by: []\n",
      "Fetching unique values for is_archived in projects for date: 10-21-2024 12:00\n",
      "Fetched schema with data types successfully.\n"
     ]
    },
    {
     "name": "stderr",
     "output_type": "stream",
     "text": [
      "C:\\Users\\Basavaraj\\AppData\\Local\\Temp\\ipykernel_15564\\3907896313.py:68: UserWarning: pandas only supports SQLAlchemy connectable (engine/connection) or database string URI or sqlite3 DBAPI2 connection. Other DBAPI2 objects are not tested. Please consider using SQLAlchemy.\n",
      "  df = pd.read_sql(query, self.connection, params=(current_datetime,))\n",
      "C:\\Users\\Basavaraj\\AppData\\Local\\Temp\\ipykernel_15564\\3907896313.py:40: UserWarning: pandas only supports SQLAlchemy connectable (engine/connection) or database string URI or sqlite3 DBAPI2 connection. Other DBAPI2 objects are not tested. Please consider using SQLAlchemy.\n",
      "  schema_df = pd.read_sql(query, self.connection)\n",
      "C:\\Users\\Basavaraj\\AppData\\Local\\Temp\\ipykernel_15564\\3907896313.py:40: UserWarning: pandas only supports SQLAlchemy connectable (engine/connection) or database string URI or sqlite3 DBAPI2 connection. Other DBAPI2 objects are not tested. Please consider using SQLAlchemy.\n",
      "  schema_df = pd.read_sql(query, self.connection)\n",
      "C:\\Users\\Basavaraj\\AppData\\Local\\Temp\\ipykernel_15564\\3907896313.py:40: UserWarning: pandas only supports SQLAlchemy connectable (engine/connection) or database string URI or sqlite3 DBAPI2 connection. Other DBAPI2 objects are not tested. Please consider using SQLAlchemy.\n",
      "  schema_df = pd.read_sql(query, self.connection)\n",
      "C:\\Users\\Basavaraj\\AppData\\Local\\Temp\\ipykernel_15564\\3907896313.py:68: UserWarning: pandas only supports SQLAlchemy connectable (engine/connection) or database string URI or sqlite3 DBAPI2 connection. Other DBAPI2 objects are not tested. Please consider using SQLAlchemy.\n",
      "  df = pd.read_sql(query, self.connection, params=(current_datetime,))\n",
      "C:\\Users\\Basavaraj\\AppData\\Local\\Temp\\ipykernel_15564\\3907896313.py:40: UserWarning: pandas only supports SQLAlchemy connectable (engine/connection) or database string URI or sqlite3 DBAPI2 connection. Other DBAPI2 objects are not tested. Please consider using SQLAlchemy.\n",
      "  schema_df = pd.read_sql(query, self.connection)\n",
      "C:\\Users\\Basavaraj\\AppData\\Local\\Temp\\ipykernel_15564\\3907896313.py:40: UserWarning: pandas only supports SQLAlchemy connectable (engine/connection) or database string URI or sqlite3 DBAPI2 connection. Other DBAPI2 objects are not tested. Please consider using SQLAlchemy.\n",
      "  schema_df = pd.read_sql(query, self.connection)\n"
     ]
    },
    {
     "name": "stdout",
     "output_type": "stream",
     "text": [
      "Fetched schema with data types successfully.\n",
      "Fetched schema with data types successfully.\n",
      "Fetched unique values for is_archived: []\n",
      "Fetching unique values for project_name in projects for date: 10-21-2024 12:00\n",
      "Fetched schema with data types successfully.\n",
      "Fetched schema with data types successfully.\n",
      "Fetched schema with data types successfully.\n",
      "Fetched unique values for project_name: []\n",
      "Fetching unique values for billing_method in projects for date: 10-21-2024 12:00\n",
      "Fetched schema with data types successfully.\n"
     ]
    },
    {
     "name": "stderr",
     "output_type": "stream",
     "text": [
      "C:\\Users\\Basavaraj\\AppData\\Local\\Temp\\ipykernel_15564\\3907896313.py:40: UserWarning: pandas only supports SQLAlchemy connectable (engine/connection) or database string URI or sqlite3 DBAPI2 connection. Other DBAPI2 objects are not tested. Please consider using SQLAlchemy.\n",
      "  schema_df = pd.read_sql(query, self.connection)\n",
      "C:\\Users\\Basavaraj\\AppData\\Local\\Temp\\ipykernel_15564\\3907896313.py:68: UserWarning: pandas only supports SQLAlchemy connectable (engine/connection) or database string URI or sqlite3 DBAPI2 connection. Other DBAPI2 objects are not tested. Please consider using SQLAlchemy.\n",
      "  df = pd.read_sql(query, self.connection, params=(current_datetime,))\n",
      "C:\\Users\\Basavaraj\\AppData\\Local\\Temp\\ipykernel_15564\\3907896313.py:40: UserWarning: pandas only supports SQLAlchemy connectable (engine/connection) or database string URI or sqlite3 DBAPI2 connection. Other DBAPI2 objects are not tested. Please consider using SQLAlchemy.\n",
      "  schema_df = pd.read_sql(query, self.connection)\n",
      "C:\\Users\\Basavaraj\\AppData\\Local\\Temp\\ipykernel_15564\\3907896313.py:40: UserWarning: pandas only supports SQLAlchemy connectable (engine/connection) or database string URI or sqlite3 DBAPI2 connection. Other DBAPI2 objects are not tested. Please consider using SQLAlchemy.\n",
      "  schema_df = pd.read_sql(query, self.connection)\n",
      "C:\\Users\\Basavaraj\\AppData\\Local\\Temp\\ipykernel_15564\\3907896313.py:40: UserWarning: pandas only supports SQLAlchemy connectable (engine/connection) or database string URI or sqlite3 DBAPI2 connection. Other DBAPI2 objects are not tested. Please consider using SQLAlchemy.\n",
      "  schema_df = pd.read_sql(query, self.connection)\n",
      "C:\\Users\\Basavaraj\\AppData\\Local\\Temp\\ipykernel_15564\\3907896313.py:68: UserWarning: pandas only supports SQLAlchemy connectable (engine/connection) or database string URI or sqlite3 DBAPI2 connection. Other DBAPI2 objects are not tested. Please consider using SQLAlchemy.\n",
      "  df = pd.read_sql(query, self.connection, params=(current_datetime,))\n",
      "C:\\Users\\Basavaraj\\AppData\\Local\\Temp\\ipykernel_15564\\3907896313.py:40: UserWarning: pandas only supports SQLAlchemy connectable (engine/connection) or database string URI or sqlite3 DBAPI2 connection. Other DBAPI2 objects are not tested. Please consider using SQLAlchemy.\n",
      "  schema_df = pd.read_sql(query, self.connection)\n",
      "C:\\Users\\Basavaraj\\AppData\\Local\\Temp\\ipykernel_15564\\3907896313.py:40: UserWarning: pandas only supports SQLAlchemy connectable (engine/connection) or database string URI or sqlite3 DBAPI2 connection. Other DBAPI2 objects are not tested. Please consider using SQLAlchemy.\n",
      "  schema_df = pd.read_sql(query, self.connection)\n",
      "C:\\Users\\Basavaraj\\AppData\\Local\\Temp\\ipykernel_15564\\3907896313.py:40: UserWarning: pandas only supports SQLAlchemy connectable (engine/connection) or database string URI or sqlite3 DBAPI2 connection. Other DBAPI2 objects are not tested. Please consider using SQLAlchemy.\n",
      "  schema_df = pd.read_sql(query, self.connection)\n",
      "C:\\Users\\Basavaraj\\AppData\\Local\\Temp\\ipykernel_15564\\3907896313.py:68: UserWarning: pandas only supports SQLAlchemy connectable (engine/connection) or database string URI or sqlite3 DBAPI2 connection. Other DBAPI2 objects are not tested. Please consider using SQLAlchemy.\n",
      "  df = pd.read_sql(query, self.connection, params=(current_datetime,))\n",
      "C:\\Users\\Basavaraj\\AppData\\Local\\Temp\\ipykernel_15564\\3907896313.py:40: UserWarning: pandas only supports SQLAlchemy connectable (engine/connection) or database string URI or sqlite3 DBAPI2 connection. Other DBAPI2 objects are not tested. Please consider using SQLAlchemy.\n",
      "  schema_df = pd.read_sql(query, self.connection)\n",
      "C:\\Users\\Basavaraj\\AppData\\Local\\Temp\\ipykernel_15564\\3907896313.py:40: UserWarning: pandas only supports SQLAlchemy connectable (engine/connection) or database string URI or sqlite3 DBAPI2 connection. Other DBAPI2 objects are not tested. Please consider using SQLAlchemy.\n",
      "  schema_df = pd.read_sql(query, self.connection)\n",
      "C:\\Users\\Basavaraj\\AppData\\Local\\Temp\\ipykernel_15564\\3907896313.py:40: UserWarning: pandas only supports SQLAlchemy connectable (engine/connection) or database string URI or sqlite3 DBAPI2 connection. Other DBAPI2 objects are not tested. Please consider using SQLAlchemy.\n",
      "  schema_df = pd.read_sql(query, self.connection)\n",
      "C:\\Users\\Basavaraj\\AppData\\Local\\Temp\\ipykernel_15564\\3907896313.py:68: UserWarning: pandas only supports SQLAlchemy connectable (engine/connection) or database string URI or sqlite3 DBAPI2 connection. Other DBAPI2 objects are not tested. Please consider using SQLAlchemy.\n",
      "  df = pd.read_sql(query, self.connection, params=(current_datetime,))\n",
      "C:\\Users\\Basavaraj\\AppData\\Local\\Temp\\ipykernel_15564\\3907896313.py:40: UserWarning: pandas only supports SQLAlchemy connectable (engine/connection) or database string URI or sqlite3 DBAPI2 connection. Other DBAPI2 objects are not tested. Please consider using SQLAlchemy.\n",
      "  schema_df = pd.read_sql(query, self.connection)\n"
     ]
    },
    {
     "name": "stdout",
     "output_type": "stream",
     "text": [
      "Fetched schema with data types successfully.\n",
      "Fetched schema with data types successfully.\n",
      "Fetched unique values for billing_method: []\n",
      "Fetching unique values for delay_days_as_on_date in projects for date: 10-21-2024 12:00\n",
      "Fetched schema with data types successfully.\n",
      "Fetched schema with data types successfully.\n",
      "Fetched schema with data types successfully.\n",
      "Fetched unique values for delay_days_as_on_date: []\n",
      "Fetching unique values for end_date in projects for date: 10-21-2024 12:00\n",
      "Fetched schema with data types successfully.\n",
      "Fetched schema with data types successfully.\n",
      "Fetched schema with data types successfully.\n",
      "Fetched unique values for end_date: []\n",
      "Fetching unique values for is_tnm in projects for date: 10-21-2024 12:00\n",
      "Fetched schema with data types successfully.\n",
      "Fetched schema with data types successfully.\n",
      "Fetched schema with data types successfully.\n"
     ]
    },
    {
     "name": "stderr",
     "output_type": "stream",
     "text": [
      "C:\\Users\\Basavaraj\\AppData\\Local\\Temp\\ipykernel_15564\\3907896313.py:40: UserWarning: pandas only supports SQLAlchemy connectable (engine/connection) or database string URI or sqlite3 DBAPI2 connection. Other DBAPI2 objects are not tested. Please consider using SQLAlchemy.\n",
      "  schema_df = pd.read_sql(query, self.connection)\n",
      "C:\\Users\\Basavaraj\\AppData\\Local\\Temp\\ipykernel_15564\\3907896313.py:40: UserWarning: pandas only supports SQLAlchemy connectable (engine/connection) or database string URI or sqlite3 DBAPI2 connection. Other DBAPI2 objects are not tested. Please consider using SQLAlchemy.\n",
      "  schema_df = pd.read_sql(query, self.connection)\n",
      "C:\\Users\\Basavaraj\\AppData\\Local\\Temp\\ipykernel_15564\\3907896313.py:68: UserWarning: pandas only supports SQLAlchemy connectable (engine/connection) or database string URI or sqlite3 DBAPI2 connection. Other DBAPI2 objects are not tested. Please consider using SQLAlchemy.\n",
      "  df = pd.read_sql(query, self.connection, params=(current_datetime,))\n",
      "C:\\Users\\Basavaraj\\AppData\\Local\\Temp\\ipykernel_15564\\3907896313.py:40: UserWarning: pandas only supports SQLAlchemy connectable (engine/connection) or database string URI or sqlite3 DBAPI2 connection. Other DBAPI2 objects are not tested. Please consider using SQLAlchemy.\n",
      "  schema_df = pd.read_sql(query, self.connection)\n",
      "C:\\Users\\Basavaraj\\AppData\\Local\\Temp\\ipykernel_15564\\3907896313.py:40: UserWarning: pandas only supports SQLAlchemy connectable (engine/connection) or database string URI or sqlite3 DBAPI2 connection. Other DBAPI2 objects are not tested. Please consider using SQLAlchemy.\n",
      "  schema_df = pd.read_sql(query, self.connection)\n",
      "C:\\Users\\Basavaraj\\AppData\\Local\\Temp\\ipykernel_15564\\3907896313.py:40: UserWarning: pandas only supports SQLAlchemy connectable (engine/connection) or database string URI or sqlite3 DBAPI2 connection. Other DBAPI2 objects are not tested. Please consider using SQLAlchemy.\n",
      "  schema_df = pd.read_sql(query, self.connection)\n",
      "C:\\Users\\Basavaraj\\AppData\\Local\\Temp\\ipykernel_15564\\3907896313.py:68: UserWarning: pandas only supports SQLAlchemy connectable (engine/connection) or database string URI or sqlite3 DBAPI2 connection. Other DBAPI2 objects are not tested. Please consider using SQLAlchemy.\n",
      "  df = pd.read_sql(query, self.connection, params=(current_datetime,))\n"
     ]
    },
    {
     "name": "stdout",
     "output_type": "stream",
     "text": [
      "Fetched unique values for is_tnm: []\n",
      "Fetching unique values for task_prefix in projects for date: 10-21-2024 12:00\n",
      "Fetched schema with data types successfully.\n",
      "Fetched schema with data types successfully.\n",
      "Fetched schema with data types successfully.\n",
      "Fetched unique values for task_prefix: []\n",
      "Fetching unique values for completed_on in projects for date: 10-21-2024 12:00\n",
      "Fetched schema with data types successfully.\n",
      "Fetched schema with data types successfully.\n"
     ]
    },
    {
     "name": "stderr",
     "output_type": "stream",
     "text": [
      "C:\\Users\\Basavaraj\\AppData\\Local\\Temp\\ipykernel_15564\\3907896313.py:40: UserWarning: pandas only supports SQLAlchemy connectable (engine/connection) or database string URI or sqlite3 DBAPI2 connection. Other DBAPI2 objects are not tested. Please consider using SQLAlchemy.\n",
      "  schema_df = pd.read_sql(query, self.connection)\n",
      "C:\\Users\\Basavaraj\\AppData\\Local\\Temp\\ipykernel_15564\\3907896313.py:40: UserWarning: pandas only supports SQLAlchemy connectable (engine/connection) or database string URI or sqlite3 DBAPI2 connection. Other DBAPI2 objects are not tested. Please consider using SQLAlchemy.\n",
      "  schema_df = pd.read_sql(query, self.connection)\n",
      "C:\\Users\\Basavaraj\\AppData\\Local\\Temp\\ipykernel_15564\\3907896313.py:40: UserWarning: pandas only supports SQLAlchemy connectable (engine/connection) or database string URI or sqlite3 DBAPI2 connection. Other DBAPI2 objects are not tested. Please consider using SQLAlchemy.\n",
      "  schema_df = pd.read_sql(query, self.connection)\n",
      "C:\\Users\\Basavaraj\\AppData\\Local\\Temp\\ipykernel_15564\\3907896313.py:68: UserWarning: pandas only supports SQLAlchemy connectable (engine/connection) or database string URI or sqlite3 DBAPI2 connection. Other DBAPI2 objects are not tested. Please consider using SQLAlchemy.\n",
      "  df = pd.read_sql(query, self.connection, params=(current_datetime,))\n",
      "C:\\Users\\Basavaraj\\AppData\\Local\\Temp\\ipykernel_15564\\3907896313.py:40: UserWarning: pandas only supports SQLAlchemy connectable (engine/connection) or database string URI or sqlite3 DBAPI2 connection. Other DBAPI2 objects are not tested. Please consider using SQLAlchemy.\n",
      "  schema_df = pd.read_sql(query, self.connection)\n",
      "C:\\Users\\Basavaraj\\AppData\\Local\\Temp\\ipykernel_15564\\3907896313.py:40: UserWarning: pandas only supports SQLAlchemy connectable (engine/connection) or database string URI or sqlite3 DBAPI2 connection. Other DBAPI2 objects are not tested. Please consider using SQLAlchemy.\n",
      "  schema_df = pd.read_sql(query, self.connection)\n",
      "C:\\Users\\Basavaraj\\AppData\\Local\\Temp\\ipykernel_15564\\3907896313.py:40: UserWarning: pandas only supports SQLAlchemy connectable (engine/connection) or database string URI or sqlite3 DBAPI2 connection. Other DBAPI2 objects are not tested. Please consider using SQLAlchemy.\n",
      "  schema_df = pd.read_sql(query, self.connection)\n"
     ]
    },
    {
     "name": "stdout",
     "output_type": "stream",
     "text": [
      "Fetched schema with data types successfully.\n",
      "Fetched unique values for completed_on: []\n",
      "Fetching unique values for project_efforts in projects for date: 10-21-2024 12:00\n",
      "Fetched schema with data types successfully.\n",
      "Fetched schema with data types successfully.\n",
      "Fetched schema with data types successfully.\n",
      "Fetched unique values for project_efforts: []\n",
      "Fetching unique values for account_name in projects for date: 10-21-2024 12:00\n",
      "Fetched schema with data types successfully.\n"
     ]
    },
    {
     "name": "stderr",
     "output_type": "stream",
     "text": [
      "C:\\Users\\Basavaraj\\AppData\\Local\\Temp\\ipykernel_15564\\3907896313.py:68: UserWarning: pandas only supports SQLAlchemy connectable (engine/connection) or database string URI or sqlite3 DBAPI2 connection. Other DBAPI2 objects are not tested. Please consider using SQLAlchemy.\n",
      "  df = pd.read_sql(query, self.connection, params=(current_datetime,))\n",
      "C:\\Users\\Basavaraj\\AppData\\Local\\Temp\\ipykernel_15564\\3907896313.py:40: UserWarning: pandas only supports SQLAlchemy connectable (engine/connection) or database string URI or sqlite3 DBAPI2 connection. Other DBAPI2 objects are not tested. Please consider using SQLAlchemy.\n",
      "  schema_df = pd.read_sql(query, self.connection)\n",
      "C:\\Users\\Basavaraj\\AppData\\Local\\Temp\\ipykernel_15564\\3907896313.py:40: UserWarning: pandas only supports SQLAlchemy connectable (engine/connection) or database string URI or sqlite3 DBAPI2 connection. Other DBAPI2 objects are not tested. Please consider using SQLAlchemy.\n",
      "  schema_df = pd.read_sql(query, self.connection)\n",
      "C:\\Users\\Basavaraj\\AppData\\Local\\Temp\\ipykernel_15564\\3907896313.py:40: UserWarning: pandas only supports SQLAlchemy connectable (engine/connection) or database string URI or sqlite3 DBAPI2 connection. Other DBAPI2 objects are not tested. Please consider using SQLAlchemy.\n",
      "  schema_df = pd.read_sql(query, self.connection)\n",
      "C:\\Users\\Basavaraj\\AppData\\Local\\Temp\\ipykernel_15564\\3907896313.py:68: UserWarning: pandas only supports SQLAlchemy connectable (engine/connection) or database string URI or sqlite3 DBAPI2 connection. Other DBAPI2 objects are not tested. Please consider using SQLAlchemy.\n",
      "  df = pd.read_sql(query, self.connection, params=(current_datetime,))\n",
      "C:\\Users\\Basavaraj\\AppData\\Local\\Temp\\ipykernel_15564\\3907896313.py:40: UserWarning: pandas only supports SQLAlchemy connectable (engine/connection) or database string URI or sqlite3 DBAPI2 connection. Other DBAPI2 objects are not tested. Please consider using SQLAlchemy.\n",
      "  schema_df = pd.read_sql(query, self.connection)\n",
      "C:\\Users\\Basavaraj\\AppData\\Local\\Temp\\ipykernel_15564\\3907896313.py:40: UserWarning: pandas only supports SQLAlchemy connectable (engine/connection) or database string URI or sqlite3 DBAPI2 connection. Other DBAPI2 objects are not tested. Please consider using SQLAlchemy.\n",
      "  schema_df = pd.read_sql(query, self.connection)\n"
     ]
    },
    {
     "name": "stdout",
     "output_type": "stream",
     "text": [
      "Fetched schema with data types successfully.\n",
      "Fetched schema with data types successfully.\n",
      "Fetched unique values for account_name: []\n",
      "Fetching unique values for bug_prefix in projects for date: 10-21-2024 12:00\n",
      "Fetched schema with data types successfully.\n",
      "Fetched schema with data types successfully.\n",
      "Fetched schema with data types successfully.\n",
      "Fetched unique values for bug_prefix: []\n",
      "Fetching unique values for start_date in projects for date: 10-21-2024 12:00\n"
     ]
    },
    {
     "name": "stderr",
     "output_type": "stream",
     "text": [
      "C:\\Users\\Basavaraj\\AppData\\Local\\Temp\\ipykernel_15564\\3907896313.py:40: UserWarning: pandas only supports SQLAlchemy connectable (engine/connection) or database string URI or sqlite3 DBAPI2 connection. Other DBAPI2 objects are not tested. Please consider using SQLAlchemy.\n",
      "  schema_df = pd.read_sql(query, self.connection)\n",
      "C:\\Users\\Basavaraj\\AppData\\Local\\Temp\\ipykernel_15564\\3907896313.py:68: UserWarning: pandas only supports SQLAlchemy connectable (engine/connection) or database string URI or sqlite3 DBAPI2 connection. Other DBAPI2 objects are not tested. Please consider using SQLAlchemy.\n",
      "  df = pd.read_sql(query, self.connection, params=(current_datetime,))\n",
      "C:\\Users\\Basavaraj\\AppData\\Local\\Temp\\ipykernel_15564\\3907896313.py:40: UserWarning: pandas only supports SQLAlchemy connectable (engine/connection) or database string URI or sqlite3 DBAPI2 connection. Other DBAPI2 objects are not tested. Please consider using SQLAlchemy.\n",
      "  schema_df = pd.read_sql(query, self.connection)\n",
      "C:\\Users\\Basavaraj\\AppData\\Local\\Temp\\ipykernel_15564\\3907896313.py:40: UserWarning: pandas only supports SQLAlchemy connectable (engine/connection) or database string URI or sqlite3 DBAPI2 connection. Other DBAPI2 objects are not tested. Please consider using SQLAlchemy.\n",
      "  schema_df = pd.read_sql(query, self.connection)\n",
      "C:\\Users\\Basavaraj\\AppData\\Local\\Temp\\ipykernel_15564\\3907896313.py:40: UserWarning: pandas only supports SQLAlchemy connectable (engine/connection) or database string URI or sqlite3 DBAPI2 connection. Other DBAPI2 objects are not tested. Please consider using SQLAlchemy.\n",
      "  schema_df = pd.read_sql(query, self.connection)\n",
      "C:\\Users\\Basavaraj\\AppData\\Local\\Temp\\ipykernel_15564\\3907896313.py:68: UserWarning: pandas only supports SQLAlchemy connectable (engine/connection) or database string URI or sqlite3 DBAPI2 connection. Other DBAPI2 objects are not tested. Please consider using SQLAlchemy.\n",
      "  df = pd.read_sql(query, self.connection, params=(current_datetime,))\n",
      "C:\\Users\\Basavaraj\\AppData\\Local\\Temp\\ipykernel_15564\\3907896313.py:40: UserWarning: pandas only supports SQLAlchemy connectable (engine/connection) or database string URI or sqlite3 DBAPI2 connection. Other DBAPI2 objects are not tested. Please consider using SQLAlchemy.\n",
      "  schema_df = pd.read_sql(query, self.connection)\n"
     ]
    },
    {
     "name": "stdout",
     "output_type": "stream",
     "text": [
      "Fetched schema with data types successfully.\n",
      "Fetched schema with data types successfully.\n",
      "Fetched schema with data types successfully.\n",
      "Fetched unique values for start_date: []\n",
      "Fetching unique values for tags in projects for date: 10-21-2024 12:00\n",
      "Fetched schema with data types successfully.\n",
      "Fetched schema with data types successfully.\n",
      "Fetched schema with data types successfully.\n"
     ]
    },
    {
     "name": "stderr",
     "output_type": "stream",
     "text": [
      "C:\\Users\\Basavaraj\\AppData\\Local\\Temp\\ipykernel_15564\\3907896313.py:40: UserWarning: pandas only supports SQLAlchemy connectable (engine/connection) or database string URI or sqlite3 DBAPI2 connection. Other DBAPI2 objects are not tested. Please consider using SQLAlchemy.\n",
      "  schema_df = pd.read_sql(query, self.connection)\n",
      "C:\\Users\\Basavaraj\\AppData\\Local\\Temp\\ipykernel_15564\\3907896313.py:40: UserWarning: pandas only supports SQLAlchemy connectable (engine/connection) or database string URI or sqlite3 DBAPI2 connection. Other DBAPI2 objects are not tested. Please consider using SQLAlchemy.\n",
      "  schema_df = pd.read_sql(query, self.connection)\n",
      "C:\\Users\\Basavaraj\\AppData\\Local\\Temp\\ipykernel_15564\\3907896313.py:68: UserWarning: pandas only supports SQLAlchemy connectable (engine/connection) or database string URI or sqlite3 DBAPI2 connection. Other DBAPI2 objects are not tested. Please consider using SQLAlchemy.\n",
      "  df = pd.read_sql(query, self.connection, params=(current_datetime,))\n",
      "C:\\Users\\Basavaraj\\AppData\\Local\\Temp\\ipykernel_15564\\3907896313.py:40: UserWarning: pandas only supports SQLAlchemy connectable (engine/connection) or database string URI or sqlite3 DBAPI2 connection. Other DBAPI2 objects are not tested. Please consider using SQLAlchemy.\n",
      "  schema_df = pd.read_sql(query, self.connection)\n",
      "C:\\Users\\Basavaraj\\AppData\\Local\\Temp\\ipykernel_15564\\3907896313.py:40: UserWarning: pandas only supports SQLAlchemy connectable (engine/connection) or database string URI or sqlite3 DBAPI2 connection. Other DBAPI2 objects are not tested. Please consider using SQLAlchemy.\n",
      "  schema_df = pd.read_sql(query, self.connection)\n",
      "C:\\Users\\Basavaraj\\AppData\\Local\\Temp\\ipykernel_15564\\3907896313.py:40: UserWarning: pandas only supports SQLAlchemy connectable (engine/connection) or database string URI or sqlite3 DBAPI2 connection. Other DBAPI2 objects are not tested. Please consider using SQLAlchemy.\n",
      "  schema_df = pd.read_sql(query, self.connection)\n",
      "C:\\Users\\Basavaraj\\AppData\\Local\\Temp\\ipykernel_15564\\3907896313.py:68: UserWarning: pandas only supports SQLAlchemy connectable (engine/connection) or database string URI or sqlite3 DBAPI2 connection. Other DBAPI2 objects are not tested. Please consider using SQLAlchemy.\n",
      "  df = pd.read_sql(query, self.connection, params=(current_datetime,))\n"
     ]
    },
    {
     "name": "stdout",
     "output_type": "stream",
     "text": [
      "Fetched unique values for tags: []\n",
      "Fetching unique values for actual_duration_days in projects for date: 10-21-2024 12:00\n",
      "Fetched schema with data types successfully.\n",
      "Fetched schema with data types successfully.\n",
      "Fetched schema with data types successfully.\n",
      "Fetched unique values for actual_duration_days: []\n",
      "Fetching unique values for required_apps in projects for date: 10-21-2024 12:00\n",
      "Fetched schema with data types successfully.\n"
     ]
    },
    {
     "name": "stderr",
     "output_type": "stream",
     "text": [
      "C:\\Users\\Basavaraj\\AppData\\Local\\Temp\\ipykernel_15564\\3907896313.py:40: UserWarning: pandas only supports SQLAlchemy connectable (engine/connection) or database string URI or sqlite3 DBAPI2 connection. Other DBAPI2 objects are not tested. Please consider using SQLAlchemy.\n",
      "  schema_df = pd.read_sql(query, self.connection)\n",
      "C:\\Users\\Basavaraj\\AppData\\Local\\Temp\\ipykernel_15564\\3907896313.py:40: UserWarning: pandas only supports SQLAlchemy connectable (engine/connection) or database string URI or sqlite3 DBAPI2 connection. Other DBAPI2 objects are not tested. Please consider using SQLAlchemy.\n",
      "  schema_df = pd.read_sql(query, self.connection)\n",
      "C:\\Users\\Basavaraj\\AppData\\Local\\Temp\\ipykernel_15564\\3907896313.py:40: UserWarning: pandas only supports SQLAlchemy connectable (engine/connection) or database string URI or sqlite3 DBAPI2 connection. Other DBAPI2 objects are not tested. Please consider using SQLAlchemy.\n",
      "  schema_df = pd.read_sql(query, self.connection)\n",
      "C:\\Users\\Basavaraj\\AppData\\Local\\Temp\\ipykernel_15564\\3907896313.py:68: UserWarning: pandas only supports SQLAlchemy connectable (engine/connection) or database string URI or sqlite3 DBAPI2 connection. Other DBAPI2 objects are not tested. Please consider using SQLAlchemy.\n",
      "  df = pd.read_sql(query, self.connection, params=(current_datetime,))\n",
      "C:\\Users\\Basavaraj\\AppData\\Local\\Temp\\ipykernel_15564\\3907896313.py:40: UserWarning: pandas only supports SQLAlchemy connectable (engine/connection) or database string URI or sqlite3 DBAPI2 connection. Other DBAPI2 objects are not tested. Please consider using SQLAlchemy.\n",
      "  schema_df = pd.read_sql(query, self.connection)\n",
      "C:\\Users\\Basavaraj\\AppData\\Local\\Temp\\ipykernel_15564\\3907896313.py:40: UserWarning: pandas only supports SQLAlchemy connectable (engine/connection) or database string URI or sqlite3 DBAPI2 connection. Other DBAPI2 objects are not tested. Please consider using SQLAlchemy.\n",
      "  schema_df = pd.read_sql(query, self.connection)\n"
     ]
    },
    {
     "name": "stdout",
     "output_type": "stream",
     "text": [
      "Fetched schema with data types successfully.\n",
      "Fetched schema with data types successfully.\n",
      "Fetched unique values for required_apps: []\n",
      "Fetching unique values for committed_date in projects for date: 10-21-2024 12:00\n",
      "Fetched schema with data types successfully.\n",
      "Fetched schema with data types successfully.\n",
      "Fetched schema with data types successfully.\n",
      "Fetched unique values for committed_date: []\n",
      "Fetching unique values for delay_days in projects for date: 10-21-2024 12:00\n"
     ]
    },
    {
     "name": "stderr",
     "output_type": "stream",
     "text": [
      "C:\\Users\\Basavaraj\\AppData\\Local\\Temp\\ipykernel_15564\\3907896313.py:40: UserWarning: pandas only supports SQLAlchemy connectable (engine/connection) or database string URI or sqlite3 DBAPI2 connection. Other DBAPI2 objects are not tested. Please consider using SQLAlchemy.\n",
      "  schema_df = pd.read_sql(query, self.connection)\n",
      "C:\\Users\\Basavaraj\\AppData\\Local\\Temp\\ipykernel_15564\\3907896313.py:68: UserWarning: pandas only supports SQLAlchemy connectable (engine/connection) or database string URI or sqlite3 DBAPI2 connection. Other DBAPI2 objects are not tested. Please consider using SQLAlchemy.\n",
      "  df = pd.read_sql(query, self.connection, params=(current_datetime,))\n",
      "C:\\Users\\Basavaraj\\AppData\\Local\\Temp\\ipykernel_15564\\3907896313.py:40: UserWarning: pandas only supports SQLAlchemy connectable (engine/connection) or database string URI or sqlite3 DBAPI2 connection. Other DBAPI2 objects are not tested. Please consider using SQLAlchemy.\n",
      "  schema_df = pd.read_sql(query, self.connection)\n",
      "C:\\Users\\Basavaraj\\AppData\\Local\\Temp\\ipykernel_15564\\3907896313.py:40: UserWarning: pandas only supports SQLAlchemy connectable (engine/connection) or database string URI or sqlite3 DBAPI2 connection. Other DBAPI2 objects are not tested. Please consider using SQLAlchemy.\n",
      "  schema_df = pd.read_sql(query, self.connection)\n",
      "C:\\Users\\Basavaraj\\AppData\\Local\\Temp\\ipykernel_15564\\3907896313.py:40: UserWarning: pandas only supports SQLAlchemy connectable (engine/connection) or database string URI or sqlite3 DBAPI2 connection. Other DBAPI2 objects are not tested. Please consider using SQLAlchemy.\n",
      "  schema_df = pd.read_sql(query, self.connection)\n",
      "C:\\Users\\Basavaraj\\AppData\\Local\\Temp\\ipykernel_15564\\3907896313.py:68: UserWarning: pandas only supports SQLAlchemy connectable (engine/connection) or database string URI or sqlite3 DBAPI2 connection. Other DBAPI2 objects are not tested. Please consider using SQLAlchemy.\n",
      "  df = pd.read_sql(query, self.connection, params=(current_datetime,))\n",
      "C:\\Users\\Basavaraj\\AppData\\Local\\Temp\\ipykernel_15564\\3907896313.py:40: UserWarning: pandas only supports SQLAlchemy connectable (engine/connection) or database string URI or sqlite3 DBAPI2 connection. Other DBAPI2 objects are not tested. Please consider using SQLAlchemy.\n",
      "  schema_df = pd.read_sql(query, self.connection)\n"
     ]
    },
    {
     "name": "stdout",
     "output_type": "stream",
     "text": [
      "Fetched schema with data types successfully.\n",
      "Fetched schema with data types successfully.\n",
      "Fetched schema with data types successfully.\n",
      "Fetched unique values for delay_days: []\n",
      "Fetching unique values for delivery_team in projects for date: 10-21-2024 12:00\n",
      "Fetched schema with data types successfully.\n",
      "Fetched schema with data types successfully.\n",
      "Fetched schema with data types successfully.\n"
     ]
    },
    {
     "name": "stderr",
     "output_type": "stream",
     "text": [
      "C:\\Users\\Basavaraj\\AppData\\Local\\Temp\\ipykernel_15564\\3907896313.py:40: UserWarning: pandas only supports SQLAlchemy connectable (engine/connection) or database string URI or sqlite3 DBAPI2 connection. Other DBAPI2 objects are not tested. Please consider using SQLAlchemy.\n",
      "  schema_df = pd.read_sql(query, self.connection)\n",
      "C:\\Users\\Basavaraj\\AppData\\Local\\Temp\\ipykernel_15564\\3907896313.py:40: UserWarning: pandas only supports SQLAlchemy connectable (engine/connection) or database string URI or sqlite3 DBAPI2 connection. Other DBAPI2 objects are not tested. Please consider using SQLAlchemy.\n",
      "  schema_df = pd.read_sql(query, self.connection)\n",
      "C:\\Users\\Basavaraj\\AppData\\Local\\Temp\\ipykernel_15564\\3907896313.py:68: UserWarning: pandas only supports SQLAlchemy connectable (engine/connection) or database string URI or sqlite3 DBAPI2 connection. Other DBAPI2 objects are not tested. Please consider using SQLAlchemy.\n",
      "  df = pd.read_sql(query, self.connection, params=(current_datetime,))\n",
      "C:\\Users\\Basavaraj\\AppData\\Local\\Temp\\ipykernel_15564\\3907896313.py:40: UserWarning: pandas only supports SQLAlchemy connectable (engine/connection) or database string URI or sqlite3 DBAPI2 connection. Other DBAPI2 objects are not tested. Please consider using SQLAlchemy.\n",
      "  schema_df = pd.read_sql(query, self.connection)\n",
      "C:\\Users\\Basavaraj\\AppData\\Local\\Temp\\ipykernel_15564\\3907896313.py:40: UserWarning: pandas only supports SQLAlchemy connectable (engine/connection) or database string URI or sqlite3 DBAPI2 connection. Other DBAPI2 objects are not tested. Please consider using SQLAlchemy.\n",
      "  schema_df = pd.read_sql(query, self.connection)\n",
      "C:\\Users\\Basavaraj\\AppData\\Local\\Temp\\ipykernel_15564\\3907896313.py:40: UserWarning: pandas only supports SQLAlchemy connectable (engine/connection) or database string URI or sqlite3 DBAPI2 connection. Other DBAPI2 objects are not tested. Please consider using SQLAlchemy.\n",
      "  schema_df = pd.read_sql(query, self.connection)\n",
      "C:\\Users\\Basavaraj\\AppData\\Local\\Temp\\ipykernel_15564\\3907896313.py:68: UserWarning: pandas only supports SQLAlchemy connectable (engine/connection) or database string URI or sqlite3 DBAPI2 connection. Other DBAPI2 objects are not tested. Please consider using SQLAlchemy.\n",
      "  df = pd.read_sql(query, self.connection, params=(current_datetime,))\n"
     ]
    },
    {
     "name": "stdout",
     "output_type": "stream",
     "text": [
      "Fetched unique values for delivery_team: []\n",
      "Fetching unique values for planned_duration_hours in projects for date: 10-21-2024 12:00\n",
      "Fetched schema with data types successfully.\n",
      "Fetched schema with data types successfully.\n",
      "Fetched schema with data types successfully.\n",
      "Fetched unique values for planned_duration_hours: []\n",
      "Fetching unique values for health_status in projects for date: 10-21-2024 12:00\n",
      "Fetched schema with data types successfully.\n",
      "Fetched schema with data types successfully.\n"
     ]
    },
    {
     "name": "stderr",
     "output_type": "stream",
     "text": [
      "C:\\Users\\Basavaraj\\AppData\\Local\\Temp\\ipykernel_15564\\3907896313.py:40: UserWarning: pandas only supports SQLAlchemy connectable (engine/connection) or database string URI or sqlite3 DBAPI2 connection. Other DBAPI2 objects are not tested. Please consider using SQLAlchemy.\n",
      "  schema_df = pd.read_sql(query, self.connection)\n",
      "C:\\Users\\Basavaraj\\AppData\\Local\\Temp\\ipykernel_15564\\3907896313.py:40: UserWarning: pandas only supports SQLAlchemy connectable (engine/connection) or database string URI or sqlite3 DBAPI2 connection. Other DBAPI2 objects are not tested. Please consider using SQLAlchemy.\n",
      "  schema_df = pd.read_sql(query, self.connection)\n",
      "C:\\Users\\Basavaraj\\AppData\\Local\\Temp\\ipykernel_15564\\3907896313.py:40: UserWarning: pandas only supports SQLAlchemy connectable (engine/connection) or database string URI or sqlite3 DBAPI2 connection. Other DBAPI2 objects are not tested. Please consider using SQLAlchemy.\n",
      "  schema_df = pd.read_sql(query, self.connection)\n",
      "C:\\Users\\Basavaraj\\AppData\\Local\\Temp\\ipykernel_15564\\3907896313.py:68: UserWarning: pandas only supports SQLAlchemy connectable (engine/connection) or database string URI or sqlite3 DBAPI2 connection. Other DBAPI2 objects are not tested. Please consider using SQLAlchemy.\n",
      "  df = pd.read_sql(query, self.connection, params=(current_datetime,))\n",
      "C:\\Users\\Basavaraj\\AppData\\Local\\Temp\\ipykernel_15564\\3907896313.py:40: UserWarning: pandas only supports SQLAlchemy connectable (engine/connection) or database string URI or sqlite3 DBAPI2 connection. Other DBAPI2 objects are not tested. Please consider using SQLAlchemy.\n",
      "  schema_df = pd.read_sql(query, self.connection)\n",
      "C:\\Users\\Basavaraj\\AppData\\Local\\Temp\\ipykernel_15564\\3907896313.py:40: UserWarning: pandas only supports SQLAlchemy connectable (engine/connection) or database string URI or sqlite3 DBAPI2 connection. Other DBAPI2 objects are not tested. Please consider using SQLAlchemy.\n",
      "  schema_df = pd.read_sql(query, self.connection)\n",
      "C:\\Users\\Basavaraj\\AppData\\Local\\Temp\\ipykernel_15564\\3907896313.py:40: UserWarning: pandas only supports SQLAlchemy connectable (engine/connection) or database string URI or sqlite3 DBAPI2 connection. Other DBAPI2 objects are not tested. Please consider using SQLAlchemy.\n",
      "  schema_df = pd.read_sql(query, self.connection)\n"
     ]
    },
    {
     "name": "stdout",
     "output_type": "stream",
     "text": [
      "Fetched schema with data types successfully.\n",
      "Fetched unique values for health_status: []\n",
      "Fetching unique values for updated_by in tags for date: 10-21-2024 12:00\n",
      "Fetched schema with data types successfully.\n",
      "Fetched schema with data types successfully.\n",
      "Fetched schema with data types successfully.\n",
      "Fetched unique values for updated_by: []\n",
      "Fetching unique values for tag_colour in tags for date: 10-21-2024 12:00\n",
      "Fetched schema with data types successfully.\n"
     ]
    },
    {
     "name": "stderr",
     "output_type": "stream",
     "text": [
      "C:\\Users\\Basavaraj\\AppData\\Local\\Temp\\ipykernel_15564\\3907896313.py:68: UserWarning: pandas only supports SQLAlchemy connectable (engine/connection) or database string URI or sqlite3 DBAPI2 connection. Other DBAPI2 objects are not tested. Please consider using SQLAlchemy.\n",
      "  df = pd.read_sql(query, self.connection, params=(current_datetime,))\n",
      "C:\\Users\\Basavaraj\\AppData\\Local\\Temp\\ipykernel_15564\\3907896313.py:40: UserWarning: pandas only supports SQLAlchemy connectable (engine/connection) or database string URI or sqlite3 DBAPI2 connection. Other DBAPI2 objects are not tested. Please consider using SQLAlchemy.\n",
      "  schema_df = pd.read_sql(query, self.connection)\n",
      "C:\\Users\\Basavaraj\\AppData\\Local\\Temp\\ipykernel_15564\\3907896313.py:40: UserWarning: pandas only supports SQLAlchemy connectable (engine/connection) or database string URI or sqlite3 DBAPI2 connection. Other DBAPI2 objects are not tested. Please consider using SQLAlchemy.\n",
      "  schema_df = pd.read_sql(query, self.connection)\n",
      "C:\\Users\\Basavaraj\\AppData\\Local\\Temp\\ipykernel_15564\\3907896313.py:40: UserWarning: pandas only supports SQLAlchemy connectable (engine/connection) or database string URI or sqlite3 DBAPI2 connection. Other DBAPI2 objects are not tested. Please consider using SQLAlchemy.\n",
      "  schema_df = pd.read_sql(query, self.connection)\n",
      "C:\\Users\\Basavaraj\\AppData\\Local\\Temp\\ipykernel_15564\\3907896313.py:68: UserWarning: pandas only supports SQLAlchemy connectable (engine/connection) or database string URI or sqlite3 DBAPI2 connection. Other DBAPI2 objects are not tested. Please consider using SQLAlchemy.\n",
      "  df = pd.read_sql(query, self.connection, params=(current_datetime,))\n",
      "C:\\Users\\Basavaraj\\AppData\\Local\\Temp\\ipykernel_15564\\3907896313.py:40: UserWarning: pandas only supports SQLAlchemy connectable (engine/connection) or database string URI or sqlite3 DBAPI2 connection. Other DBAPI2 objects are not tested. Please consider using SQLAlchemy.\n",
      "  schema_df = pd.read_sql(query, self.connection)\n",
      "C:\\Users\\Basavaraj\\AppData\\Local\\Temp\\ipykernel_15564\\3907896313.py:40: UserWarning: pandas only supports SQLAlchemy connectable (engine/connection) or database string URI or sqlite3 DBAPI2 connection. Other DBAPI2 objects are not tested. Please consider using SQLAlchemy.\n",
      "  schema_df = pd.read_sql(query, self.connection)\n"
     ]
    },
    {
     "name": "stdout",
     "output_type": "stream",
     "text": [
      "Fetched schema with data types successfully.\n",
      "Fetched schema with data types successfully.\n",
      "Fetched unique values for tag_colour: []\n",
      "Fetching unique values for tag_id in tags for date: 10-21-2024 12:00\n",
      "Fetched schema with data types successfully.\n",
      "Fetched schema with data types successfully.\n",
      "Fetched schema with data types successfully.\n",
      "Fetched unique values for tag_id: []\n",
      "Fetching unique values for tag_name in tags for date: 10-21-2024 12:00\n"
     ]
    },
    {
     "name": "stderr",
     "output_type": "stream",
     "text": [
      "C:\\Users\\Basavaraj\\AppData\\Local\\Temp\\ipykernel_15564\\3907896313.py:40: UserWarning: pandas only supports SQLAlchemy connectable (engine/connection) or database string URI or sqlite3 DBAPI2 connection. Other DBAPI2 objects are not tested. Please consider using SQLAlchemy.\n",
      "  schema_df = pd.read_sql(query, self.connection)\n",
      "C:\\Users\\Basavaraj\\AppData\\Local\\Temp\\ipykernel_15564\\3907896313.py:68: UserWarning: pandas only supports SQLAlchemy connectable (engine/connection) or database string URI or sqlite3 DBAPI2 connection. Other DBAPI2 objects are not tested. Please consider using SQLAlchemy.\n",
      "  df = pd.read_sql(query, self.connection, params=(current_datetime,))\n",
      "C:\\Users\\Basavaraj\\AppData\\Local\\Temp\\ipykernel_15564\\3907896313.py:40: UserWarning: pandas only supports SQLAlchemy connectable (engine/connection) or database string URI or sqlite3 DBAPI2 connection. Other DBAPI2 objects are not tested. Please consider using SQLAlchemy.\n",
      "  schema_df = pd.read_sql(query, self.connection)\n",
      "C:\\Users\\Basavaraj\\AppData\\Local\\Temp\\ipykernel_15564\\3907896313.py:40: UserWarning: pandas only supports SQLAlchemy connectable (engine/connection) or database string URI or sqlite3 DBAPI2 connection. Other DBAPI2 objects are not tested. Please consider using SQLAlchemy.\n",
      "  schema_df = pd.read_sql(query, self.connection)\n",
      "C:\\Users\\Basavaraj\\AppData\\Local\\Temp\\ipykernel_15564\\3907896313.py:40: UserWarning: pandas only supports SQLAlchemy connectable (engine/connection) or database string URI or sqlite3 DBAPI2 connection. Other DBAPI2 objects are not tested. Please consider using SQLAlchemy.\n",
      "  schema_df = pd.read_sql(query, self.connection)\n",
      "C:\\Users\\Basavaraj\\AppData\\Local\\Temp\\ipykernel_15564\\3907896313.py:68: UserWarning: pandas only supports SQLAlchemy connectable (engine/connection) or database string URI or sqlite3 DBAPI2 connection. Other DBAPI2 objects are not tested. Please consider using SQLAlchemy.\n",
      "  df = pd.read_sql(query, self.connection, params=(current_datetime,))\n",
      "C:\\Users\\Basavaraj\\AppData\\Local\\Temp\\ipykernel_15564\\3907896313.py:40: UserWarning: pandas only supports SQLAlchemy connectable (engine/connection) or database string URI or sqlite3 DBAPI2 connection. Other DBAPI2 objects are not tested. Please consider using SQLAlchemy.\n",
      "  schema_df = pd.read_sql(query, self.connection)\n"
     ]
    },
    {
     "name": "stdout",
     "output_type": "stream",
     "text": [
      "Fetched schema with data types successfully.\n",
      "Fetched schema with data types successfully.\n",
      "Fetched schema with data types successfully.\n",
      "Fetched unique values for tag_name: []\n",
      "Fetching unique values for last_updated_time in tags for date: 10-21-2024 12:00\n",
      "Fetched schema with data types successfully.\n",
      "Fetched schema with data types successfully.\n",
      "Fetched schema with data types successfully.\n"
     ]
    },
    {
     "name": "stderr",
     "output_type": "stream",
     "text": [
      "C:\\Users\\Basavaraj\\AppData\\Local\\Temp\\ipykernel_15564\\3907896313.py:40: UserWarning: pandas only supports SQLAlchemy connectable (engine/connection) or database string URI or sqlite3 DBAPI2 connection. Other DBAPI2 objects are not tested. Please consider using SQLAlchemy.\n",
      "  schema_df = pd.read_sql(query, self.connection)\n",
      "C:\\Users\\Basavaraj\\AppData\\Local\\Temp\\ipykernel_15564\\3907896313.py:40: UserWarning: pandas only supports SQLAlchemy connectable (engine/connection) or database string URI or sqlite3 DBAPI2 connection. Other DBAPI2 objects are not tested. Please consider using SQLAlchemy.\n",
      "  schema_df = pd.read_sql(query, self.connection)\n",
      "C:\\Users\\Basavaraj\\AppData\\Local\\Temp\\ipykernel_15564\\3907896313.py:68: UserWarning: pandas only supports SQLAlchemy connectable (engine/connection) or database string URI or sqlite3 DBAPI2 connection. Other DBAPI2 objects are not tested. Please consider using SQLAlchemy.\n",
      "  df = pd.read_sql(query, self.connection, params=(current_datetime,))\n",
      "C:\\Users\\Basavaraj\\AppData\\Local\\Temp\\ipykernel_15564\\3907896313.py:40: UserWarning: pandas only supports SQLAlchemy connectable (engine/connection) or database string URI or sqlite3 DBAPI2 connection. Other DBAPI2 objects are not tested. Please consider using SQLAlchemy.\n",
      "  schema_df = pd.read_sql(query, self.connection)\n",
      "C:\\Users\\Basavaraj\\AppData\\Local\\Temp\\ipykernel_15564\\3907896313.py:40: UserWarning: pandas only supports SQLAlchemy connectable (engine/connection) or database string URI or sqlite3 DBAPI2 connection. Other DBAPI2 objects are not tested. Please consider using SQLAlchemy.\n",
      "  schema_df = pd.read_sql(query, self.connection)\n",
      "C:\\Users\\Basavaraj\\AppData\\Local\\Temp\\ipykernel_15564\\3907896313.py:40: UserWarning: pandas only supports SQLAlchemy connectable (engine/connection) or database string URI or sqlite3 DBAPI2 connection. Other DBAPI2 objects are not tested. Please consider using SQLAlchemy.\n",
      "  schema_df = pd.read_sql(query, self.connection)\n",
      "C:\\Users\\Basavaraj\\AppData\\Local\\Temp\\ipykernel_15564\\3907896313.py:68: UserWarning: pandas only supports SQLAlchemy connectable (engine/connection) or database string URI or sqlite3 DBAPI2 connection. Other DBAPI2 objects are not tested. Please consider using SQLAlchemy.\n",
      "  df = pd.read_sql(query, self.connection, params=(current_datetime,))\n"
     ]
    },
    {
     "name": "stdout",
     "output_type": "stream",
     "text": [
      "Fetched unique values for last_updated_time: []\n",
      "Fetching unique values for created_time in tags for date: 10-21-2024 12:00\n",
      "Fetched schema with data types successfully.\n",
      "Fetched schema with data types successfully.\n",
      "Fetched schema with data types successfully.\n",
      "Fetched unique values for created_time: []\n",
      "Fetching unique values for created_by in tags for date: 10-21-2024 12:00\n",
      "Fetched schema with data types successfully.\n",
      "Fetched schema with data types successfully.\n"
     ]
    },
    {
     "name": "stderr",
     "output_type": "stream",
     "text": [
      "C:\\Users\\Basavaraj\\AppData\\Local\\Temp\\ipykernel_15564\\3907896313.py:40: UserWarning: pandas only supports SQLAlchemy connectable (engine/connection) or database string URI or sqlite3 DBAPI2 connection. Other DBAPI2 objects are not tested. Please consider using SQLAlchemy.\n",
      "  schema_df = pd.read_sql(query, self.connection)\n",
      "C:\\Users\\Basavaraj\\AppData\\Local\\Temp\\ipykernel_15564\\3907896313.py:40: UserWarning: pandas only supports SQLAlchemy connectable (engine/connection) or database string URI or sqlite3 DBAPI2 connection. Other DBAPI2 objects are not tested. Please consider using SQLAlchemy.\n",
      "  schema_df = pd.read_sql(query, self.connection)\n",
      "C:\\Users\\Basavaraj\\AppData\\Local\\Temp\\ipykernel_15564\\3907896313.py:40: UserWarning: pandas only supports SQLAlchemy connectable (engine/connection) or database string URI or sqlite3 DBAPI2 connection. Other DBAPI2 objects are not tested. Please consider using SQLAlchemy.\n",
      "  schema_df = pd.read_sql(query, self.connection)\n",
      "C:\\Users\\Basavaraj\\AppData\\Local\\Temp\\ipykernel_15564\\3907896313.py:68: UserWarning: pandas only supports SQLAlchemy connectable (engine/connection) or database string URI or sqlite3 DBAPI2 connection. Other DBAPI2 objects are not tested. Please consider using SQLAlchemy.\n",
      "  df = pd.read_sql(query, self.connection, params=(current_datetime,))\n",
      "C:\\Users\\Basavaraj\\AppData\\Local\\Temp\\ipykernel_15564\\3907896313.py:40: UserWarning: pandas only supports SQLAlchemy connectable (engine/connection) or database string URI or sqlite3 DBAPI2 connection. Other DBAPI2 objects are not tested. Please consider using SQLAlchemy.\n",
      "  schema_df = pd.read_sql(query, self.connection)\n",
      "C:\\Users\\Basavaraj\\AppData\\Local\\Temp\\ipykernel_15564\\3907896313.py:40: UserWarning: pandas only supports SQLAlchemy connectable (engine/connection) or database string URI or sqlite3 DBAPI2 connection. Other DBAPI2 objects are not tested. Please consider using SQLAlchemy.\n",
      "  schema_df = pd.read_sql(query, self.connection)\n",
      "C:\\Users\\Basavaraj\\AppData\\Local\\Temp\\ipykernel_15564\\3907896313.py:40: UserWarning: pandas only supports SQLAlchemy connectable (engine/connection) or database string URI or sqlite3 DBAPI2 connection. Other DBAPI2 objects are not tested. Please consider using SQLAlchemy.\n",
      "  schema_df = pd.read_sql(query, self.connection)\n"
     ]
    },
    {
     "name": "stdout",
     "output_type": "stream",
     "text": [
      "Fetched schema with data types successfully.\n",
      "Fetched unique values for created_by: []\n",
      "Fetching unique values for tasklist_name in tasks for date: 10-21-2024 12:00\n",
      "Fetched schema with data types successfully.\n",
      "Fetched schema with data types successfully.\n",
      "Fetched schema with data types successfully.\n",
      "Fetched unique values for tasklist_name: []\n",
      "Fetching unique values for open_closed in tasks for date: 10-21-2024 12:00\n",
      "Fetched schema with data types successfully.\n"
     ]
    },
    {
     "name": "stderr",
     "output_type": "stream",
     "text": [
      "C:\\Users\\Basavaraj\\AppData\\Local\\Temp\\ipykernel_15564\\3907896313.py:68: UserWarning: pandas only supports SQLAlchemy connectable (engine/connection) or database string URI or sqlite3 DBAPI2 connection. Other DBAPI2 objects are not tested. Please consider using SQLAlchemy.\n",
      "  df = pd.read_sql(query, self.connection, params=(current_datetime,))\n",
      "C:\\Users\\Basavaraj\\AppData\\Local\\Temp\\ipykernel_15564\\3907896313.py:40: UserWarning: pandas only supports SQLAlchemy connectable (engine/connection) or database string URI or sqlite3 DBAPI2 connection. Other DBAPI2 objects are not tested. Please consider using SQLAlchemy.\n",
      "  schema_df = pd.read_sql(query, self.connection)\n",
      "C:\\Users\\Basavaraj\\AppData\\Local\\Temp\\ipykernel_15564\\3907896313.py:40: UserWarning: pandas only supports SQLAlchemy connectable (engine/connection) or database string URI or sqlite3 DBAPI2 connection. Other DBAPI2 objects are not tested. Please consider using SQLAlchemy.\n",
      "  schema_df = pd.read_sql(query, self.connection)\n",
      "C:\\Users\\Basavaraj\\AppData\\Local\\Temp\\ipykernel_15564\\3907896313.py:40: UserWarning: pandas only supports SQLAlchemy connectable (engine/connection) or database string URI or sqlite3 DBAPI2 connection. Other DBAPI2 objects are not tested. Please consider using SQLAlchemy.\n",
      "  schema_df = pd.read_sql(query, self.connection)\n",
      "C:\\Users\\Basavaraj\\AppData\\Local\\Temp\\ipykernel_15564\\3907896313.py:68: UserWarning: pandas only supports SQLAlchemy connectable (engine/connection) or database string URI or sqlite3 DBAPI2 connection. Other DBAPI2 objects are not tested. Please consider using SQLAlchemy.\n",
      "  df = pd.read_sql(query, self.connection, params=(current_datetime,))\n",
      "C:\\Users\\Basavaraj\\AppData\\Local\\Temp\\ipykernel_15564\\3907896313.py:40: UserWarning: pandas only supports SQLAlchemy connectable (engine/connection) or database string URI or sqlite3 DBAPI2 connection. Other DBAPI2 objects are not tested. Please consider using SQLAlchemy.\n",
      "  schema_df = pd.read_sql(query, self.connection)\n",
      "C:\\Users\\Basavaraj\\AppData\\Local\\Temp\\ipykernel_15564\\3907896313.py:40: UserWarning: pandas only supports SQLAlchemy connectable (engine/connection) or database string URI or sqlite3 DBAPI2 connection. Other DBAPI2 objects are not tested. Please consider using SQLAlchemy.\n",
      "  schema_df = pd.read_sql(query, self.connection)\n"
     ]
    },
    {
     "name": "stdout",
     "output_type": "stream",
     "text": [
      "Fetched schema with data types successfully.\n",
      "Fetched schema with data types successfully.\n",
      "Fetched unique values for open_closed: []\n",
      "Fetching unique values for key_value in tasks for date: 10-21-2024 12:00\n",
      "Fetched schema with data types successfully.\n",
      "Fetched schema with data types successfully.\n",
      "Fetched schema with data types successfully.\n",
      "Fetched unique values for key_value: []\n",
      "Fetching unique values for milestone_id in tasks for date: 10-21-2024 12:00\n"
     ]
    },
    {
     "name": "stderr",
     "output_type": "stream",
     "text": [
      "C:\\Users\\Basavaraj\\AppData\\Local\\Temp\\ipykernel_15564\\3907896313.py:40: UserWarning: pandas only supports SQLAlchemy connectable (engine/connection) or database string URI or sqlite3 DBAPI2 connection. Other DBAPI2 objects are not tested. Please consider using SQLAlchemy.\n",
      "  schema_df = pd.read_sql(query, self.connection)\n",
      "C:\\Users\\Basavaraj\\AppData\\Local\\Temp\\ipykernel_15564\\3907896313.py:68: UserWarning: pandas only supports SQLAlchemy connectable (engine/connection) or database string URI or sqlite3 DBAPI2 connection. Other DBAPI2 objects are not tested. Please consider using SQLAlchemy.\n",
      "  df = pd.read_sql(query, self.connection, params=(current_datetime,))\n",
      "C:\\Users\\Basavaraj\\AppData\\Local\\Temp\\ipykernel_15564\\3907896313.py:40: UserWarning: pandas only supports SQLAlchemy connectable (engine/connection) or database string URI or sqlite3 DBAPI2 connection. Other DBAPI2 objects are not tested. Please consider using SQLAlchemy.\n",
      "  schema_df = pd.read_sql(query, self.connection)\n",
      "C:\\Users\\Basavaraj\\AppData\\Local\\Temp\\ipykernel_15564\\3907896313.py:40: UserWarning: pandas only supports SQLAlchemy connectable (engine/connection) or database string URI or sqlite3 DBAPI2 connection. Other DBAPI2 objects are not tested. Please consider using SQLAlchemy.\n",
      "  schema_df = pd.read_sql(query, self.connection)\n",
      "C:\\Users\\Basavaraj\\AppData\\Local\\Temp\\ipykernel_15564\\3907896313.py:40: UserWarning: pandas only supports SQLAlchemy connectable (engine/connection) or database string URI or sqlite3 DBAPI2 connection. Other DBAPI2 objects are not tested. Please consider using SQLAlchemy.\n",
      "  schema_df = pd.read_sql(query, self.connection)\n",
      "C:\\Users\\Basavaraj\\AppData\\Local\\Temp\\ipykernel_15564\\3907896313.py:68: UserWarning: pandas only supports SQLAlchemy connectable (engine/connection) or database string URI or sqlite3 DBAPI2 connection. Other DBAPI2 objects are not tested. Please consider using SQLAlchemy.\n",
      "  df = pd.read_sql(query, self.connection, params=(current_datetime,))\n",
      "C:\\Users\\Basavaraj\\AppData\\Local\\Temp\\ipykernel_15564\\3907896313.py:40: UserWarning: pandas only supports SQLAlchemy connectable (engine/connection) or database string URI or sqlite3 DBAPI2 connection. Other DBAPI2 objects are not tested. Please consider using SQLAlchemy.\n",
      "  schema_df = pd.read_sql(query, self.connection)\n"
     ]
    },
    {
     "name": "stdout",
     "output_type": "stream",
     "text": [
      "Fetched schema with data types successfully.\n",
      "Fetched schema with data types successfully.\n",
      "Fetched schema with data types successfully.\n",
      "Fetched unique values for milestone_id: []\n",
      "Fetching unique values for created_time in tasks for date: 10-21-2024 12:00\n",
      "Fetched schema with data types successfully.\n",
      "Fetched schema with data types successfully.\n",
      "Fetched schema with data types successfully.\n"
     ]
    },
    {
     "name": "stderr",
     "output_type": "stream",
     "text": [
      "C:\\Users\\Basavaraj\\AppData\\Local\\Temp\\ipykernel_15564\\3907896313.py:40: UserWarning: pandas only supports SQLAlchemy connectable (engine/connection) or database string URI or sqlite3 DBAPI2 connection. Other DBAPI2 objects are not tested. Please consider using SQLAlchemy.\n",
      "  schema_df = pd.read_sql(query, self.connection)\n",
      "C:\\Users\\Basavaraj\\AppData\\Local\\Temp\\ipykernel_15564\\3907896313.py:40: UserWarning: pandas only supports SQLAlchemy connectable (engine/connection) or database string URI or sqlite3 DBAPI2 connection. Other DBAPI2 objects are not tested. Please consider using SQLAlchemy.\n",
      "  schema_df = pd.read_sql(query, self.connection)\n",
      "C:\\Users\\Basavaraj\\AppData\\Local\\Temp\\ipykernel_15564\\3907896313.py:68: UserWarning: pandas only supports SQLAlchemy connectable (engine/connection) or database string URI or sqlite3 DBAPI2 connection. Other DBAPI2 objects are not tested. Please consider using SQLAlchemy.\n",
      "  df = pd.read_sql(query, self.connection, params=(current_datetime,))\n",
      "C:\\Users\\Basavaraj\\AppData\\Local\\Temp\\ipykernel_15564\\3907896313.py:40: UserWarning: pandas only supports SQLAlchemy connectable (engine/connection) or database string URI or sqlite3 DBAPI2 connection. Other DBAPI2 objects are not tested. Please consider using SQLAlchemy.\n",
      "  schema_df = pd.read_sql(query, self.connection)\n",
      "C:\\Users\\Basavaraj\\AppData\\Local\\Temp\\ipykernel_15564\\3907896313.py:40: UserWarning: pandas only supports SQLAlchemy connectable (engine/connection) or database string URI or sqlite3 DBAPI2 connection. Other DBAPI2 objects are not tested. Please consider using SQLAlchemy.\n",
      "  schema_df = pd.read_sql(query, self.connection)\n",
      "C:\\Users\\Basavaraj\\AppData\\Local\\Temp\\ipykernel_15564\\3907896313.py:40: UserWarning: pandas only supports SQLAlchemy connectable (engine/connection) or database string URI or sqlite3 DBAPI2 connection. Other DBAPI2 objects are not tested. Please consider using SQLAlchemy.\n",
      "  schema_df = pd.read_sql(query, self.connection)\n",
      "C:\\Users\\Basavaraj\\AppData\\Local\\Temp\\ipykernel_15564\\3907896313.py:68: UserWarning: pandas only supports SQLAlchemy connectable (engine/connection) or database string URI or sqlite3 DBAPI2 connection. Other DBAPI2 objects are not tested. Please consider using SQLAlchemy.\n",
      "  df = pd.read_sql(query, self.connection, params=(current_datetime,))\n"
     ]
    },
    {
     "name": "stdout",
     "output_type": "stream",
     "text": [
      "Fetched unique values for created_time: []\n",
      "Fetching unique values for project_id in tasks for date: 10-21-2024 12:00\n",
      "Fetched schema with data types successfully.\n",
      "Fetched schema with data types successfully.\n",
      "Fetched schema with data types successfully.\n",
      "Fetched unique values for project_id: []\n",
      "Fetching unique values for qc_owner in tasks for date: 10-21-2024 12:00\n"
     ]
    },
    {
     "name": "stderr",
     "output_type": "stream",
     "text": [
      "C:\\Users\\Basavaraj\\AppData\\Local\\Temp\\ipykernel_15564\\3907896313.py:40: UserWarning: pandas only supports SQLAlchemy connectable (engine/connection) or database string URI or sqlite3 DBAPI2 connection. Other DBAPI2 objects are not tested. Please consider using SQLAlchemy.\n",
      "  schema_df = pd.read_sql(query, self.connection)\n",
      "C:\\Users\\Basavaraj\\AppData\\Local\\Temp\\ipykernel_15564\\3907896313.py:40: UserWarning: pandas only supports SQLAlchemy connectable (engine/connection) or database string URI or sqlite3 DBAPI2 connection. Other DBAPI2 objects are not tested. Please consider using SQLAlchemy.\n",
      "  schema_df = pd.read_sql(query, self.connection)\n",
      "C:\\Users\\Basavaraj\\AppData\\Local\\Temp\\ipykernel_15564\\3907896313.py:40: UserWarning: pandas only supports SQLAlchemy connectable (engine/connection) or database string URI or sqlite3 DBAPI2 connection. Other DBAPI2 objects are not tested. Please consider using SQLAlchemy.\n",
      "  schema_df = pd.read_sql(query, self.connection)\n",
      "C:\\Users\\Basavaraj\\AppData\\Local\\Temp\\ipykernel_15564\\3907896313.py:68: UserWarning: pandas only supports SQLAlchemy connectable (engine/connection) or database string URI or sqlite3 DBAPI2 connection. Other DBAPI2 objects are not tested. Please consider using SQLAlchemy.\n",
      "  df = pd.read_sql(query, self.connection, params=(current_datetime,))\n",
      "C:\\Users\\Basavaraj\\AppData\\Local\\Temp\\ipykernel_15564\\3907896313.py:40: UserWarning: pandas only supports SQLAlchemy connectable (engine/connection) or database string URI or sqlite3 DBAPI2 connection. Other DBAPI2 objects are not tested. Please consider using SQLAlchemy.\n",
      "  schema_df = pd.read_sql(query, self.connection)\n"
     ]
    },
    {
     "name": "stdout",
     "output_type": "stream",
     "text": [
      "Fetched schema with data types successfully.\n",
      "Fetched schema with data types successfully.\n",
      "Fetched schema with data types successfully.\n",
      "Fetched unique values for qc_owner: []\n",
      "Fetching unique values for billing_type in tasks for date: 10-21-2024 12:00\n",
      "Fetched schema with data types successfully.\n",
      "Fetched schema with data types successfully.\n",
      "Fetched schema with data types successfully.\n"
     ]
    },
    {
     "name": "stderr",
     "output_type": "stream",
     "text": [
      "C:\\Users\\Basavaraj\\AppData\\Local\\Temp\\ipykernel_15564\\3907896313.py:40: UserWarning: pandas only supports SQLAlchemy connectable (engine/connection) or database string URI or sqlite3 DBAPI2 connection. Other DBAPI2 objects are not tested. Please consider using SQLAlchemy.\n",
      "  schema_df = pd.read_sql(query, self.connection)\n",
      "C:\\Users\\Basavaraj\\AppData\\Local\\Temp\\ipykernel_15564\\3907896313.py:40: UserWarning: pandas only supports SQLAlchemy connectable (engine/connection) or database string URI or sqlite3 DBAPI2 connection. Other DBAPI2 objects are not tested. Please consider using SQLAlchemy.\n",
      "  schema_df = pd.read_sql(query, self.connection)\n",
      "C:\\Users\\Basavaraj\\AppData\\Local\\Temp\\ipykernel_15564\\3907896313.py:68: UserWarning: pandas only supports SQLAlchemy connectable (engine/connection) or database string URI or sqlite3 DBAPI2 connection. Other DBAPI2 objects are not tested. Please consider using SQLAlchemy.\n",
      "  df = pd.read_sql(query, self.connection, params=(current_datetime,))\n",
      "C:\\Users\\Basavaraj\\AppData\\Local\\Temp\\ipykernel_15564\\3907896313.py:40: UserWarning: pandas only supports SQLAlchemy connectable (engine/connection) or database string URI or sqlite3 DBAPI2 connection. Other DBAPI2 objects are not tested. Please consider using SQLAlchemy.\n",
      "  schema_df = pd.read_sql(query, self.connection)\n",
      "C:\\Users\\Basavaraj\\AppData\\Local\\Temp\\ipykernel_15564\\3907896313.py:40: UserWarning: pandas only supports SQLAlchemy connectable (engine/connection) or database string URI or sqlite3 DBAPI2 connection. Other DBAPI2 objects are not tested. Please consider using SQLAlchemy.\n",
      "  schema_df = pd.read_sql(query, self.connection)\n",
      "C:\\Users\\Basavaraj\\AppData\\Local\\Temp\\ipykernel_15564\\3907896313.py:40: UserWarning: pandas only supports SQLAlchemy connectable (engine/connection) or database string URI or sqlite3 DBAPI2 connection. Other DBAPI2 objects are not tested. Please consider using SQLAlchemy.\n",
      "  schema_df = pd.read_sql(query, self.connection)\n",
      "C:\\Users\\Basavaraj\\AppData\\Local\\Temp\\ipykernel_15564\\3907896313.py:68: UserWarning: pandas only supports SQLAlchemy connectable (engine/connection) or database string URI or sqlite3 DBAPI2 connection. Other DBAPI2 objects are not tested. Please consider using SQLAlchemy.\n",
      "  df = pd.read_sql(query, self.connection, params=(current_datetime,))\n"
     ]
    },
    {
     "name": "stdout",
     "output_type": "stream",
     "text": [
      "Fetched unique values for billing_type: []\n",
      "Fetching unique values for is_overdue in tasks for date: 10-21-2024 12:00\n",
      "Fetched schema with data types successfully.\n",
      "Fetched schema with data types successfully.\n",
      "Fetched schema with data types successfully.\n",
      "Fetched unique values for is_overdue: []\n",
      "Fetching unique values for clarity_level in tasks for date: 10-21-2024 12:00\n",
      "Fetched schema with data types successfully.\n",
      "Fetched schema with data types successfully.\n"
     ]
    },
    {
     "name": "stderr",
     "output_type": "stream",
     "text": [
      "C:\\Users\\Basavaraj\\AppData\\Local\\Temp\\ipykernel_15564\\3907896313.py:40: UserWarning: pandas only supports SQLAlchemy connectable (engine/connection) or database string URI or sqlite3 DBAPI2 connection. Other DBAPI2 objects are not tested. Please consider using SQLAlchemy.\n",
      "  schema_df = pd.read_sql(query, self.connection)\n",
      "C:\\Users\\Basavaraj\\AppData\\Local\\Temp\\ipykernel_15564\\3907896313.py:40: UserWarning: pandas only supports SQLAlchemy connectable (engine/connection) or database string URI or sqlite3 DBAPI2 connection. Other DBAPI2 objects are not tested. Please consider using SQLAlchemy.\n",
      "  schema_df = pd.read_sql(query, self.connection)\n",
      "C:\\Users\\Basavaraj\\AppData\\Local\\Temp\\ipykernel_15564\\3907896313.py:40: UserWarning: pandas only supports SQLAlchemy connectable (engine/connection) or database string URI or sqlite3 DBAPI2 connection. Other DBAPI2 objects are not tested. Please consider using SQLAlchemy.\n",
      "  schema_df = pd.read_sql(query, self.connection)\n",
      "C:\\Users\\Basavaraj\\AppData\\Local\\Temp\\ipykernel_15564\\3907896313.py:68: UserWarning: pandas only supports SQLAlchemy connectable (engine/connection) or database string URI or sqlite3 DBAPI2 connection. Other DBAPI2 objects are not tested. Please consider using SQLAlchemy.\n",
      "  df = pd.read_sql(query, self.connection, params=(current_datetime,))\n",
      "C:\\Users\\Basavaraj\\AppData\\Local\\Temp\\ipykernel_15564\\3907896313.py:40: UserWarning: pandas only supports SQLAlchemy connectable (engine/connection) or database string URI or sqlite3 DBAPI2 connection. Other DBAPI2 objects are not tested. Please consider using SQLAlchemy.\n",
      "  schema_df = pd.read_sql(query, self.connection)\n",
      "C:\\Users\\Basavaraj\\AppData\\Local\\Temp\\ipykernel_15564\\3907896313.py:40: UserWarning: pandas only supports SQLAlchemy connectable (engine/connection) or database string URI or sqlite3 DBAPI2 connection. Other DBAPI2 objects are not tested. Please consider using SQLAlchemy.\n",
      "  schema_df = pd.read_sql(query, self.connection)\n",
      "C:\\Users\\Basavaraj\\AppData\\Local\\Temp\\ipykernel_15564\\3907896313.py:40: UserWarning: pandas only supports SQLAlchemy connectable (engine/connection) or database string URI or sqlite3 DBAPI2 connection. Other DBAPI2 objects are not tested. Please consider using SQLAlchemy.\n",
      "  schema_df = pd.read_sql(query, self.connection)\n"
     ]
    },
    {
     "name": "stdout",
     "output_type": "stream",
     "text": [
      "Fetched schema with data types successfully.\n",
      "Fetched unique values for clarity_level: []\n",
      "Fetching unique values for task_name in tasks for date: 10-21-2024 12:00\n",
      "Fetched schema with data types successfully.\n",
      "Fetched schema with data types successfully.\n",
      "Fetched schema with data types successfully.\n",
      "Fetched unique values for task_name: []\n",
      "Fetching unique values for duration in tasks for date: 10-21-2024 12:00\n",
      "Fetched schema with data types successfully.\n"
     ]
    },
    {
     "name": "stderr",
     "output_type": "stream",
     "text": [
      "C:\\Users\\Basavaraj\\AppData\\Local\\Temp\\ipykernel_15564\\3907896313.py:68: UserWarning: pandas only supports SQLAlchemy connectable (engine/connection) or database string URI or sqlite3 DBAPI2 connection. Other DBAPI2 objects are not tested. Please consider using SQLAlchemy.\n",
      "  df = pd.read_sql(query, self.connection, params=(current_datetime,))\n",
      "C:\\Users\\Basavaraj\\AppData\\Local\\Temp\\ipykernel_15564\\3907896313.py:40: UserWarning: pandas only supports SQLAlchemy connectable (engine/connection) or database string URI or sqlite3 DBAPI2 connection. Other DBAPI2 objects are not tested. Please consider using SQLAlchemy.\n",
      "  schema_df = pd.read_sql(query, self.connection)\n",
      "C:\\Users\\Basavaraj\\AppData\\Local\\Temp\\ipykernel_15564\\3907896313.py:40: UserWarning: pandas only supports SQLAlchemy connectable (engine/connection) or database string URI or sqlite3 DBAPI2 connection. Other DBAPI2 objects are not tested. Please consider using SQLAlchemy.\n",
      "  schema_df = pd.read_sql(query, self.connection)\n",
      "C:\\Users\\Basavaraj\\AppData\\Local\\Temp\\ipykernel_15564\\3907896313.py:40: UserWarning: pandas only supports SQLAlchemy connectable (engine/connection) or database string URI or sqlite3 DBAPI2 connection. Other DBAPI2 objects are not tested. Please consider using SQLAlchemy.\n",
      "  schema_df = pd.read_sql(query, self.connection)\n",
      "C:\\Users\\Basavaraj\\AppData\\Local\\Temp\\ipykernel_15564\\3907896313.py:68: UserWarning: pandas only supports SQLAlchemy connectable (engine/connection) or database string URI or sqlite3 DBAPI2 connection. Other DBAPI2 objects are not tested. Please consider using SQLAlchemy.\n",
      "  df = pd.read_sql(query, self.connection, params=(current_datetime,))\n",
      "C:\\Users\\Basavaraj\\AppData\\Local\\Temp\\ipykernel_15564\\3907896313.py:40: UserWarning: pandas only supports SQLAlchemy connectable (engine/connection) or database string URI or sqlite3 DBAPI2 connection. Other DBAPI2 objects are not tested. Please consider using SQLAlchemy.\n",
      "  schema_df = pd.read_sql(query, self.connection)\n",
      "C:\\Users\\Basavaraj\\AppData\\Local\\Temp\\ipykernel_15564\\3907896313.py:40: UserWarning: pandas only supports SQLAlchemy connectable (engine/connection) or database string URI or sqlite3 DBAPI2 connection. Other DBAPI2 objects are not tested. Please consider using SQLAlchemy.\n",
      "  schema_df = pd.read_sql(query, self.connection)\n"
     ]
    },
    {
     "name": "stdout",
     "output_type": "stream",
     "text": [
      "Fetched schema with data types successfully.\n",
      "Fetched schema with data types successfully.\n",
      "Fetched unique values for duration: []\n",
      "Fetching unique values for last_modified_time in tasks for date: 10-21-2024 12:00\n",
      "Fetched schema with data types successfully.\n",
      "Fetched schema with data types successfully.\n",
      "Fetched schema with data types successfully.\n",
      "Fetched unique values for last_modified_time: []\n",
      "Fetching unique values for task_completion_mode in tasks for date: 10-21-2024 12:00\n"
     ]
    },
    {
     "name": "stderr",
     "output_type": "stream",
     "text": [
      "C:\\Users\\Basavaraj\\AppData\\Local\\Temp\\ipykernel_15564\\3907896313.py:40: UserWarning: pandas only supports SQLAlchemy connectable (engine/connection) or database string URI or sqlite3 DBAPI2 connection. Other DBAPI2 objects are not tested. Please consider using SQLAlchemy.\n",
      "  schema_df = pd.read_sql(query, self.connection)\n",
      "C:\\Users\\Basavaraj\\AppData\\Local\\Temp\\ipykernel_15564\\3907896313.py:68: UserWarning: pandas only supports SQLAlchemy connectable (engine/connection) or database string URI or sqlite3 DBAPI2 connection. Other DBAPI2 objects are not tested. Please consider using SQLAlchemy.\n",
      "  df = pd.read_sql(query, self.connection, params=(current_datetime,))\n",
      "C:\\Users\\Basavaraj\\AppData\\Local\\Temp\\ipykernel_15564\\3907896313.py:40: UserWarning: pandas only supports SQLAlchemy connectable (engine/connection) or database string URI or sqlite3 DBAPI2 connection. Other DBAPI2 objects are not tested. Please consider using SQLAlchemy.\n",
      "  schema_df = pd.read_sql(query, self.connection)\n",
      "C:\\Users\\Basavaraj\\AppData\\Local\\Temp\\ipykernel_15564\\3907896313.py:40: UserWarning: pandas only supports SQLAlchemy connectable (engine/connection) or database string URI or sqlite3 DBAPI2 connection. Other DBAPI2 objects are not tested. Please consider using SQLAlchemy.\n",
      "  schema_df = pd.read_sql(query, self.connection)\n",
      "C:\\Users\\Basavaraj\\AppData\\Local\\Temp\\ipykernel_15564\\3907896313.py:40: UserWarning: pandas only supports SQLAlchemy connectable (engine/connection) or database string URI or sqlite3 DBAPI2 connection. Other DBAPI2 objects are not tested. Please consider using SQLAlchemy.\n",
      "  schema_df = pd.read_sql(query, self.connection)\n",
      "C:\\Users\\Basavaraj\\AppData\\Local\\Temp\\ipykernel_15564\\3907896313.py:68: UserWarning: pandas only supports SQLAlchemy connectable (engine/connection) or database string URI or sqlite3 DBAPI2 connection. Other DBAPI2 objects are not tested. Please consider using SQLAlchemy.\n",
      "  df = pd.read_sql(query, self.connection, params=(current_datetime,))\n",
      "C:\\Users\\Basavaraj\\AppData\\Local\\Temp\\ipykernel_15564\\3907896313.py:40: UserWarning: pandas only supports SQLAlchemy connectable (engine/connection) or database string URI or sqlite3 DBAPI2 connection. Other DBAPI2 objects are not tested. Please consider using SQLAlchemy.\n",
      "  schema_df = pd.read_sql(query, self.connection)\n",
      "C:\\Users\\Basavaraj\\AppData\\Local\\Temp\\ipykernel_15564\\3907896313.py:40: UserWarning: pandas only supports SQLAlchemy connectable (engine/connection) or database string URI or sqlite3 DBAPI2 connection. Other DBAPI2 objects are not tested. Please consider using SQLAlchemy.\n",
      "  schema_df = pd.read_sql(query, self.connection)\n",
      "C:\\Users\\Basavaraj\\AppData\\Local\\Temp\\ipykernel_15564\\3907896313.py:40: UserWarning: pandas only supports SQLAlchemy connectable (engine/connection) or database string URI or sqlite3 DBAPI2 connection. Other DBAPI2 objects are not tested. Please consider using SQLAlchemy.\n",
      "  schema_df = pd.read_sql(query, self.connection)\n",
      "C:\\Users\\Basavaraj\\AppData\\Local\\Temp\\ipykernel_15564\\3907896313.py:68: UserWarning: pandas only supports SQLAlchemy connectable (engine/connection) or database string URI or sqlite3 DBAPI2 connection. Other DBAPI2 objects are not tested. Please consider using SQLAlchemy.\n",
      "  df = pd.read_sql(query, self.connection, params=(current_datetime,))\n",
      "C:\\Users\\Basavaraj\\AppData\\Local\\Temp\\ipykernel_15564\\3907896313.py:40: UserWarning: pandas only supports SQLAlchemy connectable (engine/connection) or database string URI or sqlite3 DBAPI2 connection. Other DBAPI2 objects are not tested. Please consider using SQLAlchemy.\n",
      "  schema_df = pd.read_sql(query, self.connection)\n",
      "C:\\Users\\Basavaraj\\AppData\\Local\\Temp\\ipykernel_15564\\3907896313.py:40: UserWarning: pandas only supports SQLAlchemy connectable (engine/connection) or database string URI or sqlite3 DBAPI2 connection. Other DBAPI2 objects are not tested. Please consider using SQLAlchemy.\n",
      "  schema_df = pd.read_sql(query, self.connection)\n"
     ]
    },
    {
     "name": "stdout",
     "output_type": "stream",
     "text": [
      "Fetched schema with data types successfully.\n",
      "Fetched schema with data types successfully.\n",
      "Fetched schema with data types successfully.\n",
      "Fetched unique values for task_completion_mode: []\n",
      "Fetching unique values for sprint_ff_sf in tasks for date: 10-21-2024 12:00\n",
      "Fetched schema with data types successfully.\n",
      "Fetched schema with data types successfully.\n"
     ]
    },
    {
     "name": "stderr",
     "output_type": "stream",
     "text": [
      "C:\\Users\\Basavaraj\\AppData\\Local\\Temp\\ipykernel_15564\\3907896313.py:40: UserWarning: pandas only supports SQLAlchemy connectable (engine/connection) or database string URI or sqlite3 DBAPI2 connection. Other DBAPI2 objects are not tested. Please consider using SQLAlchemy.\n",
      "  schema_df = pd.read_sql(query, self.connection)\n",
      "C:\\Users\\Basavaraj\\AppData\\Local\\Temp\\ipykernel_15564\\3907896313.py:68: UserWarning: pandas only supports SQLAlchemy connectable (engine/connection) or database string URI or sqlite3 DBAPI2 connection. Other DBAPI2 objects are not tested. Please consider using SQLAlchemy.\n",
      "  df = pd.read_sql(query, self.connection, params=(current_datetime,))\n",
      "C:\\Users\\Basavaraj\\AppData\\Local\\Temp\\ipykernel_15564\\3907896313.py:40: UserWarning: pandas only supports SQLAlchemy connectable (engine/connection) or database string URI or sqlite3 DBAPI2 connection. Other DBAPI2 objects are not tested. Please consider using SQLAlchemy.\n",
      "  schema_df = pd.read_sql(query, self.connection)\n",
      "C:\\Users\\Basavaraj\\AppData\\Local\\Temp\\ipykernel_15564\\3907896313.py:40: UserWarning: pandas only supports SQLAlchemy connectable (engine/connection) or database string URI or sqlite3 DBAPI2 connection. Other DBAPI2 objects are not tested. Please consider using SQLAlchemy.\n",
      "  schema_df = pd.read_sql(query, self.connection)\n",
      "C:\\Users\\Basavaraj\\AppData\\Local\\Temp\\ipykernel_15564\\3907896313.py:40: UserWarning: pandas only supports SQLAlchemy connectable (engine/connection) or database string URI or sqlite3 DBAPI2 connection. Other DBAPI2 objects are not tested. Please consider using SQLAlchemy.\n",
      "  schema_df = pd.read_sql(query, self.connection)\n",
      "C:\\Users\\Basavaraj\\AppData\\Local\\Temp\\ipykernel_15564\\3907896313.py:68: UserWarning: pandas only supports SQLAlchemy connectable (engine/connection) or database string URI or sqlite3 DBAPI2 connection. Other DBAPI2 objects are not tested. Please consider using SQLAlchemy.\n",
      "  df = pd.read_sql(query, self.connection, params=(current_datetime,))\n"
     ]
    },
    {
     "name": "stdout",
     "output_type": "stream",
     "text": [
      "Fetched schema with data types successfully.\n",
      "Fetched unique values for sprint_ff_sf: []\n",
      "Fetching unique values for priority in tasks for date: 10-21-2024 12:00\n",
      "Fetched schema with data types successfully.\n",
      "Fetched schema with data types successfully.\n",
      "Fetched schema with data types successfully.\n",
      "Fetched unique values for priority: []\n",
      "Fetching unique values for owner in tasks for date: 10-21-2024 12:00\n",
      "Fetched schema with data types successfully.\n"
     ]
    },
    {
     "name": "stderr",
     "output_type": "stream",
     "text": [
      "C:\\Users\\Basavaraj\\AppData\\Local\\Temp\\ipykernel_15564\\3907896313.py:40: UserWarning: pandas only supports SQLAlchemy connectable (engine/connection) or database string URI or sqlite3 DBAPI2 connection. Other DBAPI2 objects are not tested. Please consider using SQLAlchemy.\n",
      "  schema_df = pd.read_sql(query, self.connection)\n",
      "C:\\Users\\Basavaraj\\AppData\\Local\\Temp\\ipykernel_15564\\3907896313.py:40: UserWarning: pandas only supports SQLAlchemy connectable (engine/connection) or database string URI or sqlite3 DBAPI2 connection. Other DBAPI2 objects are not tested. Please consider using SQLAlchemy.\n",
      "  schema_df = pd.read_sql(query, self.connection)\n",
      "C:\\Users\\Basavaraj\\AppData\\Local\\Temp\\ipykernel_15564\\3907896313.py:40: UserWarning: pandas only supports SQLAlchemy connectable (engine/connection) or database string URI or sqlite3 DBAPI2 connection. Other DBAPI2 objects are not tested. Please consider using SQLAlchemy.\n",
      "  schema_df = pd.read_sql(query, self.connection)\n",
      "C:\\Users\\Basavaraj\\AppData\\Local\\Temp\\ipykernel_15564\\3907896313.py:68: UserWarning: pandas only supports SQLAlchemy connectable (engine/connection) or database string URI or sqlite3 DBAPI2 connection. Other DBAPI2 objects are not tested. Please consider using SQLAlchemy.\n",
      "  df = pd.read_sql(query, self.connection, params=(current_datetime,))\n",
      "C:\\Users\\Basavaraj\\AppData\\Local\\Temp\\ipykernel_15564\\3907896313.py:40: UserWarning: pandas only supports SQLAlchemy connectable (engine/connection) or database string URI or sqlite3 DBAPI2 connection. Other DBAPI2 objects are not tested. Please consider using SQLAlchemy.\n",
      "  schema_df = pd.read_sql(query, self.connection)\n",
      "C:\\Users\\Basavaraj\\AppData\\Local\\Temp\\ipykernel_15564\\3907896313.py:40: UserWarning: pandas only supports SQLAlchemy connectable (engine/connection) or database string URI or sqlite3 DBAPI2 connection. Other DBAPI2 objects are not tested. Please consider using SQLAlchemy.\n",
      "  schema_df = pd.read_sql(query, self.connection)\n"
     ]
    },
    {
     "name": "stdout",
     "output_type": "stream",
     "text": [
      "Fetched schema with data types successfully.\n",
      "Fetched schema with data types successfully.\n",
      "Fetched unique values for owner: []\n",
      "Fetching unique values for tasklist_id in tasks for date: 10-21-2024 12:00\n",
      "Fetched schema with data types successfully.\n",
      "Fetched schema with data types successfully.\n",
      "Fetched schema with data types successfully.\n"
     ]
    },
    {
     "name": "stderr",
     "output_type": "stream",
     "text": [
      "C:\\Users\\Basavaraj\\AppData\\Local\\Temp\\ipykernel_15564\\3907896313.py:40: UserWarning: pandas only supports SQLAlchemy connectable (engine/connection) or database string URI or sqlite3 DBAPI2 connection. Other DBAPI2 objects are not tested. Please consider using SQLAlchemy.\n",
      "  schema_df = pd.read_sql(query, self.connection)\n",
      "C:\\Users\\Basavaraj\\AppData\\Local\\Temp\\ipykernel_15564\\3907896313.py:68: UserWarning: pandas only supports SQLAlchemy connectable (engine/connection) or database string URI or sqlite3 DBAPI2 connection. Other DBAPI2 objects are not tested. Please consider using SQLAlchemy.\n",
      "  df = pd.read_sql(query, self.connection, params=(current_datetime,))\n",
      "C:\\Users\\Basavaraj\\AppData\\Local\\Temp\\ipykernel_15564\\3907896313.py:40: UserWarning: pandas only supports SQLAlchemy connectable (engine/connection) or database string URI or sqlite3 DBAPI2 connection. Other DBAPI2 objects are not tested. Please consider using SQLAlchemy.\n",
      "  schema_df = pd.read_sql(query, self.connection)\n",
      "C:\\Users\\Basavaraj\\AppData\\Local\\Temp\\ipykernel_15564\\3907896313.py:40: UserWarning: pandas only supports SQLAlchemy connectable (engine/connection) or database string URI or sqlite3 DBAPI2 connection. Other DBAPI2 objects are not tested. Please consider using SQLAlchemy.\n",
      "  schema_df = pd.read_sql(query, self.connection)\n",
      "C:\\Users\\Basavaraj\\AppData\\Local\\Temp\\ipykernel_15564\\3907896313.py:40: UserWarning: pandas only supports SQLAlchemy connectable (engine/connection) or database string URI or sqlite3 DBAPI2 connection. Other DBAPI2 objects are not tested. Please consider using SQLAlchemy.\n",
      "  schema_df = pd.read_sql(query, self.connection)\n",
      "C:\\Users\\Basavaraj\\AppData\\Local\\Temp\\ipykernel_15564\\3907896313.py:68: UserWarning: pandas only supports SQLAlchemy connectable (engine/connection) or database string URI or sqlite3 DBAPI2 connection. Other DBAPI2 objects are not tested. Please consider using SQLAlchemy.\n",
      "  df = pd.read_sql(query, self.connection, params=(current_datetime,))\n"
     ]
    },
    {
     "name": "stdout",
     "output_type": "stream",
     "text": [
      "Fetched unique values for tasklist_id: []\n",
      "Fetching unique values for created_by in tasks for date: 10-21-2024 12:00\n",
      "Fetched schema with data types successfully.\n",
      "Fetched schema with data types successfully.\n",
      "Fetched schema with data types successfully.\n",
      "Fetched unique values for created_by: []\n",
      "Fetching unique values for days_completed_on in tasks for date: 10-21-2024 12:00\n"
     ]
    },
    {
     "name": "stderr",
     "output_type": "stream",
     "text": [
      "C:\\Users\\Basavaraj\\AppData\\Local\\Temp\\ipykernel_15564\\3907896313.py:40: UserWarning: pandas only supports SQLAlchemy connectable (engine/connection) or database string URI or sqlite3 DBAPI2 connection. Other DBAPI2 objects are not tested. Please consider using SQLAlchemy.\n",
      "  schema_df = pd.read_sql(query, self.connection)\n",
      "C:\\Users\\Basavaraj\\AppData\\Local\\Temp\\ipykernel_15564\\3907896313.py:40: UserWarning: pandas only supports SQLAlchemy connectable (engine/connection) or database string URI or sqlite3 DBAPI2 connection. Other DBAPI2 objects are not tested. Please consider using SQLAlchemy.\n",
      "  schema_df = pd.read_sql(query, self.connection)\n",
      "C:\\Users\\Basavaraj\\AppData\\Local\\Temp\\ipykernel_15564\\3907896313.py:40: UserWarning: pandas only supports SQLAlchemy connectable (engine/connection) or database string URI or sqlite3 DBAPI2 connection. Other DBAPI2 objects are not tested. Please consider using SQLAlchemy.\n",
      "  schema_df = pd.read_sql(query, self.connection)\n",
      "C:\\Users\\Basavaraj\\AppData\\Local\\Temp\\ipykernel_15564\\3907896313.py:68: UserWarning: pandas only supports SQLAlchemy connectable (engine/connection) or database string URI or sqlite3 DBAPI2 connection. Other DBAPI2 objects are not tested. Please consider using SQLAlchemy.\n",
      "  df = pd.read_sql(query, self.connection, params=(current_datetime,))\n",
      "C:\\Users\\Basavaraj\\AppData\\Local\\Temp\\ipykernel_15564\\3907896313.py:40: UserWarning: pandas only supports SQLAlchemy connectable (engine/connection) or database string URI or sqlite3 DBAPI2 connection. Other DBAPI2 objects are not tested. Please consider using SQLAlchemy.\n",
      "  schema_df = pd.read_sql(query, self.connection)\n",
      "C:\\Users\\Basavaraj\\AppData\\Local\\Temp\\ipykernel_15564\\3907896313.py:40: UserWarning: pandas only supports SQLAlchemy connectable (engine/connection) or database string URI or sqlite3 DBAPI2 connection. Other DBAPI2 objects are not tested. Please consider using SQLAlchemy.\n",
      "  schema_df = pd.read_sql(query, self.connection)\n"
     ]
    },
    {
     "name": "stdout",
     "output_type": "stream",
     "text": [
      "Fetched schema with data types successfully.\n",
      "Fetched schema with data types successfully.\n",
      "Fetched schema with data types successfully.\n",
      "Fetched unique values for days_completed_on: []\n",
      "Fetching unique values for status in tasks for date: 10-21-2024 12:00\n",
      "Fetched schema with data types successfully.\n",
      "Fetched schema with data types successfully.\n"
     ]
    },
    {
     "name": "stderr",
     "output_type": "stream",
     "text": [
      "C:\\Users\\Basavaraj\\AppData\\Local\\Temp\\ipykernel_15564\\3907896313.py:40: UserWarning: pandas only supports SQLAlchemy connectable (engine/connection) or database string URI or sqlite3 DBAPI2 connection. Other DBAPI2 objects are not tested. Please consider using SQLAlchemy.\n",
      "  schema_df = pd.read_sql(query, self.connection)\n",
      "C:\\Users\\Basavaraj\\AppData\\Local\\Temp\\ipykernel_15564\\3907896313.py:68: UserWarning: pandas only supports SQLAlchemy connectable (engine/connection) or database string URI or sqlite3 DBAPI2 connection. Other DBAPI2 objects are not tested. Please consider using SQLAlchemy.\n",
      "  df = pd.read_sql(query, self.connection, params=(current_datetime,))\n",
      "C:\\Users\\Basavaraj\\AppData\\Local\\Temp\\ipykernel_15564\\3907896313.py:40: UserWarning: pandas only supports SQLAlchemy connectable (engine/connection) or database string URI or sqlite3 DBAPI2 connection. Other DBAPI2 objects are not tested. Please consider using SQLAlchemy.\n",
      "  schema_df = pd.read_sql(query, self.connection)\n",
      "C:\\Users\\Basavaraj\\AppData\\Local\\Temp\\ipykernel_15564\\3907896313.py:40: UserWarning: pandas only supports SQLAlchemy connectable (engine/connection) or database string URI or sqlite3 DBAPI2 connection. Other DBAPI2 objects are not tested. Please consider using SQLAlchemy.\n",
      "  schema_df = pd.read_sql(query, self.connection)\n",
      "C:\\Users\\Basavaraj\\AppData\\Local\\Temp\\ipykernel_15564\\3907896313.py:40: UserWarning: pandas only supports SQLAlchemy connectable (engine/connection) or database string URI or sqlite3 DBAPI2 connection. Other DBAPI2 objects are not tested. Please consider using SQLAlchemy.\n",
      "  schema_df = pd.read_sql(query, self.connection)\n",
      "C:\\Users\\Basavaraj\\AppData\\Local\\Temp\\ipykernel_15564\\3907896313.py:68: UserWarning: pandas only supports SQLAlchemy connectable (engine/connection) or database string URI or sqlite3 DBAPI2 connection. Other DBAPI2 objects are not tested. Please consider using SQLAlchemy.\n",
      "  df = pd.read_sql(query, self.connection, params=(current_datetime,))\n"
     ]
    },
    {
     "name": "stdout",
     "output_type": "stream",
     "text": [
      "Fetched schema with data types successfully.\n",
      "Fetched unique values for status: []\n",
      "Fetching unique values for task_id in tasks for date: 10-21-2024 12:00\n",
      "Fetched schema with data types successfully.\n",
      "Fetched schema with data types successfully.\n",
      "Fetched schema with data types successfully.\n",
      "Fetched unique values for task_id: []\n",
      "Fetching unique values for duration_unit in tasks for date: 10-21-2024 12:00\n"
     ]
    },
    {
     "name": "stderr",
     "output_type": "stream",
     "text": [
      "C:\\Users\\Basavaraj\\AppData\\Local\\Temp\\ipykernel_15564\\3907896313.py:40: UserWarning: pandas only supports SQLAlchemy connectable (engine/connection) or database string URI or sqlite3 DBAPI2 connection. Other DBAPI2 objects are not tested. Please consider using SQLAlchemy.\n",
      "  schema_df = pd.read_sql(query, self.connection)\n",
      "C:\\Users\\Basavaraj\\AppData\\Local\\Temp\\ipykernel_15564\\3907896313.py:40: UserWarning: pandas only supports SQLAlchemy connectable (engine/connection) or database string URI or sqlite3 DBAPI2 connection. Other DBAPI2 objects are not tested. Please consider using SQLAlchemy.\n",
      "  schema_df = pd.read_sql(query, self.connection)\n",
      "C:\\Users\\Basavaraj\\AppData\\Local\\Temp\\ipykernel_15564\\3907896313.py:40: UserWarning: pandas only supports SQLAlchemy connectable (engine/connection) or database string URI or sqlite3 DBAPI2 connection. Other DBAPI2 objects are not tested. Please consider using SQLAlchemy.\n",
      "  schema_df = pd.read_sql(query, self.connection)\n",
      "C:\\Users\\Basavaraj\\AppData\\Local\\Temp\\ipykernel_15564\\3907896313.py:68: UserWarning: pandas only supports SQLAlchemy connectable (engine/connection) or database string URI or sqlite3 DBAPI2 connection. Other DBAPI2 objects are not tested. Please consider using SQLAlchemy.\n",
      "  df = pd.read_sql(query, self.connection, params=(current_datetime,))\n",
      "C:\\Users\\Basavaraj\\AppData\\Local\\Temp\\ipykernel_15564\\3907896313.py:40: UserWarning: pandas only supports SQLAlchemy connectable (engine/connection) or database string URI or sqlite3 DBAPI2 connection. Other DBAPI2 objects are not tested. Please consider using SQLAlchemy.\n",
      "  schema_df = pd.read_sql(query, self.connection)\n",
      "C:\\Users\\Basavaraj\\AppData\\Local\\Temp\\ipykernel_15564\\3907896313.py:40: UserWarning: pandas only supports SQLAlchemy connectable (engine/connection) or database string URI or sqlite3 DBAPI2 connection. Other DBAPI2 objects are not tested. Please consider using SQLAlchemy.\n",
      "  schema_df = pd.read_sql(query, self.connection)\n"
     ]
    },
    {
     "name": "stdout",
     "output_type": "stream",
     "text": [
      "Fetched schema with data types successfully.\n",
      "Fetched schema with data types successfully.\n",
      "Fetched schema with data types successfully.\n",
      "Fetched unique values for duration_unit: []\n",
      "Fetching unique values for owner_ids in tasks for date: 10-21-2024 12:00\n",
      "Fetched schema with data types successfully.\n",
      "Fetched schema with data types successfully.\n"
     ]
    },
    {
     "name": "stderr",
     "output_type": "stream",
     "text": [
      "C:\\Users\\Basavaraj\\AppData\\Local\\Temp\\ipykernel_15564\\3907896313.py:40: UserWarning: pandas only supports SQLAlchemy connectable (engine/connection) or database string URI or sqlite3 DBAPI2 connection. Other DBAPI2 objects are not tested. Please consider using SQLAlchemy.\n",
      "  schema_df = pd.read_sql(query, self.connection)\n",
      "C:\\Users\\Basavaraj\\AppData\\Local\\Temp\\ipykernel_15564\\3907896313.py:68: UserWarning: pandas only supports SQLAlchemy connectable (engine/connection) or database string URI or sqlite3 DBAPI2 connection. Other DBAPI2 objects are not tested. Please consider using SQLAlchemy.\n",
      "  df = pd.read_sql(query, self.connection, params=(current_datetime,))\n",
      "C:\\Users\\Basavaraj\\AppData\\Local\\Temp\\ipykernel_15564\\3907896313.py:40: UserWarning: pandas only supports SQLAlchemy connectable (engine/connection) or database string URI or sqlite3 DBAPI2 connection. Other DBAPI2 objects are not tested. Please consider using SQLAlchemy.\n",
      "  schema_df = pd.read_sql(query, self.connection)\n",
      "C:\\Users\\Basavaraj\\AppData\\Local\\Temp\\ipykernel_15564\\3907896313.py:40: UserWarning: pandas only supports SQLAlchemy connectable (engine/connection) or database string URI or sqlite3 DBAPI2 connection. Other DBAPI2 objects are not tested. Please consider using SQLAlchemy.\n",
      "  schema_df = pd.read_sql(query, self.connection)\n",
      "C:\\Users\\Basavaraj\\AppData\\Local\\Temp\\ipykernel_15564\\3907896313.py:40: UserWarning: pandas only supports SQLAlchemy connectable (engine/connection) or database string URI or sqlite3 DBAPI2 connection. Other DBAPI2 objects are not tested. Please consider using SQLAlchemy.\n",
      "  schema_df = pd.read_sql(query, self.connection)\n",
      "C:\\Users\\Basavaraj\\AppData\\Local\\Temp\\ipykernel_15564\\3907896313.py:68: UserWarning: pandas only supports SQLAlchemy connectable (engine/connection) or database string URI or sqlite3 DBAPI2 connection. Other DBAPI2 objects are not tested. Please consider using SQLAlchemy.\n",
      "  df = pd.read_sql(query, self.connection, params=(current_datetime,))\n",
      "C:\\Users\\Basavaraj\\AppData\\Local\\Temp\\ipykernel_15564\\3907896313.py:40: UserWarning: pandas only supports SQLAlchemy connectable (engine/connection) or database string URI or sqlite3 DBAPI2 connection. Other DBAPI2 objects are not tested. Please consider using SQLAlchemy.\n",
      "  schema_df = pd.read_sql(query, self.connection)\n"
     ]
    },
    {
     "name": "stdout",
     "output_type": "stream",
     "text": [
      "Fetched schema with data types successfully.\n",
      "Fetched unique values for owner_ids: []\n",
      "Fetching unique values for completion_percentage in tasks for date: 10-21-2024 12:00\n",
      "Fetched schema with data types successfully.\n",
      "Fetched schema with data types successfully.\n",
      "Fetched schema with data types successfully.\n",
      "Fetched unique values for completion_percentage: []\n",
      "Fetching unique values for actual_time_taken in tasks for date: 10-21-2024 12:00\n",
      "Fetched schema with data types successfully.\n"
     ]
    },
    {
     "name": "stderr",
     "output_type": "stream",
     "text": [
      "C:\\Users\\Basavaraj\\AppData\\Local\\Temp\\ipykernel_15564\\3907896313.py:40: UserWarning: pandas only supports SQLAlchemy connectable (engine/connection) or database string URI or sqlite3 DBAPI2 connection. Other DBAPI2 objects are not tested. Please consider using SQLAlchemy.\n",
      "  schema_df = pd.read_sql(query, self.connection)\n",
      "C:\\Users\\Basavaraj\\AppData\\Local\\Temp\\ipykernel_15564\\3907896313.py:40: UserWarning: pandas only supports SQLAlchemy connectable (engine/connection) or database string URI or sqlite3 DBAPI2 connection. Other DBAPI2 objects are not tested. Please consider using SQLAlchemy.\n",
      "  schema_df = pd.read_sql(query, self.connection)\n",
      "C:\\Users\\Basavaraj\\AppData\\Local\\Temp\\ipykernel_15564\\3907896313.py:68: UserWarning: pandas only supports SQLAlchemy connectable (engine/connection) or database string URI or sqlite3 DBAPI2 connection. Other DBAPI2 objects are not tested. Please consider using SQLAlchemy.\n",
      "  df = pd.read_sql(query, self.connection, params=(current_datetime,))\n",
      "C:\\Users\\Basavaraj\\AppData\\Local\\Temp\\ipykernel_15564\\3907896313.py:40: UserWarning: pandas only supports SQLAlchemy connectable (engine/connection) or database string URI or sqlite3 DBAPI2 connection. Other DBAPI2 objects are not tested. Please consider using SQLAlchemy.\n",
      "  schema_df = pd.read_sql(query, self.connection)\n",
      "C:\\Users\\Basavaraj\\AppData\\Local\\Temp\\ipykernel_15564\\3907896313.py:40: UserWarning: pandas only supports SQLAlchemy connectable (engine/connection) or database string URI or sqlite3 DBAPI2 connection. Other DBAPI2 objects are not tested. Please consider using SQLAlchemy.\n",
      "  schema_df = pd.read_sql(query, self.connection)\n",
      "C:\\Users\\Basavaraj\\AppData\\Local\\Temp\\ipykernel_15564\\3907896313.py:40: UserWarning: pandas only supports SQLAlchemy connectable (engine/connection) or database string URI or sqlite3 DBAPI2 connection. Other DBAPI2 objects are not tested. Please consider using SQLAlchemy.\n",
      "  schema_df = pd.read_sql(query, self.connection)\n"
     ]
    },
    {
     "name": "stdout",
     "output_type": "stream",
     "text": [
      "Fetched schema with data types successfully.\n",
      "Fetched schema with data types successfully.\n",
      "Fetched unique values for actual_time_taken: []\n",
      "Fetching unique values for time_spent_so_far in tasks for date: 10-21-2024 12:00\n",
      "Fetched schema with data types successfully.\n",
      "Fetched schema with data types successfully.\n",
      "Fetched schema with data types successfully.\n",
      "Fetched unique values for time_spent_so_far: []\n",
      "Fetching unique values for sprint_new in tasks for date: 10-21-2024 12:00\n",
      "Fetched schema with data types successfully.\n",
      "Fetched schema with data types successfully.\n",
      "Fetched schema with data types successfully.\n",
      "Fetched unique values for sprint_new: []\n",
      "Fetching unique values for allocated_unallocated in tasks for date: 10-21-2024 12:00\n"
     ]
    },
    {
     "name": "stderr",
     "output_type": "stream",
     "text": [
      "C:\\Users\\Basavaraj\\AppData\\Local\\Temp\\ipykernel_15564\\3907896313.py:68: UserWarning: pandas only supports SQLAlchemy connectable (engine/connection) or database string URI or sqlite3 DBAPI2 connection. Other DBAPI2 objects are not tested. Please consider using SQLAlchemy.\n",
      "  df = pd.read_sql(query, self.connection, params=(current_datetime,))\n",
      "C:\\Users\\Basavaraj\\AppData\\Local\\Temp\\ipykernel_15564\\3907896313.py:40: UserWarning: pandas only supports SQLAlchemy connectable (engine/connection) or database string URI or sqlite3 DBAPI2 connection. Other DBAPI2 objects are not tested. Please consider using SQLAlchemy.\n",
      "  schema_df = pd.read_sql(query, self.connection)\n",
      "C:\\Users\\Basavaraj\\AppData\\Local\\Temp\\ipykernel_15564\\3907896313.py:40: UserWarning: pandas only supports SQLAlchemy connectable (engine/connection) or database string URI or sqlite3 DBAPI2 connection. Other DBAPI2 objects are not tested. Please consider using SQLAlchemy.\n",
      "  schema_df = pd.read_sql(query, self.connection)\n",
      "C:\\Users\\Basavaraj\\AppData\\Local\\Temp\\ipykernel_15564\\3907896313.py:40: UserWarning: pandas only supports SQLAlchemy connectable (engine/connection) or database string URI or sqlite3 DBAPI2 connection. Other DBAPI2 objects are not tested. Please consider using SQLAlchemy.\n",
      "  schema_df = pd.read_sql(query, self.connection)\n",
      "C:\\Users\\Basavaraj\\AppData\\Local\\Temp\\ipykernel_15564\\3907896313.py:68: UserWarning: pandas only supports SQLAlchemy connectable (engine/connection) or database string URI or sqlite3 DBAPI2 connection. Other DBAPI2 objects are not tested. Please consider using SQLAlchemy.\n",
      "  df = pd.read_sql(query, self.connection, params=(current_datetime,))\n",
      "C:\\Users\\Basavaraj\\AppData\\Local\\Temp\\ipykernel_15564\\3907896313.py:40: UserWarning: pandas only supports SQLAlchemy connectable (engine/connection) or database string URI or sqlite3 DBAPI2 connection. Other DBAPI2 objects are not tested. Please consider using SQLAlchemy.\n",
      "  schema_df = pd.read_sql(query, self.connection)\n"
     ]
    },
    {
     "name": "stdout",
     "output_type": "stream",
     "text": [
      "Fetched schema with data types successfully.\n",
      "Fetched schema with data types successfully.\n",
      "Fetched schema with data types successfully.\n",
      "Fetched unique values for allocated_unallocated: []\n",
      "Fetching unique values for due_date in tasks for date: 10-21-2024 12:00\n",
      "Fetched schema with data types successfully.\n",
      "Fetched schema with data types successfully.\n"
     ]
    },
    {
     "name": "stderr",
     "output_type": "stream",
     "text": [
      "C:\\Users\\Basavaraj\\AppData\\Local\\Temp\\ipykernel_15564\\3907896313.py:40: UserWarning: pandas only supports SQLAlchemy connectable (engine/connection) or database string URI or sqlite3 DBAPI2 connection. Other DBAPI2 objects are not tested. Please consider using SQLAlchemy.\n",
      "  schema_df = pd.read_sql(query, self.connection)\n",
      "C:\\Users\\Basavaraj\\AppData\\Local\\Temp\\ipykernel_15564\\3907896313.py:40: UserWarning: pandas only supports SQLAlchemy connectable (engine/connection) or database string URI or sqlite3 DBAPI2 connection. Other DBAPI2 objects are not tested. Please consider using SQLAlchemy.\n",
      "  schema_df = pd.read_sql(query, self.connection)\n",
      "C:\\Users\\Basavaraj\\AppData\\Local\\Temp\\ipykernel_15564\\3907896313.py:68: UserWarning: pandas only supports SQLAlchemy connectable (engine/connection) or database string URI or sqlite3 DBAPI2 connection. Other DBAPI2 objects are not tested. Please consider using SQLAlchemy.\n",
      "  df = pd.read_sql(query, self.connection, params=(current_datetime,))\n",
      "C:\\Users\\Basavaraj\\AppData\\Local\\Temp\\ipykernel_15564\\3907896313.py:40: UserWarning: pandas only supports SQLAlchemy connectable (engine/connection) or database string URI or sqlite3 DBAPI2 connection. Other DBAPI2 objects are not tested. Please consider using SQLAlchemy.\n",
      "  schema_df = pd.read_sql(query, self.connection)\n",
      "C:\\Users\\Basavaraj\\AppData\\Local\\Temp\\ipykernel_15564\\3907896313.py:40: UserWarning: pandas only supports SQLAlchemy connectable (engine/connection) or database string URI or sqlite3 DBAPI2 connection. Other DBAPI2 objects are not tested. Please consider using SQLAlchemy.\n",
      "  schema_df = pd.read_sql(query, self.connection)\n",
      "C:\\Users\\Basavaraj\\AppData\\Local\\Temp\\ipykernel_15564\\3907896313.py:40: UserWarning: pandas only supports SQLAlchemy connectable (engine/connection) or database string URI or sqlite3 DBAPI2 connection. Other DBAPI2 objects are not tested. Please consider using SQLAlchemy.\n",
      "  schema_df = pd.read_sql(query, self.connection)\n"
     ]
    },
    {
     "name": "stdout",
     "output_type": "stream",
     "text": [
      "Fetched schema with data types successfully.\n",
      "Fetched unique values for due_date: []\n",
      "Fetching unique values for sprint in tasks for date: 10-21-2024 12:00\n",
      "Fetched schema with data types successfully.\n",
      "Fetched schema with data types successfully.\n",
      "Fetched schema with data types successfully.\n",
      "Fetched unique values for sprint: []\n",
      "Fetching unique values for project_name in tasks for date: 10-21-2024 12:00\n"
     ]
    },
    {
     "name": "stderr",
     "output_type": "stream",
     "text": [
      "C:\\Users\\Basavaraj\\AppData\\Local\\Temp\\ipykernel_15564\\3907896313.py:68: UserWarning: pandas only supports SQLAlchemy connectable (engine/connection) or database string URI or sqlite3 DBAPI2 connection. Other DBAPI2 objects are not tested. Please consider using SQLAlchemy.\n",
      "  df = pd.read_sql(query, self.connection, params=(current_datetime,))\n",
      "C:\\Users\\Basavaraj\\AppData\\Local\\Temp\\ipykernel_15564\\3907896313.py:40: UserWarning: pandas only supports SQLAlchemy connectable (engine/connection) or database string URI or sqlite3 DBAPI2 connection. Other DBAPI2 objects are not tested. Please consider using SQLAlchemy.\n",
      "  schema_df = pd.read_sql(query, self.connection)\n",
      "C:\\Users\\Basavaraj\\AppData\\Local\\Temp\\ipykernel_15564\\3907896313.py:40: UserWarning: pandas only supports SQLAlchemy connectable (engine/connection) or database string URI or sqlite3 DBAPI2 connection. Other DBAPI2 objects are not tested. Please consider using SQLAlchemy.\n",
      "  schema_df = pd.read_sql(query, self.connection)\n",
      "C:\\Users\\Basavaraj\\AppData\\Local\\Temp\\ipykernel_15564\\3907896313.py:40: UserWarning: pandas only supports SQLAlchemy connectable (engine/connection) or database string URI or sqlite3 DBAPI2 connection. Other DBAPI2 objects are not tested. Please consider using SQLAlchemy.\n",
      "  schema_df = pd.read_sql(query, self.connection)\n",
      "C:\\Users\\Basavaraj\\AppData\\Local\\Temp\\ipykernel_15564\\3907896313.py:68: UserWarning: pandas only supports SQLAlchemy connectable (engine/connection) or database string URI or sqlite3 DBAPI2 connection. Other DBAPI2 objects are not tested. Please consider using SQLAlchemy.\n",
      "  df = pd.read_sql(query, self.connection, params=(current_datetime,))\n",
      "C:\\Users\\Basavaraj\\AppData\\Local\\Temp\\ipykernel_15564\\3907896313.py:40: UserWarning: pandas only supports SQLAlchemy connectable (engine/connection) or database string URI or sqlite3 DBAPI2 connection. Other DBAPI2 objects are not tested. Please consider using SQLAlchemy.\n",
      "  schema_df = pd.read_sql(query, self.connection)\n"
     ]
    },
    {
     "name": "stdout",
     "output_type": "stream",
     "text": [
      "Fetched schema with data types successfully.\n",
      "Fetched schema with data types successfully.\n",
      "Fetched schema with data types successfully.\n",
      "Fetched unique values for project_name: []\n",
      "Fetching unique values for task_delay_time in tasks for date: 10-21-2024 12:00\n",
      "Fetched schema with data types successfully.\n",
      "Fetched schema with data types successfully.\n"
     ]
    },
    {
     "name": "stderr",
     "output_type": "stream",
     "text": [
      "C:\\Users\\Basavaraj\\AppData\\Local\\Temp\\ipykernel_15564\\3907896313.py:40: UserWarning: pandas only supports SQLAlchemy connectable (engine/connection) or database string URI or sqlite3 DBAPI2 connection. Other DBAPI2 objects are not tested. Please consider using SQLAlchemy.\n",
      "  schema_df = pd.read_sql(query, self.connection)\n",
      "C:\\Users\\Basavaraj\\AppData\\Local\\Temp\\ipykernel_15564\\3907896313.py:40: UserWarning: pandas only supports SQLAlchemy connectable (engine/connection) or database string URI or sqlite3 DBAPI2 connection. Other DBAPI2 objects are not tested. Please consider using SQLAlchemy.\n",
      "  schema_df = pd.read_sql(query, self.connection)\n",
      "C:\\Users\\Basavaraj\\AppData\\Local\\Temp\\ipykernel_15564\\3907896313.py:68: UserWarning: pandas only supports SQLAlchemy connectable (engine/connection) or database string URI or sqlite3 DBAPI2 connection. Other DBAPI2 objects are not tested. Please consider using SQLAlchemy.\n",
      "  df = pd.read_sql(query, self.connection, params=(current_datetime,))\n",
      "C:\\Users\\Basavaraj\\AppData\\Local\\Temp\\ipykernel_15564\\3907896313.py:40: UserWarning: pandas only supports SQLAlchemy connectable (engine/connection) or database string URI or sqlite3 DBAPI2 connection. Other DBAPI2 objects are not tested. Please consider using SQLAlchemy.\n",
      "  schema_df = pd.read_sql(query, self.connection)\n",
      "C:\\Users\\Basavaraj\\AppData\\Local\\Temp\\ipykernel_15564\\3907896313.py:40: UserWarning: pandas only supports SQLAlchemy connectable (engine/connection) or database string URI or sqlite3 DBAPI2 connection. Other DBAPI2 objects are not tested. Please consider using SQLAlchemy.\n",
      "  schema_df = pd.read_sql(query, self.connection)\n",
      "C:\\Users\\Basavaraj\\AppData\\Local\\Temp\\ipykernel_15564\\3907896313.py:40: UserWarning: pandas only supports SQLAlchemy connectable (engine/connection) or database string URI or sqlite3 DBAPI2 connection. Other DBAPI2 objects are not tested. Please consider using SQLAlchemy.\n",
      "  schema_df = pd.read_sql(query, self.connection)\n",
      "C:\\Users\\Basavaraj\\AppData\\Local\\Temp\\ipykernel_15564\\3907896313.py:68: UserWarning: pandas only supports SQLAlchemy connectable (engine/connection) or database string URI or sqlite3 DBAPI2 connection. Other DBAPI2 objects are not tested. Please consider using SQLAlchemy.\n",
      "  df = pd.read_sql(query, self.connection, params=(current_datetime,))\n",
      "C:\\Users\\Basavaraj\\AppData\\Local\\Temp\\ipykernel_15564\\3907896313.py:40: UserWarning: pandas only supports SQLAlchemy connectable (engine/connection) or database string URI or sqlite3 DBAPI2 connection. Other DBAPI2 objects are not tested. Please consider using SQLAlchemy.\n",
      "  schema_df = pd.read_sql(query, self.connection)\n",
      "C:\\Users\\Basavaraj\\AppData\\Local\\Temp\\ipykernel_15564\\3907896313.py:40: UserWarning: pandas only supports SQLAlchemy connectable (engine/connection) or database string URI or sqlite3 DBAPI2 connection. Other DBAPI2 objects are not tested. Please consider using SQLAlchemy.\n",
      "  schema_df = pd.read_sql(query, self.connection)\n",
      "C:\\Users\\Basavaraj\\AppData\\Local\\Temp\\ipykernel_15564\\3907896313.py:40: UserWarning: pandas only supports SQLAlchemy connectable (engine/connection) or database string URI or sqlite3 DBAPI2 connection. Other DBAPI2 objects are not tested. Please consider using SQLAlchemy.\n",
      "  schema_df = pd.read_sql(query, self.connection)\n",
      "C:\\Users\\Basavaraj\\AppData\\Local\\Temp\\ipykernel_15564\\3907896313.py:68: UserWarning: pandas only supports SQLAlchemy connectable (engine/connection) or database string URI or sqlite3 DBAPI2 connection. Other DBAPI2 objects are not tested. Please consider using SQLAlchemy.\n",
      "  df = pd.read_sql(query, self.connection, params=(current_datetime,))\n"
     ]
    },
    {
     "name": "stdout",
     "output_type": "stream",
     "text": [
      "Fetched schema with data types successfully.\n",
      "Fetched unique values for task_delay_time: []\n",
      "Fetching unique values for product_skill in tasks for date: 10-21-2024 12:00\n",
      "Fetched schema with data types successfully.\n",
      "Fetched schema with data types successfully.\n",
      "Fetched schema with data types successfully.\n",
      "Fetched unique values for product_skill: []\n",
      "Fetching unique values for created_by_id in tasks for date: 10-21-2024 12:00\n"
     ]
    },
    {
     "name": "stderr",
     "output_type": "stream",
     "text": [
      "C:\\Users\\Basavaraj\\AppData\\Local\\Temp\\ipykernel_15564\\3907896313.py:40: UserWarning: pandas only supports SQLAlchemy connectable (engine/connection) or database string URI or sqlite3 DBAPI2 connection. Other DBAPI2 objects are not tested. Please consider using SQLAlchemy.\n",
      "  schema_df = pd.read_sql(query, self.connection)\n",
      "C:\\Users\\Basavaraj\\AppData\\Local\\Temp\\ipykernel_15564\\3907896313.py:40: UserWarning: pandas only supports SQLAlchemy connectable (engine/connection) or database string URI or sqlite3 DBAPI2 connection. Other DBAPI2 objects are not tested. Please consider using SQLAlchemy.\n",
      "  schema_df = pd.read_sql(query, self.connection)\n",
      "C:\\Users\\Basavaraj\\AppData\\Local\\Temp\\ipykernel_15564\\3907896313.py:40: UserWarning: pandas only supports SQLAlchemy connectable (engine/connection) or database string URI or sqlite3 DBAPI2 connection. Other DBAPI2 objects are not tested. Please consider using SQLAlchemy.\n",
      "  schema_df = pd.read_sql(query, self.connection)\n",
      "C:\\Users\\Basavaraj\\AppData\\Local\\Temp\\ipykernel_15564\\3907896313.py:68: UserWarning: pandas only supports SQLAlchemy connectable (engine/connection) or database string URI or sqlite3 DBAPI2 connection. Other DBAPI2 objects are not tested. Please consider using SQLAlchemy.\n",
      "  df = pd.read_sql(query, self.connection, params=(current_datetime,))\n",
      "C:\\Users\\Basavaraj\\AppData\\Local\\Temp\\ipykernel_15564\\3907896313.py:40: UserWarning: pandas only supports SQLAlchemy connectable (engine/connection) or database string URI or sqlite3 DBAPI2 connection. Other DBAPI2 objects are not tested. Please consider using SQLAlchemy.\n",
      "  schema_df = pd.read_sql(query, self.connection)\n",
      "C:\\Users\\Basavaraj\\AppData\\Local\\Temp\\ipykernel_15564\\3907896313.py:40: UserWarning: pandas only supports SQLAlchemy connectable (engine/connection) or database string URI or sqlite3 DBAPI2 connection. Other DBAPI2 objects are not tested. Please consider using SQLAlchemy.\n",
      "  schema_df = pd.read_sql(query, self.connection)\n"
     ]
    },
    {
     "name": "stdout",
     "output_type": "stream",
     "text": [
      "Fetched schema with data types successfully.\n",
      "Fetched schema with data types successfully.\n",
      "Fetched schema with data types successfully.\n",
      "Fetched unique values for created_by_id: []\n",
      "Fetching unique values for milestone_name in tasks for date: 10-21-2024 12:00\n",
      "Fetched schema with data types successfully.\n",
      "Fetched schema with data types successfully.\n",
      "Fetched schema with data types successfully.\n"
     ]
    },
    {
     "name": "stderr",
     "output_type": "stream",
     "text": [
      "C:\\Users\\Basavaraj\\AppData\\Local\\Temp\\ipykernel_15564\\3907896313.py:40: UserWarning: pandas only supports SQLAlchemy connectable (engine/connection) or database string URI or sqlite3 DBAPI2 connection. Other DBAPI2 objects are not tested. Please consider using SQLAlchemy.\n",
      "  schema_df = pd.read_sql(query, self.connection)\n",
      "C:\\Users\\Basavaraj\\AppData\\Local\\Temp\\ipykernel_15564\\3907896313.py:68: UserWarning: pandas only supports SQLAlchemy connectable (engine/connection) or database string URI or sqlite3 DBAPI2 connection. Other DBAPI2 objects are not tested. Please consider using SQLAlchemy.\n",
      "  df = pd.read_sql(query, self.connection, params=(current_datetime,))\n",
      "C:\\Users\\Basavaraj\\AppData\\Local\\Temp\\ipykernel_15564\\3907896313.py:40: UserWarning: pandas only supports SQLAlchemy connectable (engine/connection) or database string URI or sqlite3 DBAPI2 connection. Other DBAPI2 objects are not tested. Please consider using SQLAlchemy.\n",
      "  schema_df = pd.read_sql(query, self.connection)\n",
      "C:\\Users\\Basavaraj\\AppData\\Local\\Temp\\ipykernel_15564\\3907896313.py:40: UserWarning: pandas only supports SQLAlchemy connectable (engine/connection) or database string URI or sqlite3 DBAPI2 connection. Other DBAPI2 objects are not tested. Please consider using SQLAlchemy.\n",
      "  schema_df = pd.read_sql(query, self.connection)\n",
      "C:\\Users\\Basavaraj\\AppData\\Local\\Temp\\ipykernel_15564\\3907896313.py:40: UserWarning: pandas only supports SQLAlchemy connectable (engine/connection) or database string URI or sqlite3 DBAPI2 connection. Other DBAPI2 objects are not tested. Please consider using SQLAlchemy.\n",
      "  schema_df = pd.read_sql(query, self.connection)\n",
      "C:\\Users\\Basavaraj\\AppData\\Local\\Temp\\ipykernel_15564\\3907896313.py:68: UserWarning: pandas only supports SQLAlchemy connectable (engine/connection) or database string URI or sqlite3 DBAPI2 connection. Other DBAPI2 objects are not tested. Please consider using SQLAlchemy.\n",
      "  df = pd.read_sql(query, self.connection, params=(current_datetime,))\n",
      "C:\\Users\\Basavaraj\\AppData\\Local\\Temp\\ipykernel_15564\\3907896313.py:40: UserWarning: pandas only supports SQLAlchemy connectable (engine/connection) or database string URI or sqlite3 DBAPI2 connection. Other DBAPI2 objects are not tested. Please consider using SQLAlchemy.\n",
      "  schema_df = pd.read_sql(query, self.connection)\n"
     ]
    },
    {
     "name": "stdout",
     "output_type": "stream",
     "text": [
      "Fetched unique values for milestone_name: []\n",
      "Fetching unique values for start_date in tasks for date: 10-21-2024 12:00\n",
      "Fetched schema with data types successfully.\n",
      "Fetched schema with data types successfully.\n",
      "Fetched schema with data types successfully.\n",
      "Fetched unique values for start_date: []\n",
      "Fetching unique values for team_name in teams for date: 10-21-2024 12:00\n",
      "Fetched schema with data types successfully.\n"
     ]
    },
    {
     "name": "stderr",
     "output_type": "stream",
     "text": [
      "C:\\Users\\Basavaraj\\AppData\\Local\\Temp\\ipykernel_15564\\3907896313.py:40: UserWarning: pandas only supports SQLAlchemy connectable (engine/connection) or database string URI or sqlite3 DBAPI2 connection. Other DBAPI2 objects are not tested. Please consider using SQLAlchemy.\n",
      "  schema_df = pd.read_sql(query, self.connection)\n",
      "C:\\Users\\Basavaraj\\AppData\\Local\\Temp\\ipykernel_15564\\3907896313.py:40: UserWarning: pandas only supports SQLAlchemy connectable (engine/connection) or database string URI or sqlite3 DBAPI2 connection. Other DBAPI2 objects are not tested. Please consider using SQLAlchemy.\n",
      "  schema_df = pd.read_sql(query, self.connection)\n",
      "C:\\Users\\Basavaraj\\AppData\\Local\\Temp\\ipykernel_15564\\3907896313.py:68: UserWarning: pandas only supports SQLAlchemy connectable (engine/connection) or database string URI or sqlite3 DBAPI2 connection. Other DBAPI2 objects are not tested. Please consider using SQLAlchemy.\n",
      "  df = pd.read_sql(query, self.connection, params=(current_datetime,))\n",
      "C:\\Users\\Basavaraj\\AppData\\Local\\Temp\\ipykernel_15564\\3907896313.py:40: UserWarning: pandas only supports SQLAlchemy connectable (engine/connection) or database string URI or sqlite3 DBAPI2 connection. Other DBAPI2 objects are not tested. Please consider using SQLAlchemy.\n",
      "  schema_df = pd.read_sql(query, self.connection)\n",
      "C:\\Users\\Basavaraj\\AppData\\Local\\Temp\\ipykernel_15564\\3907896313.py:40: UserWarning: pandas only supports SQLAlchemy connectable (engine/connection) or database string URI or sqlite3 DBAPI2 connection. Other DBAPI2 objects are not tested. Please consider using SQLAlchemy.\n",
      "  schema_df = pd.read_sql(query, self.connection)\n",
      "C:\\Users\\Basavaraj\\AppData\\Local\\Temp\\ipykernel_15564\\3907896313.py:40: UserWarning: pandas only supports SQLAlchemy connectable (engine/connection) or database string URI or sqlite3 DBAPI2 connection. Other DBAPI2 objects are not tested. Please consider using SQLAlchemy.\n",
      "  schema_df = pd.read_sql(query, self.connection)\n",
      "C:\\Users\\Basavaraj\\AppData\\Local\\Temp\\ipykernel_15564\\3907896313.py:68: UserWarning: pandas only supports SQLAlchemy connectable (engine/connection) or database string URI or sqlite3 DBAPI2 connection. Other DBAPI2 objects are not tested. Please consider using SQLAlchemy.\n",
      "  df = pd.read_sql(query, self.connection, params=(current_datetime,))\n"
     ]
    },
    {
     "name": "stdout",
     "output_type": "stream",
     "text": [
      "Fetched schema with data types successfully.\n",
      "Fetched schema with data types successfully.\n",
      "Fetched unique values for team_name: []\n",
      "Fetching unique values for updated_by in teams for date: 10-21-2024 12:00\n",
      "Fetched schema with data types successfully.\n",
      "Fetched schema with data types successfully.\n",
      "Fetched schema with data types successfully.\n",
      "Fetched unique values for updated_by: []\n",
      "Fetching unique values for team_users in teams for date: 10-21-2024 12:00\n"
     ]
    },
    {
     "name": "stderr",
     "output_type": "stream",
     "text": [
      "C:\\Users\\Basavaraj\\AppData\\Local\\Temp\\ipykernel_15564\\3907896313.py:40: UserWarning: pandas only supports SQLAlchemy connectable (engine/connection) or database string URI or sqlite3 DBAPI2 connection. Other DBAPI2 objects are not tested. Please consider using SQLAlchemy.\n",
      "  schema_df = pd.read_sql(query, self.connection)\n",
      "C:\\Users\\Basavaraj\\AppData\\Local\\Temp\\ipykernel_15564\\3907896313.py:40: UserWarning: pandas only supports SQLAlchemy connectable (engine/connection) or database string URI or sqlite3 DBAPI2 connection. Other DBAPI2 objects are not tested. Please consider using SQLAlchemy.\n",
      "  schema_df = pd.read_sql(query, self.connection)\n",
      "C:\\Users\\Basavaraj\\AppData\\Local\\Temp\\ipykernel_15564\\3907896313.py:40: UserWarning: pandas only supports SQLAlchemy connectable (engine/connection) or database string URI or sqlite3 DBAPI2 connection. Other DBAPI2 objects are not tested. Please consider using SQLAlchemy.\n",
      "  schema_df = pd.read_sql(query, self.connection)\n",
      "C:\\Users\\Basavaraj\\AppData\\Local\\Temp\\ipykernel_15564\\3907896313.py:68: UserWarning: pandas only supports SQLAlchemy connectable (engine/connection) or database string URI or sqlite3 DBAPI2 connection. Other DBAPI2 objects are not tested. Please consider using SQLAlchemy.\n",
      "  df = pd.read_sql(query, self.connection, params=(current_datetime,))\n",
      "C:\\Users\\Basavaraj\\AppData\\Local\\Temp\\ipykernel_15564\\3907896313.py:40: UserWarning: pandas only supports SQLAlchemy connectable (engine/connection) or database string URI or sqlite3 DBAPI2 connection. Other DBAPI2 objects are not tested. Please consider using SQLAlchemy.\n",
      "  schema_df = pd.read_sql(query, self.connection)\n",
      "C:\\Users\\Basavaraj\\AppData\\Local\\Temp\\ipykernel_15564\\3907896313.py:40: UserWarning: pandas only supports SQLAlchemy connectable (engine/connection) or database string URI or sqlite3 DBAPI2 connection. Other DBAPI2 objects are not tested. Please consider using SQLAlchemy.\n",
      "  schema_df = pd.read_sql(query, self.connection)\n"
     ]
    },
    {
     "name": "stdout",
     "output_type": "stream",
     "text": [
      "Fetched schema with data types successfully.\n",
      "Fetched schema with data types successfully.\n",
      "Fetched schema with data types successfully.\n",
      "Fetched unique values for team_users: []\n",
      "Fetching unique values for created_time in teams for date: 10-21-2024 12:00\n",
      "Fetched schema with data types successfully.\n",
      "Fetched schema with data types successfully.\n"
     ]
    },
    {
     "name": "stderr",
     "output_type": "stream",
     "text": [
      "C:\\Users\\Basavaraj\\AppData\\Local\\Temp\\ipykernel_15564\\3907896313.py:40: UserWarning: pandas only supports SQLAlchemy connectable (engine/connection) or database string URI or sqlite3 DBAPI2 connection. Other DBAPI2 objects are not tested. Please consider using SQLAlchemy.\n",
      "  schema_df = pd.read_sql(query, self.connection)\n",
      "C:\\Users\\Basavaraj\\AppData\\Local\\Temp\\ipykernel_15564\\3907896313.py:68: UserWarning: pandas only supports SQLAlchemy connectable (engine/connection) or database string URI or sqlite3 DBAPI2 connection. Other DBAPI2 objects are not tested. Please consider using SQLAlchemy.\n",
      "  df = pd.read_sql(query, self.connection, params=(current_datetime,))\n",
      "C:\\Users\\Basavaraj\\AppData\\Local\\Temp\\ipykernel_15564\\3907896313.py:40: UserWarning: pandas only supports SQLAlchemy connectable (engine/connection) or database string URI or sqlite3 DBAPI2 connection. Other DBAPI2 objects are not tested. Please consider using SQLAlchemy.\n",
      "  schema_df = pd.read_sql(query, self.connection)\n",
      "C:\\Users\\Basavaraj\\AppData\\Local\\Temp\\ipykernel_15564\\3907896313.py:40: UserWarning: pandas only supports SQLAlchemy connectable (engine/connection) or database string URI or sqlite3 DBAPI2 connection. Other DBAPI2 objects are not tested. Please consider using SQLAlchemy.\n",
      "  schema_df = pd.read_sql(query, self.connection)\n",
      "C:\\Users\\Basavaraj\\AppData\\Local\\Temp\\ipykernel_15564\\3907896313.py:40: UserWarning: pandas only supports SQLAlchemy connectable (engine/connection) or database string URI or sqlite3 DBAPI2 connection. Other DBAPI2 objects are not tested. Please consider using SQLAlchemy.\n",
      "  schema_df = pd.read_sql(query, self.connection)\n",
      "C:\\Users\\Basavaraj\\AppData\\Local\\Temp\\ipykernel_15564\\3907896313.py:68: UserWarning: pandas only supports SQLAlchemy connectable (engine/connection) or database string URI or sqlite3 DBAPI2 connection. Other DBAPI2 objects are not tested. Please consider using SQLAlchemy.\n",
      "  df = pd.read_sql(query, self.connection, params=(current_datetime,))\n"
     ]
    },
    {
     "name": "stdout",
     "output_type": "stream",
     "text": [
      "Fetched schema with data types successfully.\n",
      "Fetched unique values for created_time: []\n",
      "Fetching unique values for team_lead in teams for date: 10-21-2024 12:00\n",
      "Fetched schema with data types successfully.\n",
      "Fetched schema with data types successfully.\n",
      "Fetched schema with data types successfully.\n",
      "Fetched unique values for team_lead: []\n",
      "Fetching unique values for last_updated_time in teams for date: 10-21-2024 12:00\n"
     ]
    },
    {
     "name": "stderr",
     "output_type": "stream",
     "text": [
      "C:\\Users\\Basavaraj\\AppData\\Local\\Temp\\ipykernel_15564\\3907896313.py:40: UserWarning: pandas only supports SQLAlchemy connectable (engine/connection) or database string URI or sqlite3 DBAPI2 connection. Other DBAPI2 objects are not tested. Please consider using SQLAlchemy.\n",
      "  schema_df = pd.read_sql(query, self.connection)\n",
      "C:\\Users\\Basavaraj\\AppData\\Local\\Temp\\ipykernel_15564\\3907896313.py:40: UserWarning: pandas only supports SQLAlchemy connectable (engine/connection) or database string URI or sqlite3 DBAPI2 connection. Other DBAPI2 objects are not tested. Please consider using SQLAlchemy.\n",
      "  schema_df = pd.read_sql(query, self.connection)\n",
      "C:\\Users\\Basavaraj\\AppData\\Local\\Temp\\ipykernel_15564\\3907896313.py:40: UserWarning: pandas only supports SQLAlchemy connectable (engine/connection) or database string URI or sqlite3 DBAPI2 connection. Other DBAPI2 objects are not tested. Please consider using SQLAlchemy.\n",
      "  schema_df = pd.read_sql(query, self.connection)\n",
      "C:\\Users\\Basavaraj\\AppData\\Local\\Temp\\ipykernel_15564\\3907896313.py:68: UserWarning: pandas only supports SQLAlchemy connectable (engine/connection) or database string URI or sqlite3 DBAPI2 connection. Other DBAPI2 objects are not tested. Please consider using SQLAlchemy.\n",
      "  df = pd.read_sql(query, self.connection, params=(current_datetime,))\n",
      "C:\\Users\\Basavaraj\\AppData\\Local\\Temp\\ipykernel_15564\\3907896313.py:40: UserWarning: pandas only supports SQLAlchemy connectable (engine/connection) or database string URI or sqlite3 DBAPI2 connection. Other DBAPI2 objects are not tested. Please consider using SQLAlchemy.\n",
      "  schema_df = pd.read_sql(query, self.connection)\n"
     ]
    },
    {
     "name": "stdout",
     "output_type": "stream",
     "text": [
      "Fetched schema with data types successfully.\n",
      "Fetched schema with data types successfully.\n",
      "Fetched schema with data types successfully.\n",
      "Fetched unique values for last_updated_time: []\n",
      "Fetching unique values for created_by in teams for date: 10-21-2024 12:00\n",
      "Fetched schema with data types successfully.\n",
      "Fetched schema with data types successfully.\n",
      "Fetched schema with data types successfully.\n",
      "Fetched unique values for created_by: []\n",
      "Fetching unique values for team_id in teams for date: 10-21-2024 12:00\n",
      "Fetched schema with data types successfully.\n"
     ]
    },
    {
     "name": "stderr",
     "output_type": "stream",
     "text": [
      "C:\\Users\\Basavaraj\\AppData\\Local\\Temp\\ipykernel_15564\\3907896313.py:40: UserWarning: pandas only supports SQLAlchemy connectable (engine/connection) or database string URI or sqlite3 DBAPI2 connection. Other DBAPI2 objects are not tested. Please consider using SQLAlchemy.\n",
      "  schema_df = pd.read_sql(query, self.connection)\n",
      "C:\\Users\\Basavaraj\\AppData\\Local\\Temp\\ipykernel_15564\\3907896313.py:40: UserWarning: pandas only supports SQLAlchemy connectable (engine/connection) or database string URI or sqlite3 DBAPI2 connection. Other DBAPI2 objects are not tested. Please consider using SQLAlchemy.\n",
      "  schema_df = pd.read_sql(query, self.connection)\n",
      "C:\\Users\\Basavaraj\\AppData\\Local\\Temp\\ipykernel_15564\\3907896313.py:68: UserWarning: pandas only supports SQLAlchemy connectable (engine/connection) or database string URI or sqlite3 DBAPI2 connection. Other DBAPI2 objects are not tested. Please consider using SQLAlchemy.\n",
      "  df = pd.read_sql(query, self.connection, params=(current_datetime,))\n",
      "C:\\Users\\Basavaraj\\AppData\\Local\\Temp\\ipykernel_15564\\3907896313.py:40: UserWarning: pandas only supports SQLAlchemy connectable (engine/connection) or database string URI or sqlite3 DBAPI2 connection. Other DBAPI2 objects are not tested. Please consider using SQLAlchemy.\n",
      "  schema_df = pd.read_sql(query, self.connection)\n",
      "C:\\Users\\Basavaraj\\AppData\\Local\\Temp\\ipykernel_15564\\3907896313.py:40: UserWarning: pandas only supports SQLAlchemy connectable (engine/connection) or database string URI or sqlite3 DBAPI2 connection. Other DBAPI2 objects are not tested. Please consider using SQLAlchemy.\n",
      "  schema_df = pd.read_sql(query, self.connection)\n"
     ]
    },
    {
     "name": "stdout",
     "output_type": "stream",
     "text": [
      "Fetched schema with data types successfully.\n",
      "Fetched schema with data types successfully.\n",
      "Fetched unique values for team_id: []\n",
      "Fetching unique values for project_name in timesheet for date: 10-21-2024 12:00\n",
      "Fetched schema with data types successfully.\n",
      "Fetched schema with data types successfully.\n"
     ]
    },
    {
     "name": "stderr",
     "output_type": "stream",
     "text": [
      "C:\\Users\\Basavaraj\\AppData\\Local\\Temp\\ipykernel_15564\\3907896313.py:40: UserWarning: pandas only supports SQLAlchemy connectable (engine/connection) or database string URI or sqlite3 DBAPI2 connection. Other DBAPI2 objects are not tested. Please consider using SQLAlchemy.\n",
      "  schema_df = pd.read_sql(query, self.connection)\n",
      "C:\\Users\\Basavaraj\\AppData\\Local\\Temp\\ipykernel_15564\\3907896313.py:68: UserWarning: pandas only supports SQLAlchemy connectable (engine/connection) or database string URI or sqlite3 DBAPI2 connection. Other DBAPI2 objects are not tested. Please consider using SQLAlchemy.\n",
      "  df = pd.read_sql(query, self.connection, params=(current_datetime,))\n",
      "C:\\Users\\Basavaraj\\AppData\\Local\\Temp\\ipykernel_15564\\3907896313.py:40: UserWarning: pandas only supports SQLAlchemy connectable (engine/connection) or database string URI or sqlite3 DBAPI2 connection. Other DBAPI2 objects are not tested. Please consider using SQLAlchemy.\n",
      "  schema_df = pd.read_sql(query, self.connection)\n",
      "C:\\Users\\Basavaraj\\AppData\\Local\\Temp\\ipykernel_15564\\3907896313.py:40: UserWarning: pandas only supports SQLAlchemy connectable (engine/connection) or database string URI or sqlite3 DBAPI2 connection. Other DBAPI2 objects are not tested. Please consider using SQLAlchemy.\n",
      "  schema_df = pd.read_sql(query, self.connection)\n",
      "C:\\Users\\Basavaraj\\AppData\\Local\\Temp\\ipykernel_15564\\3907896313.py:40: UserWarning: pandas only supports SQLAlchemy connectable (engine/connection) or database string URI or sqlite3 DBAPI2 connection. Other DBAPI2 objects are not tested. Please consider using SQLAlchemy.\n",
      "  schema_df = pd.read_sql(query, self.connection)\n"
     ]
    },
    {
     "name": "stdout",
     "output_type": "stream",
     "text": [
      "Fetched schema with data types successfully.\n",
      "Fetched unique values for project_name: []\n",
      "Fetching unique values for status in timesheet for date: 10-21-2024 12:00\n",
      "Fetched schema with data types successfully.\n",
      "Fetched schema with data types successfully.\n",
      "Fetched schema with data types successfully.\n"
     ]
    },
    {
     "name": "stderr",
     "output_type": "stream",
     "text": [
      "C:\\Users\\Basavaraj\\AppData\\Local\\Temp\\ipykernel_15564\\3907896313.py:68: UserWarning: pandas only supports SQLAlchemy connectable (engine/connection) or database string URI or sqlite3 DBAPI2 connection. Other DBAPI2 objects are not tested. Please consider using SQLAlchemy.\n",
      "  df = pd.read_sql(query, self.connection, params=(current_datetime,))\n",
      "C:\\Users\\Basavaraj\\AppData\\Local\\Temp\\ipykernel_15564\\3907896313.py:40: UserWarning: pandas only supports SQLAlchemy connectable (engine/connection) or database string URI or sqlite3 DBAPI2 connection. Other DBAPI2 objects are not tested. Please consider using SQLAlchemy.\n",
      "  schema_df = pd.read_sql(query, self.connection)\n",
      "C:\\Users\\Basavaraj\\AppData\\Local\\Temp\\ipykernel_15564\\3907896313.py:40: UserWarning: pandas only supports SQLAlchemy connectable (engine/connection) or database string URI or sqlite3 DBAPI2 connection. Other DBAPI2 objects are not tested. Please consider using SQLAlchemy.\n",
      "  schema_df = pd.read_sql(query, self.connection)\n",
      "C:\\Users\\Basavaraj\\AppData\\Local\\Temp\\ipykernel_15564\\3907896313.py:40: UserWarning: pandas only supports SQLAlchemy connectable (engine/connection) or database string URI or sqlite3 DBAPI2 connection. Other DBAPI2 objects are not tested. Please consider using SQLAlchemy.\n",
      "  schema_df = pd.read_sql(query, self.connection)\n",
      "C:\\Users\\Basavaraj\\AppData\\Local\\Temp\\ipykernel_15564\\3907896313.py:68: UserWarning: pandas only supports SQLAlchemy connectable (engine/connection) or database string URI or sqlite3 DBAPI2 connection. Other DBAPI2 objects are not tested. Please consider using SQLAlchemy.\n",
      "  df = pd.read_sql(query, self.connection, params=(current_datetime,))\n"
     ]
    },
    {
     "name": "stdout",
     "output_type": "stream",
     "text": [
      "Fetched unique values for status: []\n",
      "Fetching unique values for project_id in timesheet for date: 10-21-2024 12:00\n",
      "Fetched schema with data types successfully.\n",
      "Fetched schema with data types successfully.\n",
      "Fetched schema with data types successfully.\n",
      "Fetched unique values for project_id: []\n",
      "Fetching unique values for title in timesheet for date: 10-21-2024 12:00\n"
     ]
    },
    {
     "name": "stderr",
     "output_type": "stream",
     "text": [
      "C:\\Users\\Basavaraj\\AppData\\Local\\Temp\\ipykernel_15564\\3907896313.py:40: UserWarning: pandas only supports SQLAlchemy connectable (engine/connection) or database string URI or sqlite3 DBAPI2 connection. Other DBAPI2 objects are not tested. Please consider using SQLAlchemy.\n",
      "  schema_df = pd.read_sql(query, self.connection)\n",
      "C:\\Users\\Basavaraj\\AppData\\Local\\Temp\\ipykernel_15564\\3907896313.py:40: UserWarning: pandas only supports SQLAlchemy connectable (engine/connection) or database string URI or sqlite3 DBAPI2 connection. Other DBAPI2 objects are not tested. Please consider using SQLAlchemy.\n",
      "  schema_df = pd.read_sql(query, self.connection)\n",
      "C:\\Users\\Basavaraj\\AppData\\Local\\Temp\\ipykernel_15564\\3907896313.py:40: UserWarning: pandas only supports SQLAlchemy connectable (engine/connection) or database string URI or sqlite3 DBAPI2 connection. Other DBAPI2 objects are not tested. Please consider using SQLAlchemy.\n",
      "  schema_df = pd.read_sql(query, self.connection)\n",
      "C:\\Users\\Basavaraj\\AppData\\Local\\Temp\\ipykernel_15564\\3907896313.py:68: UserWarning: pandas only supports SQLAlchemy connectable (engine/connection) or database string URI or sqlite3 DBAPI2 connection. Other DBAPI2 objects are not tested. Please consider using SQLAlchemy.\n",
      "  df = pd.read_sql(query, self.connection, params=(current_datetime,))\n",
      "C:\\Users\\Basavaraj\\AppData\\Local\\Temp\\ipykernel_15564\\3907896313.py:40: UserWarning: pandas only supports SQLAlchemy connectable (engine/connection) or database string URI or sqlite3 DBAPI2 connection. Other DBAPI2 objects are not tested. Please consider using SQLAlchemy.\n",
      "  schema_df = pd.read_sql(query, self.connection)\n"
     ]
    },
    {
     "name": "stdout",
     "output_type": "stream",
     "text": [
      "Fetched schema with data types successfully.\n",
      "Fetched schema with data types successfully.\n",
      "Fetched schema with data types successfully.\n",
      "Fetched unique values for title: []\n",
      "Fetching unique values for hours in timesheet for date: 10-21-2024 12:00\n",
      "Fetched schema with data types successfully.\n"
     ]
    },
    {
     "name": "stderr",
     "output_type": "stream",
     "text": [
      "C:\\Users\\Basavaraj\\AppData\\Local\\Temp\\ipykernel_15564\\3907896313.py:40: UserWarning: pandas only supports SQLAlchemy connectable (engine/connection) or database string URI or sqlite3 DBAPI2 connection. Other DBAPI2 objects are not tested. Please consider using SQLAlchemy.\n",
      "  schema_df = pd.read_sql(query, self.connection)\n",
      "C:\\Users\\Basavaraj\\AppData\\Local\\Temp\\ipykernel_15564\\3907896313.py:40: UserWarning: pandas only supports SQLAlchemy connectable (engine/connection) or database string URI or sqlite3 DBAPI2 connection. Other DBAPI2 objects are not tested. Please consider using SQLAlchemy.\n",
      "  schema_df = pd.read_sql(query, self.connection)\n",
      "C:\\Users\\Basavaraj\\AppData\\Local\\Temp\\ipykernel_15564\\3907896313.py:68: UserWarning: pandas only supports SQLAlchemy connectable (engine/connection) or database string URI or sqlite3 DBAPI2 connection. Other DBAPI2 objects are not tested. Please consider using SQLAlchemy.\n",
      "  df = pd.read_sql(query, self.connection, params=(current_datetime,))\n",
      "C:\\Users\\Basavaraj\\AppData\\Local\\Temp\\ipykernel_15564\\3907896313.py:40: UserWarning: pandas only supports SQLAlchemy connectable (engine/connection) or database string URI or sqlite3 DBAPI2 connection. Other DBAPI2 objects are not tested. Please consider using SQLAlchemy.\n",
      "  schema_df = pd.read_sql(query, self.connection)\n",
      "C:\\Users\\Basavaraj\\AppData\\Local\\Temp\\ipykernel_15564\\3907896313.py:40: UserWarning: pandas only supports SQLAlchemy connectable (engine/connection) or database string URI or sqlite3 DBAPI2 connection. Other DBAPI2 objects are not tested. Please consider using SQLAlchemy.\n",
      "  schema_df = pd.read_sql(query, self.connection)\n"
     ]
    },
    {
     "name": "stdout",
     "output_type": "stream",
     "text": [
      "Fetched schema with data types successfully.\n",
      "Fetched schema with data types successfully.\n",
      "Fetched unique values for hours: []\n",
      "Fetching unique values for bug_id in timesheet for date: 10-21-2024 12:00\n",
      "Fetched schema with data types successfully.\n",
      "Fetched schema with data types successfully.\n"
     ]
    },
    {
     "name": "stderr",
     "output_type": "stream",
     "text": [
      "C:\\Users\\Basavaraj\\AppData\\Local\\Temp\\ipykernel_15564\\3907896313.py:40: UserWarning: pandas only supports SQLAlchemy connectable (engine/connection) or database string URI or sqlite3 DBAPI2 connection. Other DBAPI2 objects are not tested. Please consider using SQLAlchemy.\n",
      "  schema_df = pd.read_sql(query, self.connection)\n",
      "C:\\Users\\Basavaraj\\AppData\\Local\\Temp\\ipykernel_15564\\3907896313.py:68: UserWarning: pandas only supports SQLAlchemy connectable (engine/connection) or database string URI or sqlite3 DBAPI2 connection. Other DBAPI2 objects are not tested. Please consider using SQLAlchemy.\n",
      "  df = pd.read_sql(query, self.connection, params=(current_datetime,))\n",
      "C:\\Users\\Basavaraj\\AppData\\Local\\Temp\\ipykernel_15564\\3907896313.py:40: UserWarning: pandas only supports SQLAlchemy connectable (engine/connection) or database string URI or sqlite3 DBAPI2 connection. Other DBAPI2 objects are not tested. Please consider using SQLAlchemy.\n",
      "  schema_df = pd.read_sql(query, self.connection)\n",
      "C:\\Users\\Basavaraj\\AppData\\Local\\Temp\\ipykernel_15564\\3907896313.py:40: UserWarning: pandas only supports SQLAlchemy connectable (engine/connection) or database string URI or sqlite3 DBAPI2 connection. Other DBAPI2 objects are not tested. Please consider using SQLAlchemy.\n",
      "  schema_df = pd.read_sql(query, self.connection)\n",
      "C:\\Users\\Basavaraj\\AppData\\Local\\Temp\\ipykernel_15564\\3907896313.py:40: UserWarning: pandas only supports SQLAlchemy connectable (engine/connection) or database string URI or sqlite3 DBAPI2 connection. Other DBAPI2 objects are not tested. Please consider using SQLAlchemy.\n",
      "  schema_df = pd.read_sql(query, self.connection)\n"
     ]
    },
    {
     "name": "stdout",
     "output_type": "stream",
     "text": [
      "Fetched schema with data types successfully.\n",
      "Fetched unique values for bug_id: []\n",
      "Fetching unique values for created_by in timesheet for date: 10-21-2024 12:00\n",
      "Fetched schema with data types successfully.\n",
      "Fetched schema with data types successfully.\n",
      "Fetched schema with data types successfully.\n"
     ]
    },
    {
     "name": "stderr",
     "output_type": "stream",
     "text": [
      "C:\\Users\\Basavaraj\\AppData\\Local\\Temp\\ipykernel_15564\\3907896313.py:68: UserWarning: pandas only supports SQLAlchemy connectable (engine/connection) or database string URI or sqlite3 DBAPI2 connection. Other DBAPI2 objects are not tested. Please consider using SQLAlchemy.\n",
      "  df = pd.read_sql(query, self.connection, params=(current_datetime,))\n",
      "C:\\Users\\Basavaraj\\AppData\\Local\\Temp\\ipykernel_15564\\3907896313.py:40: UserWarning: pandas only supports SQLAlchemy connectable (engine/connection) or database string URI or sqlite3 DBAPI2 connection. Other DBAPI2 objects are not tested. Please consider using SQLAlchemy.\n",
      "  schema_df = pd.read_sql(query, self.connection)\n",
      "C:\\Users\\Basavaraj\\AppData\\Local\\Temp\\ipykernel_15564\\3907896313.py:40: UserWarning: pandas only supports SQLAlchemy connectable (engine/connection) or database string URI or sqlite3 DBAPI2 connection. Other DBAPI2 objects are not tested. Please consider using SQLAlchemy.\n",
      "  schema_df = pd.read_sql(query, self.connection)\n",
      "C:\\Users\\Basavaraj\\AppData\\Local\\Temp\\ipykernel_15564\\3907896313.py:40: UserWarning: pandas only supports SQLAlchemy connectable (engine/connection) or database string URI or sqlite3 DBAPI2 connection. Other DBAPI2 objects are not tested. Please consider using SQLAlchemy.\n",
      "  schema_df = pd.read_sql(query, self.connection)\n",
      "C:\\Users\\Basavaraj\\AppData\\Local\\Temp\\ipykernel_15564\\3907896313.py:68: UserWarning: pandas only supports SQLAlchemy connectable (engine/connection) or database string URI or sqlite3 DBAPI2 connection. Other DBAPI2 objects are not tested. Please consider using SQLAlchemy.\n",
      "  df = pd.read_sql(query, self.connection, params=(current_datetime,))\n"
     ]
    },
    {
     "name": "stdout",
     "output_type": "stream",
     "text": [
      "Fetched unique values for created_by: []\n",
      "Fetching unique values for date in timesheet for date: 10-21-2024 12:00\n",
      "Fetched schema with data types successfully.\n",
      "Fetched schema with data types successfully.\n",
      "Fetched schema with data types successfully.\n",
      "Fetched unique values for date: []\n",
      "Fetching unique values for user_id in timesheet for date: 10-21-2024 12:00\n"
     ]
    },
    {
     "name": "stderr",
     "output_type": "stream",
     "text": [
      "C:\\Users\\Basavaraj\\AppData\\Local\\Temp\\ipykernel_15564\\3907896313.py:40: UserWarning: pandas only supports SQLAlchemy connectable (engine/connection) or database string URI or sqlite3 DBAPI2 connection. Other DBAPI2 objects are not tested. Please consider using SQLAlchemy.\n",
      "  schema_df = pd.read_sql(query, self.connection)\n",
      "C:\\Users\\Basavaraj\\AppData\\Local\\Temp\\ipykernel_15564\\3907896313.py:40: UserWarning: pandas only supports SQLAlchemy connectable (engine/connection) or database string URI or sqlite3 DBAPI2 connection. Other DBAPI2 objects are not tested. Please consider using SQLAlchemy.\n",
      "  schema_df = pd.read_sql(query, self.connection)\n",
      "C:\\Users\\Basavaraj\\AppData\\Local\\Temp\\ipykernel_15564\\3907896313.py:40: UserWarning: pandas only supports SQLAlchemy connectable (engine/connection) or database string URI or sqlite3 DBAPI2 connection. Other DBAPI2 objects are not tested. Please consider using SQLAlchemy.\n",
      "  schema_df = pd.read_sql(query, self.connection)\n",
      "C:\\Users\\Basavaraj\\AppData\\Local\\Temp\\ipykernel_15564\\3907896313.py:68: UserWarning: pandas only supports SQLAlchemy connectable (engine/connection) or database string URI or sqlite3 DBAPI2 connection. Other DBAPI2 objects are not tested. Please consider using SQLAlchemy.\n",
      "  df = pd.read_sql(query, self.connection, params=(current_datetime,))\n",
      "C:\\Users\\Basavaraj\\AppData\\Local\\Temp\\ipykernel_15564\\3907896313.py:40: UserWarning: pandas only supports SQLAlchemy connectable (engine/connection) or database string URI or sqlite3 DBAPI2 connection. Other DBAPI2 objects are not tested. Please consider using SQLAlchemy.\n",
      "  schema_df = pd.read_sql(query, self.connection)\n",
      "C:\\Users\\Basavaraj\\AppData\\Local\\Temp\\ipykernel_15564\\3907896313.py:40: UserWarning: pandas only supports SQLAlchemy connectable (engine/connection) or database string URI or sqlite3 DBAPI2 connection. Other DBAPI2 objects are not tested. Please consider using SQLAlchemy.\n",
      "  schema_df = pd.read_sql(query, self.connection)\n",
      "C:\\Users\\Basavaraj\\AppData\\Local\\Temp\\ipykernel_15564\\3907896313.py:40: UserWarning: pandas only supports SQLAlchemy connectable (engine/connection) or database string URI or sqlite3 DBAPI2 connection. Other DBAPI2 objects are not tested. Please consider using SQLAlchemy.\n",
      "  schema_df = pd.read_sql(query, self.connection)\n",
      "C:\\Users\\Basavaraj\\AppData\\Local\\Temp\\ipykernel_15564\\3907896313.py:68: UserWarning: pandas only supports SQLAlchemy connectable (engine/connection) or database string URI or sqlite3 DBAPI2 connection. Other DBAPI2 objects are not tested. Please consider using SQLAlchemy.\n",
      "  df = pd.read_sql(query, self.connection, params=(current_datetime,))\n",
      "C:\\Users\\Basavaraj\\AppData\\Local\\Temp\\ipykernel_15564\\3907896313.py:40: UserWarning: pandas only supports SQLAlchemy connectable (engine/connection) or database string URI or sqlite3 DBAPI2 connection. Other DBAPI2 objects are not tested. Please consider using SQLAlchemy.\n",
      "  schema_df = pd.read_sql(query, self.connection)\n"
     ]
    },
    {
     "name": "stdout",
     "output_type": "stream",
     "text": [
      "Fetched schema with data types successfully.\n",
      "Fetched schema with data types successfully.\n",
      "Fetched schema with data types successfully.\n",
      "Fetched unique values for user_id: []\n",
      "Fetching unique values for last_modified_time in timesheet for date: 10-21-2024 12:00\n",
      "Fetched schema with data types successfully.\n"
     ]
    },
    {
     "name": "stderr",
     "output_type": "stream",
     "text": [
      "C:\\Users\\Basavaraj\\AppData\\Local\\Temp\\ipykernel_15564\\3907896313.py:40: UserWarning: pandas only supports SQLAlchemy connectable (engine/connection) or database string URI or sqlite3 DBAPI2 connection. Other DBAPI2 objects are not tested. Please consider using SQLAlchemy.\n",
      "  schema_df = pd.read_sql(query, self.connection)\n",
      "C:\\Users\\Basavaraj\\AppData\\Local\\Temp\\ipykernel_15564\\3907896313.py:40: UserWarning: pandas only supports SQLAlchemy connectable (engine/connection) or database string URI or sqlite3 DBAPI2 connection. Other DBAPI2 objects are not tested. Please consider using SQLAlchemy.\n",
      "  schema_df = pd.read_sql(query, self.connection)\n",
      "C:\\Users\\Basavaraj\\AppData\\Local\\Temp\\ipykernel_15564\\3907896313.py:68: UserWarning: pandas only supports SQLAlchemy connectable (engine/connection) or database string URI or sqlite3 DBAPI2 connection. Other DBAPI2 objects are not tested. Please consider using SQLAlchemy.\n",
      "  df = pd.read_sql(query, self.connection, params=(current_datetime,))\n",
      "C:\\Users\\Basavaraj\\AppData\\Local\\Temp\\ipykernel_15564\\3907896313.py:40: UserWarning: pandas only supports SQLAlchemy connectable (engine/connection) or database string URI or sqlite3 DBAPI2 connection. Other DBAPI2 objects are not tested. Please consider using SQLAlchemy.\n",
      "  schema_df = pd.read_sql(query, self.connection)\n",
      "C:\\Users\\Basavaraj\\AppData\\Local\\Temp\\ipykernel_15564\\3907896313.py:40: UserWarning: pandas only supports SQLAlchemy connectable (engine/connection) or database string URI or sqlite3 DBAPI2 connection. Other DBAPI2 objects are not tested. Please consider using SQLAlchemy.\n",
      "  schema_df = pd.read_sql(query, self.connection)\n"
     ]
    },
    {
     "name": "stdout",
     "output_type": "stream",
     "text": [
      "Fetched schema with data types successfully.\n",
      "Fetched schema with data types successfully.\n",
      "Fetched unique values for last_modified_time: []\n",
      "Fetching unique values for logged_on in timesheet for date: 10-21-2024 12:00\n",
      "Fetched schema with data types successfully.\n",
      "Fetched schema with data types successfully.\n",
      "Fetched schema with data types successfully.\n",
      "Fetched unique values for logged_on: []\n",
      "Fetching unique values for end_time in timesheet for date: 10-21-2024 12:00\n",
      "Fetched schema with data types successfully.\n",
      "Fetched schema with data types successfully.\n"
     ]
    },
    {
     "name": "stderr",
     "output_type": "stream",
     "text": [
      "C:\\Users\\Basavaraj\\AppData\\Local\\Temp\\ipykernel_15564\\3907896313.py:40: UserWarning: pandas only supports SQLAlchemy connectable (engine/connection) or database string URI or sqlite3 DBAPI2 connection. Other DBAPI2 objects are not tested. Please consider using SQLAlchemy.\n",
      "  schema_df = pd.read_sql(query, self.connection)\n",
      "C:\\Users\\Basavaraj\\AppData\\Local\\Temp\\ipykernel_15564\\3907896313.py:68: UserWarning: pandas only supports SQLAlchemy connectable (engine/connection) or database string URI or sqlite3 DBAPI2 connection. Other DBAPI2 objects are not tested. Please consider using SQLAlchemy.\n",
      "  df = pd.read_sql(query, self.connection, params=(current_datetime,))\n",
      "C:\\Users\\Basavaraj\\AppData\\Local\\Temp\\ipykernel_15564\\3907896313.py:40: UserWarning: pandas only supports SQLAlchemy connectable (engine/connection) or database string URI or sqlite3 DBAPI2 connection. Other DBAPI2 objects are not tested. Please consider using SQLAlchemy.\n",
      "  schema_df = pd.read_sql(query, self.connection)\n",
      "C:\\Users\\Basavaraj\\AppData\\Local\\Temp\\ipykernel_15564\\3907896313.py:40: UserWarning: pandas only supports SQLAlchemy connectable (engine/connection) or database string URI or sqlite3 DBAPI2 connection. Other DBAPI2 objects are not tested. Please consider using SQLAlchemy.\n",
      "  schema_df = pd.read_sql(query, self.connection)\n",
      "C:\\Users\\Basavaraj\\AppData\\Local\\Temp\\ipykernel_15564\\3907896313.py:40: UserWarning: pandas only supports SQLAlchemy connectable (engine/connection) or database string URI or sqlite3 DBAPI2 connection. Other DBAPI2 objects are not tested. Please consider using SQLAlchemy.\n",
      "  schema_df = pd.read_sql(query, self.connection)\n"
     ]
    },
    {
     "name": "stdout",
     "output_type": "stream",
     "text": [
      "Fetched schema with data types successfully.\n",
      "Fetched unique values for end_time: []\n",
      "Fetching unique values for start_time in timesheet for date: 10-21-2024 12:00\n",
      "Fetched schema with data types successfully.\n",
      "Fetched schema with data types successfully.\n",
      "Fetched schema with data types successfully.\n"
     ]
    },
    {
     "name": "stderr",
     "output_type": "stream",
     "text": [
      "C:\\Users\\Basavaraj\\AppData\\Local\\Temp\\ipykernel_15564\\3907896313.py:68: UserWarning: pandas only supports SQLAlchemy connectable (engine/connection) or database string URI or sqlite3 DBAPI2 connection. Other DBAPI2 objects are not tested. Please consider using SQLAlchemy.\n",
      "  df = pd.read_sql(query, self.connection, params=(current_datetime,))\n",
      "C:\\Users\\Basavaraj\\AppData\\Local\\Temp\\ipykernel_15564\\3907896313.py:40: UserWarning: pandas only supports SQLAlchemy connectable (engine/connection) or database string URI or sqlite3 DBAPI2 connection. Other DBAPI2 objects are not tested. Please consider using SQLAlchemy.\n",
      "  schema_df = pd.read_sql(query, self.connection)\n",
      "C:\\Users\\Basavaraj\\AppData\\Local\\Temp\\ipykernel_15564\\3907896313.py:40: UserWarning: pandas only supports SQLAlchemy connectable (engine/connection) or database string URI or sqlite3 DBAPI2 connection. Other DBAPI2 objects are not tested. Please consider using SQLAlchemy.\n",
      "  schema_df = pd.read_sql(query, self.connection)\n",
      "C:\\Users\\Basavaraj\\AppData\\Local\\Temp\\ipykernel_15564\\3907896313.py:40: UserWarning: pandas only supports SQLAlchemy connectable (engine/connection) or database string URI or sqlite3 DBAPI2 connection. Other DBAPI2 objects are not tested. Please consider using SQLAlchemy.\n",
      "  schema_df = pd.read_sql(query, self.connection)\n",
      "C:\\Users\\Basavaraj\\AppData\\Local\\Temp\\ipykernel_15564\\3907896313.py:68: UserWarning: pandas only supports SQLAlchemy connectable (engine/connection) or database string URI or sqlite3 DBAPI2 connection. Other DBAPI2 objects are not tested. Please consider using SQLAlchemy.\n",
      "  df = pd.read_sql(query, self.connection, params=(current_datetime,))\n"
     ]
    },
    {
     "name": "stdout",
     "output_type": "stream",
     "text": [
      "Fetched unique values for start_time: []\n",
      "Fetching unique values for log_id in timesheet for date: 10-21-2024 12:00\n",
      "Fetched schema with data types successfully.\n",
      "Fetched schema with data types successfully.\n",
      "Fetched schema with data types successfully.\n",
      "Fetched unique values for log_id: []\n",
      "Fetching unique values for notes in timesheet for date: 10-21-2024 12:00\n"
     ]
    },
    {
     "name": "stderr",
     "output_type": "stream",
     "text": [
      "C:\\Users\\Basavaraj\\AppData\\Local\\Temp\\ipykernel_15564\\3907896313.py:40: UserWarning: pandas only supports SQLAlchemy connectable (engine/connection) or database string URI or sqlite3 DBAPI2 connection. Other DBAPI2 objects are not tested. Please consider using SQLAlchemy.\n",
      "  schema_df = pd.read_sql(query, self.connection)\n",
      "C:\\Users\\Basavaraj\\AppData\\Local\\Temp\\ipykernel_15564\\3907896313.py:40: UserWarning: pandas only supports SQLAlchemy connectable (engine/connection) or database string URI or sqlite3 DBAPI2 connection. Other DBAPI2 objects are not tested. Please consider using SQLAlchemy.\n",
      "  schema_df = pd.read_sql(query, self.connection)\n",
      "C:\\Users\\Basavaraj\\AppData\\Local\\Temp\\ipykernel_15564\\3907896313.py:40: UserWarning: pandas only supports SQLAlchemy connectable (engine/connection) or database string URI or sqlite3 DBAPI2 connection. Other DBAPI2 objects are not tested. Please consider using SQLAlchemy.\n",
      "  schema_df = pd.read_sql(query, self.connection)\n",
      "C:\\Users\\Basavaraj\\AppData\\Local\\Temp\\ipykernel_15564\\3907896313.py:68: UserWarning: pandas only supports SQLAlchemy connectable (engine/connection) or database string URI or sqlite3 DBAPI2 connection. Other DBAPI2 objects are not tested. Please consider using SQLAlchemy.\n",
      "  df = pd.read_sql(query, self.connection, params=(current_datetime,))\n",
      "C:\\Users\\Basavaraj\\AppData\\Local\\Temp\\ipykernel_15564\\3907896313.py:40: UserWarning: pandas only supports SQLAlchemy connectable (engine/connection) or database string URI or sqlite3 DBAPI2 connection. Other DBAPI2 objects are not tested. Please consider using SQLAlchemy.\n",
      "  schema_df = pd.read_sql(query, self.connection)\n",
      "C:\\Users\\Basavaraj\\AppData\\Local\\Temp\\ipykernel_15564\\3907896313.py:40: UserWarning: pandas only supports SQLAlchemy connectable (engine/connection) or database string URI or sqlite3 DBAPI2 connection. Other DBAPI2 objects are not tested. Please consider using SQLAlchemy.\n",
      "  schema_df = pd.read_sql(query, self.connection)\n",
      "C:\\Users\\Basavaraj\\AppData\\Local\\Temp\\ipykernel_15564\\3907896313.py:40: UserWarning: pandas only supports SQLAlchemy connectable (engine/connection) or database string URI or sqlite3 DBAPI2 connection. Other DBAPI2 objects are not tested. Please consider using SQLAlchemy.\n",
      "  schema_df = pd.read_sql(query, self.connection)\n",
      "C:\\Users\\Basavaraj\\AppData\\Local\\Temp\\ipykernel_15564\\3907896313.py:68: UserWarning: pandas only supports SQLAlchemy connectable (engine/connection) or database string URI or sqlite3 DBAPI2 connection. Other DBAPI2 objects are not tested. Please consider using SQLAlchemy.\n",
      "  df = pd.read_sql(query, self.connection, params=(current_datetime,))\n"
     ]
    },
    {
     "name": "stdout",
     "output_type": "stream",
     "text": [
      "Fetched schema with data types successfully.\n",
      "Fetched schema with data types successfully.\n",
      "Fetched schema with data types successfully.\n",
      "Fetched unique values for notes: []\n",
      "Fetching unique values for is_timer in timesheet for date: 10-21-2024 12:00\n"
     ]
    },
    {
     "name": "stderr",
     "output_type": "stream",
     "text": [
      "C:\\Users\\Basavaraj\\AppData\\Local\\Temp\\ipykernel_15564\\3907896313.py:40: UserWarning: pandas only supports SQLAlchemy connectable (engine/connection) or database string URI or sqlite3 DBAPI2 connection. Other DBAPI2 objects are not tested. Please consider using SQLAlchemy.\n",
      "  schema_df = pd.read_sql(query, self.connection)\n",
      "C:\\Users\\Basavaraj\\AppData\\Local\\Temp\\ipykernel_15564\\3907896313.py:40: UserWarning: pandas only supports SQLAlchemy connectable (engine/connection) or database string URI or sqlite3 DBAPI2 connection. Other DBAPI2 objects are not tested. Please consider using SQLAlchemy.\n",
      "  schema_df = pd.read_sql(query, self.connection)\n",
      "C:\\Users\\Basavaraj\\AppData\\Local\\Temp\\ipykernel_15564\\3907896313.py:40: UserWarning: pandas only supports SQLAlchemy connectable (engine/connection) or database string URI or sqlite3 DBAPI2 connection. Other DBAPI2 objects are not tested. Please consider using SQLAlchemy.\n",
      "  schema_df = pd.read_sql(query, self.connection)\n",
      "C:\\Users\\Basavaraj\\AppData\\Local\\Temp\\ipykernel_15564\\3907896313.py:68: UserWarning: pandas only supports SQLAlchemy connectable (engine/connection) or database string URI or sqlite3 DBAPI2 connection. Other DBAPI2 objects are not tested. Please consider using SQLAlchemy.\n",
      "  df = pd.read_sql(query, self.connection, params=(current_datetime,))\n",
      "C:\\Users\\Basavaraj\\AppData\\Local\\Temp\\ipykernel_15564\\3907896313.py:40: UserWarning: pandas only supports SQLAlchemy connectable (engine/connection) or database string URI or sqlite3 DBAPI2 connection. Other DBAPI2 objects are not tested. Please consider using SQLAlchemy.\n",
      "  schema_df = pd.read_sql(query, self.connection)\n"
     ]
    },
    {
     "name": "stdout",
     "output_type": "stream",
     "text": [
      "Fetched schema with data types successfully.\n",
      "Fetched schema with data types successfully.\n",
      "Fetched schema with data types successfully.\n",
      "Fetched unique values for is_timer: []\n",
      "Fetching unique values for type in timesheet for date: 10-21-2024 12:00\n",
      "Fetched schema with data types successfully.\n"
     ]
    },
    {
     "name": "stderr",
     "output_type": "stream",
     "text": [
      "C:\\Users\\Basavaraj\\AppData\\Local\\Temp\\ipykernel_15564\\3907896313.py:40: UserWarning: pandas only supports SQLAlchemy connectable (engine/connection) or database string URI or sqlite3 DBAPI2 connection. Other DBAPI2 objects are not tested. Please consider using SQLAlchemy.\n",
      "  schema_df = pd.read_sql(query, self.connection)\n",
      "C:\\Users\\Basavaraj\\AppData\\Local\\Temp\\ipykernel_15564\\3907896313.py:40: UserWarning: pandas only supports SQLAlchemy connectable (engine/connection) or database string URI or sqlite3 DBAPI2 connection. Other DBAPI2 objects are not tested. Please consider using SQLAlchemy.\n",
      "  schema_df = pd.read_sql(query, self.connection)\n",
      "C:\\Users\\Basavaraj\\AppData\\Local\\Temp\\ipykernel_15564\\3907896313.py:68: UserWarning: pandas only supports SQLAlchemy connectable (engine/connection) or database string URI or sqlite3 DBAPI2 connection. Other DBAPI2 objects are not tested. Please consider using SQLAlchemy.\n",
      "  df = pd.read_sql(query, self.connection, params=(current_datetime,))\n",
      "C:\\Users\\Basavaraj\\AppData\\Local\\Temp\\ipykernel_15564\\3907896313.py:40: UserWarning: pandas only supports SQLAlchemy connectable (engine/connection) or database string URI or sqlite3 DBAPI2 connection. Other DBAPI2 objects are not tested. Please consider using SQLAlchemy.\n",
      "  schema_df = pd.read_sql(query, self.connection)\n"
     ]
    },
    {
     "name": "stdout",
     "output_type": "stream",
     "text": [
      "Fetched schema with data types successfully.\n",
      "Fetched schema with data types successfully.\n",
      "Fetched unique values for type: []\n",
      "Fetching unique values for task_id in timesheet for date: 10-21-2024 12:00\n",
      "Fetched schema with data types successfully.\n",
      "Fetched schema with data types successfully.\n"
     ]
    },
    {
     "name": "stderr",
     "output_type": "stream",
     "text": [
      "C:\\Users\\Basavaraj\\AppData\\Local\\Temp\\ipykernel_15564\\3907896313.py:40: UserWarning: pandas only supports SQLAlchemy connectable (engine/connection) or database string URI or sqlite3 DBAPI2 connection. Other DBAPI2 objects are not tested. Please consider using SQLAlchemy.\n",
      "  schema_df = pd.read_sql(query, self.connection)\n",
      "C:\\Users\\Basavaraj\\AppData\\Local\\Temp\\ipykernel_15564\\3907896313.py:40: UserWarning: pandas only supports SQLAlchemy connectable (engine/connection) or database string URI or sqlite3 DBAPI2 connection. Other DBAPI2 objects are not tested. Please consider using SQLAlchemy.\n",
      "  schema_df = pd.read_sql(query, self.connection)\n",
      "C:\\Users\\Basavaraj\\AppData\\Local\\Temp\\ipykernel_15564\\3907896313.py:68: UserWarning: pandas only supports SQLAlchemy connectable (engine/connection) or database string URI or sqlite3 DBAPI2 connection. Other DBAPI2 objects are not tested. Please consider using SQLAlchemy.\n",
      "  df = pd.read_sql(query, self.connection, params=(current_datetime,))\n",
      "C:\\Users\\Basavaraj\\AppData\\Local\\Temp\\ipykernel_15564\\3907896313.py:40: UserWarning: pandas only supports SQLAlchemy connectable (engine/connection) or database string URI or sqlite3 DBAPI2 connection. Other DBAPI2 objects are not tested. Please consider using SQLAlchemy.\n",
      "  schema_df = pd.read_sql(query, self.connection)\n",
      "C:\\Users\\Basavaraj\\AppData\\Local\\Temp\\ipykernel_15564\\3907896313.py:40: UserWarning: pandas only supports SQLAlchemy connectable (engine/connection) or database string URI or sqlite3 DBAPI2 connection. Other DBAPI2 objects are not tested. Please consider using SQLAlchemy.\n",
      "  schema_df = pd.read_sql(query, self.connection)\n"
     ]
    },
    {
     "name": "stdout",
     "output_type": "stream",
     "text": [
      "Fetched schema with data types successfully.\n",
      "Fetched unique values for task_id: []\n",
      "Fetching unique values for user_name in timesheet for date: 10-21-2024 12:00\n",
      "Fetched schema with data types successfully.\n",
      "Fetched schema with data types successfully.\n",
      "Fetched schema with data types successfully.\n"
     ]
    },
    {
     "name": "stderr",
     "output_type": "stream",
     "text": [
      "C:\\Users\\Basavaraj\\AppData\\Local\\Temp\\ipykernel_15564\\3907896313.py:40: UserWarning: pandas only supports SQLAlchemy connectable (engine/connection) or database string URI or sqlite3 DBAPI2 connection. Other DBAPI2 objects are not tested. Please consider using SQLAlchemy.\n",
      "  schema_df = pd.read_sql(query, self.connection)\n",
      "C:\\Users\\Basavaraj\\AppData\\Local\\Temp\\ipykernel_15564\\3907896313.py:68: UserWarning: pandas only supports SQLAlchemy connectable (engine/connection) or database string URI or sqlite3 DBAPI2 connection. Other DBAPI2 objects are not tested. Please consider using SQLAlchemy.\n",
      "  df = pd.read_sql(query, self.connection, params=(current_datetime,))\n",
      "C:\\Users\\Basavaraj\\AppData\\Local\\Temp\\ipykernel_15564\\3907896313.py:40: UserWarning: pandas only supports SQLAlchemy connectable (engine/connection) or database string URI or sqlite3 DBAPI2 connection. Other DBAPI2 objects are not tested. Please consider using SQLAlchemy.\n",
      "  schema_df = pd.read_sql(query, self.connection)\n",
      "C:\\Users\\Basavaraj\\AppData\\Local\\Temp\\ipykernel_15564\\3907896313.py:40: UserWarning: pandas only supports SQLAlchemy connectable (engine/connection) or database string URI or sqlite3 DBAPI2 connection. Other DBAPI2 objects are not tested. Please consider using SQLAlchemy.\n",
      "  schema_df = pd.read_sql(query, self.connection)\n",
      "C:\\Users\\Basavaraj\\AppData\\Local\\Temp\\ipykernel_15564\\3907896313.py:40: UserWarning: pandas only supports SQLAlchemy connectable (engine/connection) or database string URI or sqlite3 DBAPI2 connection. Other DBAPI2 objects are not tested. Please consider using SQLAlchemy.\n",
      "  schema_df = pd.read_sql(query, self.connection)\n"
     ]
    },
    {
     "name": "stdout",
     "output_type": "stream",
     "text": [
      "Fetched unique values for user_name: []\n",
      "Fetching unique values for approval_status in timesheet for date: 10-21-2024 12:00\n",
      "Fetched schema with data types successfully.\n",
      "Fetched schema with data types successfully.\n",
      "Fetched schema with data types successfully.\n"
     ]
    },
    {
     "name": "stderr",
     "output_type": "stream",
     "text": [
      "C:\\Users\\Basavaraj\\AppData\\Local\\Temp\\ipykernel_15564\\3907896313.py:68: UserWarning: pandas only supports SQLAlchemy connectable (engine/connection) or database string URI or sqlite3 DBAPI2 connection. Other DBAPI2 objects are not tested. Please consider using SQLAlchemy.\n",
      "  df = pd.read_sql(query, self.connection, params=(current_datetime,))\n",
      "C:\\Users\\Basavaraj\\AppData\\Local\\Temp\\ipykernel_15564\\3907896313.py:40: UserWarning: pandas only supports SQLAlchemy connectable (engine/connection) or database string URI or sqlite3 DBAPI2 connection. Other DBAPI2 objects are not tested. Please consider using SQLAlchemy.\n",
      "  schema_df = pd.read_sql(query, self.connection)\n",
      "C:\\Users\\Basavaraj\\AppData\\Local\\Temp\\ipykernel_15564\\3907896313.py:40: UserWarning: pandas only supports SQLAlchemy connectable (engine/connection) or database string URI or sqlite3 DBAPI2 connection. Other DBAPI2 objects are not tested. Please consider using SQLAlchemy.\n",
      "  schema_df = pd.read_sql(query, self.connection)\n",
      "C:\\Users\\Basavaraj\\AppData\\Local\\Temp\\ipykernel_15564\\3907896313.py:40: UserWarning: pandas only supports SQLAlchemy connectable (engine/connection) or database string URI or sqlite3 DBAPI2 connection. Other DBAPI2 objects are not tested. Please consider using SQLAlchemy.\n",
      "  schema_df = pd.read_sql(query, self.connection)\n",
      "C:\\Users\\Basavaraj\\AppData\\Local\\Temp\\ipykernel_15564\\3907896313.py:68: UserWarning: pandas only supports SQLAlchemy connectable (engine/connection) or database string URI or sqlite3 DBAPI2 connection. Other DBAPI2 objects are not tested. Please consider using SQLAlchemy.\n",
      "  df = pd.read_sql(query, self.connection, params=(current_datetime,))\n"
     ]
    },
    {
     "name": "stdout",
     "output_type": "stream",
     "text": [
      "Fetched unique values for approval_status: []\n",
      "Fetching unique values for profile in users for date: 10-21-2024 12:00\n",
      "Fetched schema with data types successfully.\n",
      "Fetched schema with data types successfully.\n",
      "Fetched schema with data types successfully.\n",
      "Fetched unique values for profile: []\n",
      "Fetching unique values for user_id in users for date: 10-21-2024 12:00\n"
     ]
    },
    {
     "name": "stderr",
     "output_type": "stream",
     "text": [
      "C:\\Users\\Basavaraj\\AppData\\Local\\Temp\\ipykernel_15564\\3907896313.py:40: UserWarning: pandas only supports SQLAlchemy connectable (engine/connection) or database string URI or sqlite3 DBAPI2 connection. Other DBAPI2 objects are not tested. Please consider using SQLAlchemy.\n",
      "  schema_df = pd.read_sql(query, self.connection)\n",
      "C:\\Users\\Basavaraj\\AppData\\Local\\Temp\\ipykernel_15564\\3907896313.py:40: UserWarning: pandas only supports SQLAlchemy connectable (engine/connection) or database string URI or sqlite3 DBAPI2 connection. Other DBAPI2 objects are not tested. Please consider using SQLAlchemy.\n",
      "  schema_df = pd.read_sql(query, self.connection)\n",
      "C:\\Users\\Basavaraj\\AppData\\Local\\Temp\\ipykernel_15564\\3907896313.py:40: UserWarning: pandas only supports SQLAlchemy connectable (engine/connection) or database string URI or sqlite3 DBAPI2 connection. Other DBAPI2 objects are not tested. Please consider using SQLAlchemy.\n",
      "  schema_df = pd.read_sql(query, self.connection)\n",
      "C:\\Users\\Basavaraj\\AppData\\Local\\Temp\\ipykernel_15564\\3907896313.py:68: UserWarning: pandas only supports SQLAlchemy connectable (engine/connection) or database string URI or sqlite3 DBAPI2 connection. Other DBAPI2 objects are not tested. Please consider using SQLAlchemy.\n",
      "  df = pd.read_sql(query, self.connection, params=(current_datetime,))\n",
      "C:\\Users\\Basavaraj\\AppData\\Local\\Temp\\ipykernel_15564\\3907896313.py:40: UserWarning: pandas only supports SQLAlchemy connectable (engine/connection) or database string URI or sqlite3 DBAPI2 connection. Other DBAPI2 objects are not tested. Please consider using SQLAlchemy.\n",
      "  schema_df = pd.read_sql(query, self.connection)\n"
     ]
    },
    {
     "name": "stdout",
     "output_type": "stream",
     "text": [
      "Fetched schema with data types successfully.\n",
      "Fetched schema with data types successfully.\n",
      "Fetched schema with data types successfully.\n",
      "Fetched unique values for user_id: []\n",
      "Fetching unique values for status in users for date: 10-21-2024 12:00\n",
      "Fetched schema with data types successfully.\n",
      "Fetched schema with data types successfully.\n",
      "Fetched schema with data types successfully.\n",
      "Fetched unique values for status: []\n",
      "Fetching unique values for role in users for date: 10-21-2024 12:00\n",
      "Fetched schema with data types successfully.\n"
     ]
    },
    {
     "name": "stderr",
     "output_type": "stream",
     "text": [
      "C:\\Users\\Basavaraj\\AppData\\Local\\Temp\\ipykernel_15564\\3907896313.py:40: UserWarning: pandas only supports SQLAlchemy connectable (engine/connection) or database string URI or sqlite3 DBAPI2 connection. Other DBAPI2 objects are not tested. Please consider using SQLAlchemy.\n",
      "  schema_df = pd.read_sql(query, self.connection)\n",
      "C:\\Users\\Basavaraj\\AppData\\Local\\Temp\\ipykernel_15564\\3907896313.py:40: UserWarning: pandas only supports SQLAlchemy connectable (engine/connection) or database string URI or sqlite3 DBAPI2 connection. Other DBAPI2 objects are not tested. Please consider using SQLAlchemy.\n",
      "  schema_df = pd.read_sql(query, self.connection)\n",
      "C:\\Users\\Basavaraj\\AppData\\Local\\Temp\\ipykernel_15564\\3907896313.py:68: UserWarning: pandas only supports SQLAlchemy connectable (engine/connection) or database string URI or sqlite3 DBAPI2 connection. Other DBAPI2 objects are not tested. Please consider using SQLAlchemy.\n",
      "  df = pd.read_sql(query, self.connection, params=(current_datetime,))\n",
      "C:\\Users\\Basavaraj\\AppData\\Local\\Temp\\ipykernel_15564\\3907896313.py:40: UserWarning: pandas only supports SQLAlchemy connectable (engine/connection) or database string URI or sqlite3 DBAPI2 connection. Other DBAPI2 objects are not tested. Please consider using SQLAlchemy.\n",
      "  schema_df = pd.read_sql(query, self.connection)\n",
      "C:\\Users\\Basavaraj\\AppData\\Local\\Temp\\ipykernel_15564\\3907896313.py:40: UserWarning: pandas only supports SQLAlchemy connectable (engine/connection) or database string URI or sqlite3 DBAPI2 connection. Other DBAPI2 objects are not tested. Please consider using SQLAlchemy.\n",
      "  schema_df = pd.read_sql(query, self.connection)\n",
      "C:\\Users\\Basavaraj\\AppData\\Local\\Temp\\ipykernel_15564\\3907896313.py:40: UserWarning: pandas only supports SQLAlchemy connectable (engine/connection) or database string URI or sqlite3 DBAPI2 connection. Other DBAPI2 objects are not tested. Please consider using SQLAlchemy.\n",
      "  schema_df = pd.read_sql(query, self.connection)\n",
      "C:\\Users\\Basavaraj\\AppData\\Local\\Temp\\ipykernel_15564\\3907896313.py:68: UserWarning: pandas only supports SQLAlchemy connectable (engine/connection) or database string URI or sqlite3 DBAPI2 connection. Other DBAPI2 objects are not tested. Please consider using SQLAlchemy.\n",
      "  df = pd.read_sql(query, self.connection, params=(current_datetime,))\n",
      "C:\\Users\\Basavaraj\\AppData\\Local\\Temp\\ipykernel_15564\\3907896313.py:40: UserWarning: pandas only supports SQLAlchemy connectable (engine/connection) or database string URI or sqlite3 DBAPI2 connection. Other DBAPI2 objects are not tested. Please consider using SQLAlchemy.\n",
      "  schema_df = pd.read_sql(query, self.connection)\n",
      "C:\\Users\\Basavaraj\\AppData\\Local\\Temp\\ipykernel_15564\\3907896313.py:40: UserWarning: pandas only supports SQLAlchemy connectable (engine/connection) or database string URI or sqlite3 DBAPI2 connection. Other DBAPI2 objects are not tested. Please consider using SQLAlchemy.\n",
      "  schema_df = pd.read_sql(query, self.connection)\n",
      "C:\\Users\\Basavaraj\\AppData\\Local\\Temp\\ipykernel_15564\\3907896313.py:40: UserWarning: pandas only supports SQLAlchemy connectable (engine/connection) or database string URI or sqlite3 DBAPI2 connection. Other DBAPI2 objects are not tested. Please consider using SQLAlchemy.\n",
      "  schema_df = pd.read_sql(query, self.connection)\n"
     ]
    },
    {
     "name": "stdout",
     "output_type": "stream",
     "text": [
      "Fetched schema with data types successfully.\n",
      "Fetched schema with data types successfully.\n",
      "Fetched unique values for role: []\n",
      "Fetching unique values for last_updated_time in users for date: 10-21-2024 12:00\n",
      "Fetched schema with data types successfully.\n",
      "Fetched schema with data types successfully.\n",
      "Fetched schema with data types successfully.\n",
      "Fetched unique values for last_updated_time: []\n",
      "Fetching unique values for last_accessed_time in users for date: 10-21-2024 12:00\n",
      "Fetched schema with data types successfully.\n",
      "Fetched schema with data types successfully.\n",
      "Fetched schema with data types successfully.\n"
     ]
    },
    {
     "name": "stderr",
     "output_type": "stream",
     "text": [
      "C:\\Users\\Basavaraj\\AppData\\Local\\Temp\\ipykernel_15564\\3907896313.py:68: UserWarning: pandas only supports SQLAlchemy connectable (engine/connection) or database string URI or sqlite3 DBAPI2 connection. Other DBAPI2 objects are not tested. Please consider using SQLAlchemy.\n",
      "  df = pd.read_sql(query, self.connection, params=(current_datetime,))\n",
      "C:\\Users\\Basavaraj\\AppData\\Local\\Temp\\ipykernel_15564\\3907896313.py:40: UserWarning: pandas only supports SQLAlchemy connectable (engine/connection) or database string URI or sqlite3 DBAPI2 connection. Other DBAPI2 objects are not tested. Please consider using SQLAlchemy.\n",
      "  schema_df = pd.read_sql(query, self.connection)\n",
      "C:\\Users\\Basavaraj\\AppData\\Local\\Temp\\ipykernel_15564\\3907896313.py:40: UserWarning: pandas only supports SQLAlchemy connectable (engine/connection) or database string URI or sqlite3 DBAPI2 connection. Other DBAPI2 objects are not tested. Please consider using SQLAlchemy.\n",
      "  schema_df = pd.read_sql(query, self.connection)\n",
      "C:\\Users\\Basavaraj\\AppData\\Local\\Temp\\ipykernel_15564\\3907896313.py:40: UserWarning: pandas only supports SQLAlchemy connectable (engine/connection) or database string URI or sqlite3 DBAPI2 connection. Other DBAPI2 objects are not tested. Please consider using SQLAlchemy.\n",
      "  schema_df = pd.read_sql(query, self.connection)\n",
      "C:\\Users\\Basavaraj\\AppData\\Local\\Temp\\ipykernel_15564\\3907896313.py:68: UserWarning: pandas only supports SQLAlchemy connectable (engine/connection) or database string URI or sqlite3 DBAPI2 connection. Other DBAPI2 objects are not tested. Please consider using SQLAlchemy.\n",
      "  df = pd.read_sql(query, self.connection, params=(current_datetime,))\n"
     ]
    },
    {
     "name": "stdout",
     "output_type": "stream",
     "text": [
      "Fetched unique values for last_accessed_time: []\n",
      "Fetching unique values for user_name in users for date: 10-21-2024 12:00\n",
      "Fetched schema with data types successfully.\n",
      "Fetched schema with data types successfully.\n",
      "Fetched schema with data types successfully.\n",
      "Fetched unique values for user_name: []\n",
      "Fetching unique values for active_users in users for date: 10-21-2024 12:00\n",
      "Fetched schema with data types successfully.\n"
     ]
    },
    {
     "name": "stderr",
     "output_type": "stream",
     "text": [
      "C:\\Users\\Basavaraj\\AppData\\Local\\Temp\\ipykernel_15564\\3907896313.py:40: UserWarning: pandas only supports SQLAlchemy connectable (engine/connection) or database string URI or sqlite3 DBAPI2 connection. Other DBAPI2 objects are not tested. Please consider using SQLAlchemy.\n",
      "  schema_df = pd.read_sql(query, self.connection)\n",
      "C:\\Users\\Basavaraj\\AppData\\Local\\Temp\\ipykernel_15564\\3907896313.py:40: UserWarning: pandas only supports SQLAlchemy connectable (engine/connection) or database string URI or sqlite3 DBAPI2 connection. Other DBAPI2 objects are not tested. Please consider using SQLAlchemy.\n",
      "  schema_df = pd.read_sql(query, self.connection)\n",
      "C:\\Users\\Basavaraj\\AppData\\Local\\Temp\\ipykernel_15564\\3907896313.py:40: UserWarning: pandas only supports SQLAlchemy connectable (engine/connection) or database string URI or sqlite3 DBAPI2 connection. Other DBAPI2 objects are not tested. Please consider using SQLAlchemy.\n",
      "  schema_df = pd.read_sql(query, self.connection)\n",
      "C:\\Users\\Basavaraj\\AppData\\Local\\Temp\\ipykernel_15564\\3907896313.py:68: UserWarning: pandas only supports SQLAlchemy connectable (engine/connection) or database string URI or sqlite3 DBAPI2 connection. Other DBAPI2 objects are not tested. Please consider using SQLAlchemy.\n",
      "  df = pd.read_sql(query, self.connection, params=(current_datetime,))\n",
      "C:\\Users\\Basavaraj\\AppData\\Local\\Temp\\ipykernel_15564\\3907896313.py:40: UserWarning: pandas only supports SQLAlchemy connectable (engine/connection) or database string URI or sqlite3 DBAPI2 connection. Other DBAPI2 objects are not tested. Please consider using SQLAlchemy.\n",
      "  schema_df = pd.read_sql(query, self.connection)\n",
      "C:\\Users\\Basavaraj\\AppData\\Local\\Temp\\ipykernel_15564\\3907896313.py:40: UserWarning: pandas only supports SQLAlchemy connectable (engine/connection) or database string URI or sqlite3 DBAPI2 connection. Other DBAPI2 objects are not tested. Please consider using SQLAlchemy.\n",
      "  schema_df = pd.read_sql(query, self.connection)\n"
     ]
    },
    {
     "name": "stdout",
     "output_type": "stream",
     "text": [
      "Fetched schema with data types successfully.\n",
      "Fetched schema with data types successfully.\n",
      "Fetched unique values for active_users: []\n",
      "Fetching unique values for zuid in users for date: 10-21-2024 12:00\n",
      "Fetched schema with data types successfully.\n",
      "Fetched schema with data types successfully.\n"
     ]
    },
    {
     "name": "stderr",
     "output_type": "stream",
     "text": [
      "C:\\Users\\Basavaraj\\AppData\\Local\\Temp\\ipykernel_15564\\3907896313.py:40: UserWarning: pandas only supports SQLAlchemy connectable (engine/connection) or database string URI or sqlite3 DBAPI2 connection. Other DBAPI2 objects are not tested. Please consider using SQLAlchemy.\n",
      "  schema_df = pd.read_sql(query, self.connection)\n",
      "C:\\Users\\Basavaraj\\AppData\\Local\\Temp\\ipykernel_15564\\3907896313.py:68: UserWarning: pandas only supports SQLAlchemy connectable (engine/connection) or database string URI or sqlite3 DBAPI2 connection. Other DBAPI2 objects are not tested. Please consider using SQLAlchemy.\n",
      "  df = pd.read_sql(query, self.connection, params=(current_datetime,))\n",
      "C:\\Users\\Basavaraj\\AppData\\Local\\Temp\\ipykernel_15564\\3907896313.py:40: UserWarning: pandas only supports SQLAlchemy connectable (engine/connection) or database string URI or sqlite3 DBAPI2 connection. Other DBAPI2 objects are not tested. Please consider using SQLAlchemy.\n",
      "  schema_df = pd.read_sql(query, self.connection)\n",
      "C:\\Users\\Basavaraj\\AppData\\Local\\Temp\\ipykernel_15564\\3907896313.py:40: UserWarning: pandas only supports SQLAlchemy connectable (engine/connection) or database string URI or sqlite3 DBAPI2 connection. Other DBAPI2 objects are not tested. Please consider using SQLAlchemy.\n",
      "  schema_df = pd.read_sql(query, self.connection)\n",
      "C:\\Users\\Basavaraj\\AppData\\Local\\Temp\\ipykernel_15564\\3907896313.py:40: UserWarning: pandas only supports SQLAlchemy connectable (engine/connection) or database string URI or sqlite3 DBAPI2 connection. Other DBAPI2 objects are not tested. Please consider using SQLAlchemy.\n",
      "  schema_df = pd.read_sql(query, self.connection)\n"
     ]
    },
    {
     "name": "stdout",
     "output_type": "stream",
     "text": [
      "Fetched schema with data types successfully.\n",
      "Fetched unique values for zuid: []\n",
      "Fetching unique values for created_time in users for date: 10-21-2024 12:00\n",
      "Fetched schema with data types successfully.\n",
      "Fetched schema with data types successfully.\n",
      "Fetched schema with data types successfully.\n"
     ]
    },
    {
     "name": "stderr",
     "output_type": "stream",
     "text": [
      "C:\\Users\\Basavaraj\\AppData\\Local\\Temp\\ipykernel_15564\\3907896313.py:68: UserWarning: pandas only supports SQLAlchemy connectable (engine/connection) or database string URI or sqlite3 DBAPI2 connection. Other DBAPI2 objects are not tested. Please consider using SQLAlchemy.\n",
      "  df = pd.read_sql(query, self.connection, params=(current_datetime,))\n",
      "C:\\Users\\Basavaraj\\AppData\\Local\\Temp\\ipykernel_15564\\3907896313.py:40: UserWarning: pandas only supports SQLAlchemy connectable (engine/connection) or database string URI or sqlite3 DBAPI2 connection. Other DBAPI2 objects are not tested. Please consider using SQLAlchemy.\n",
      "  schema_df = pd.read_sql(query, self.connection)\n",
      "C:\\Users\\Basavaraj\\AppData\\Local\\Temp\\ipykernel_15564\\3907896313.py:40: UserWarning: pandas only supports SQLAlchemy connectable (engine/connection) or database string URI or sqlite3 DBAPI2 connection. Other DBAPI2 objects are not tested. Please consider using SQLAlchemy.\n",
      "  schema_df = pd.read_sql(query, self.connection)\n",
      "C:\\Users\\Basavaraj\\AppData\\Local\\Temp\\ipykernel_15564\\3907896313.py:40: UserWarning: pandas only supports SQLAlchemy connectable (engine/connection) or database string URI or sqlite3 DBAPI2 connection. Other DBAPI2 objects are not tested. Please consider using SQLAlchemy.\n",
      "  schema_df = pd.read_sql(query, self.connection)\n",
      "C:\\Users\\Basavaraj\\AppData\\Local\\Temp\\ipykernel_15564\\3907896313.py:68: UserWarning: pandas only supports SQLAlchemy connectable (engine/connection) or database string URI or sqlite3 DBAPI2 connection. Other DBAPI2 objects are not tested. Please consider using SQLAlchemy.\n",
      "  df = pd.read_sql(query, self.connection, params=(current_datetime,))\n"
     ]
    },
    {
     "name": "stdout",
     "output_type": "stream",
     "text": [
      "Fetched unique values for created_time: []\n",
      "Fetching unique values for user_email in users for date: 10-21-2024 12:00\n",
      "Fetched schema with data types successfully.\n",
      "Fetched schema with data types successfully.\n",
      "Fetched schema with data types successfully.\n",
      "Fetched unique values for user_email: []\n"
     ]
    },
    {
     "name": "stderr",
     "output_type": "stream",
     "text": [
      "C:\\Users\\Basavaraj\\AppData\\Local\\Temp\\ipykernel_15564\\3907896313.py:40: UserWarning: pandas only supports SQLAlchemy connectable (engine/connection) or database string URI or sqlite3 DBAPI2 connection. Other DBAPI2 objects are not tested. Please consider using SQLAlchemy.\n",
      "  schema_df = pd.read_sql(query, self.connection)\n",
      "C:\\Users\\Basavaraj\\AppData\\Local\\Temp\\ipykernel_15564\\3907896313.py:40: UserWarning: pandas only supports SQLAlchemy connectable (engine/connection) or database string URI or sqlite3 DBAPI2 connection. Other DBAPI2 objects are not tested. Please consider using SQLAlchemy.\n",
      "  schema_df = pd.read_sql(query, self.connection)\n",
      "C:\\Users\\Basavaraj\\AppData\\Local\\Temp\\ipykernel_15564\\3907896313.py:40: UserWarning: pandas only supports SQLAlchemy connectable (engine/connection) or database string URI or sqlite3 DBAPI2 connection. Other DBAPI2 objects are not tested. Please consider using SQLAlchemy.\n",
      "  schema_df = pd.read_sql(query, self.connection)\n",
      "C:\\Users\\Basavaraj\\AppData\\Local\\Temp\\ipykernel_15564\\3907896313.py:68: UserWarning: pandas only supports SQLAlchemy connectable (engine/connection) or database string URI or sqlite3 DBAPI2 connection. Other DBAPI2 objects are not tested. Please consider using SQLAlchemy.\n",
      "  df = pd.read_sql(query, self.connection, params=(current_datetime,))\n"
     ]
    }
   ],
   "source": [
    "#Set Up Vector DB Based On Increamental Data.\n",
    "\n",
    "import psycopg2\n",
    "import pandas as pd\n",
    "from datetime import datetime\n",
    "from sentence_transformers import SentenceTransformer\n",
    "from pinecone.grpc import PineconeGRPC as Pinecone\n",
    "\n",
    "\n",
    "class DatabaseManager:\n",
    "    def __init__(self, host, username, password, dbname, port):\n",
    "        self.host = host\n",
    "        self.username = username\n",
    "        self.password = password\n",
    "        self.dbname = dbname\n",
    "        self.port = port\n",
    "        self.connection = self.connect_to_db()\n",
    "\n",
    "    def connect_to_db(self):\n",
    "        try:\n",
    "            conn = psycopg2.connect(\n",
    "                dbname=self.dbname,\n",
    "                user=self.username,\n",
    "                password=self.password,\n",
    "                host=self.host,\n",
    "                port=self.port\n",
    "            )\n",
    "            print(\"Successfully connected to the database.\")\n",
    "            return conn\n",
    "        except psycopg2.Error as e:\n",
    "            print(f\"Error connecting to the database: {e}\")\n",
    "            raise\n",
    "\n",
    "    def fetch_schema_with_data_types(self):\n",
    "        try:\n",
    "            query = \"\"\"\n",
    "            SELECT table_name, column_name, data_type, character_maximum_length\n",
    "            FROM information_schema.columns\n",
    "            WHERE table_schema = 'public'\n",
    "            ORDER BY table_name;\n",
    "            \"\"\"\n",
    "            schema_df = pd.read_sql(query, self.connection)\n",
    "            print(\"Fetched schema with data types successfully.\")\n",
    "            return schema_df\n",
    "        except Exception as e:\n",
    "            print(f\"Error fetching schema: {e}\")\n",
    "            raise\n",
    "\n",
    "    def fetch_unique_values_by_modified_date(self, table_name, column_name, modified_columns):\n",
    "        # Get the current date and time in MM-DD-YYYY HH:MM format\n",
    "        current_datetime = datetime.now().strftime('%m-%d-%Y %H:%M')\n",
    "        print(f\"Fetching unique values for {column_name} in {table_name} for date: {current_datetime}\")\n",
    "        \n",
    "        # Check which modified columns exist in the current table schema\n",
    "        existing_modified_columns = [\n",
    "            col for col in modified_columns if col in self.fetch_schema_with_data_types().query(f'table_name == \"{table_name}\"')['column_name'].values\n",
    "        ]\n",
    "        \n",
    "        if not existing_modified_columns:\n",
    "            print(f\"No valid modified columns found for table: {table_name}\")\n",
    "            return []  # Return empty if no valid column is found\n",
    "    \n",
    "        for modified_column in existing_modified_columns:\n",
    "            try:\n",
    "                query = f\"\"\"\n",
    "                SELECT DISTINCT {column_name}\n",
    "                FROM {table_name}\n",
    "                WHERE TO_CHAR(\"{modified_column}\", 'MM-DD-YYYY HH24:MI') = %s;\n",
    "                \"\"\"\n",
    "                df = pd.read_sql(query, self.connection, params=(current_datetime,))\n",
    "                print(f\"Fetched unique values for {column_name}: {df[column_name].tolist()}\")\n",
    "                return df[column_name].dropna().astype(str).tolist()\n",
    "            except Exception as e:\n",
    "                print(f\"Error fetching unique values for {column_name} in {table_name} using {modified_column}: {e}\")\n",
    "                continue\n",
    "        return []  # Return empty if no valid column is found\n",
    "    \n",
    "\n",
    "class EmbeddingGenerator:\n",
    "    def __init__(self, model_name='sentence-transformers/all-mpnet-base-v2'):\n",
    "        self.model = self.load_huggingface_model(model_name)\n",
    "\n",
    "    def load_huggingface_model(self, model_name):\n",
    "        print(f\"Loading model: {model_name}\")\n",
    "        return SentenceTransformer(model_name)\n",
    "\n",
    "    def generate_embeddings(self, unique_values):\n",
    "        try:\n",
    "            embeddings = self.model.encode(unique_values)\n",
    "            print(f\"Generated embeddings for {len(unique_values)} unique values.\")\n",
    "            return embeddings\n",
    "        except Exception as e:\n",
    "            print(f\"Error generating embeddings: {e}\")\n",
    "            return []\n",
    "\n",
    "\n",
    "class PineconeManager:\n",
    "    def __init__(self, api_key, index_name, batch_size=200):\n",
    "        self.api_key = api_key\n",
    "        self.index_name = index_name\n",
    "        self.batch_size = batch_size\n",
    "        self.index = self.initialize_pinecone()\n",
    "\n",
    "    def initialize_pinecone(self):\n",
    "        pc = Pinecone(api_key=self.api_key)\n",
    "        index = pc.Index(self.index_name)\n",
    "        print(f\"Pinecone index '{self.index_name}' initialized.\")\n",
    "        return index\n",
    "\n",
    "    def check_if_exists(self, table_name, column_name, unique_value):\n",
    "        vector_id = f\"{table_name}_{column_name}_{unique_value}\"\n",
    "        try:\n",
    "            result = self.index.fetch([vector_id], namespace=table_name)\n",
    "            exists = bool(result[\"vectors\"])\n",
    "            print(f\"Vector existence check for {vector_id}: {exists}\")\n",
    "            return exists\n",
    "        except Exception as e:\n",
    "            print(f\"Error checking existence in Pinecone: {e}\")\n",
    "            return False\n",
    "\n",
    "    def batch_embeddings(self, upsert_data):\n",
    "        for i in range(0, len(upsert_data), self.batch_size):\n",
    "            yield upsert_data[i:i + self.batch_size]\n",
    "\n",
    "    def upsert_embeddings(self, embeddings_dict):\n",
    "        for table_name, columns in embeddings_dict.items():\n",
    "            for column_name, data in columns.items():\n",
    "                upsert_data = []\n",
    "                for i, embedding in enumerate(data['embeddings']):\n",
    "                    unique_value = data['unique_values'][i]\n",
    "\n",
    "                    # Check if the vector already exists\n",
    "                    if self.check_if_exists(table_name, column_name, unique_value):\n",
    "                        print(f\"Vector for {unique_value} already exists. Skipping.\")\n",
    "                        continue\n",
    "\n",
    "                    vector_id = f\"{table_name}_{column_name}_{i}\"\n",
    "                    metadata = {\"column_name\": column_name, \"unique_value\": unique_value}\n",
    "\n",
    "                    upsert_data.append({\n",
    "                        \"id\": vector_id,\n",
    "                        \"values\": embedding.tolist(),\n",
    "                        \"metadata\": metadata\n",
    "                    })\n",
    "\n",
    "                # Batch the upsert to avoid exceeding size limits\n",
    "                for batch in self.batch_embeddings(upsert_data):\n",
    "                    self.index.upsert(vectors=batch, namespace=table_name)\n",
    "                    print(f\"Upserted batch for {column_name} in {table_name}\")\n",
    "\n",
    "\n",
    "class DataProcessor:\n",
    "    def __init__(self, db_manager, embedding_generator, pinecone_manager):\n",
    "        self.db_manager = db_manager\n",
    "        self.embedding_generator = embedding_generator\n",
    "        self.pinecone_manager = pinecone_manager\n",
    "\n",
    "        # Possible last modified column names\n",
    "        self.modified_columns = ['last_modified_time', 'last_updated_time', 'last_modified_date']\n",
    "\n",
    "    def process_data(self):\n",
    "        schema_df = self.db_manager.fetch_schema_with_data_types()\n",
    "\n",
    "        # Verify which modified columns exist in the schema\n",
    "        existing_modified_columns = []\n",
    "        for modified_column in self.modified_columns:\n",
    "            if modified_column in schema_df['column_name'].values:\n",
    "                existing_modified_columns.append(modified_column)\n",
    "\n",
    "        print(f\"Using modified columns: {existing_modified_columns}\")\n",
    "\n",
    "        embeddings_dict = {}\n",
    "        for table_name in schema_df['table_name'].unique():\n",
    "            embeddings_dict[table_name] = {}\n",
    "            table_columns = schema_df[schema_df['table_name'] == table_name]\n",
    "\n",
    "            for column_name in table_columns['column_name']:\n",
    "                unique_values = self.db_manager.fetch_unique_values_by_modified_date(\n",
    "                    table_name, column_name, existing_modified_columns)\n",
    "\n",
    "                if unique_values:\n",
    "                    embeddings = self.embedding_generator.generate_embeddings(unique_values)\n",
    "                    embeddings_dict[table_name][column_name] = {\n",
    "                        \"unique_values\": unique_values,\n",
    "                        \"embeddings\": embeddings\n",
    "                    }\n",
    "\n",
    "        self.pinecone_manager.upsert_embeddings(embeddings_dict)\n",
    "\n",
    "\n",
    "if __name__ == \"__main__\":\n",
    "    # Initialize Database, Embedding Generator, and Pinecone Manager\n",
    "    db_manager = DatabaseManager(\n",
    "        host=\"database-test-postgress-instance.cpk2uyae6iza.ap-south-1.rds.amazonaws.com\",\n",
    "        username=\"python_aiml\",\n",
    "        password=\"python\",\n",
    "        dbname=\"python_test_poc\",\n",
    "        port=5432\n",
    "    )\n",
    "    \n",
    "    embedding_generator = EmbeddingGenerator()\n",
    "    \n",
    "    pinecone_manager = PineconeManager(\n",
    "        api_key=\"7844b232-6ba4-4aef-884b-7f826ec88d74\",\n",
    "        index_name=\"jagoai\"\n",
    "    )\n",
    "\n",
    "    # Create DataProcessor to orchestrate the process\n",
    "    data_processor = DataProcessor(db_manager, embedding_generator, pinecone_manager)\n",
    "    data_processor.process_data()\n"
   ]
  },
  {
   "cell_type": "code",
   "execution_count": null,
   "id": "4a119b81-cb6e-4f98-a3ba-412012fd942b",
   "metadata": {},
   "outputs": [
    {
     "name": "stderr",
     "output_type": "stream",
     "text": [
      "INFO:apscheduler.scheduler:Adding job tentatively -- it will be properly scheduled when the scheduler starts\n",
      "INFO:apscheduler.scheduler:Added job \"run_process_data_job\" to job store \"default\"\n",
      "INFO:apscheduler.scheduler:Scheduler started\n"
     ]
    }
   ],
   "source": [
    "#Scheduler For Incremental Data.\n",
    "\n",
    "from apscheduler.schedulers.blocking import BlockingScheduler\n",
    "from datetime import datetime\n",
    "\n",
    "# Your previously defined classes (DatabaseManager, EmbeddingGenerator, PineconeManager, DataProcessor) go here\n",
    "\n",
    "def run_process_data_job():\n",
    "    print(f\"Process data job started at: {datetime.now()}\")\n",
    "    \n",
    "    # Initialize Database, Embedding Generator, and Pinecone Manager\n",
    "    db_manager = DatabaseManager(\n",
    "        host=\"database-test-postgress-instance.cpk2uyae6iza.ap-south-1.rds.amazonaws.com\",\n",
    "        username=\"python_aiml\",\n",
    "        password=\"python\",\n",
    "        dbname=\"python_test_poc\",\n",
    "        port=5432\n",
    "    )\n",
    "    \n",
    "    embedding_generator = EmbeddingGenerator()\n",
    "    \n",
    "    pinecone_manager = PineconeManager(\n",
    "        api_key=\"7844b232-6ba4-4aef-884b-7f826ec88d74\",\n",
    "        index_name=\"jagoai\"\n",
    "    )\n",
    "\n",
    "    # Create DataProcessor to orchestrate the process\n",
    "    data_processor = DataProcessor(db_manager, embedding_generator, pinecone_manager)\n",
    "    data_processor.process_data()\n",
    "    \n",
    "    print(f\"Process data job finished at: {datetime.now()}\")\n",
    "\n",
    "# Setup APScheduler\n",
    "scheduler = BlockingScheduler()\n",
    "\n",
    "# Schedule the job to run every 3 hours\n",
    "scheduler.add_job(run_process_data_job, 'interval', hours=3)\n",
    "\n",
    "# Start the scheduler\n",
    "scheduler.start()\n"
   ]
  },
  {
   "cell_type": "code",
   "execution_count": 12,
   "id": "4d4c3316-93ba-47e6-a6ea-119e9afff5d1",
   "metadata": {},
   "outputs": [
    {
     "name": "stdout",
     "output_type": "stream",
     "text": [
      "Collecting apscheduler\n",
      "  Downloading APScheduler-3.10.4-py3-none-any.whl.metadata (5.7 kB)\n",
      "Requirement already satisfied: six>=1.4.0 in c:\\users\\basavaraj\\appdata\\local\\anaconda3\\lib\\site-packages (from apscheduler) (1.16.0)\n",
      "Requirement already satisfied: pytz in c:\\users\\basavaraj\\appdata\\local\\anaconda3\\lib\\site-packages (from apscheduler) (2024.1)\n",
      "Collecting tzlocal!=3.*,>=2.0 (from apscheduler)\n",
      "  Downloading tzlocal-5.2-py3-none-any.whl.metadata (7.8 kB)\n",
      "Requirement already satisfied: tzdata in c:\\users\\basavaraj\\appdata\\local\\anaconda3\\lib\\site-packages (from tzlocal!=3.*,>=2.0->apscheduler) (2023.3)\n",
      "Downloading APScheduler-3.10.4-py3-none-any.whl (59 kB)\n",
      "   ---------------------------------------- 0.0/59.3 kB ? eta -:--:--\n",
      "   ---------------------------------- ----- 51.2/59.3 kB ? eta -:--:--\n",
      "   ---------------------------------------- 59.3/59.3 kB 791.3 kB/s eta 0:00:00\n",
      "Downloading tzlocal-5.2-py3-none-any.whl (17 kB)\n",
      "Installing collected packages: tzlocal, apscheduler\n",
      "Successfully installed apscheduler-3.10.4 tzlocal-5.2\n",
      "Note: you may need to restart the kernel to use updated packages.\n"
     ]
    },
    {
     "name": "stderr",
     "output_type": "stream",
     "text": [
      "WARNING: Retrying (Retry(total=4, connect=None, read=None, redirect=None, status=None)) after connection broken by 'SSLError(SSLCertVerificationError(1, '[SSL: CERTIFICATE_VERIFY_FAILED] certificate verify failed: self-signed certificate in certificate chain (_ssl.c:1000)'))': /simple/apscheduler/\n",
      "  WARNING: Retrying (Retry(total=4, connect=None, read=None, redirect=None, status=None)) after connection broken by 'SSLError(SSLCertVerificationError(1, '[SSL: CERTIFICATE_VERIFY_FAILED] certificate verify failed: self-signed certificate in certificate chain (_ssl.c:1000)'))': /packages/13/b5/7af0cb920a476dccd612fbc9a21a3745fb29b1fcd74636078db8f7ba294c/APScheduler-3.10.4-py3-none-any.whl.metadata\n"
     ]
    }
   ],
   "source": [
    "# pip install apscheduler"
   ]
  },
  {
   "cell_type": "code",
   "execution_count": null,
   "id": "01106ab7-5f12-4782-92f4-ace0efcb2adf",
   "metadata": {},
   "outputs": [],
   "source": []
  }
 ],
 "metadata": {
  "kernelspec": {
   "display_name": "Python 3 (ipykernel)",
   "language": "python",
   "name": "python3"
  },
  "language_info": {
   "codemirror_mode": {
    "name": "ipython",
    "version": 3
   },
   "file_extension": ".py",
   "mimetype": "text/x-python",
   "name": "python",
   "nbconvert_exporter": "python",
   "pygments_lexer": "ipython3",
   "version": "3.12.4"
  }
 },
 "nbformat": 4,
 "nbformat_minor": 5
}
